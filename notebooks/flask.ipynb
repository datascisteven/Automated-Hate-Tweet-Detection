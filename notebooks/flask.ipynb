{
 "cells": [
  {
   "cell_type": "markdown",
   "metadata": {},
   "source": [
    "# Importing Packages"
   ]
  },
  {
   "cell_type": "code",
   "execution_count": 32,
   "metadata": {
    "tags": []
   },
   "outputs": [],
   "source": [
    "import pandas as pd\n",
    "import requests\n",
    "import pickle\n",
    "import warnings\n",
    "warnings.filterwarnings(\"ignore\")\n",
    "\n",
    "from sklearn.model_selection import train_test_split\n",
    "from sklearn.feature_extraction.text import TfidfVectorizer\n",
    "from sklearn.linear_model import LogisticRegression\n",
    "\n",
    "import sys\n",
    "sys.path.append(\"../py/\")\n",
    "from config import keys\n",
    "\n",
    "import re\n",
    "import gensim\n",
    "from nltk.stem import WordNetLemmatizer\n",
    "\n",
    "from sklearn.metrics import precision_score, recall_score, accuracy_score, f1_score, auc, average_precision_score, confusion_matrix, roc_auc_score\n",
    "from tqdm import tqdm\n",
    "import pandas as pd\n",
    "import numpy as np\n",
    "import requests\n",
    "import matplotlib.pyplot as plt\n",
    "import seaborn as sns\n"
   ]
  },
  {
   "cell_type": "markdown",
   "metadata": {},
   "source": [
    "# Twitter API and Importing Datasets"
   ]
  },
  {
   "cell_type": "code",
   "execution_count": 3,
   "metadata": {},
   "outputs": [],
   "source": [
    "def group_list(lst, size=100):\n",
    "    new_list =[]\n",
    "    idx = 0\n",
    "    while idx < len(lst):        \n",
    "        new_list.append(','.join([str(item) for item in lst[idx:idx+size]]))\n",
    "        idx += size\n",
    "    return new_list\n",
    "\n",
    "def tweets_request(tweets_ids):\n",
    "    lst = []\n",
    "    for batch in tqdm(tweets_ids):\n",
    "        url = \"https://api.twitter.com/2/tweets?ids={}&&tweet.fields=created_at,entities,geo,id,public_metrics,text&user.fields=description,entities,id,location,name,public_metrics,username\".format(batch)\n",
    "        payload={}\n",
    "        headers = {'Authorization': 'Bearer ' + keys['bearer_token'],\n",
    "        'Cookie': 'personalization_id=\"v1_hzpv7qXpjB6CteyAHDWYQQ==\"; guest_id=v1%3A161498381400435837'}\n",
    "        r = requests.request(\"GET\", url, headers=headers, data=payload)\n",
    "        data = r.json()\n",
    "        if 'data' in data.keys():\n",
    "            lst.append(pd.DataFrame(data['data']))\n",
    "    return pd.concat(lst)"
   ]
  },
  {
   "cell_type": "markdown",
   "metadata": {},
   "source": [
    "## Davidson Dataset"
   ]
  },
  {
   "cell_type": "code",
   "execution_count": 4,
   "metadata": {},
   "outputs": [
    {
     "data": {
      "text/html": [
       "<div>\n",
       "<style scoped>\n",
       "    .dataframe tbody tr th:only-of-type {\n",
       "        vertical-align: middle;\n",
       "    }\n",
       "\n",
       "    .dataframe tbody tr th {\n",
       "        vertical-align: top;\n",
       "    }\n",
       "\n",
       "    .dataframe thead th {\n",
       "        text-align: right;\n",
       "    }\n",
       "</style>\n",
       "<table border=\"1\" class=\"dataframe\">\n",
       "  <thead>\n",
       "    <tr style=\"text-align: right;\">\n",
       "      <th></th>\n",
       "      <th>count</th>\n",
       "      <th>hate_speech</th>\n",
       "      <th>offensive_language</th>\n",
       "      <th>neither</th>\n",
       "      <th>class</th>\n",
       "      <th>tweet</th>\n",
       "    </tr>\n",
       "  </thead>\n",
       "  <tbody>\n",
       "    <tr>\n",
       "      <th>0</th>\n",
       "      <td>3</td>\n",
       "      <td>0</td>\n",
       "      <td>0</td>\n",
       "      <td>3</td>\n",
       "      <td>2</td>\n",
       "      <td>!!! RT @mayasolovely: As a woman you shouldn't...</td>\n",
       "    </tr>\n",
       "    <tr>\n",
       "      <th>1</th>\n",
       "      <td>3</td>\n",
       "      <td>0</td>\n",
       "      <td>3</td>\n",
       "      <td>0</td>\n",
       "      <td>1</td>\n",
       "      <td>!!!!! RT @mleew17: boy dats cold...tyga dwn ba...</td>\n",
       "    </tr>\n",
       "    <tr>\n",
       "      <th>2</th>\n",
       "      <td>3</td>\n",
       "      <td>0</td>\n",
       "      <td>3</td>\n",
       "      <td>0</td>\n",
       "      <td>1</td>\n",
       "      <td>!!!!!!! RT @UrKindOfBrand Dawg!!!! RT @80sbaby...</td>\n",
       "    </tr>\n",
       "    <tr>\n",
       "      <th>3</th>\n",
       "      <td>3</td>\n",
       "      <td>0</td>\n",
       "      <td>2</td>\n",
       "      <td>1</td>\n",
       "      <td>1</td>\n",
       "      <td>!!!!!!!!! RT @C_G_Anderson: @viva_based she lo...</td>\n",
       "    </tr>\n",
       "    <tr>\n",
       "      <th>4</th>\n",
       "      <td>6</td>\n",
       "      <td>0</td>\n",
       "      <td>6</td>\n",
       "      <td>0</td>\n",
       "      <td>1</td>\n",
       "      <td>!!!!!!!!!!!!! RT @ShenikaRoberts: The shit you...</td>\n",
       "    </tr>\n",
       "  </tbody>\n",
       "</table>\n",
       "</div>"
      ],
      "text/plain": [
       "   count  hate_speech  offensive_language  neither  class  \\\n",
       "0      3            0                   0        3      2   \n",
       "1      3            0                   3        0      1   \n",
       "2      3            0                   3        0      1   \n",
       "3      3            0                   2        1      1   \n",
       "4      6            0                   6        0      1   \n",
       "\n",
       "                                               tweet  \n",
       "0  !!! RT @mayasolovely: As a woman you shouldn't...  \n",
       "1  !!!!! RT @mleew17: boy dats cold...tyga dwn ba...  \n",
       "2  !!!!!!! RT @UrKindOfBrand Dawg!!!! RT @80sbaby...  \n",
       "3  !!!!!!!!! RT @C_G_Anderson: @viva_based she lo...  \n",
       "4  !!!!!!!!!!!!! RT @ShenikaRoberts: The shit you...  "
      ]
     },
     "execution_count": 4,
     "metadata": {},
     "output_type": "execute_result"
    }
   ],
   "source": [
    "df = pd.read_csv(\"../data/original/labeled_data.csv\", index_col=0)\n",
    "df.head()"
   ]
  },
  {
   "cell_type": "code",
   "execution_count": 5,
   "metadata": {},
   "outputs": [
    {
     "data": {
      "text/plain": [
       "1    19190\n",
       "2     4163\n",
       "0     1430\n",
       "Name: label, dtype: int64"
      ]
     },
     "execution_count": 5,
     "metadata": {},
     "output_type": "execute_result"
    }
   ],
   "source": [
    "df = df.drop(columns=['count', 'hate_speech', 'offensive_language', 'neither'], axis=1)\n",
    "df.columns = ['label', 'text']\n",
    "df.label.value_counts()"
   ]
  },
  {
   "cell_type": "code",
   "execution_count": 6,
   "metadata": {},
   "outputs": [
    {
     "data": {
      "text/plain": [
       "0    23353\n",
       "1     1430\n",
       "Name: label, dtype: int64"
      ]
     },
     "execution_count": 6,
     "metadata": {},
     "output_type": "execute_result"
    }
   ],
   "source": [
    "df = df.replace({'label': {1: 0, 2: 0, 0: 1}})\n",
    "df.label.value_counts()"
   ]
  },
  {
   "cell_type": "code",
   "execution_count": 7,
   "metadata": {},
   "outputs": [
    {
     "data": {
      "text/html": [
       "<div>\n",
       "<style scoped>\n",
       "    .dataframe tbody tr th:only-of-type {\n",
       "        vertical-align: middle;\n",
       "    }\n",
       "\n",
       "    .dataframe tbody tr th {\n",
       "        vertical-align: top;\n",
       "    }\n",
       "\n",
       "    .dataframe thead th {\n",
       "        text-align: right;\n",
       "    }\n",
       "</style>\n",
       "<table border=\"1\" class=\"dataframe\">\n",
       "  <thead>\n",
       "    <tr style=\"text-align: right;\">\n",
       "      <th></th>\n",
       "      <th>label</th>\n",
       "      <th>text</th>\n",
       "    </tr>\n",
       "  </thead>\n",
       "  <tbody>\n",
       "    <tr>\n",
       "      <th>0</th>\n",
       "      <td>0</td>\n",
       "      <td>!!! RT @mayasolovely: As a woman you shouldn't...</td>\n",
       "    </tr>\n",
       "    <tr>\n",
       "      <th>1</th>\n",
       "      <td>0</td>\n",
       "      <td>!!!!! RT @mleew17: boy dats cold...tyga dwn ba...</td>\n",
       "    </tr>\n",
       "    <tr>\n",
       "      <th>2</th>\n",
       "      <td>0</td>\n",
       "      <td>!!!!!!! RT @UrKindOfBrand Dawg!!!! RT @80sbaby...</td>\n",
       "    </tr>\n",
       "    <tr>\n",
       "      <th>3</th>\n",
       "      <td>0</td>\n",
       "      <td>!!!!!!!!! RT @C_G_Anderson: @viva_based she lo...</td>\n",
       "    </tr>\n",
       "    <tr>\n",
       "      <th>4</th>\n",
       "      <td>0</td>\n",
       "      <td>!!!!!!!!!!!!! RT @ShenikaRoberts: The shit you...</td>\n",
       "    </tr>\n",
       "  </tbody>\n",
       "</table>\n",
       "</div>"
      ],
      "text/plain": [
       "   label                                               text\n",
       "0      0  !!! RT @mayasolovely: As a woman you shouldn't...\n",
       "1      0  !!!!! RT @mleew17: boy dats cold...tyga dwn ba...\n",
       "2      0  !!!!!!! RT @UrKindOfBrand Dawg!!!! RT @80sbaby...\n",
       "3      0  !!!!!!!!! RT @C_G_Anderson: @viva_based she lo...\n",
       "4      0  !!!!!!!!!!!!! RT @ShenikaRoberts: The shit you..."
      ]
     },
     "execution_count": 7,
     "metadata": {},
     "output_type": "execute_result"
    }
   ],
   "source": [
    "df.head()"
   ]
  },
  {
   "cell_type": "markdown",
   "metadata": {},
   "source": [
    "## Aristotle Dataset"
   ]
  },
  {
   "cell_type": "code",
   "execution_count": 8,
   "metadata": {},
   "outputs": [
    {
     "data": {
      "text/html": [
       "<div>\n",
       "<style scoped>\n",
       "    .dataframe tbody tr th:only-of-type {\n",
       "        vertical-align: middle;\n",
       "    }\n",
       "\n",
       "    .dataframe tbody tr th {\n",
       "        vertical-align: top;\n",
       "    }\n",
       "\n",
       "    .dataframe thead th {\n",
       "        text-align: right;\n",
       "    }\n",
       "</style>\n",
       "<table border=\"1\" class=\"dataframe\">\n",
       "  <thead>\n",
       "    <tr style=\"text-align: right;\">\n",
       "      <th></th>\n",
       "      <th>tweet_id</th>\n",
       "      <th>maj_label</th>\n",
       "    </tr>\n",
       "  </thead>\n",
       "  <tbody>\n",
       "    <tr>\n",
       "      <th>0</th>\n",
       "      <td>849667487180259329</td>\n",
       "      <td>abusive</td>\n",
       "    </tr>\n",
       "    <tr>\n",
       "      <th>1</th>\n",
       "      <td>850490912954351616</td>\n",
       "      <td>abusive</td>\n",
       "    </tr>\n",
       "    <tr>\n",
       "      <th>2</th>\n",
       "      <td>848791766853668864</td>\n",
       "      <td>abusive</td>\n",
       "    </tr>\n",
       "    <tr>\n",
       "      <th>3</th>\n",
       "      <td>848306464892604416</td>\n",
       "      <td>abusive</td>\n",
       "    </tr>\n",
       "    <tr>\n",
       "      <th>4</th>\n",
       "      <td>850010509969465344</td>\n",
       "      <td>normal</td>\n",
       "    </tr>\n",
       "  </tbody>\n",
       "</table>\n",
       "</div>"
      ],
      "text/plain": [
       "             tweet_id maj_label\n",
       "0  849667487180259329   abusive\n",
       "1  850490912954351616   abusive\n",
       "2  848791766853668864   abusive\n",
       "3  848306464892604416   abusive\n",
       "4  850010509969465344    normal"
      ]
     },
     "execution_count": 8,
     "metadata": {},
     "output_type": "execute_result"
    }
   ],
   "source": [
    "df2 = pd.read_csv(\"../data/original/hatespeechtwitter.csv\")\n",
    "df2.head()"
   ]
  },
  {
   "cell_type": "code",
   "execution_count": 9,
   "metadata": {},
   "outputs": [
    {
     "data": {
      "text/plain": [
       "normal     52835\n",
       "spam       13404\n",
       "abusive    10122\n",
       "hateful     3635\n",
       "Name: label, dtype: int64"
      ]
     },
     "execution_count": 9,
     "metadata": {},
     "output_type": "execute_result"
    }
   ],
   "source": [
    "df2.columns = ['id', 'label']\n",
    "df2.label.value_counts()"
   ]
  },
  {
   "cell_type": "code",
   "execution_count": 10,
   "metadata": {},
   "outputs": [],
   "source": [
    "# setup url and headers for calling Twitter API as per documentation\n",
    "url = \"https://api.twitter.com/2/tweets?ids=847661947159891972,847799130277675008,848933211375779840&tweet.fields=created_at,entities,geo,id,public_metrics,text&user.fields=description,entities,id,location,name,public_metrics,username\"\n",
    "payload={}\n",
    "headers = {'Authorization': 'Bearer ' + keys['bearer_token'], 'Cookie': 'personalization_id=\"v1_hzpv7qXpjB6CteyAHDWYQQ==\"; guest_id=v1%3A161498381400435837'}\n",
    "\n",
    "# make GET request to Twitter API to get response object \n",
    "r = requests.request(\"GET\", url, headers=headers, data=payload)\n",
    "\n",
    "# convert payload to dictionary\n",
    "data = r.json()"
   ]
  },
  {
   "cell_type": "code",
   "execution_count": 11,
   "metadata": {},
   "outputs": [],
   "source": [
    "df_hateful = df2[df2['label']=='hateful']\n",
    "hate_ids = group_list(list(df_hateful.id))"
   ]
  },
  {
   "cell_type": "code",
   "execution_count": 12,
   "metadata": {},
   "outputs": [
    {
     "name": "stderr",
     "output_type": "stream",
     "text": [
      "100%|██████████| 37/37 [00:23<00:00,  1.60it/s]\n"
     ]
    }
   ],
   "source": [
    "df_hate = tweets_request(hate_ids)"
   ]
  },
  {
   "cell_type": "code",
   "execution_count": 13,
   "metadata": {},
   "outputs": [
    {
     "data": {
      "text/html": [
       "<div>\n",
       "<style scoped>\n",
       "    .dataframe tbody tr th:only-of-type {\n",
       "        vertical-align: middle;\n",
       "    }\n",
       "\n",
       "    .dataframe tbody tr th {\n",
       "        vertical-align: top;\n",
       "    }\n",
       "\n",
       "    .dataframe thead th {\n",
       "        text-align: right;\n",
       "    }\n",
       "</style>\n",
       "<table border=\"1\" class=\"dataframe\">\n",
       "  <thead>\n",
       "    <tr style=\"text-align: right;\">\n",
       "      <th></th>\n",
       "      <th>id</th>\n",
       "      <th>text</th>\n",
       "      <th>public_metrics</th>\n",
       "      <th>created_at</th>\n",
       "      <th>entities</th>\n",
       "      <th>geo</th>\n",
       "    </tr>\n",
       "  </thead>\n",
       "  <tbody>\n",
       "    <tr>\n",
       "      <th>0</th>\n",
       "      <td>850433664890544128</td>\n",
       "      <td>I hate er chase because if the Bitch that work...</td>\n",
       "      <td>{'retweet_count': 0, 'reply_count': 0, 'like_c...</td>\n",
       "      <td>2017-04-07T19:42:40.000Z</td>\n",
       "      <td>NaN</td>\n",
       "      <td>NaN</td>\n",
       "    </tr>\n",
       "    <tr>\n",
       "      <th>1</th>\n",
       "      <td>850100742035836929</td>\n",
       "      <td>RT @nyctophil3: Pineapples do not belong on pi...</td>\n",
       "      <td>{'retweet_count': 5, 'reply_count': 0, 'like_c...</td>\n",
       "      <td>2017-04-06T21:39:45.000Z</td>\n",
       "      <td>{'mentions': [{'start': 3, 'end': 14, 'usernam...</td>\n",
       "      <td>NaN</td>\n",
       "    </tr>\n",
       "    <tr>\n",
       "      <th>2</th>\n",
       "      <td>847804507367100416</td>\n",
       "      <td>Niggas keep talking about women wearing weave ...</td>\n",
       "      <td>{'retweet_count': 0, 'reply_count': 0, 'like_c...</td>\n",
       "      <td>2017-03-31T13:35:20.000Z</td>\n",
       "      <td>NaN</td>\n",
       "      <td>NaN</td>\n",
       "    </tr>\n",
       "    <tr>\n",
       "      <th>3</th>\n",
       "      <td>850090319165050880</td>\n",
       "      <td>@vappywave idiot that's not gonna work. you go...</td>\n",
       "      <td>{'retweet_count': 0, 'reply_count': 1, 'like_c...</td>\n",
       "      <td>2017-04-06T20:58:20.000Z</td>\n",
       "      <td>{'mentions': [{'start': 0, 'end': 10, 'usernam...</td>\n",
       "      <td>NaN</td>\n",
       "    </tr>\n",
       "    <tr>\n",
       "      <th>4</th>\n",
       "      <td>848686686930382848</td>\n",
       "      <td>RT @ayevonnn: bruh i fucking hate people like ...</td>\n",
       "      <td>{'retweet_count': 5, 'reply_count': 0, 'like_c...</td>\n",
       "      <td>2017-04-03T00:00:48.000Z</td>\n",
       "      <td>{'urls': [{'start': 53, 'end': 76, 'url': 'htt...</td>\n",
       "      <td>NaN</td>\n",
       "    </tr>\n",
       "    <tr>\n",
       "      <th>...</th>\n",
       "      <td>...</td>\n",
       "      <td>...</td>\n",
       "      <td>...</td>\n",
       "      <td>...</td>\n",
       "      <td>...</td>\n",
       "      <td>...</td>\n",
       "    </tr>\n",
       "    <tr>\n",
       "      <th>19</th>\n",
       "      <td>850701219568001025</td>\n",
       "      <td>Baekhyun won 'Most Popular Artist of Korea'\\n\\...</td>\n",
       "      <td>{'retweet_count': 0, 'reply_count': 0, 'like_c...</td>\n",
       "      <td>2017-04-08T13:25:50.000Z</td>\n",
       "      <td>{'hashtags': [{'start': 98, 'end': 113, 'tag':...</td>\n",
       "      <td>NaN</td>\n",
       "    </tr>\n",
       "    <tr>\n",
       "      <th>20</th>\n",
       "      <td>849316180670259205</td>\n",
       "      <td>#TripleTalaqArrest 2fgt dis social menace #Tri...</td>\n",
       "      <td>{'retweet_count': 0, 'reply_count': 1, 'like_c...</td>\n",
       "      <td>2017-04-04T17:42:11.000Z</td>\n",
       "      <td>{'hashtags': [{'start': 0, 'end': 18, 'tag': '...</td>\n",
       "      <td>NaN</td>\n",
       "    </tr>\n",
       "    <tr>\n",
       "      <th>21</th>\n",
       "      <td>849674709763358720</td>\n",
       "      <td>White nationalists' latest tactic to recruit c...</td>\n",
       "      <td>{'retweet_count': 0, 'reply_count': 0, 'like_c...</td>\n",
       "      <td>2017-04-05T17:26:51.000Z</td>\n",
       "      <td>{'urls': [{'start': 85, 'end': 108, 'url': 'ht...</td>\n",
       "      <td>NaN</td>\n",
       "    </tr>\n",
       "    <tr>\n",
       "      <th>22</th>\n",
       "      <td>849246676854484992</td>\n",
       "      <td>We are in a comfortable lead fight against gal...</td>\n",
       "      <td>{'retweet_count': 1, 'reply_count': 0, 'like_c...</td>\n",
       "      <td>2017-04-04T13:06:00.000Z</td>\n",
       "      <td>{'hashtags': [{'start': 53, 'end': 66, 'tag': ...</td>\n",
       "      <td>NaN</td>\n",
       "    </tr>\n",
       "    <tr>\n",
       "      <th>23</th>\n",
       "      <td>849635522389651456</td>\n",
       "      <td>Took him less than a minute...!! Gutless grub!...</td>\n",
       "      <td>{'retweet_count': 0, 'reply_count': 1, 'like_c...</td>\n",
       "      <td>2017-04-05T14:51:08.000Z</td>\n",
       "      <td>{'urls': [{'start': 121, 'end': 144, 'url': 'h...</td>\n",
       "      <td>NaN</td>\n",
       "    </tr>\n",
       "  </tbody>\n",
       "</table>\n",
       "<p>1700 rows × 6 columns</p>\n",
       "</div>"
      ],
      "text/plain": [
       "                    id                                               text  \\\n",
       "0   850433664890544128  I hate er chase because if the Bitch that work...   \n",
       "1   850100742035836929  RT @nyctophil3: Pineapples do not belong on pi...   \n",
       "2   847804507367100416  Niggas keep talking about women wearing weave ...   \n",
       "3   850090319165050880  @vappywave idiot that's not gonna work. you go...   \n",
       "4   848686686930382848  RT @ayevonnn: bruh i fucking hate people like ...   \n",
       "..                 ...                                                ...   \n",
       "19  850701219568001025  Baekhyun won 'Most Popular Artist of Korea'\\n\\...   \n",
       "20  849316180670259205  #TripleTalaqArrest 2fgt dis social menace #Tri...   \n",
       "21  849674709763358720  White nationalists' latest tactic to recruit c...   \n",
       "22  849246676854484992  We are in a comfortable lead fight against gal...   \n",
       "23  849635522389651456  Took him less than a minute...!! Gutless grub!...   \n",
       "\n",
       "                                       public_metrics  \\\n",
       "0   {'retweet_count': 0, 'reply_count': 0, 'like_c...   \n",
       "1   {'retweet_count': 5, 'reply_count': 0, 'like_c...   \n",
       "2   {'retweet_count': 0, 'reply_count': 0, 'like_c...   \n",
       "3   {'retweet_count': 0, 'reply_count': 1, 'like_c...   \n",
       "4   {'retweet_count': 5, 'reply_count': 0, 'like_c...   \n",
       "..                                                ...   \n",
       "19  {'retweet_count': 0, 'reply_count': 0, 'like_c...   \n",
       "20  {'retweet_count': 0, 'reply_count': 1, 'like_c...   \n",
       "21  {'retweet_count': 0, 'reply_count': 0, 'like_c...   \n",
       "22  {'retweet_count': 1, 'reply_count': 0, 'like_c...   \n",
       "23  {'retweet_count': 0, 'reply_count': 1, 'like_c...   \n",
       "\n",
       "                  created_at  \\\n",
       "0   2017-04-07T19:42:40.000Z   \n",
       "1   2017-04-06T21:39:45.000Z   \n",
       "2   2017-03-31T13:35:20.000Z   \n",
       "3   2017-04-06T20:58:20.000Z   \n",
       "4   2017-04-03T00:00:48.000Z   \n",
       "..                       ...   \n",
       "19  2017-04-08T13:25:50.000Z   \n",
       "20  2017-04-04T17:42:11.000Z   \n",
       "21  2017-04-05T17:26:51.000Z   \n",
       "22  2017-04-04T13:06:00.000Z   \n",
       "23  2017-04-05T14:51:08.000Z   \n",
       "\n",
       "                                             entities  geo  \n",
       "0                                                 NaN  NaN  \n",
       "1   {'mentions': [{'start': 3, 'end': 14, 'usernam...  NaN  \n",
       "2                                                 NaN  NaN  \n",
       "3   {'mentions': [{'start': 0, 'end': 10, 'usernam...  NaN  \n",
       "4   {'urls': [{'start': 53, 'end': 76, 'url': 'htt...  NaN  \n",
       "..                                                ...  ...  \n",
       "19  {'hashtags': [{'start': 98, 'end': 113, 'tag':...  NaN  \n",
       "20  {'hashtags': [{'start': 0, 'end': 18, 'tag': '...  NaN  \n",
       "21  {'urls': [{'start': 85, 'end': 108, 'url': 'ht...  NaN  \n",
       "22  {'hashtags': [{'start': 53, 'end': 66, 'tag': ...  NaN  \n",
       "23  {'urls': [{'start': 121, 'end': 144, 'url': 'h...  NaN  \n",
       "\n",
       "[1700 rows x 6 columns]"
      ]
     },
     "execution_count": 13,
     "metadata": {},
     "output_type": "execute_result"
    }
   ],
   "source": [
    "df_hate"
   ]
  },
  {
   "cell_type": "code",
   "execution_count": 14,
   "metadata": {},
   "outputs": [
    {
     "data": {
      "text/html": [
       "<div>\n",
       "<style scoped>\n",
       "    .dataframe tbody tr th:only-of-type {\n",
       "        vertical-align: middle;\n",
       "    }\n",
       "\n",
       "    .dataframe tbody tr th {\n",
       "        vertical-align: top;\n",
       "    }\n",
       "\n",
       "    .dataframe thead th {\n",
       "        text-align: right;\n",
       "    }\n",
       "</style>\n",
       "<table border=\"1\" class=\"dataframe\">\n",
       "  <thead>\n",
       "    <tr style=\"text-align: right;\">\n",
       "      <th></th>\n",
       "      <th>text</th>\n",
       "      <th>label</th>\n",
       "    </tr>\n",
       "  </thead>\n",
       "  <tbody>\n",
       "    <tr>\n",
       "      <th>0</th>\n",
       "      <td>I hate er chase because if the Bitch that work...</td>\n",
       "      <td>1</td>\n",
       "    </tr>\n",
       "    <tr>\n",
       "      <th>1</th>\n",
       "      <td>RT @nyctophil3: Pineapples do not belong on pi...</td>\n",
       "      <td>1</td>\n",
       "    </tr>\n",
       "    <tr>\n",
       "      <th>2</th>\n",
       "      <td>Niggas keep talking about women wearing weave ...</td>\n",
       "      <td>1</td>\n",
       "    </tr>\n",
       "    <tr>\n",
       "      <th>3</th>\n",
       "      <td>@vappywave idiot that's not gonna work. you go...</td>\n",
       "      <td>1</td>\n",
       "    </tr>\n",
       "    <tr>\n",
       "      <th>4</th>\n",
       "      <td>RT @ayevonnn: bruh i fucking hate people like ...</td>\n",
       "      <td>1</td>\n",
       "    </tr>\n",
       "  </tbody>\n",
       "</table>\n",
       "</div>"
      ],
      "text/plain": [
       "                                                text  label\n",
       "0  I hate er chase because if the Bitch that work...      1\n",
       "1  RT @nyctophil3: Pineapples do not belong on pi...      1\n",
       "2  Niggas keep talking about women wearing weave ...      1\n",
       "3  @vappywave idiot that's not gonna work. you go...      1\n",
       "4  RT @ayevonnn: bruh i fucking hate people like ...      1"
      ]
     },
     "execution_count": 14,
     "metadata": {},
     "output_type": "execute_result"
    }
   ],
   "source": [
    "df_2 = df_hate.reset_index(drop=True)\n",
    "df_2['label'] = 1\n",
    "df_2 = df_2[['text', 'label']]\n",
    "df_2.head()"
   ]
  },
  {
   "cell_type": "markdown",
   "metadata": {},
   "source": [
    "## University of Copenhagen Dataset"
   ]
  },
  {
   "cell_type": "code",
   "execution_count": 15,
   "metadata": {},
   "outputs": [
    {
     "data": {
      "text/html": [
       "<div>\n",
       "<style scoped>\n",
       "    .dataframe tbody tr th:only-of-type {\n",
       "        vertical-align: middle;\n",
       "    }\n",
       "\n",
       "    .dataframe tbody tr th {\n",
       "        vertical-align: top;\n",
       "    }\n",
       "\n",
       "    .dataframe thead th {\n",
       "        text-align: right;\n",
       "    }\n",
       "</style>\n",
       "<table border=\"1\" class=\"dataframe\">\n",
       "  <thead>\n",
       "    <tr style=\"text-align: right;\">\n",
       "      <th></th>\n",
       "      <th>0</th>\n",
       "      <th>1</th>\n",
       "    </tr>\n",
       "  </thead>\n",
       "  <tbody>\n",
       "    <tr>\n",
       "      <th>0</th>\n",
       "      <td>572342978255048705</td>\n",
       "      <td>racism</td>\n",
       "    </tr>\n",
       "    <tr>\n",
       "      <th>1</th>\n",
       "      <td>572341498827522049</td>\n",
       "      <td>racism</td>\n",
       "    </tr>\n",
       "    <tr>\n",
       "      <th>2</th>\n",
       "      <td>572340476503724032</td>\n",
       "      <td>racism</td>\n",
       "    </tr>\n",
       "    <tr>\n",
       "      <th>3</th>\n",
       "      <td>572334712804384768</td>\n",
       "      <td>racism</td>\n",
       "    </tr>\n",
       "    <tr>\n",
       "      <th>4</th>\n",
       "      <td>572332655397629952</td>\n",
       "      <td>racism</td>\n",
       "    </tr>\n",
       "  </tbody>\n",
       "</table>\n",
       "</div>"
      ],
      "text/plain": [
       "                    0       1\n",
       "0  572342978255048705  racism\n",
       "1  572341498827522049  racism\n",
       "2  572340476503724032  racism\n",
       "3  572334712804384768  racism\n",
       "4  572332655397629952  racism"
      ]
     },
     "execution_count": 15,
     "metadata": {},
     "output_type": "execute_result"
    }
   ],
   "source": [
    "df3 = pd.read_csv('../data/original/NAACL_SRW_2016.csv', header=None)\n",
    "df3.head()"
   ]
  },
  {
   "cell_type": "code",
   "execution_count": 16,
   "metadata": {},
   "outputs": [
    {
     "data": {
      "text/plain": [
       "none      11559\n",
       "sexism     3378\n",
       "racism     1970\n",
       "Name: label, dtype: int64"
      ]
     },
     "execution_count": 16,
     "metadata": {},
     "output_type": "execute_result"
    }
   ],
   "source": [
    "df3.columns = ['id', 'label']\n",
    "df3.label.value_counts()"
   ]
  },
  {
   "cell_type": "code",
   "execution_count": 18,
   "metadata": {},
   "outputs": [
    {
     "name": "stderr",
     "output_type": "stream",
     "text": [
      "100%|██████████| 54/54 [00:25<00:00,  2.12it/s]\n"
     ]
    }
   ],
   "source": [
    "df_racsex = df3[(df3['label']=='racism') | (df3['label']=='sexism')]\n",
    "racsex_id = group_list(list(df_racsex.id))\n",
    "df_rac_sex = tweets_request(racsex_id)"
   ]
  },
  {
   "cell_type": "code",
   "execution_count": 19,
   "metadata": {},
   "outputs": [
    {
     "data": {
      "text/html": [
       "<div>\n",
       "<style scoped>\n",
       "    .dataframe tbody tr th:only-of-type {\n",
       "        vertical-align: middle;\n",
       "    }\n",
       "\n",
       "    .dataframe tbody tr th {\n",
       "        vertical-align: top;\n",
       "    }\n",
       "\n",
       "    .dataframe thead th {\n",
       "        text-align: right;\n",
       "    }\n",
       "</style>\n",
       "<table border=\"1\" class=\"dataframe\">\n",
       "  <thead>\n",
       "    <tr style=\"text-align: right;\">\n",
       "      <th></th>\n",
       "      <th>text</th>\n",
       "      <th>label</th>\n",
       "    </tr>\n",
       "  </thead>\n",
       "  <tbody>\n",
       "    <tr>\n",
       "      <th>0</th>\n",
       "      <td>So Drasko just said he was impressed the girls...</td>\n",
       "      <td>1</td>\n",
       "    </tr>\n",
       "    <tr>\n",
       "      <th>1</th>\n",
       "      <td>Drasko they didn't cook half a bird you idiot ...</td>\n",
       "      <td>1</td>\n",
       "    </tr>\n",
       "    <tr>\n",
       "      <th>2</th>\n",
       "      <td>Hopefully someone cooks Drasko in the next ep ...</td>\n",
       "      <td>1</td>\n",
       "    </tr>\n",
       "    <tr>\n",
       "      <th>3</th>\n",
       "      <td>of course you were born in serbia...you're as ...</td>\n",
       "      <td>1</td>\n",
       "    </tr>\n",
       "    <tr>\n",
       "      <th>4</th>\n",
       "      <td>These girls are the equivalent of the irritati...</td>\n",
       "      <td>1</td>\n",
       "    </tr>\n",
       "  </tbody>\n",
       "</table>\n",
       "</div>"
      ],
      "text/plain": [
       "                                                text  label\n",
       "0  So Drasko just said he was impressed the girls...      1\n",
       "1  Drasko they didn't cook half a bird you idiot ...      1\n",
       "2  Hopefully someone cooks Drasko in the next ep ...      1\n",
       "3  of course you were born in serbia...you're as ...      1\n",
       "4  These girls are the equivalent of the irritati...      1"
      ]
     },
     "execution_count": 19,
     "metadata": {},
     "output_type": "execute_result"
    }
   ],
   "source": [
    "df_3 = df_rac_sex.reset_index(drop=True)\n",
    "df_3['label'] = 1\n",
    "df_3 = df_3[['text', 'label']]\n",
    "df_3.head()"
   ]
  },
  {
   "cell_type": "markdown",
   "metadata": {},
   "source": [
    "## HASOC Dataset"
   ]
  },
  {
   "cell_type": "code",
   "execution_count": 20,
   "metadata": {},
   "outputs": [
    {
     "data": {
      "text/html": [
       "<div>\n",
       "<style scoped>\n",
       "    .dataframe tbody tr th:only-of-type {\n",
       "        vertical-align: middle;\n",
       "    }\n",
       "\n",
       "    .dataframe tbody tr th {\n",
       "        vertical-align: top;\n",
       "    }\n",
       "\n",
       "    .dataframe thead th {\n",
       "        text-align: right;\n",
       "    }\n",
       "</style>\n",
       "<table border=\"1\" class=\"dataframe\">\n",
       "  <thead>\n",
       "    <tr style=\"text-align: right;\">\n",
       "      <th></th>\n",
       "      <th>text_id</th>\n",
       "      <th>text</th>\n",
       "      <th>task_1</th>\n",
       "      <th>task_2</th>\n",
       "      <th>task_3</th>\n",
       "    </tr>\n",
       "  </thead>\n",
       "  <tbody>\n",
       "    <tr>\n",
       "      <th>0</th>\n",
       "      <td>hasoc_en_1</td>\n",
       "      <td>#DhoniKeepsTheGlove | WATCH: Sports Minister K...</td>\n",
       "      <td>NOT</td>\n",
       "      <td>NONE</td>\n",
       "      <td>NONE</td>\n",
       "    </tr>\n",
       "    <tr>\n",
       "      <th>1</th>\n",
       "      <td>hasoc_en_2</td>\n",
       "      <td>@politico No. We should remember very clearly ...</td>\n",
       "      <td>HOF</td>\n",
       "      <td>HATE</td>\n",
       "      <td>TIN</td>\n",
       "    </tr>\n",
       "    <tr>\n",
       "      <th>2</th>\n",
       "      <td>hasoc_en_3</td>\n",
       "      <td>@cricketworldcup Guess who would be the winner...</td>\n",
       "      <td>NOT</td>\n",
       "      <td>NONE</td>\n",
       "      <td>NONE</td>\n",
       "    </tr>\n",
       "    <tr>\n",
       "      <th>3</th>\n",
       "      <td>hasoc_en_4</td>\n",
       "      <td>Corbyn is too politically intellectual for #Bo...</td>\n",
       "      <td>NOT</td>\n",
       "      <td>NONE</td>\n",
       "      <td>NONE</td>\n",
       "    </tr>\n",
       "    <tr>\n",
       "      <th>4</th>\n",
       "      <td>hasoc_en_5</td>\n",
       "      <td>All the best to #TeamIndia for another swimmin...</td>\n",
       "      <td>NOT</td>\n",
       "      <td>NONE</td>\n",
       "      <td>NONE</td>\n",
       "    </tr>\n",
       "  </tbody>\n",
       "</table>\n",
       "</div>"
      ],
      "text/plain": [
       "      text_id                                               text task_1  \\\n",
       "0  hasoc_en_1  #DhoniKeepsTheGlove | WATCH: Sports Minister K...    NOT   \n",
       "1  hasoc_en_2  @politico No. We should remember very clearly ...    HOF   \n",
       "2  hasoc_en_3  @cricketworldcup Guess who would be the winner...    NOT   \n",
       "3  hasoc_en_4  Corbyn is too politically intellectual for #Bo...    NOT   \n",
       "4  hasoc_en_5  All the best to #TeamIndia for another swimmin...    NOT   \n",
       "\n",
       "  task_2 task_3  \n",
       "0   NONE   NONE  \n",
       "1   HATE    TIN  \n",
       "2   NONE   NONE  \n",
       "3   NONE   NONE  \n",
       "4   NONE   NONE  "
      ]
     },
     "execution_count": 20,
     "metadata": {},
     "output_type": "execute_result"
    }
   ],
   "source": [
    "df4 = pd.read_csv(\"../data/original/english_dataset.tsv\", delimiter = \"\\t\")\n",
    "df4.head()"
   ]
  },
  {
   "cell_type": "code",
   "execution_count": 21,
   "metadata": {},
   "outputs": [
    {
     "data": {
      "text/html": [
       "<div>\n",
       "<style scoped>\n",
       "    .dataframe tbody tr th:only-of-type {\n",
       "        vertical-align: middle;\n",
       "    }\n",
       "\n",
       "    .dataframe tbody tr th {\n",
       "        vertical-align: top;\n",
       "    }\n",
       "\n",
       "    .dataframe thead th {\n",
       "        text-align: right;\n",
       "    }\n",
       "</style>\n",
       "<table border=\"1\" class=\"dataframe\">\n",
       "  <thead>\n",
       "    <tr style=\"text-align: right;\">\n",
       "      <th></th>\n",
       "      <th>text</th>\n",
       "      <th>label</th>\n",
       "    </tr>\n",
       "  </thead>\n",
       "  <tbody>\n",
       "    <tr>\n",
       "      <th>1</th>\n",
       "      <td>@politico No. We should remember very clearly ...</td>\n",
       "      <td>1</td>\n",
       "    </tr>\n",
       "    <tr>\n",
       "      <th>11</th>\n",
       "      <td>I don’t know how much more I can take! 45 is a...</td>\n",
       "      <td>1</td>\n",
       "    </tr>\n",
       "    <tr>\n",
       "      <th>23</th>\n",
       "      <td>#ShameOnICC  1. ICC on Dhoni's gloves         ...</td>\n",
       "      <td>1</td>\n",
       "    </tr>\n",
       "    <tr>\n",
       "      <th>27</th>\n",
       "      <td>Disgusting! And they don’t change their cultur...</td>\n",
       "      <td>1</td>\n",
       "    </tr>\n",
       "    <tr>\n",
       "      <th>34</th>\n",
       "      <td>@TheRealOJ32 Of all the retired NFL players, w...</td>\n",
       "      <td>1</td>\n",
       "    </tr>\n",
       "  </tbody>\n",
       "</table>\n",
       "</div>"
      ],
      "text/plain": [
       "                                                 text  label\n",
       "1   @politico No. We should remember very clearly ...      1\n",
       "11  I don’t know how much more I can take! 45 is a...      1\n",
       "23  #ShameOnICC  1. ICC on Dhoni's gloves         ...      1\n",
       "27  Disgusting! And they don’t change their cultur...      1\n",
       "34  @TheRealOJ32 Of all the retired NFL players, w...      1"
      ]
     },
     "execution_count": 21,
     "metadata": {},
     "output_type": "execute_result"
    }
   ],
   "source": [
    "df_4 = df4[df4.task_2 == 'HATE']\n",
    "df_4['label'] = 1\n",
    "df_4 = df_4[['text', 'label']]\n",
    "df_4.head()"
   ]
  },
  {
   "cell_type": "markdown",
   "metadata": {},
   "source": []
  },
  {
   "cell_type": "markdown",
   "metadata": {},
   "source": [
    "## Combined Dataframe"
   ]
  },
  {
   "cell_type": "code",
   "execution_count": 22,
   "metadata": {},
   "outputs": [
    {
     "data": {
      "text/plain": [
       "0    23353\n",
       "1     6997\n",
       "Name: label, dtype: int64"
      ]
     },
     "execution_count": 22,
     "metadata": {},
     "output_type": "execute_result"
    }
   ],
   "source": [
    "combined = pd.concat([df, df_2, df_3, df_4], ignore_index=True)\n",
    "combined.label.value_counts()"
   ]
  },
  {
   "cell_type": "code",
   "execution_count": 23,
   "metadata": {},
   "outputs": [],
   "source": [
    "# separate into hate and not-hate subsets\n",
    "hate = combined[combined.label == 1]\n",
    "not_hate = combined[combined.label == 0]\n",
    "\n",
    "# separate into features and target for train_test_aplit\n",
    "X_hate = hate.text\n",
    "y_hate = hate.label\n",
    "X_not_hate = not_hate.text\n",
    "y_not_hate = not_hate.label\n",
    "\n",
    "# perform 80-20 split on dataset\n",
    "X_hate_tr, X_hate_val, y_hate_tr, y_hate_val = train_test_split(X_hate, y_hate, test_size=0.20, random_state=42)\n",
    "X_not_hate_tr, X_not_hate_val, y_not_hate_tr, y_not_hate_val = train_test_split(X_not_hate, y_not_hate, test_size=0.20, random_state=42)\n",
    "\n",
    "# concatenate to reform training and validation dataset\n",
    "X_train = pd.concat((X_hate_tr, X_not_hate_tr), ignore_index=True)\n",
    "y_train = pd.concat((y_hate_tr, y_not_hate_tr), ignore_index=True)\n",
    "train = pd.concat([X_train, y_train], axis=1)\n",
    "\n",
    "X_val = pd.concat((X_hate_val, X_not_hate_val), ignore_index=True)\n",
    "y_val = pd.concat((y_hate_val, y_not_hate_val), ignore_index=True)\n",
    "valid = pd.concat([X_val, y_val], axis=1)"
   ]
  },
  {
   "cell_type": "code",
   "execution_count": 24,
   "metadata": {},
   "outputs": [
    {
     "data": {
      "text/html": [
       "<div>\n",
       "<style scoped>\n",
       "    .dataframe tbody tr th:only-of-type {\n",
       "        vertical-align: middle;\n",
       "    }\n",
       "\n",
       "    .dataframe tbody tr th {\n",
       "        vertical-align: top;\n",
       "    }\n",
       "\n",
       "    .dataframe thead th {\n",
       "        text-align: right;\n",
       "    }\n",
       "</style>\n",
       "<table border=\"1\" class=\"dataframe\">\n",
       "  <thead>\n",
       "    <tr style=\"text-align: right;\">\n",
       "      <th></th>\n",
       "      <th>text</th>\n",
       "      <th>label</th>\n",
       "    </tr>\n",
       "  </thead>\n",
       "  <tbody>\n",
       "    <tr>\n",
       "      <th>0</th>\n",
       "      <td>RT @IsaidNick: niggers are so ignorant http://...</td>\n",
       "      <td>1</td>\n",
       "    </tr>\n",
       "    <tr>\n",
       "      <th>1</th>\n",
       "      <td>@LeoKikiLady89 I respect your use of Sprinkles...</td>\n",
       "      <td>1</td>\n",
       "    </tr>\n",
       "    <tr>\n",
       "      <th>2</th>\n",
       "      <td>@AliVelshi @JoyAnnReid @MSNBC Yes! Does Trump ...</td>\n",
       "      <td>1</td>\n",
       "    </tr>\n",
       "    <tr>\n",
       "      <th>3</th>\n",
       "      <td>Niggas who eat cookies n cream hate themselves...</td>\n",
       "      <td>1</td>\n",
       "    </tr>\n",
       "    <tr>\n",
       "      <th>4</th>\n",
       "      <td>i fucking hate bryce. that episode was so trig...</td>\n",
       "      <td>1</td>\n",
       "    </tr>\n",
       "  </tbody>\n",
       "</table>\n",
       "</div>"
      ],
      "text/plain": [
       "                                                text  label\n",
       "0  RT @IsaidNick: niggers are so ignorant http://...      1\n",
       "1  @LeoKikiLady89 I respect your use of Sprinkles...      1\n",
       "2  @AliVelshi @JoyAnnReid @MSNBC Yes! Does Trump ...      1\n",
       "3  Niggas who eat cookies n cream hate themselves...      1\n",
       "4  i fucking hate bryce. that episode was so trig...      1"
      ]
     },
     "execution_count": 24,
     "metadata": {},
     "output_type": "execute_result"
    }
   ],
   "source": [
    "train.head()"
   ]
  },
  {
   "cell_type": "markdown",
   "metadata": {},
   "source": [
    "# Preprocessing Tweets"
   ]
  },
  {
   "cell_type": "code",
   "execution_count": 25,
   "metadata": {},
   "outputs": [],
   "source": [
    "def preprocess(tweet):\n",
    "    result = re.sub(r'(RT\\s@[A-Za-z]+[A-Za-z0-9-_]+)', '', tweet)\n",
    "    result = re.sub(r'(@[A-Za-z0-9-_]+)', '', result)\n",
    "    result = re.sub(r'http\\S+', '', result)\n",
    "    result = re.sub(r'bit.ly/\\S+', '', result) \n",
    "    result = re.sub(r'&[\\S]+?;', '', result)\n",
    "    result = re.sub(r'#', ' ', result)\n",
    "    result = re.sub(r'[^\\w\\s]', r'', result)    \n",
    "    result = re.sub(r'\\w*\\d\\w*', r'', result)\n",
    "    result = re.sub(r'\\s\\s+', ' ', result)\n",
    "    result = re.sub(r'(\\A\\s+|\\s+\\Z)', '', result)\n",
    "    result = tokenize(result)\n",
    "    return result \n",
    "\n",
    "def lemmatize(token):\n",
    "    return WordNetLemmatizer().lemmatize(token, pos='v')\n",
    "\n",
    "def tokenize(tweet):\n",
    "    result = []\n",
    "    for token in gensim.utils.simple_preprocess(tweet):\n",
    "        if token not in gensim.parsing.preprocessing.STOPWORDS and len(token) > 2:  # drops stopwords and words with <3 characters\n",
    "            result.append(lemmatize(token))\n",
    "    result = ' '.join(result)\n",
    "    return result"
   ]
  },
  {
   "cell_type": "code",
   "execution_count": 26,
   "metadata": {},
   "outputs": [
    {
     "data": {
      "text/plain": [
       "0                                     niggers ignorant\n",
       "1                         respect use sprinkle winners\n",
       "2    yes trump love playboy centerfolds opps forget...\n",
       "3                        niggas eat cookies cream hate\n",
       "4                  fuck hate bryce episode trigger cry\n",
       "Name: text, dtype: object"
      ]
     },
     "execution_count": 26,
     "metadata": {},
     "output_type": "execute_result"
    }
   ],
   "source": [
    "train_processed = train.text.apply(lambda x: preprocess(x))\n",
    "train_processed.head()"
   ]
  },
  {
   "cell_type": "code",
   "execution_count": 27,
   "metadata": {},
   "outputs": [
    {
     "data": {
      "text/plain": [
       "0                                           stupid get\n",
       "1    family friends appal support sexual predator f...\n",
       "2    ohlike new btwpunching inane tool use silence ...\n",
       "3                                     sit stfu raghead\n",
       "4    gamergate maybe people say school fail school ...\n",
       "Name: text, dtype: object"
      ]
     },
     "execution_count": 27,
     "metadata": {},
     "output_type": "execute_result"
    }
   ],
   "source": [
    "valid_processed = valid.text.apply(lambda x: preprocess(x))\n",
    "valid_processed.head()"
   ]
  },
  {
   "cell_type": "markdown",
   "metadata": {},
   "source": [
    "# Modeling and Evaluation"
   ]
  },
  {
   "cell_type": "code",
   "execution_count": 34,
   "metadata": {},
   "outputs": [],
   "source": [
    "def aps(X, y, model):\n",
    "    probs = model.decision_function(X)\n",
    "    return average_precision_score(y, probs)\n",
    "\n",
    "def auc(X, y, model):\n",
    "    probs = model.decision_function(X) \n",
    "    return roc_auc_score(y, probs)\n",
    "\n",
    "def get_metrics(X, y, y_pred, model):\n",
    "    acc = accuracy_score(y, y_pred)\n",
    "    f1 = f1_score(y, y_pred)\n",
    "    rec = recall_score(y, y_pred)\n",
    "    prec = precision_score(y, y_pred)\n",
    "    rocauc = auc(X, y, model)\n",
    "    prauc = aps(X, y, model)\n",
    "    \n",
    "    print('Accuracy: ', acc)\n",
    "    print('F1: ', f1)\n",
    "    print('Recall: ', rec)\n",
    "    print('Precision: ', prec)\n",
    "    print('ROC-AUC: ', rocauc)\n",
    "    print('PR-AUC: ', prauc)\n",
    "\n",
    "def get_confusion(y, y_pred):\n",
    "    cnf = confusion_matrix(y, y_pred)\n",
    "    group_names = ['TN','FP','FN','TP']\n",
    "    group_counts = ['{0:0.0f}'.format(value) for value in cnf.flatten()]\n",
    "    group_percentages = ['{0:.2%}'.format(value) for value in cnf.flatten()/np.sum(cnf)]\n",
    "    labels = [f'{v1}\\n{v2}\\n{v3}' for v1, v2, v3 in zip(group_names, group_counts, group_percentages)]\n",
    "    labels = np.asarray(labels).reshape(2,2)\n",
    "    fig, ax = plt.subplots(figsize=(4,4))\n",
    "    sns.heatmap(cnf, annot=labels, fmt='', cmap='Blues', annot_kws={'size':14}, cbar=False, xticklabels=False, yticklabels=False)"
   ]
  },
  {
   "cell_type": "code",
   "execution_count": 28,
   "metadata": {},
   "outputs": [],
   "source": [
    "X_tr = train_processed.values\n",
    "X_val = valid_processed.values\n",
    "y_tr = train.label.values\n",
    "y_val = valid.label.values\n",
    "\n",
    "vec = TfidfVectorizer()\n",
    "tfidf_tr = vec.fit_transform(X_tr)\n",
    "tfidf_val = vec.transform(X_val)"
   ]
  },
  {
   "cell_type": "code",
   "execution_count": 30,
   "metadata": {},
   "outputs": [],
   "source": [
    "pickle.dump(vec, open(\"../pickle/vec.pickle\", \"wb\"))"
   ]
  },
  {
   "cell_type": "code",
   "execution_count": 35,
   "metadata": {},
   "outputs": [
    {
     "name": "stdout",
     "output_type": "stream",
     "text": [
      "Accuracy:  0.9066051721297974\n",
      "F1:  0.7809965237543453\n",
      "Recall:  0.7221428571428572\n",
      "Precision:  0.8502943650126157\n",
      "ROC-AUC:  0.9468753249533596\n",
      "PR-AUC:  0.8866604922519539\n"
     ]
    }
   ],
   "source": [
    "clf = LogisticRegression(C=10, penalty='l2', solver='lbfgs').fit(tfidf_tr, y_tr)\n",
    "y_pred = clf.predict(tfidf_val)\n",
    "get_metrics(tfidf_val, y_val, y_pred, clf)"
   ]
  },
  {
   "cell_type": "code",
   "execution_count": 36,
   "metadata": {},
   "outputs": [
    {
     "data": {
      "image/png": "[encoded data removed]",
      "text/plain": [
       "<Figure size 288x288 with 1 Axes>"
      ]
     },
     "metadata": {},
     "output_type": "display_data"
    }
   ],
   "source": [
    "get_confusion(y_val, y_pred)"
   ]
  },
  {
   "cell_type": "code",
   "execution_count": 37,
   "metadata": {},
   "outputs": [],
   "source": [
    "pickle.dump(clf, open(\"../pickle/clf.pickle\", \"wb\"))"
   ]
  },
  {
   "cell_type": "code",
   "execution_count": 38,
   "metadata": {},
   "outputs": [],
   "source": [
    "pickle_model = pickle.load(open(\"../pickle/clf.pickle\", 'rb'))"
   ]
  },
  {
   "cell_type": "markdown",
   "metadata": {},
   "source": [
    "# Prediction"
   ]
  },
  {
   "cell_type": "code",
   "execution_count": 39,
   "metadata": {},
   "outputs": [],
   "source": [
    "str1 = \"@canelo28969897 @ItsCandyyyyyyy @DiamondRhona @darrel30901325 @Noblenosey Don’t nobody want no damn white man ew &amp;… https://t.co/cuzxJAzFGL\" \n",
    "str2 = \"@user lol speak for your own hazara(mongol) people who have nothing to do with ethnic afghans (nor genetical\\u2026 @URL\"\n",
    "str3 = \"i am going to the store to get some broccoli and cheese, any suggestions on cheese?\"\n"
   ]
  },
  {
   "cell_type": "code",
   "execution_count": 40,
   "metadata": {},
   "outputs": [],
   "source": [
    "def preprocess_tweet(tweet):\n",
    "    result = re.sub(r'(RT\\s@[A-Za-z]+[A-Za-z0-9-_]+)', '', tweet)\n",
    "    result = re.sub(r'(@[A-Za-z0-9-_]+)', '', result)\n",
    "    result = re.sub(r'http\\S+', '', result)\n",
    "    result = re.sub(r'bit.ly/\\S+', '', result) \n",
    "    result = re.sub(r'&[\\S]+?;', '', result)\n",
    "    result = re.sub(r'#', ' ', result)\n",
    "    result = re.sub(r'[^\\w\\s]', r'', result)    \n",
    "    result = re.sub(r'\\w*\\d\\w*', r'', result)\n",
    "    result = re.sub(r'\\s\\s+', ' ', result)\n",
    "    result = re.sub(r'(\\A\\s+|\\s+\\Z)', '', result)\n",
    "    processed = tokenize(result)\n",
    "    lst = []\n",
    "    lst.append(processed)\n",
    "    return lst "
   ]
  },
  {
   "cell_type": "code",
   "execution_count": 41,
   "metadata": {},
   "outputs": [
    {
     "data": {
      "text/plain": [
       "['dont want damn white man']"
      ]
     },
     "execution_count": 41,
     "metadata": {},
     "output_type": "execute_result"
    }
   ],
   "source": [
    "str_1 = preprocess_tweet(str1)\n",
    "str_1"
   ]
  },
  {
   "cell_type": "code",
   "execution_count": 42,
   "metadata": {},
   "outputs": [
    {
     "data": {
      "text/plain": [
       "<1x20249 sparse matrix of type '<class 'numpy.float64'>'\n",
       "\twith 5 stored elements in Compressed Sparse Row format>"
      ]
     },
     "execution_count": 42,
     "metadata": {},
     "output_type": "execute_result"
    }
   ],
   "source": [
    "vec_1 = vec.transform(str_1)\n",
    "vec_1"
   ]
  },
  {
   "cell_type": "code",
   "execution_count": 43,
   "metadata": {},
   "outputs": [
    {
     "data": {
      "text/plain": [
       "array([1])"
      ]
     },
     "execution_count": 43,
     "metadata": {},
     "output_type": "execute_result"
    }
   ],
   "source": [
    "pred_1 = clf.predict(vec_1)\n",
    "pred_1"
   ]
  },
  {
   "cell_type": "code",
   "execution_count": 44,
   "metadata": {},
   "outputs": [
    {
     "name": "stdout",
     "output_type": "stream",
     "text": [
      "[0.83912502]\n"
     ]
    }
   ],
   "source": [
    "prob_1 = clf.predict_proba(vec_1)[:,1]\n",
    "print(prob_1)"
   ]
  },
  {
   "cell_type": "code",
   "execution_count": 45,
   "metadata": {},
   "outputs": [
    {
     "name": "stdout",
     "output_type": "stream",
     "text": [
      "[0.16087498]\n"
     ]
    }
   ],
   "source": [
    "prob_0 = clf.predict_proba(vec_1)[:,0]\n",
    "print(prob_0)"
   ]
  },
  {
   "cell_type": "code",
   "execution_count": 46,
   "metadata": {},
   "outputs": [
    {
     "name": "stdout",
     "output_type": "stream",
     "text": [
      "Why you gotta be so hateful?\n"
     ]
    }
   ],
   "source": [
    "mapping = {0: 'Same tweet different day', 1: 'Why you gotta be so hateful?'}\n",
    "print(mapping[pred_1[0]])"
   ]
  },
  {
   "cell_type": "code",
   "execution_count": 66,
   "metadata": {},
   "outputs": [
    {
     "name": "stdout",
     "output_type": "stream",
     "text": [
      "Classification:  1\n",
      "Probability:  0.8676186630332309\n",
      "Message;  Why you gotta be so hateful?\n"
     ]
    }
   ],
   "source": [
    "str_2 = preprocess_tweet(str2)\n",
    "vec_2 = vec.transform(str_2)\n",
    "pred_2 = clf.predict(vec_2)\n",
    "print(\"Classification: \", pred_2[0])\n",
    "prob_2 = clf.predict_proba(vec_2)[:,1]\n",
    "print(\"Probability: \", prob_2[0])\n",
    "print(\"Message; \", mapping[pred_2[0]])"
   ]
  }
 ],
 "metadata": {
  "interpreter": {
   "hash": "2dae15697befd73af0f33831e00ff02794dd0eed0fba64d9d4b34228c1c061a2"
  },
  "kernelspec": {
   "display_name": "Python 3.7.10 64-bit ('dl-env': conda)",
   "name": "python3"
  },
  "language_info": {
   "codemirror_mode": {
    "name": "ipython",
    "version": 3
   },
   "file_extension": ".py",
   "mimetype": "text/x-python",
   "name": "python",
   "nbconvert_exporter": "python",
   "pygments_lexer": "ipython3",
   "version": "3.7.10"
  },
  "orig_nbformat": 4
 },
 "nbformat": 4,
 "nbformat_minor": 2
}
