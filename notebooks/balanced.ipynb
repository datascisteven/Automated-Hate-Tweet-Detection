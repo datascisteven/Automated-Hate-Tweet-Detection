{
 "metadata": {
  "language_info": {
   "codemirror_mode": {
    "name": "ipython",
    "version": 3
   },
   "file_extension": ".py",
   "mimetype": "text/x-python",
   "name": "python",
   "nbconvert_exporter": "python",
   "pygments_lexer": "ipython3",
   "version": "3.9.2"
  },
  "orig_nbformat": 2,
  "kernelspec": {
   "name": "python392jvsc74a57bd080773cdecc613a186b9eac051636553d2ff0f99c57590601666ed713bd5d0256",
   "display_name": "Python 3.9.2 64-bit ('learn-env': conda)"
  }
 },
 "nbformat": 4,
 "nbformat_minor": 2,
 "cells": [
  {
   "source": [
    "# Importing Packages"
   ],
   "cell_type": "markdown",
   "metadata": {}
  },
  {
   "cell_type": "code",
   "execution_count": 2,
   "metadata": {},
   "outputs": [],
   "source": [
    "import pandas as pd\n",
    "import numpy as np\n",
    "import pickle\n",
    "import re\n",
    "\n",
    "%reload_ext autoreload\n",
    "%autoreload 2\n",
    "import sys\n",
    "sys.path.append(\"../py\")\n",
    "import utils\n",
    "import mgp"
   ]
  },
  {
   "source": [
    "# Importing Datasets"
   ],
   "cell_type": "markdown",
   "metadata": {}
  },
  {
   "source": [
    "## Aristotle Dataset"
   ],
   "cell_type": "markdown",
   "metadata": {}
  },
  {
   "cell_type": "code",
   "execution_count": 3,
   "metadata": {},
   "outputs": [
    {
     "output_type": "execute_result",
     "data": {
      "text/plain": [
       "                    created_at  \\\n",
       "0     2017-04-07T19:42:40.000Z   \n",
       "1     2017-04-06T21:39:45.000Z   \n",
       "2     2017-03-31T13:35:20.000Z   \n",
       "3     2017-04-06T20:58:20.000Z   \n",
       "4     2017-04-03T00:00:48.000Z   \n",
       "...                        ...   \n",
       "1739  2017-04-08T13:25:50.000Z   \n",
       "1740  2017-04-04T17:42:11.000Z   \n",
       "1741  2017-04-05T17:26:51.000Z   \n",
       "1742  2017-04-04T13:06:00.000Z   \n",
       "1743  2017-04-05T14:51:08.000Z   \n",
       "\n",
       "                                                   text                  id  \\\n",
       "0     I hate er chase because if the Bitch that work...  850433664890544128   \n",
       "1     RT @nyctophil3: Pineapples do not belong on pi...  850100742035836929   \n",
       "2     Niggas keep talking about women wearing weave ...  847804507367100416   \n",
       "3     @vappywave idiot that's not gonna work. you go...  850090319165050880   \n",
       "4     RT @ayevonnn: bruh i fucking hate people like ...  848686686930382848   \n",
       "...                                                 ...                 ...   \n",
       "1739  Baekhyun won 'Most Popular Artist of Korea'\\n\\...  850701219568001025   \n",
       "1740  #TripleTalaqArrest 2fgt dis social menace #Tri...  849316180670259205   \n",
       "1741  White nationalists' latest tactic to recruit c...  849674709763358720   \n",
       "1742  We are in a comfortable lead fight against gal...  849246676854484992   \n",
       "1743  Took him less than a minute...!! Gutless grub!...  849635522389651456   \n",
       "\n",
       "                                         public_metrics  \\\n",
       "0     {'retweet_count': 0, 'reply_count': 0, 'like_c...   \n",
       "1     {'retweet_count': 5, 'reply_count': 0, 'like_c...   \n",
       "2     {'retweet_count': 1, 'reply_count': 0, 'like_c...   \n",
       "3     {'retweet_count': 0, 'reply_count': 1, 'like_c...   \n",
       "4     {'retweet_count': 5, 'reply_count': 0, 'like_c...   \n",
       "...                                                 ...   \n",
       "1739  {'retweet_count': 0, 'reply_count': 0, 'like_c...   \n",
       "1740  {'retweet_count': 0, 'reply_count': 1, 'like_c...   \n",
       "1741  {'retweet_count': 0, 'reply_count': 0, 'like_c...   \n",
       "1742  {'retweet_count': 1, 'reply_count': 0, 'like_c...   \n",
       "1743  {'retweet_count': 0, 'reply_count': 1, 'like_c...   \n",
       "\n",
       "                                               entities  geo  \n",
       "0                                                   NaN  NaN  \n",
       "1     {'mentions': [{'start': 3, 'end': 14, 'usernam...  NaN  \n",
       "2                                                   NaN  NaN  \n",
       "3     {'mentions': [{'start': 0, 'end': 10, 'usernam...  NaN  \n",
       "4     {'urls': [{'start': 53, 'end': 76, 'url': 'htt...  NaN  \n",
       "...                                                 ...  ...  \n",
       "1739  {'annotations': [{'start': 0, 'end': 7, 'proba...  NaN  \n",
       "1740  {'hashtags': [{'start': 0, 'end': 18, 'tag': '...  NaN  \n",
       "1741  {'urls': [{'start': 85, 'end': 108, 'url': 'ht...  NaN  \n",
       "1742  {'hashtags': [{'start': 53, 'end': 66, 'tag': ...  NaN  \n",
       "1743  {'urls': [{'start': 121, 'end': 144, 'url': 'h...  NaN  \n",
       "\n",
       "[1744 rows x 6 columns]"
      ],
      "text/html": "<div>\n<style scoped>\n    .dataframe tbody tr th:only-of-type {\n        vertical-align: middle;\n    }\n\n    .dataframe tbody tr th {\n        vertical-align: top;\n    }\n\n    .dataframe thead th {\n        text-align: right;\n    }\n</style>\n<table border=\"1\" class=\"dataframe\">\n  <thead>\n    <tr style=\"text-align: right;\">\n      <th></th>\n      <th>created_at</th>\n      <th>text</th>\n      <th>id</th>\n      <th>public_metrics</th>\n      <th>entities</th>\n      <th>geo</th>\n    </tr>\n  </thead>\n  <tbody>\n    <tr>\n      <th>0</th>\n      <td>2017-04-07T19:42:40.000Z</td>\n      <td>I hate er chase because if the Bitch that work...</td>\n      <td>850433664890544128</td>\n      <td>{'retweet_count': 0, 'reply_count': 0, 'like_c...</td>\n      <td>NaN</td>\n      <td>NaN</td>\n    </tr>\n    <tr>\n      <th>1</th>\n      <td>2017-04-06T21:39:45.000Z</td>\n      <td>RT @nyctophil3: Pineapples do not belong on pi...</td>\n      <td>850100742035836929</td>\n      <td>{'retweet_count': 5, 'reply_count': 0, 'like_c...</td>\n      <td>{'mentions': [{'start': 3, 'end': 14, 'usernam...</td>\n      <td>NaN</td>\n    </tr>\n    <tr>\n      <th>2</th>\n      <td>2017-03-31T13:35:20.000Z</td>\n      <td>Niggas keep talking about women wearing weave ...</td>\n      <td>847804507367100416</td>\n      <td>{'retweet_count': 1, 'reply_count': 0, 'like_c...</td>\n      <td>NaN</td>\n      <td>NaN</td>\n    </tr>\n    <tr>\n      <th>3</th>\n      <td>2017-04-06T20:58:20.000Z</td>\n      <td>@vappywave idiot that's not gonna work. you go...</td>\n      <td>850090319165050880</td>\n      <td>{'retweet_count': 0, 'reply_count': 1, 'like_c...</td>\n      <td>{'mentions': [{'start': 0, 'end': 10, 'usernam...</td>\n      <td>NaN</td>\n    </tr>\n    <tr>\n      <th>4</th>\n      <td>2017-04-03T00:00:48.000Z</td>\n      <td>RT @ayevonnn: bruh i fucking hate people like ...</td>\n      <td>848686686930382848</td>\n      <td>{'retweet_count': 5, 'reply_count': 0, 'like_c...</td>\n      <td>{'urls': [{'start': 53, 'end': 76, 'url': 'htt...</td>\n      <td>NaN</td>\n    </tr>\n    <tr>\n      <th>...</th>\n      <td>...</td>\n      <td>...</td>\n      <td>...</td>\n      <td>...</td>\n      <td>...</td>\n      <td>...</td>\n    </tr>\n    <tr>\n      <th>1739</th>\n      <td>2017-04-08T13:25:50.000Z</td>\n      <td>Baekhyun won 'Most Popular Artist of Korea'\\n\\...</td>\n      <td>850701219568001025</td>\n      <td>{'retweet_count': 0, 'reply_count': 0, 'like_c...</td>\n      <td>{'annotations': [{'start': 0, 'end': 7, 'proba...</td>\n      <td>NaN</td>\n    </tr>\n    <tr>\n      <th>1740</th>\n      <td>2017-04-04T17:42:11.000Z</td>\n      <td>#TripleTalaqArrest 2fgt dis social menace #Tri...</td>\n      <td>849316180670259205</td>\n      <td>{'retweet_count': 0, 'reply_count': 1, 'like_c...</td>\n      <td>{'hashtags': [{'start': 0, 'end': 18, 'tag': '...</td>\n      <td>NaN</td>\n    </tr>\n    <tr>\n      <th>1741</th>\n      <td>2017-04-05T17:26:51.000Z</td>\n      <td>White nationalists' latest tactic to recruit c...</td>\n      <td>849674709763358720</td>\n      <td>{'retweet_count': 0, 'reply_count': 0, 'like_c...</td>\n      <td>{'urls': [{'start': 85, 'end': 108, 'url': 'ht...</td>\n      <td>NaN</td>\n    </tr>\n    <tr>\n      <th>1742</th>\n      <td>2017-04-04T13:06:00.000Z</td>\n      <td>We are in a comfortable lead fight against gal...</td>\n      <td>849246676854484992</td>\n      <td>{'retweet_count': 1, 'reply_count': 0, 'like_c...</td>\n      <td>{'hashtags': [{'start': 53, 'end': 66, 'tag': ...</td>\n      <td>NaN</td>\n    </tr>\n    <tr>\n      <th>1743</th>\n      <td>2017-04-05T14:51:08.000Z</td>\n      <td>Took him less than a minute...!! Gutless grub!...</td>\n      <td>849635522389651456</td>\n      <td>{'retweet_count': 0, 'reply_count': 1, 'like_c...</td>\n      <td>{'urls': [{'start': 121, 'end': 144, 'url': 'h...</td>\n      <td>NaN</td>\n    </tr>\n  </tbody>\n</table>\n<p>1744 rows × 6 columns</p>\n</div>"
     },
     "metadata": {},
     "execution_count": 3
    }
   ],
   "source": [
    "df1 = pickle.load(open(\"../pickle/aristotle_2.pickle\", \"rb\"))\n",
    "df1"
   ]
  },
  {
   "cell_type": "code",
   "execution_count": 13,
   "metadata": {},
   "outputs": [
    {
     "output_type": "execute_result",
     "data": {
      "text/plain": [
       "                                                text  label\n",
       "0  I hate er chase because if the Bitch that work...      1\n",
       "1  RT @nyctophil3: Pineapples do not belong on pi...      1\n",
       "2  Niggas keep talking about women wearing weave ...      1\n",
       "3  @vappywave idiot that's not gonna work. you go...      1\n",
       "4  RT @ayevonnn: bruh i fucking hate people like ...      1"
      ],
      "text/html": "<div>\n<style scoped>\n    .dataframe tbody tr th:only-of-type {\n        vertical-align: middle;\n    }\n\n    .dataframe tbody tr th {\n        vertical-align: top;\n    }\n\n    .dataframe thead th {\n        text-align: right;\n    }\n</style>\n<table border=\"1\" class=\"dataframe\">\n  <thead>\n    <tr style=\"text-align: right;\">\n      <th></th>\n      <th>text</th>\n      <th>label</th>\n    </tr>\n  </thead>\n  <tbody>\n    <tr>\n      <th>0</th>\n      <td>I hate er chase because if the Bitch that work...</td>\n      <td>1</td>\n    </tr>\n    <tr>\n      <th>1</th>\n      <td>RT @nyctophil3: Pineapples do not belong on pi...</td>\n      <td>1</td>\n    </tr>\n    <tr>\n      <th>2</th>\n      <td>Niggas keep talking about women wearing weave ...</td>\n      <td>1</td>\n    </tr>\n    <tr>\n      <th>3</th>\n      <td>@vappywave idiot that's not gonna work. you go...</td>\n      <td>1</td>\n    </tr>\n    <tr>\n      <th>4</th>\n      <td>RT @ayevonnn: bruh i fucking hate people like ...</td>\n      <td>1</td>\n    </tr>\n  </tbody>\n</table>\n</div>"
     },
     "metadata": {},
     "execution_count": 13
    }
   ],
   "source": [
    "df1['label'] = 1\n",
    "df1 = df1.drop(columns=['author_id', 'created_at', 'id'], axis=1)\n",
    "df1.head()"
   ]
  },
  {
   "source": [
    "## Copenhagen Dataset"
   ],
   "cell_type": "markdown",
   "metadata": {}
  },
  {
   "cell_type": "code",
   "execution_count": 5,
   "metadata": {},
   "outputs": [
    {
     "output_type": "execute_result",
     "data": {
      "text/plain": [
       "                                                   text   author_id  \\\n",
       "0     Drasko they didn't cook half a bird you idiot ...   110114783   \n",
       "1     Hopefully someone cooks Drasko in the next ep ...    38650214   \n",
       "2     of course you were born in serbia...you're as ...  2587278392   \n",
       "3     These girls are the equivalent of the irritati...  2601524623   \n",
       "4     RT @YesYoureRacist: At least you're only a tin...   930620467   \n",
       "...                                                 ...         ...   \n",
       "2734  RT @Superjutah: @MT8_9 £34,000 is £9000 above ...  2756873076   \n",
       "2735  RT @DufresneFrank: “@gabystama: @DufresneFrank...  2756873076   \n",
       "2736  RT @BoycottBrandy: @ActionFlickDoc this person...  2756873076   \n",
       "2737  RT @Lyall: Patriarchy™ will expel me if I divu...  2756873076   \n",
       "2738  RT @AsheSchow: Women’s Studies: Learn how to t...  2756873076   \n",
       "\n",
       "                      id                created_at  \n",
       "0     572341498827522049  2015-03-02T10:23:41.000Z  \n",
       "1     572340476503724032  2015-03-02T10:19:37.000Z  \n",
       "2     572334712804384768  2015-03-02T09:56:43.000Z  \n",
       "3     572332655397629952  2015-03-02T09:48:33.000Z  \n",
       "4     446460991396917248  2014-03-20T01:39:29.000Z  \n",
       "...                  ...                       ...  \n",
       "2734  569990621315919872  2015-02-23T22:42:08.000Z  \n",
       "2735  570244879265206272  2015-02-24T15:32:28.000Z  \n",
       "2736  571013698111860736  2015-02-26T18:27:29.000Z  \n",
       "2737  571304517930774528  2015-02-27T13:43:06.000Z  \n",
       "2738  575664315627216896  2015-03-11T14:27:22.000Z  \n",
       "\n",
       "[2739 rows x 4 columns]"
      ],
      "text/html": "<div>\n<style scoped>\n    .dataframe tbody tr th:only-of-type {\n        vertical-align: middle;\n    }\n\n    .dataframe tbody tr th {\n        vertical-align: top;\n    }\n\n    .dataframe thead th {\n        text-align: right;\n    }\n</style>\n<table border=\"1\" class=\"dataframe\">\n  <thead>\n    <tr style=\"text-align: right;\">\n      <th></th>\n      <th>text</th>\n      <th>author_id</th>\n      <th>id</th>\n      <th>created_at</th>\n    </tr>\n  </thead>\n  <tbody>\n    <tr>\n      <th>0</th>\n      <td>Drasko they didn't cook half a bird you idiot ...</td>\n      <td>110114783</td>\n      <td>572341498827522049</td>\n      <td>2015-03-02T10:23:41.000Z</td>\n    </tr>\n    <tr>\n      <th>1</th>\n      <td>Hopefully someone cooks Drasko in the next ep ...</td>\n      <td>38650214</td>\n      <td>572340476503724032</td>\n      <td>2015-03-02T10:19:37.000Z</td>\n    </tr>\n    <tr>\n      <th>2</th>\n      <td>of course you were born in serbia...you're as ...</td>\n      <td>2587278392</td>\n      <td>572334712804384768</td>\n      <td>2015-03-02T09:56:43.000Z</td>\n    </tr>\n    <tr>\n      <th>3</th>\n      <td>These girls are the equivalent of the irritati...</td>\n      <td>2601524623</td>\n      <td>572332655397629952</td>\n      <td>2015-03-02T09:48:33.000Z</td>\n    </tr>\n    <tr>\n      <th>4</th>\n      <td>RT @YesYoureRacist: At least you're only a tin...</td>\n      <td>930620467</td>\n      <td>446460991396917248</td>\n      <td>2014-03-20T01:39:29.000Z</td>\n    </tr>\n    <tr>\n      <th>...</th>\n      <td>...</td>\n      <td>...</td>\n      <td>...</td>\n      <td>...</td>\n    </tr>\n    <tr>\n      <th>2734</th>\n      <td>RT @Superjutah: @MT8_9 £34,000 is £9000 above ...</td>\n      <td>2756873076</td>\n      <td>569990621315919872</td>\n      <td>2015-02-23T22:42:08.000Z</td>\n    </tr>\n    <tr>\n      <th>2735</th>\n      <td>RT @DufresneFrank: “@gabystama: @DufresneFrank...</td>\n      <td>2756873076</td>\n      <td>570244879265206272</td>\n      <td>2015-02-24T15:32:28.000Z</td>\n    </tr>\n    <tr>\n      <th>2736</th>\n      <td>RT @BoycottBrandy: @ActionFlickDoc this person...</td>\n      <td>2756873076</td>\n      <td>571013698111860736</td>\n      <td>2015-02-26T18:27:29.000Z</td>\n    </tr>\n    <tr>\n      <th>2737</th>\n      <td>RT @Lyall: Patriarchy™ will expel me if I divu...</td>\n      <td>2756873076</td>\n      <td>571304517930774528</td>\n      <td>2015-02-27T13:43:06.000Z</td>\n    </tr>\n    <tr>\n      <th>2738</th>\n      <td>RT @AsheSchow: Women’s Studies: Learn how to t...</td>\n      <td>2756873076</td>\n      <td>575664315627216896</td>\n      <td>2015-03-11T14:27:22.000Z</td>\n    </tr>\n  </tbody>\n</table>\n<p>2739 rows × 4 columns</p>\n</div>"
     },
     "metadata": {},
     "execution_count": 5
    }
   ],
   "source": [
    "df2 = pickle.load(open(\"../pickle/copenhagen_2.pickle\", \"rb\"))\n",
    "df2"
   ]
  },
  {
   "cell_type": "code",
   "execution_count": 9,
   "metadata": {},
   "outputs": [
    {
     "output_type": "execute_result",
     "data": {
      "text/plain": [
       "                                                text  label\n",
       "0  Drasko they didn't cook half a bird you idiot ...      1\n",
       "1  Hopefully someone cooks Drasko in the next ep ...      1\n",
       "2  of course you were born in serbia...you're as ...      1\n",
       "3  These girls are the equivalent of the irritati...      1\n",
       "4  RT @YesYoureRacist: At least you're only a tin...      1"
      ],
      "text/html": "<div>\n<style scoped>\n    .dataframe tbody tr th:only-of-type {\n        vertical-align: middle;\n    }\n\n    .dataframe tbody tr th {\n        vertical-align: top;\n    }\n\n    .dataframe thead th {\n        text-align: right;\n    }\n</style>\n<table border=\"1\" class=\"dataframe\">\n  <thead>\n    <tr style=\"text-align: right;\">\n      <th></th>\n      <th>text</th>\n      <th>label</th>\n    </tr>\n  </thead>\n  <tbody>\n    <tr>\n      <th>0</th>\n      <td>Drasko they didn't cook half a bird you idiot ...</td>\n      <td>1</td>\n    </tr>\n    <tr>\n      <th>1</th>\n      <td>Hopefully someone cooks Drasko in the next ep ...</td>\n      <td>1</td>\n    </tr>\n    <tr>\n      <th>2</th>\n      <td>of course you were born in serbia...you're as ...</td>\n      <td>1</td>\n    </tr>\n    <tr>\n      <th>3</th>\n      <td>These girls are the equivalent of the irritati...</td>\n      <td>1</td>\n    </tr>\n    <tr>\n      <th>4</th>\n      <td>RT @YesYoureRacist: At least you're only a tin...</td>\n      <td>1</td>\n    </tr>\n  </tbody>\n</table>\n</div>"
     },
     "metadata": {},
     "execution_count": 9
    }
   ],
   "source": [
    "df2['label'] = 1\n",
    "df2 = df2.drop(columns=['id', 'author_id', 'created_at'], axis=1)\n",
    "df2.head()"
   ]
  },
  {
   "source": [
    "## Georgia Dataset"
   ],
   "cell_type": "markdown",
   "metadata": {}
  },
  {
   "cell_type": "code",
   "execution_count": 11,
   "metadata": {},
   "outputs": [
    {
     "output_type": "execute_result",
     "data": {
      "text/plain": [
       "                 author_id                   id  \\\n",
       "0       884055068265164801  1240976182494908416   \n",
       "1      1136405401770106880  1238239331879464960   \n",
       "2                907414928  1241373862756888577   \n",
       "3      1134698470760017920  1238588936391290880   \n",
       "4                 35525602  1240774162760617984   \n",
       "...                    ...                  ...   \n",
       "17370           3193940959  1249362085248524289   \n",
       "17371            437970401  1240390179048824833   \n",
       "17372            409760405  1246240273455296512   \n",
       "17373           1279408782  1242810006715527168   \n",
       "17374  1088917571951357952  1229759936147738625   \n",
       "\n",
       "                                                    text  \\\n",
       "0      Fuck the ding dongs. Fuck the ching chongs. An...   \n",
       "1      Fuck china fuck China fuck China\\nFuck China f...   \n",
       "2      I do n’t believe this is eating bats, which is...   \n",
       "3      @Peoples_Pundit CCP Wuhan Virus, more Chinese ...   \n",
       "4      Dr. Sean Lin said call it what it is - #ChinaV...   \n",
       "...                                                  ...   \n",
       "17370  @Oceanle15689731 corona is from China because ...   \n",
       "17371  President Donald Trump and Congress should tel...   \n",
       "17372  @almostzdq @cgtnamerica @CGTNOfficial Hard to ...   \n",
       "17373  @MarshaBlackburn @RepJimBanks @teammoulton #Ch...   \n",
       "17374  @XposeTrophyHunt @SharonHoole The coronavirus ...   \n",
       "\n",
       "                     created_at  \n",
       "0      2020-03-20T12:19:12.000Z  \n",
       "1      2020-03-12T23:03:56.000Z  \n",
       "2      2020-03-21T14:39:27.000Z  \n",
       "3      2020-03-13T22:13:08.000Z  \n",
       "4      2020-03-19T22:56:27.000Z  \n",
       "...                         ...  \n",
       "17370  2020-04-12T15:41:47.000Z  \n",
       "17371  2020-03-18T21:30:38.000Z  \n",
       "17372  2020-04-04T00:56:49.000Z  \n",
       "17373  2020-03-25T13:46:10.000Z  \n",
       "17374  2020-02-18T13:29:51.000Z  \n",
       "\n",
       "[17375 rows x 4 columns]"
      ],
      "text/html": "<div>\n<style scoped>\n    .dataframe tbody tr th:only-of-type {\n        vertical-align: middle;\n    }\n\n    .dataframe tbody tr th {\n        vertical-align: top;\n    }\n\n    .dataframe thead th {\n        text-align: right;\n    }\n</style>\n<table border=\"1\" class=\"dataframe\">\n  <thead>\n    <tr style=\"text-align: right;\">\n      <th></th>\n      <th>author_id</th>\n      <th>id</th>\n      <th>text</th>\n      <th>created_at</th>\n    </tr>\n  </thead>\n  <tbody>\n    <tr>\n      <th>0</th>\n      <td>884055068265164801</td>\n      <td>1240976182494908416</td>\n      <td>Fuck the ding dongs. Fuck the ching chongs. An...</td>\n      <td>2020-03-20T12:19:12.000Z</td>\n    </tr>\n    <tr>\n      <th>1</th>\n      <td>1136405401770106880</td>\n      <td>1238239331879464960</td>\n      <td>Fuck china fuck China fuck China\\nFuck China f...</td>\n      <td>2020-03-12T23:03:56.000Z</td>\n    </tr>\n    <tr>\n      <th>2</th>\n      <td>907414928</td>\n      <td>1241373862756888577</td>\n      <td>I do n’t believe this is eating bats, which is...</td>\n      <td>2020-03-21T14:39:27.000Z</td>\n    </tr>\n    <tr>\n      <th>3</th>\n      <td>1134698470760017920</td>\n      <td>1238588936391290880</td>\n      <td>@Peoples_Pundit CCP Wuhan Virus, more Chinese ...</td>\n      <td>2020-03-13T22:13:08.000Z</td>\n    </tr>\n    <tr>\n      <th>4</th>\n      <td>35525602</td>\n      <td>1240774162760617984</td>\n      <td>Dr. Sean Lin said call it what it is - #ChinaV...</td>\n      <td>2020-03-19T22:56:27.000Z</td>\n    </tr>\n    <tr>\n      <th>...</th>\n      <td>...</td>\n      <td>...</td>\n      <td>...</td>\n      <td>...</td>\n    </tr>\n    <tr>\n      <th>17370</th>\n      <td>3193940959</td>\n      <td>1249362085248524289</td>\n      <td>@Oceanle15689731 corona is from China because ...</td>\n      <td>2020-04-12T15:41:47.000Z</td>\n    </tr>\n    <tr>\n      <th>17371</th>\n      <td>437970401</td>\n      <td>1240390179048824833</td>\n      <td>President Donald Trump and Congress should tel...</td>\n      <td>2020-03-18T21:30:38.000Z</td>\n    </tr>\n    <tr>\n      <th>17372</th>\n      <td>409760405</td>\n      <td>1246240273455296512</td>\n      <td>@almostzdq @cgtnamerica @CGTNOfficial Hard to ...</td>\n      <td>2020-04-04T00:56:49.000Z</td>\n    </tr>\n    <tr>\n      <th>17373</th>\n      <td>1279408782</td>\n      <td>1242810006715527168</td>\n      <td>@MarshaBlackburn @RepJimBanks @teammoulton #Ch...</td>\n      <td>2020-03-25T13:46:10.000Z</td>\n    </tr>\n    <tr>\n      <th>17374</th>\n      <td>1088917571951357952</td>\n      <td>1229759936147738625</td>\n      <td>@XposeTrophyHunt @SharonHoole The coronavirus ...</td>\n      <td>2020-02-18T13:29:51.000Z</td>\n    </tr>\n  </tbody>\n</table>\n<p>17375 rows × 4 columns</p>\n</div>"
     },
     "metadata": {},
     "execution_count": 11
    }
   ],
   "source": [
    "df3 = pickle.load(open(\"../pickle/georgia.pickle\", \"rb\"))\n",
    "df3"
   ]
  },
  {
   "cell_type": "code",
   "execution_count": 14,
   "metadata": {},
   "outputs": [
    {
     "output_type": "execute_result",
     "data": {
      "text/plain": [
       "                                                text  label\n",
       "0  Fuck the ding dongs. Fuck the ching chongs. An...      1\n",
       "1  Fuck china fuck China fuck China\\nFuck China f...      1\n",
       "2  I do n’t believe this is eating bats, which is...      1\n",
       "3  @Peoples_Pundit CCP Wuhan Virus, more Chinese ...      1\n",
       "4  Dr. Sean Lin said call it what it is - #ChinaV...      1"
      ],
      "text/html": "<div>\n<style scoped>\n    .dataframe tbody tr th:only-of-type {\n        vertical-align: middle;\n    }\n\n    .dataframe tbody tr th {\n        vertical-align: top;\n    }\n\n    .dataframe thead th {\n        text-align: right;\n    }\n</style>\n<table border=\"1\" class=\"dataframe\">\n  <thead>\n    <tr style=\"text-align: right;\">\n      <th></th>\n      <th>text</th>\n      <th>label</th>\n    </tr>\n  </thead>\n  <tbody>\n    <tr>\n      <th>0</th>\n      <td>Fuck the ding dongs. Fuck the ching chongs. An...</td>\n      <td>1</td>\n    </tr>\n    <tr>\n      <th>1</th>\n      <td>Fuck china fuck China fuck China\\nFuck China f...</td>\n      <td>1</td>\n    </tr>\n    <tr>\n      <th>2</th>\n      <td>I do n’t believe this is eating bats, which is...</td>\n      <td>1</td>\n    </tr>\n    <tr>\n      <th>3</th>\n      <td>@Peoples_Pundit CCP Wuhan Virus, more Chinese ...</td>\n      <td>1</td>\n    </tr>\n    <tr>\n      <th>4</th>\n      <td>Dr. Sean Lin said call it what it is - #ChinaV...</td>\n      <td>1</td>\n    </tr>\n  </tbody>\n</table>\n</div>"
     },
     "metadata": {},
     "execution_count": 14
    }
   ],
   "source": [
    "df3['label'] = 1\n",
    "df3 = df3.drop(columns=['id', 'author_id', 'created_at'], axis=1)\n",
    "df3.head()"
   ]
  },
  {
   "source": [
    "## Original Dataset"
   ],
   "cell_type": "markdown",
   "metadata": {}
  },
  {
   "cell_type": "code",
   "execution_count": 15,
   "metadata": {},
   "outputs": [
    {
     "output_type": "execute_result",
     "data": {
      "text/plain": [
       "   label                                               text\n",
       "0      2  !!! RT @mayasolovely: As a woman you shouldn't...\n",
       "1      1  !!!!! RT @mleew17: boy dats cold...tyga dwn ba...\n",
       "2      1  !!!!!!! RT @UrKindOfBrand Dawg!!!! RT @80sbaby...\n",
       "3      1  !!!!!!!!! RT @C_G_Anderson: @viva_based she lo...\n",
       "4      1  !!!!!!!!!!!!! RT @ShenikaRoberts: The shit you..."
      ],
      "text/html": "<div>\n<style scoped>\n    .dataframe tbody tr th:only-of-type {\n        vertical-align: middle;\n    }\n\n    .dataframe tbody tr th {\n        vertical-align: top;\n    }\n\n    .dataframe thead th {\n        text-align: right;\n    }\n</style>\n<table border=\"1\" class=\"dataframe\">\n  <thead>\n    <tr style=\"text-align: right;\">\n      <th></th>\n      <th>label</th>\n      <th>text</th>\n    </tr>\n  </thead>\n  <tbody>\n    <tr>\n      <th>0</th>\n      <td>2</td>\n      <td>!!! RT @mayasolovely: As a woman you shouldn't...</td>\n    </tr>\n    <tr>\n      <th>1</th>\n      <td>1</td>\n      <td>!!!!! RT @mleew17: boy dats cold...tyga dwn ba...</td>\n    </tr>\n    <tr>\n      <th>2</th>\n      <td>1</td>\n      <td>!!!!!!! RT @UrKindOfBrand Dawg!!!! RT @80sbaby...</td>\n    </tr>\n    <tr>\n      <th>3</th>\n      <td>1</td>\n      <td>!!!!!!!!! RT @C_G_Anderson: @viva_based she lo...</td>\n    </tr>\n    <tr>\n      <th>4</th>\n      <td>1</td>\n      <td>!!!!!!!!!!!!! RT @ShenikaRoberts: The shit you...</td>\n    </tr>\n  </tbody>\n</table>\n</div>"
     },
     "metadata": {},
     "execution_count": 15
    }
   ],
   "source": [
    "df4 = pd.read_csv(\"../data/labeled_data.csv\", index_col=0)\n",
    "df4 = df4.drop(columns=['count', 'hate_speech', 'offensive_language', 'neither'], axis=1)\n",
    "df4.columns = ['label', 'text']\n",
    "df4.head()"
   ]
  },
  {
   "cell_type": "code",
   "execution_count": 16,
   "metadata": {},
   "outputs": [
    {
     "output_type": "execute_result",
     "data": {
      "text/plain": [
       "1    19190\n",
       "2     4163\n",
       "0     1430\n",
       "Name: label, dtype: int64"
      ]
     },
     "metadata": {},
     "execution_count": 16
    }
   ],
   "source": [
    "df4.label.value_counts()"
   ]
  },
  {
   "cell_type": "code",
   "execution_count": 17,
   "metadata": {},
   "outputs": [],
   "source": [
    "df4 = df4.replace({'label': {1: 0, 2: 0, 0: 1}})"
   ]
  },
  {
   "cell_type": "code",
   "execution_count": 18,
   "metadata": {},
   "outputs": [
    {
     "output_type": "execute_result",
     "data": {
      "text/plain": [
       "0    23353\n",
       "1     1430\n",
       "Name: label, dtype: int64"
      ]
     },
     "metadata": {},
     "execution_count": 18
    }
   ],
   "source": [
    "df4.label.value_counts()"
   ]
  },
  {
   "cell_type": "code",
   "execution_count": null,
   "metadata": {},
   "outputs": [],
   "source": []
  },
  {
   "source": [
    "# Combining Dataframes"
   ],
   "cell_type": "markdown",
   "metadata": {}
  },
  {
   "cell_type": "code",
   "execution_count": 27,
   "metadata": {},
   "outputs": [
    {
     "output_type": "execute_result",
     "data": {
      "text/plain": [
       "                                                    text  label\n",
       "0      I hate er chase because if the Bitch that work...      1\n",
       "1      RT @nyctophil3: Pineapples do not belong on pi...      1\n",
       "2      Niggas keep talking about women wearing weave ...      1\n",
       "3      @vappywave idiot that's not gonna work. you go...      1\n",
       "4      RT @ayevonnn: bruh i fucking hate people like ...      1\n",
       "...                                                  ...    ...\n",
       "46655  you's a muthaf***in lie &#8220;@LifeAsKing: @2...      0\n",
       "46656  you've gone and broke the wrong heart baby, an...      0\n",
       "46657  young buck wanna eat!!.. dat nigguh like I ain...      0\n",
       "46658              youu got wild bitches tellin you lies      0\n",
       "46659  ~~Ruffled | Ntac Eileen Dahlia - Beautiful col...      0\n",
       "\n",
       "[46660 rows x 2 columns]"
      ],
      "text/html": "<div>\n<style scoped>\n    .dataframe tbody tr th:only-of-type {\n        vertical-align: middle;\n    }\n\n    .dataframe tbody tr th {\n        vertical-align: top;\n    }\n\n    .dataframe thead th {\n        text-align: right;\n    }\n</style>\n<table border=\"1\" class=\"dataframe\">\n  <thead>\n    <tr style=\"text-align: right;\">\n      <th></th>\n      <th>text</th>\n      <th>label</th>\n    </tr>\n  </thead>\n  <tbody>\n    <tr>\n      <th>0</th>\n      <td>I hate er chase because if the Bitch that work...</td>\n      <td>1</td>\n    </tr>\n    <tr>\n      <th>1</th>\n      <td>RT @nyctophil3: Pineapples do not belong on pi...</td>\n      <td>1</td>\n    </tr>\n    <tr>\n      <th>2</th>\n      <td>Niggas keep talking about women wearing weave ...</td>\n      <td>1</td>\n    </tr>\n    <tr>\n      <th>3</th>\n      <td>@vappywave idiot that's not gonna work. you go...</td>\n      <td>1</td>\n    </tr>\n    <tr>\n      <th>4</th>\n      <td>RT @ayevonnn: bruh i fucking hate people like ...</td>\n      <td>1</td>\n    </tr>\n    <tr>\n      <th>...</th>\n      <td>...</td>\n      <td>...</td>\n    </tr>\n    <tr>\n      <th>46655</th>\n      <td>you's a muthaf***in lie &amp;#8220;@LifeAsKing: @2...</td>\n      <td>0</td>\n    </tr>\n    <tr>\n      <th>46656</th>\n      <td>you've gone and broke the wrong heart baby, an...</td>\n      <td>0</td>\n    </tr>\n    <tr>\n      <th>46657</th>\n      <td>young buck wanna eat!!.. dat nigguh like I ain...</td>\n      <td>0</td>\n    </tr>\n    <tr>\n      <th>46658</th>\n      <td>youu got wild bitches tellin you lies</td>\n      <td>0</td>\n    </tr>\n    <tr>\n      <th>46659</th>\n      <td>~~Ruffled | Ntac Eileen Dahlia - Beautiful col...</td>\n      <td>0</td>\n    </tr>\n  </tbody>\n</table>\n<p>46660 rows × 2 columns</p>\n</div>"
     },
     "metadata": {},
     "execution_count": 27
    }
   ],
   "source": [
    "comb = pd.concat([df1, df2, df3, df4], ignore_index=True)\n",
    "comb"
   ]
  },
  {
   "cell_type": "code",
   "execution_count": 28,
   "metadata": {},
   "outputs": [
    {
     "output_type": "execute_result",
     "data": {
      "text/plain": [
       "0    23353\n",
       "1    23307\n",
       "Name: label, dtype: int64"
      ]
     },
     "metadata": {},
     "execution_count": 28
    }
   ],
   "source": [
    "comb.label.value_counts()"
   ]
  },
  {
   "cell_type": "code",
   "execution_count": 29,
   "metadata": {},
   "outputs": [
    {
     "output_type": "execute_result",
     "data": {
      "text/plain": [
       "                                                text  label\n",
       "0  I hate er chase because if the Bitch that work...      1\n",
       "1  RT @nyctophil3: Pineapples do not belong on pi...      1\n",
       "2  Niggas keep talking about women wearing weave ...      1\n",
       "3  @vappywave idiot that's not gonna work. you go...      1\n",
       "4  RT @ayevonnn: bruh i fucking hate people like ...      1"
      ],
      "text/html": "<div>\n<style scoped>\n    .dataframe tbody tr th:only-of-type {\n        vertical-align: middle;\n    }\n\n    .dataframe tbody tr th {\n        vertical-align: top;\n    }\n\n    .dataframe thead th {\n        text-align: right;\n    }\n</style>\n<table border=\"1\" class=\"dataframe\">\n  <thead>\n    <tr style=\"text-align: right;\">\n      <th></th>\n      <th>text</th>\n      <th>label</th>\n    </tr>\n  </thead>\n  <tbody>\n    <tr>\n      <th>0</th>\n      <td>I hate er chase because if the Bitch that work...</td>\n      <td>1</td>\n    </tr>\n    <tr>\n      <th>1</th>\n      <td>RT @nyctophil3: Pineapples do not belong on pi...</td>\n      <td>1</td>\n    </tr>\n    <tr>\n      <th>2</th>\n      <td>Niggas keep talking about women wearing weave ...</td>\n      <td>1</td>\n    </tr>\n    <tr>\n      <th>3</th>\n      <td>@vappywave idiot that's not gonna work. you go...</td>\n      <td>1</td>\n    </tr>\n    <tr>\n      <th>4</th>\n      <td>RT @ayevonnn: bruh i fucking hate people like ...</td>\n      <td>1</td>\n    </tr>\n  </tbody>\n</table>\n</div>"
     },
     "metadata": {},
     "execution_count": 29
    }
   ],
   "source": [
    "comb.head()"
   ]
  },
  {
   "cell_type": "code",
   "execution_count": 38,
   "metadata": {},
   "outputs": [],
   "source": [
    "comb.columns = ['tweet', 'label']"
   ]
  },
  {
   "source": [
    "# Preprocess Tweets"
   ],
   "cell_type": "markdown",
   "metadata": {}
  },
  {
   "cell_type": "code",
   "execution_count": 39,
   "metadata": {},
   "outputs": [
    {
     "output_type": "stream",
     "name": "stdout",
     "text": [
      "Complete. Number of Tweets that have been cleaned and tokenized : 46660\n"
     ]
    }
   ],
   "source": [
    "from tweet_preprocessor import tokenize_tweets\n",
    "tweets_df = tokenize_tweets(comb)"
   ]
  },
  {
   "cell_type": "code",
   "execution_count": 40,
   "metadata": {},
   "outputs": [
    {
     "output_type": "execute_result",
     "data": {
      "text/plain": [
       "                                                   tweet  label  \\\n",
       "0      I hate er chase because if the Bitch that work...      1   \n",
       "1      RT @nyctophil3: Pineapples do not belong on pi...      1   \n",
       "2      Niggas keep talking about women wearing weave ...      1   \n",
       "3      @vappywave idiot that's not gonna work. you go...      1   \n",
       "4      RT @ayevonnn: bruh i fucking hate people like ...      1   \n",
       "...                                                  ...    ...   \n",
       "46655  you's a muthaf***in lie &#8220;@LifeAsKing: @2...      0   \n",
       "46656  you've gone and broke the wrong heart baby, an...      0   \n",
       "46657  young buck wanna eat!!.. dat nigguh like I ain...      0   \n",
       "46658              youu got wild bitches tellin you lies      0   \n",
       "46659  ~~Ruffled | Ntac Eileen Dahlia - Beautiful col...      0   \n",
       "\n",
       "                                                  tokens  \n",
       "0                        hate chase bitch work literally  \n",
       "1                   pineapples belong pizza niggas nasty  \n",
       "2        niggas talk women wear weave sick bitch fro ass  \n",
       "3           idiot gonna work gotta flame stickers faster  \n",
       "4                             bruh fuck hate people like  \n",
       "...                                                  ...  \n",
       "46655  muthaf lie pearl right trash bible scriptures ...  \n",
       "46656      go break wrong heart baby drive redneck crazy  \n",
       "46657  young buck wanna eat dat nigguh like aint fuck...  \n",
       "46658                     youu get wild bitch tellin lie  \n",
       "46659  ruffle ntac eileen dahlia beautiful color comb...  \n",
       "\n",
       "[46660 rows x 3 columns]"
      ],
      "text/html": "<div>\n<style scoped>\n    .dataframe tbody tr th:only-of-type {\n        vertical-align: middle;\n    }\n\n    .dataframe tbody tr th {\n        vertical-align: top;\n    }\n\n    .dataframe thead th {\n        text-align: right;\n    }\n</style>\n<table border=\"1\" class=\"dataframe\">\n  <thead>\n    <tr style=\"text-align: right;\">\n      <th></th>\n      <th>tweet</th>\n      <th>label</th>\n      <th>tokens</th>\n    </tr>\n  </thead>\n  <tbody>\n    <tr>\n      <th>0</th>\n      <td>I hate er chase because if the Bitch that work...</td>\n      <td>1</td>\n      <td>hate chase bitch work literally</td>\n    </tr>\n    <tr>\n      <th>1</th>\n      <td>RT @nyctophil3: Pineapples do not belong on pi...</td>\n      <td>1</td>\n      <td>pineapples belong pizza niggas nasty</td>\n    </tr>\n    <tr>\n      <th>2</th>\n      <td>Niggas keep talking about women wearing weave ...</td>\n      <td>1</td>\n      <td>niggas talk women wear weave sick bitch fro ass</td>\n    </tr>\n    <tr>\n      <th>3</th>\n      <td>@vappywave idiot that's not gonna work. you go...</td>\n      <td>1</td>\n      <td>idiot gonna work gotta flame stickers faster</td>\n    </tr>\n    <tr>\n      <th>4</th>\n      <td>RT @ayevonnn: bruh i fucking hate people like ...</td>\n      <td>1</td>\n      <td>bruh fuck hate people like</td>\n    </tr>\n    <tr>\n      <th>...</th>\n      <td>...</td>\n      <td>...</td>\n      <td>...</td>\n    </tr>\n    <tr>\n      <th>46655</th>\n      <td>you's a muthaf***in lie &amp;#8220;@LifeAsKing: @2...</td>\n      <td>0</td>\n      <td>muthaf lie pearl right trash bible scriptures ...</td>\n    </tr>\n    <tr>\n      <th>46656</th>\n      <td>you've gone and broke the wrong heart baby, an...</td>\n      <td>0</td>\n      <td>go break wrong heart baby drive redneck crazy</td>\n    </tr>\n    <tr>\n      <th>46657</th>\n      <td>young buck wanna eat!!.. dat nigguh like I ain...</td>\n      <td>0</td>\n      <td>young buck wanna eat dat nigguh like aint fuck...</td>\n    </tr>\n    <tr>\n      <th>46658</th>\n      <td>youu got wild bitches tellin you lies</td>\n      <td>0</td>\n      <td>youu get wild bitch tellin lie</td>\n    </tr>\n    <tr>\n      <th>46659</th>\n      <td>~~Ruffled | Ntac Eileen Dahlia - Beautiful col...</td>\n      <td>0</td>\n      <td>ruffle ntac eileen dahlia beautiful color comb...</td>\n    </tr>\n  </tbody>\n</table>\n<p>46660 rows × 3 columns</p>\n</div>"
     },
     "metadata": {},
     "execution_count": 40
    }
   ],
   "source": [
    "tweets_df"
   ]
  },
  {
   "source": [
    "# Pickle Out Dataframe"
   ],
   "cell_type": "markdown",
   "metadata": {}
  },
  {
   "cell_type": "code",
   "execution_count": 26,
   "metadata": {},
   "outputs": [],
   "source": [
    "pickle.dump(comb, open(\"../pickle/balanced.pickle\", \"wb\"))"
   ]
  },
  {
   "cell_type": "code",
   "execution_count": 47,
   "metadata": {},
   "outputs": [
    {
     "output_type": "execute_result",
     "data": {
      "text/plain": [
       "                                               tweet  label  \\\n",
       "0  I hate er chase because if the Bitch that work...      1   \n",
       "1  RT @nyctophil3: Pineapples do not belong on pi...      1   \n",
       "2  Niggas keep talking about women wearing weave ...      1   \n",
       "3  @vappywave idiot that's not gonna work. you go...      1   \n",
       "4  RT @ayevonnn: bruh i fucking hate people like ...      1   \n",
       "\n",
       "                                            tokens  \n",
       "0                  hate chase bitch work literally  \n",
       "1             pineapples belong pizza niggas nasty  \n",
       "2  niggas talk women wear weave sick bitch fro ass  \n",
       "3     idiot gonna work gotta flame stickers faster  \n",
       "4                       bruh fuck hate people like  "
      ],
      "text/html": "<div>\n<style scoped>\n    .dataframe tbody tr th:only-of-type {\n        vertical-align: middle;\n    }\n\n    .dataframe tbody tr th {\n        vertical-align: top;\n    }\n\n    .dataframe thead th {\n        text-align: right;\n    }\n</style>\n<table border=\"1\" class=\"dataframe\">\n  <thead>\n    <tr style=\"text-align: right;\">\n      <th></th>\n      <th>tweet</th>\n      <th>label</th>\n      <th>tokens</th>\n    </tr>\n  </thead>\n  <tbody>\n    <tr>\n      <th>0</th>\n      <td>I hate er chase because if the Bitch that work...</td>\n      <td>1</td>\n      <td>hate chase bitch work literally</td>\n    </tr>\n    <tr>\n      <th>1</th>\n      <td>RT @nyctophil3: Pineapples do not belong on pi...</td>\n      <td>1</td>\n      <td>pineapples belong pizza niggas nasty</td>\n    </tr>\n    <tr>\n      <th>2</th>\n      <td>Niggas keep talking about women wearing weave ...</td>\n      <td>1</td>\n      <td>niggas talk women wear weave sick bitch fro ass</td>\n    </tr>\n    <tr>\n      <th>3</th>\n      <td>@vappywave idiot that's not gonna work. you go...</td>\n      <td>1</td>\n      <td>idiot gonna work gotta flame stickers faster</td>\n    </tr>\n    <tr>\n      <th>4</th>\n      <td>RT @ayevonnn: bruh i fucking hate people like ...</td>\n      <td>1</td>\n      <td>bruh fuck hate people like</td>\n    </tr>\n  </tbody>\n</table>\n</div>"
     },
     "metadata": {},
     "execution_count": 47
    }
   ],
   "source": [
    "\n",
    "import numpy as np\n",
    "import pandas as pd\n",
    "import pickle\n",
    "import re\n",
    "\n",
    "from mgp import MovieGroupProcess\n",
    "from tqdm import tqdm\n",
    "\n",
    "# load in data if needed \n",
    "# data_dir = '../data/preprocessed_tweets.csv'\n",
    "# tweets_df = pd.read_csv(data_dir) \n",
    "tweets_df.head(5)"
   ]
  },
  {
   "cell_type": "code",
   "execution_count": null,
   "metadata": {},
   "outputs": [],
   "source": []
  },
  {
   "cell_type": "code",
   "execution_count": 48,
   "metadata": {},
   "outputs": [
    {
     "output_type": "execute_result",
     "data": {
      "text/plain": [
       "                                               tweet  label  \\\n",
       "0  I hate er chase because if the Bitch that work...      1   \n",
       "1  RT @nyctophil3: Pineapples do not belong on pi...      1   \n",
       "2  Niggas keep talking about women wearing weave ...      1   \n",
       "3  @vappywave idiot that's not gonna work. you go...      1   \n",
       "4  RT @ayevonnn: bruh i fucking hate people like ...      1   \n",
       "\n",
       "                                              tokens  \n",
       "0              [hate, chase, bitch, work, literally]  \n",
       "1         [pineapples, belong, pizza, niggas, nasty]  \n",
       "2  [niggas, talk, women, wear, weave, sick, bitch...  \n",
       "3  [idiot, gonna, work, gotta, flame, stickers, f...  \n",
       "4                   [bruh, fuck, hate, people, like]  "
      ],
      "text/html": "<div>\n<style scoped>\n    .dataframe tbody tr th:only-of-type {\n        vertical-align: middle;\n    }\n\n    .dataframe tbody tr th {\n        vertical-align: top;\n    }\n\n    .dataframe thead th {\n        text-align: right;\n    }\n</style>\n<table border=\"1\" class=\"dataframe\">\n  <thead>\n    <tr style=\"text-align: right;\">\n      <th></th>\n      <th>tweet</th>\n      <th>label</th>\n      <th>tokens</th>\n    </tr>\n  </thead>\n  <tbody>\n    <tr>\n      <th>0</th>\n      <td>I hate er chase because if the Bitch that work...</td>\n      <td>1</td>\n      <td>[hate, chase, bitch, work, literally]</td>\n    </tr>\n    <tr>\n      <th>1</th>\n      <td>RT @nyctophil3: Pineapples do not belong on pi...</td>\n      <td>1</td>\n      <td>[pineapples, belong, pizza, niggas, nasty]</td>\n    </tr>\n    <tr>\n      <th>2</th>\n      <td>Niggas keep talking about women wearing weave ...</td>\n      <td>1</td>\n      <td>[niggas, talk, women, wear, weave, sick, bitch...</td>\n    </tr>\n    <tr>\n      <th>3</th>\n      <td>@vappywave idiot that's not gonna work. you go...</td>\n      <td>1</td>\n      <td>[idiot, gonna, work, gotta, flame, stickers, f...</td>\n    </tr>\n    <tr>\n      <th>4</th>\n      <td>RT @ayevonnn: bruh i fucking hate people like ...</td>\n      <td>1</td>\n      <td>[bruh, fuck, hate, people, like]</td>\n    </tr>\n  </tbody>\n</table>\n</div>"
     },
     "metadata": {},
     "execution_count": 48
    }
   ],
   "source": [
    "# convert string of tokens into tokens list\n",
    "tweets_df['tokens'] = tweets_df.tokens.apply(lambda x: re.split('\\s', x))\n",
    "tweets_df.head()"
   ]
  },
  {
   "cell_type": "code",
   "execution_count": 49,
   "metadata": {},
   "outputs": [
    {
     "output_type": "execute_result",
     "data": {
      "text/plain": [
       "[['hate', 'chase', 'bitch', 'work', 'literally'],\n",
       " ['pineapples', 'belong', 'pizza', 'niggas', 'nasty'],\n",
       " ['niggas', 'talk', 'women', 'wear', 'weave', 'sick', 'bitch', 'fro', 'ass']]"
      ]
     },
     "metadata": {},
     "execution_count": 49
    }
   ],
   "source": [
    "# create a single list of tweet tokens\n",
    "docs = tweets_df['tokens'].tolist()\n",
    "docs[:3]  # view top 3 elements"
   ]
  },
  {
   "cell_type": "code",
   "execution_count": 53,
   "metadata": {},
   "outputs": [
    {
     "output_type": "stream",
     "name": "stdout",
     "text": [
      "In stage 0: transferred 40774 clusters with 10 clusters populated\n",
      "In stage 1: transferred 25844 clusters with 10 clusters populated\n",
      "In stage 2: transferred 12863 clusters with 10 clusters populated\n",
      "In stage 3: transferred 8472 clusters with 10 clusters populated\n",
      "In stage 4: transferred 6317 clusters with 10 clusters populated\n",
      "CPU times: user 1min 6s, sys: 1.08 s, total: 1min 7s\n",
      "Wall time: 1min 15s\n"
     ]
    }
   ],
   "source": [
    "%%time\n",
    "# Train STTM model\n",
    "#    K = number of potential topics\n",
    "#    alpha = controls completeness\n",
    "#    beta =  controls homogeneity \n",
    "#    n_iters = number of iterations\n",
    "mgp = MovieGroupProcess(K=10, alpha=0.1, beta=0.5, n_iters=5)\n",
    "vocab = set(x for doc in docs for x in doc)\n",
    "n_terms = len(vocab)\n",
    "y = mgp.fit(docs, n_terms)\n",
    "\n",
    "# Save model\n",
    "with open('../pickle/10clusters.model', 'wb') as f:\n",
    "    pickle.dump(mgp, f)\n",
    "    f.close()"
   ]
  },
  {
   "cell_type": "code",
   "execution_count": 54,
   "metadata": {},
   "outputs": [],
   "source": [
    "# load in trained model \n",
    "filehandler = open('../pickle/10clusters.model', 'rb')\n",
    "mgp = pickle.load(filehandler)"
   ]
  },
  {
   "cell_type": "code",
   "execution_count": 55,
   "metadata": {},
   "outputs": [],
   "source": [
    "# define helper functions\n",
    "def top_words(cluster_word_distribution, top_cluster, values):\n",
    "    '''prints the top words in each cluster'''\n",
    "    for cluster in top_cluster:\n",
    "        sort_dicts =sorted(mgp.cluster_word_distribution[cluster].items(), key=lambda k: k[1], reverse=True)[:values]\n",
    "        print('Cluster %s : %s'%(cluster,sort_dicts))\n",
    "        print(' — — — — — — — — —')\n",
    "        \n",
    "def cluster_importance(mgp):\n",
    "    '''returns a word-topic matrix[phi] where each value represents\n",
    "    the word importance for that particular cluster;\n",
    "    phi[i][w] would be the importance of word w in topic i.\n",
    "    '''\n",
    "    n_z_w = mgp.cluster_word_distribution\n",
    "    beta, V, K = mgp.beta, mgp.vocab_size, mgp.K\n",
    "    phi = [{} for i in range(K)]\n",
    "    for z in range(K):\n",
    "        for w in n_z_w[z]:\n",
    "            phi[z][w] = (n_z_w[z][w]+beta)/(sum(n_z_w[z].values())+V*beta)\n",
    "    return phi\n",
    "\n",
    "def topic_allocation(df, docs, mgp, topic_dict):\n",
    "    '''allocates all topics to each document in original dataframe,\n",
    "    adding two columns for cluster number and cluster description'''\n",
    "    topic_allocations = []\n",
    "    for doc in tqdm(docs):\n",
    "        topic_label, score = mgp.choose_best_label(doc)\n",
    "        topic_allocations.append(topic_label)\n",
    "\n",
    "    df['cluster'] = topic_allocations\n",
    "\n",
    "    df['topic_name'] = df.cluster.apply(lambda x: get_topic_name(x, topic_dict))\n",
    "    print('Complete. Number of documents with topic allocated: {}'.format(len(df)))\n",
    "\n",
    "def get_topic_name(doc, topic_dict):\n",
    "    '''returns the topic name string value from a dictionary of topics'''\n",
    "    topic_desc = topic_dict[doc]\n",
    "    return topic_desc"
   ]
  },
  {
   "cell_type": "code",
   "execution_count": 56,
   "metadata": {},
   "outputs": [
    {
     "output_type": "stream",
     "name": "stdout",
     "text": [
      "Number of documents per topic : [14362    73   114    28  3716 23591   392  3016   211  1157]\n********************\nMost important clusters (by number of docs inside): [5 0 4 7 9 6 8 2 1 3]\n********************\nCluster 0 : [('china', 10535), ('chinese', 7347), ('virus', 6243), ('ccp', 5478), ('world', 5259)]\n — — — — — — — — —\nCluster 1 : [('wuhan', 82), ('price', 82), ('high', 48), ('cat', 43), ('market', 43)]\n — — — — — — — — —\nCluster 2 : [('fuck', 780), ('china', 497), ('trigger', 17), ('photo', 17), ('cultural', 16)]\n — — — — — — — — —\nCluster 3 : [('communist', 53), ('people', 51), ('million', 34), ('china', 21), ('party', 19)]\n — — — — — — — — —\nCluster 4 : [('bitch', 1612), ('hoe', 657), ('pussy', 353), ('get', 346), ('like', 285)]\n — — — — — — — — —\nCluster 5 : [('bitch', 9948), ('hoe', 3681), ('like', 2879), ('fuck', 2258), ('pussy', 1791)]\n — — — — — — — — —\nCluster 6 : [('yankees', 47), ('jeter', 30), ('derek', 25), ('yellow', 19), ('charlie', 19)]\n — — — — — — — — —\nCluster 7 : [('china', 2101), ('eat', 1940), ('bat', 1152), ('chinese', 1148), ('virus', 771)]\n — — — — — — — — —\nCluster 8 : [('china', 259), ('amp', 100), ('hong', 84), ('kong', 84), ('communist', 74)]\n — — — — — — — — —\nCluster 9 : [('charlie', 138), ('amp', 95), ('idiot', 80), ('trash', 58), ('say', 57)]\n — — — — — — — — —\n"
     ]
    }
   ],
   "source": [
    "doc_count = np.array(mgp.cluster_doc_count)\n",
    "print('Number of documents per topic :', doc_count)\n",
    "print('*'*20)\n",
    "\n",
    "# topics sorted by the number of documents they are allocated to\n",
    "top_index = doc_count.argsort()[-10:][::-1]\n",
    "print('Most important clusters (by number of docs inside):', top_index)\n",
    "print('*'*20)\n",
    "\n",
    "# show the top 5 words in term frequency for each cluster \n",
    "topic_indices = np.arange(start=0, stop=len(doc_count), step=1)\n",
    "top_words(mgp.cluster_word_distribution, topic_indices, 5)"
   ]
  },
  {
   "cell_type": "code",
   "execution_count": 57,
   "metadata": {},
   "outputs": [
    {
     "output_type": "stream",
     "name": "stdout",
     "text": [
      "0.006469573400250941\n0.0618701698339245\n"
     ]
    }
   ],
   "source": [
    "phi = cluster_importance(mgp) # initialize phi matrix\n",
    "\n",
    "# 'coronavirus' term importance for cluster 1 and 0 \n",
    "print(phi[1]['wuhan'])\n",
    "print(phi[0]['china'])"
   ]
  },
  {
   "cell_type": "code",
   "execution_count": null,
   "metadata": {},
   "outputs": [],
   "source": [
    "# define dictionary topics in same sequential order\n",
    "# as resulting clusters from gsdmm model \n",
    "topic_dict = {}\n",
    "topic_names = ['china',\n",
    "               'wuhan',\n",
    "               'fuck',\n",
    "               'communist',\n",
    "               'cancer & heart disease',\n",
    "               'diet & exercise',\n",
    "               'health & medical workers',\n",
    "               'abortion',\n",
    "               'vaping & cigarettes',\n",
    "               'drug costs & opioid crisis']\n",
    "\n",
    "for i, topic_num in enumerate(topic_indices):\n",
    "    topic_dict[topic_num]=topic_names[i]\n",
    "    \n",
    "# allocate topics to original data frame \n",
    "topic_allocation(tweets_df, docs, mgp, topic_dict)"
   ]
  },
  {
   "cell_type": "code",
   "execution_count": null,
   "metadata": {},
   "outputs": [],
   "source": [
    "tweets_df[['tweet', 'username', 'tokens', 'cluster', 'topic_name']].sample(5)"
   ]
  },
  {
   "cell_type": "code",
   "execution_count": null,
   "metadata": {},
   "outputs": [],
   "source": []
  },
  {
   "cell_type": "code",
   "execution_count": null,
   "metadata": {},
   "outputs": [],
   "source": []
  }
 ]
}