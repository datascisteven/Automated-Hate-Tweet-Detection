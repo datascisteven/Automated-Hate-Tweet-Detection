{
 "metadata": {
  "language_info": {
   "codemirror_mode": {
    "name": "ipython",
    "version": 3
   },
   "file_extension": ".py",
   "mimetype": "text/x-python",
   "name": "python",
   "nbconvert_exporter": "python",
   "pygments_lexer": "ipython3",
   "version": "3.9.2"
  },
  "orig_nbformat": 2,
  "kernelspec": {
   "name": "python392jvsc74a57bd080773cdecc613a186b9eac051636553d2ff0f99c57590601666ed713bd5d0256",
   "display_name": "Python 3.9.2 64-bit ('learn-env': conda)"
  }
 },
 "nbformat": 4,
 "nbformat_minor": 2,
 "cells": [
  {
   "source": [
    "# Importing Packages"
   ],
   "cell_type": "markdown",
   "metadata": {}
  },
  {
   "cell_type": "code",
   "execution_count": 2,
   "metadata": {},
   "outputs": [],
   "source": [
    "import pandas as pd\n",
    "import numpy as np\n",
    "import pickle\n",
    "import re\n",
    "\n",
    "%reload_ext autoreload\n",
    "%autoreload 2\n",
    "import sys\n",
    "sys.path.append(\"../py\")\n",
    "import utils\n",
    "import mgp"
   ]
  },
  {
   "source": [
    "# Importing Datasets"
   ],
   "cell_type": "markdown",
   "metadata": {}
  },
  {
   "source": [
    "## Aristotle Dataset"
   ],
   "cell_type": "markdown",
   "metadata": {}
  },
  {
   "cell_type": "code",
   "execution_count": 3,
   "metadata": {},
   "outputs": [
    {
     "output_type": "execute_result",
     "data": {
      "text/plain": [
       "                    created_at                  id  \\\n",
       "0     2017-04-07T19:42:40.000Z  850433664890544128   \n",
       "1     2017-04-06T21:39:45.000Z  850100742035836929   \n",
       "2     2017-03-31T13:35:20.000Z  847804507367100416   \n",
       "3     2017-04-06T20:58:20.000Z  850090319165050880   \n",
       "4     2017-04-03T00:00:48.000Z  848686686930382848   \n",
       "...                        ...                 ...   \n",
       "1758  2017-04-08T13:25:50.000Z  850701219568001025   \n",
       "1759  2017-04-04T17:42:11.000Z  849316180670259205   \n",
       "1760  2017-04-05T17:26:51.000Z  849674709763358720   \n",
       "1761  2017-04-04T13:06:00.000Z  849246676854484992   \n",
       "1762  2017-04-05T14:51:08.000Z  849635522389651456   \n",
       "\n",
       "                                                   text           author_id  \n",
       "0     I hate er chase because if the Bitch that work...           399817418  \n",
       "1     RT @nyctophil3: Pineapples do not belong on pi...           928512230  \n",
       "2     Niggas keep talking about women wearing weave ...            46267097  \n",
       "3     @vappywave idiot that's not gonna work. you go...            14413604  \n",
       "4     RT @ayevonnn: bruh i fucking hate people like ...          3137373930  \n",
       "...                                                 ...                 ...  \n",
       "1758  Baekhyun won 'Most Popular Artist of Korea'\\n\\...           465448529  \n",
       "1759  #TripleTalaqArrest 2fgt dis social menace #Tri...           179136092  \n",
       "1760  White nationalists' latest tactic to recruit c...            60473620  \n",
       "1761  We are in a comfortable lead fight against gal...  736124767518986244  \n",
       "1762  Took him less than a minute...!! Gutless grub!...           626656631  \n",
       "\n",
       "[1763 rows x 4 columns]"
      ],
      "text/html": "<div>\n<style scoped>\n    .dataframe tbody tr th:only-of-type {\n        vertical-align: middle;\n    }\n\n    .dataframe tbody tr th {\n        vertical-align: top;\n    }\n\n    .dataframe thead th {\n        text-align: right;\n    }\n</style>\n<table border=\"1\" class=\"dataframe\">\n  <thead>\n    <tr style=\"text-align: right;\">\n      <th></th>\n      <th>created_at</th>\n      <th>id</th>\n      <th>text</th>\n      <th>author_id</th>\n    </tr>\n  </thead>\n  <tbody>\n    <tr>\n      <th>0</th>\n      <td>2017-04-07T19:42:40.000Z</td>\n      <td>850433664890544128</td>\n      <td>I hate er chase because if the Bitch that work...</td>\n      <td>399817418</td>\n    </tr>\n    <tr>\n      <th>1</th>\n      <td>2017-04-06T21:39:45.000Z</td>\n      <td>850100742035836929</td>\n      <td>RT @nyctophil3: Pineapples do not belong on pi...</td>\n      <td>928512230</td>\n    </tr>\n    <tr>\n      <th>2</th>\n      <td>2017-03-31T13:35:20.000Z</td>\n      <td>847804507367100416</td>\n      <td>Niggas keep talking about women wearing weave ...</td>\n      <td>46267097</td>\n    </tr>\n    <tr>\n      <th>3</th>\n      <td>2017-04-06T20:58:20.000Z</td>\n      <td>850090319165050880</td>\n      <td>@vappywave idiot that's not gonna work. you go...</td>\n      <td>14413604</td>\n    </tr>\n    <tr>\n      <th>4</th>\n      <td>2017-04-03T00:00:48.000Z</td>\n      <td>848686686930382848</td>\n      <td>RT @ayevonnn: bruh i fucking hate people like ...</td>\n      <td>3137373930</td>\n    </tr>\n    <tr>\n      <th>...</th>\n      <td>...</td>\n      <td>...</td>\n      <td>...</td>\n      <td>...</td>\n    </tr>\n    <tr>\n      <th>1758</th>\n      <td>2017-04-08T13:25:50.000Z</td>\n      <td>850701219568001025</td>\n      <td>Baekhyun won 'Most Popular Artist of Korea'\\n\\...</td>\n      <td>465448529</td>\n    </tr>\n    <tr>\n      <th>1759</th>\n      <td>2017-04-04T17:42:11.000Z</td>\n      <td>849316180670259205</td>\n      <td>#TripleTalaqArrest 2fgt dis social menace #Tri...</td>\n      <td>179136092</td>\n    </tr>\n    <tr>\n      <th>1760</th>\n      <td>2017-04-05T17:26:51.000Z</td>\n      <td>849674709763358720</td>\n      <td>White nationalists' latest tactic to recruit c...</td>\n      <td>60473620</td>\n    </tr>\n    <tr>\n      <th>1761</th>\n      <td>2017-04-04T13:06:00.000Z</td>\n      <td>849246676854484992</td>\n      <td>We are in a comfortable lead fight against gal...</td>\n      <td>736124767518986244</td>\n    </tr>\n    <tr>\n      <th>1762</th>\n      <td>2017-04-05T14:51:08.000Z</td>\n      <td>849635522389651456</td>\n      <td>Took him less than a minute...!! Gutless grub!...</td>\n      <td>626656631</td>\n    </tr>\n  </tbody>\n</table>\n<p>1763 rows × 4 columns</p>\n</div>"
     },
     "metadata": {},
     "execution_count": 3
    }
   ],
   "source": [
    "df1 = pickle.load(open(\"../pickle/aristotle.pickle\", \"rb\"))\n",
    "df1"
   ]
  },
  {
   "cell_type": "code",
   "execution_count": 25,
   "metadata": {},
   "outputs": [
    {
     "output_type": "execute_result",
     "data": {
      "text/plain": [
       "                                                text  label\n",
       "0  I hate er chase because if the Bitch that work...      1\n",
       "1  RT @nyctophil3: Pineapples do not belong on pi...      1\n",
       "2  Niggas keep talking about women wearing weave ...      1\n",
       "3  @vappywave idiot that's not gonna work. you go...      1\n",
       "4  RT @ayevonnn: bruh i fucking hate people like ...      1"
      ],
      "text/html": "<div>\n<style scoped>\n    .dataframe tbody tr th:only-of-type {\n        vertical-align: middle;\n    }\n\n    .dataframe tbody tr th {\n        vertical-align: top;\n    }\n\n    .dataframe thead th {\n        text-align: right;\n    }\n</style>\n<table border=\"1\" class=\"dataframe\">\n  <thead>\n    <tr style=\"text-align: right;\">\n      <th></th>\n      <th>text</th>\n      <th>label</th>\n    </tr>\n  </thead>\n  <tbody>\n    <tr>\n      <th>0</th>\n      <td>I hate er chase because if the Bitch that work...</td>\n      <td>1</td>\n    </tr>\n    <tr>\n      <th>1</th>\n      <td>RT @nyctophil3: Pineapples do not belong on pi...</td>\n      <td>1</td>\n    </tr>\n    <tr>\n      <th>2</th>\n      <td>Niggas keep talking about women wearing weave ...</td>\n      <td>1</td>\n    </tr>\n    <tr>\n      <th>3</th>\n      <td>@vappywave idiot that's not gonna work. you go...</td>\n      <td>1</td>\n    </tr>\n    <tr>\n      <th>4</th>\n      <td>RT @ayevonnn: bruh i fucking hate people like ...</td>\n      <td>1</td>\n    </tr>\n  </tbody>\n</table>\n</div>"
     },
     "metadata": {},
     "execution_count": 25
    }
   ],
   "source": [
    "df1['label'] = 1\n",
    "df1 = df1.drop(columns=['author_id', 'created_at', 'id'], axis=1)\n",
    "df1.head()"
   ]
  },
  {
   "source": [
    "## Copenhagen Dataset"
   ],
   "cell_type": "markdown",
   "metadata": {}
  },
  {
   "cell_type": "code",
   "execution_count": 23,
   "metadata": {},
   "outputs": [
    {
     "output_type": "execute_result",
     "data": {
      "text/plain": [
       "                                                   text   author_id  \\\n",
       "0     Drasko they didn't cook half a bird you idiot ...   110114783   \n",
       "1     Hopefully someone cooks Drasko in the next ep ...    38650214   \n",
       "2     of course you were born in serbia...you're as ...  2587278392   \n",
       "3     These girls are the equivalent of the irritati...  2601524623   \n",
       "4     RT @YesYoureRacist: At least you're only a tin...   930620467   \n",
       "...                                                 ...         ...   \n",
       "2734  RT @Superjutah: @MT8_9 £34,000 is £9000 above ...  2756873076   \n",
       "2735  RT @DufresneFrank: “@gabystama: @DufresneFrank...  2756873076   \n",
       "2736  RT @BoycottBrandy: @ActionFlickDoc this person...  2756873076   \n",
       "2737  RT @Lyall: Patriarchy™ will expel me if I divu...  2756873076   \n",
       "2738  RT @AsheSchow: Women’s Studies: Learn how to t...  2756873076   \n",
       "\n",
       "                      id                created_at  \n",
       "0     572341498827522049  2015-03-02T10:23:41.000Z  \n",
       "1     572340476503724032  2015-03-02T10:19:37.000Z  \n",
       "2     572334712804384768  2015-03-02T09:56:43.000Z  \n",
       "3     572332655397629952  2015-03-02T09:48:33.000Z  \n",
       "4     446460991396917248  2014-03-20T01:39:29.000Z  \n",
       "...                  ...                       ...  \n",
       "2734  569990621315919872  2015-02-23T22:42:08.000Z  \n",
       "2735  570244879265206272  2015-02-24T15:32:28.000Z  \n",
       "2736  571013698111860736  2015-02-26T18:27:29.000Z  \n",
       "2737  571304517930774528  2015-02-27T13:43:06.000Z  \n",
       "2738  575664315627216896  2015-03-11T14:27:22.000Z  \n",
       "\n",
       "[2739 rows x 4 columns]"
      ],
      "text/html": "<div>\n<style scoped>\n    .dataframe tbody tr th:only-of-type {\n        vertical-align: middle;\n    }\n\n    .dataframe tbody tr th {\n        vertical-align: top;\n    }\n\n    .dataframe thead th {\n        text-align: right;\n    }\n</style>\n<table border=\"1\" class=\"dataframe\">\n  <thead>\n    <tr style=\"text-align: right;\">\n      <th></th>\n      <th>text</th>\n      <th>author_id</th>\n      <th>id</th>\n      <th>created_at</th>\n    </tr>\n  </thead>\n  <tbody>\n    <tr>\n      <th>0</th>\n      <td>Drasko they didn't cook half a bird you idiot ...</td>\n      <td>110114783</td>\n      <td>572341498827522049</td>\n      <td>2015-03-02T10:23:41.000Z</td>\n    </tr>\n    <tr>\n      <th>1</th>\n      <td>Hopefully someone cooks Drasko in the next ep ...</td>\n      <td>38650214</td>\n      <td>572340476503724032</td>\n      <td>2015-03-02T10:19:37.000Z</td>\n    </tr>\n    <tr>\n      <th>2</th>\n      <td>of course you were born in serbia...you're as ...</td>\n      <td>2587278392</td>\n      <td>572334712804384768</td>\n      <td>2015-03-02T09:56:43.000Z</td>\n    </tr>\n    <tr>\n      <th>3</th>\n      <td>These girls are the equivalent of the irritati...</td>\n      <td>2601524623</td>\n      <td>572332655397629952</td>\n      <td>2015-03-02T09:48:33.000Z</td>\n    </tr>\n    <tr>\n      <th>4</th>\n      <td>RT @YesYoureRacist: At least you're only a tin...</td>\n      <td>930620467</td>\n      <td>446460991396917248</td>\n      <td>2014-03-20T01:39:29.000Z</td>\n    </tr>\n    <tr>\n      <th>...</th>\n      <td>...</td>\n      <td>...</td>\n      <td>...</td>\n      <td>...</td>\n    </tr>\n    <tr>\n      <th>2734</th>\n      <td>RT @Superjutah: @MT8_9 £34,000 is £9000 above ...</td>\n      <td>2756873076</td>\n      <td>569990621315919872</td>\n      <td>2015-02-23T22:42:08.000Z</td>\n    </tr>\n    <tr>\n      <th>2735</th>\n      <td>RT @DufresneFrank: “@gabystama: @DufresneFrank...</td>\n      <td>2756873076</td>\n      <td>570244879265206272</td>\n      <td>2015-02-24T15:32:28.000Z</td>\n    </tr>\n    <tr>\n      <th>2736</th>\n      <td>RT @BoycottBrandy: @ActionFlickDoc this person...</td>\n      <td>2756873076</td>\n      <td>571013698111860736</td>\n      <td>2015-02-26T18:27:29.000Z</td>\n    </tr>\n    <tr>\n      <th>2737</th>\n      <td>RT @Lyall: Patriarchy™ will expel me if I divu...</td>\n      <td>2756873076</td>\n      <td>571304517930774528</td>\n      <td>2015-02-27T13:43:06.000Z</td>\n    </tr>\n    <tr>\n      <th>2738</th>\n      <td>RT @AsheSchow: Women’s Studies: Learn how to t...</td>\n      <td>2756873076</td>\n      <td>575664315627216896</td>\n      <td>2015-03-11T14:27:22.000Z</td>\n    </tr>\n  </tbody>\n</table>\n<p>2739 rows × 4 columns</p>\n</div>"
     },
     "metadata": {},
     "execution_count": 23
    }
   ],
   "source": [
    "df2 = pickle.load(open(\"../pickle/copenhagen.pickle\", \"rb\"))\n",
    "df2"
   ]
  },
  {
   "cell_type": "code",
   "execution_count": 24,
   "metadata": {},
   "outputs": [
    {
     "output_type": "execute_result",
     "data": {
      "text/plain": [
       "                                                text  label\n",
       "0  Drasko they didn't cook half a bird you idiot ...      1\n",
       "1  Hopefully someone cooks Drasko in the next ep ...      1\n",
       "2  of course you were born in serbia...you're as ...      1\n",
       "3  These girls are the equivalent of the irritati...      1\n",
       "4  RT @YesYoureRacist: At least you're only a tin...      1"
      ],
      "text/html": "<div>\n<style scoped>\n    .dataframe tbody tr th:only-of-type {\n        vertical-align: middle;\n    }\n\n    .dataframe tbody tr th {\n        vertical-align: top;\n    }\n\n    .dataframe thead th {\n        text-align: right;\n    }\n</style>\n<table border=\"1\" class=\"dataframe\">\n  <thead>\n    <tr style=\"text-align: right;\">\n      <th></th>\n      <th>text</th>\n      <th>label</th>\n    </tr>\n  </thead>\n  <tbody>\n    <tr>\n      <th>0</th>\n      <td>Drasko they didn't cook half a bird you idiot ...</td>\n      <td>1</td>\n    </tr>\n    <tr>\n      <th>1</th>\n      <td>Hopefully someone cooks Drasko in the next ep ...</td>\n      <td>1</td>\n    </tr>\n    <tr>\n      <th>2</th>\n      <td>of course you were born in serbia...you're as ...</td>\n      <td>1</td>\n    </tr>\n    <tr>\n      <th>3</th>\n      <td>These girls are the equivalent of the irritati...</td>\n      <td>1</td>\n    </tr>\n    <tr>\n      <th>4</th>\n      <td>RT @YesYoureRacist: At least you're only a tin...</td>\n      <td>1</td>\n    </tr>\n  </tbody>\n</table>\n</div>"
     },
     "metadata": {},
     "execution_count": 24
    }
   ],
   "source": [
    "df2['label'] = 1\n",
    "df2 = df2.drop(columns=['id', 'author_id', 'created_at'], axis=1)\n",
    "df2.head()"
   ]
  },
  {
   "source": [
    "## HASOC Dataset"
   ],
   "cell_type": "markdown",
   "metadata": {}
  },
  {
   "cell_type": "code",
   "execution_count": 36,
   "metadata": {},
   "outputs": [
    {
     "output_type": "execute_result",
     "data": {
      "text/plain": [
       "            text_id                                               text task_1  \\\n",
       "0        hasoc_en_1  #DhoniKeepsTheGlove | WATCH: Sports Minister K...    NOT   \n",
       "1        hasoc_en_2  @politico No. We should remember very clearly ...    HOF   \n",
       "2        hasoc_en_3  @cricketworldcup Guess who would be the winner...    NOT   \n",
       "3        hasoc_en_4  Corbyn is too politically intellectual for #Bo...    NOT   \n",
       "4        hasoc_en_5  All the best to #TeamIndia for another swimmin...    NOT   \n",
       "...             ...                                                ...    ...   \n",
       "5847  hasoc_en_5848  @davidfrum @trueblueusa1 That's cute and all, ...    HOF   \n",
       "5848  hasoc_en_5849  a recession issa comin' #maga #magamyass #fuck...    NOT   \n",
       "5849  hasoc_en_5850  #DoctorsFightBack  Will 'The Mad n Irrational ...    HOF   \n",
       "5850  hasoc_en_5851  #ShiningIndia #educatedindia or more like RUND...    HOF   \n",
       "5851  hasoc_en_5852  Could this be our new Prime Minister?     #Ric...    HOF   \n",
       "\n",
       "     task_2 task_3  \n",
       "0      NONE   NONE  \n",
       "1      HATE    TIN  \n",
       "2      NONE   NONE  \n",
       "3      NONE   NONE  \n",
       "4      NONE   NONE  \n",
       "...     ...    ...  \n",
       "5847   PRFN    UNT  \n",
       "5848   NONE   NONE  \n",
       "5849   OFFN    TIN  \n",
       "5850   OFFN    UNT  \n",
       "5851   PRFN    UNT  \n",
       "\n",
       "[5852 rows x 5 columns]"
      ],
      "text/html": "<div>\n<style scoped>\n    .dataframe tbody tr th:only-of-type {\n        vertical-align: middle;\n    }\n\n    .dataframe tbody tr th {\n        vertical-align: top;\n    }\n\n    .dataframe thead th {\n        text-align: right;\n    }\n</style>\n<table border=\"1\" class=\"dataframe\">\n  <thead>\n    <tr style=\"text-align: right;\">\n      <th></th>\n      <th>text_id</th>\n      <th>text</th>\n      <th>task_1</th>\n      <th>task_2</th>\n      <th>task_3</th>\n    </tr>\n  </thead>\n  <tbody>\n    <tr>\n      <th>0</th>\n      <td>hasoc_en_1</td>\n      <td>#DhoniKeepsTheGlove | WATCH: Sports Minister K...</td>\n      <td>NOT</td>\n      <td>NONE</td>\n      <td>NONE</td>\n    </tr>\n    <tr>\n      <th>1</th>\n      <td>hasoc_en_2</td>\n      <td>@politico No. We should remember very clearly ...</td>\n      <td>HOF</td>\n      <td>HATE</td>\n      <td>TIN</td>\n    </tr>\n    <tr>\n      <th>2</th>\n      <td>hasoc_en_3</td>\n      <td>@cricketworldcup Guess who would be the winner...</td>\n      <td>NOT</td>\n      <td>NONE</td>\n      <td>NONE</td>\n    </tr>\n    <tr>\n      <th>3</th>\n      <td>hasoc_en_4</td>\n      <td>Corbyn is too politically intellectual for #Bo...</td>\n      <td>NOT</td>\n      <td>NONE</td>\n      <td>NONE</td>\n    </tr>\n    <tr>\n      <th>4</th>\n      <td>hasoc_en_5</td>\n      <td>All the best to #TeamIndia for another swimmin...</td>\n      <td>NOT</td>\n      <td>NONE</td>\n      <td>NONE</td>\n    </tr>\n    <tr>\n      <th>...</th>\n      <td>...</td>\n      <td>...</td>\n      <td>...</td>\n      <td>...</td>\n      <td>...</td>\n    </tr>\n    <tr>\n      <th>5847</th>\n      <td>hasoc_en_5848</td>\n      <td>@davidfrum @trueblueusa1 That's cute and all, ...</td>\n      <td>HOF</td>\n      <td>PRFN</td>\n      <td>UNT</td>\n    </tr>\n    <tr>\n      <th>5848</th>\n      <td>hasoc_en_5849</td>\n      <td>a recession issa comin' #maga #magamyass #fuck...</td>\n      <td>NOT</td>\n      <td>NONE</td>\n      <td>NONE</td>\n    </tr>\n    <tr>\n      <th>5849</th>\n      <td>hasoc_en_5850</td>\n      <td>#DoctorsFightBack  Will 'The Mad n Irrational ...</td>\n      <td>HOF</td>\n      <td>OFFN</td>\n      <td>TIN</td>\n    </tr>\n    <tr>\n      <th>5850</th>\n      <td>hasoc_en_5851</td>\n      <td>#ShiningIndia #educatedindia or more like RUND...</td>\n      <td>HOF</td>\n      <td>OFFN</td>\n      <td>UNT</td>\n    </tr>\n    <tr>\n      <th>5851</th>\n      <td>hasoc_en_5852</td>\n      <td>Could this be our new Prime Minister?     #Ric...</td>\n      <td>HOF</td>\n      <td>PRFN</td>\n      <td>UNT</td>\n    </tr>\n  </tbody>\n</table>\n<p>5852 rows × 5 columns</p>\n</div>"
     },
     "metadata": {},
     "execution_count": 36
    }
   ],
   "source": [
    "df3 = pd.read_csv(\"../data/english_dataset.tsv\", delimiter = \"\\t\")\n",
    "df3"
   ]
  },
  {
   "cell_type": "code",
   "execution_count": 37,
   "metadata": {},
   "outputs": [
    {
     "output_type": "execute_result",
     "data": {
      "text/plain": [
       "            text_id                                               text task_1  \\\n",
       "1        hasoc_en_2  @politico No. We should remember very clearly ...    HOF   \n",
       "11      hasoc_en_12  I don’t know how much more I can take! 45 is a...    HOF   \n",
       "23      hasoc_en_24  #ShameOnICC  1. ICC on Dhoni's gloves         ...    HOF   \n",
       "27      hasoc_en_28  Disgusting! And they don’t change their cultur...    HOF   \n",
       "34      hasoc_en_35  @TheRealOJ32 Of all the retired NFL players, w...    HOF   \n",
       "...             ...                                                ...    ...   \n",
       "5840  hasoc_en_5841  Full of fools.. ICC @ICCMediaComms @ICC @crick...    HOF   \n",
       "5842  hasoc_en_5843  The US-Mexican border, where established moral...    HOF   \n",
       "5844  hasoc_en_5845  @ICC All Eng matches are on dry pitches &amp; ...    HOF   \n",
       "5845  hasoc_en_5846  It seems the Rain &amp; thunder god only like ...    HOF   \n",
       "5846  hasoc_en_5847  #Muslim #Rapist Raped 28 #innocent #Girls in 1...    HOF   \n",
       "\n",
       "     task_2 task_3  \n",
       "1      HATE    TIN  \n",
       "11     HATE    TIN  \n",
       "23     HATE    TIN  \n",
       "27     HATE    TIN  \n",
       "34     HATE    TIN  \n",
       "...     ...    ...  \n",
       "5840   HATE    TIN  \n",
       "5842   HATE    TIN  \n",
       "5844   HATE    TIN  \n",
       "5845   HATE    TIN  \n",
       "5846   HATE    UNT  \n",
       "\n",
       "[1143 rows x 5 columns]"
      ],
      "text/html": "<div>\n<style scoped>\n    .dataframe tbody tr th:only-of-type {\n        vertical-align: middle;\n    }\n\n    .dataframe tbody tr th {\n        vertical-align: top;\n    }\n\n    .dataframe thead th {\n        text-align: right;\n    }\n</style>\n<table border=\"1\" class=\"dataframe\">\n  <thead>\n    <tr style=\"text-align: right;\">\n      <th></th>\n      <th>text_id</th>\n      <th>text</th>\n      <th>task_1</th>\n      <th>task_2</th>\n      <th>task_3</th>\n    </tr>\n  </thead>\n  <tbody>\n    <tr>\n      <th>1</th>\n      <td>hasoc_en_2</td>\n      <td>@politico No. We should remember very clearly ...</td>\n      <td>HOF</td>\n      <td>HATE</td>\n      <td>TIN</td>\n    </tr>\n    <tr>\n      <th>11</th>\n      <td>hasoc_en_12</td>\n      <td>I don’t know how much more I can take! 45 is a...</td>\n      <td>HOF</td>\n      <td>HATE</td>\n      <td>TIN</td>\n    </tr>\n    <tr>\n      <th>23</th>\n      <td>hasoc_en_24</td>\n      <td>#ShameOnICC  1. ICC on Dhoni's gloves         ...</td>\n      <td>HOF</td>\n      <td>HATE</td>\n      <td>TIN</td>\n    </tr>\n    <tr>\n      <th>27</th>\n      <td>hasoc_en_28</td>\n      <td>Disgusting! And they don’t change their cultur...</td>\n      <td>HOF</td>\n      <td>HATE</td>\n      <td>TIN</td>\n    </tr>\n    <tr>\n      <th>34</th>\n      <td>hasoc_en_35</td>\n      <td>@TheRealOJ32 Of all the retired NFL players, w...</td>\n      <td>HOF</td>\n      <td>HATE</td>\n      <td>TIN</td>\n    </tr>\n    <tr>\n      <th>...</th>\n      <td>...</td>\n      <td>...</td>\n      <td>...</td>\n      <td>...</td>\n      <td>...</td>\n    </tr>\n    <tr>\n      <th>5840</th>\n      <td>hasoc_en_5841</td>\n      <td>Full of fools.. ICC @ICCMediaComms @ICC @crick...</td>\n      <td>HOF</td>\n      <td>HATE</td>\n      <td>TIN</td>\n    </tr>\n    <tr>\n      <th>5842</th>\n      <td>hasoc_en_5843</td>\n      <td>The US-Mexican border, where established moral...</td>\n      <td>HOF</td>\n      <td>HATE</td>\n      <td>TIN</td>\n    </tr>\n    <tr>\n      <th>5844</th>\n      <td>hasoc_en_5845</td>\n      <td>@ICC All Eng matches are on dry pitches &amp;amp; ...</td>\n      <td>HOF</td>\n      <td>HATE</td>\n      <td>TIN</td>\n    </tr>\n    <tr>\n      <th>5845</th>\n      <td>hasoc_en_5846</td>\n      <td>It seems the Rain &amp;amp; thunder god only like ...</td>\n      <td>HOF</td>\n      <td>HATE</td>\n      <td>TIN</td>\n    </tr>\n    <tr>\n      <th>5846</th>\n      <td>hasoc_en_5847</td>\n      <td>#Muslim #Rapist Raped 28 #innocent #Girls in 1...</td>\n      <td>HOF</td>\n      <td>HATE</td>\n      <td>UNT</td>\n    </tr>\n  </tbody>\n</table>\n<p>1143 rows × 5 columns</p>\n</div>"
     },
     "metadata": {},
     "execution_count": 37
    }
   ],
   "source": [
    "hasoc_hate = df3[df3.task_2 == 'HATE']\n",
    "hasoc_hate"
   ]
  },
  {
   "cell_type": "code",
   "execution_count": 38,
   "metadata": {},
   "outputs": [
    {
     "output_type": "execute_result",
     "data": {
      "text/plain": [
       "                                                text  label\n",
       "0  #DhoniKeepsTheGlove | WATCH: Sports Minister K...      1\n",
       "1  @politico No. We should remember very clearly ...      1\n",
       "2  @cricketworldcup Guess who would be the winner...      1\n",
       "3  Corbyn is too politically intellectual for #Bo...      1\n",
       "4  All the best to #TeamIndia for another swimmin...      1"
      ],
      "text/html": "<div>\n<style scoped>\n    .dataframe tbody tr th:only-of-type {\n        vertical-align: middle;\n    }\n\n    .dataframe tbody tr th {\n        vertical-align: top;\n    }\n\n    .dataframe thead th {\n        text-align: right;\n    }\n</style>\n<table border=\"1\" class=\"dataframe\">\n  <thead>\n    <tr style=\"text-align: right;\">\n      <th></th>\n      <th>text</th>\n      <th>label</th>\n    </tr>\n  </thead>\n  <tbody>\n    <tr>\n      <th>0</th>\n      <td>#DhoniKeepsTheGlove | WATCH: Sports Minister K...</td>\n      <td>1</td>\n    </tr>\n    <tr>\n      <th>1</th>\n      <td>@politico No. We should remember very clearly ...</td>\n      <td>1</td>\n    </tr>\n    <tr>\n      <th>2</th>\n      <td>@cricketworldcup Guess who would be the winner...</td>\n      <td>1</td>\n    </tr>\n    <tr>\n      <th>3</th>\n      <td>Corbyn is too politically intellectual for #Bo...</td>\n      <td>1</td>\n    </tr>\n    <tr>\n      <th>4</th>\n      <td>All the best to #TeamIndia for another swimmin...</td>\n      <td>1</td>\n    </tr>\n  </tbody>\n</table>\n</div>"
     },
     "metadata": {},
     "execution_count": 38
    }
   ],
   "source": [
    "df3['label'] = 1\n",
    "df3 = df3[['text', 'label']]\n",
    "df3.head()"
   ]
  },
  {
   "source": [
    "## Original Dataset"
   ],
   "cell_type": "markdown",
   "metadata": {}
  },
  {
   "cell_type": "code",
   "execution_count": 26,
   "metadata": {},
   "outputs": [
    {
     "output_type": "execute_result",
     "data": {
      "text/plain": [
       "   label                                               text\n",
       "0      2  !!! RT @mayasolovely: As a woman you shouldn't...\n",
       "1      1  !!!!! RT @mleew17: boy dats cold...tyga dwn ba...\n",
       "2      1  !!!!!!! RT @UrKindOfBrand Dawg!!!! RT @80sbaby...\n",
       "3      1  !!!!!!!!! RT @C_G_Anderson: @viva_based she lo...\n",
       "4      1  !!!!!!!!!!!!! RT @ShenikaRoberts: The shit you..."
      ],
      "text/html": "<div>\n<style scoped>\n    .dataframe tbody tr th:only-of-type {\n        vertical-align: middle;\n    }\n\n    .dataframe tbody tr th {\n        vertical-align: top;\n    }\n\n    .dataframe thead th {\n        text-align: right;\n    }\n</style>\n<table border=\"1\" class=\"dataframe\">\n  <thead>\n    <tr style=\"text-align: right;\">\n      <th></th>\n      <th>label</th>\n      <th>text</th>\n    </tr>\n  </thead>\n  <tbody>\n    <tr>\n      <th>0</th>\n      <td>2</td>\n      <td>!!! RT @mayasolovely: As a woman you shouldn't...</td>\n    </tr>\n    <tr>\n      <th>1</th>\n      <td>1</td>\n      <td>!!!!! RT @mleew17: boy dats cold...tyga dwn ba...</td>\n    </tr>\n    <tr>\n      <th>2</th>\n      <td>1</td>\n      <td>!!!!!!! RT @UrKindOfBrand Dawg!!!! RT @80sbaby...</td>\n    </tr>\n    <tr>\n      <th>3</th>\n      <td>1</td>\n      <td>!!!!!!!!! RT @C_G_Anderson: @viva_based she lo...</td>\n    </tr>\n    <tr>\n      <th>4</th>\n      <td>1</td>\n      <td>!!!!!!!!!!!!! RT @ShenikaRoberts: The shit you...</td>\n    </tr>\n  </tbody>\n</table>\n</div>"
     },
     "metadata": {},
     "execution_count": 26
    }
   ],
   "source": [
    "df4 = pd.read_csv(\"../data/labeled_data.csv\", index_col=0)\n",
    "df4 = df4.drop(columns=['count', 'hate_speech', 'offensive_language', 'neither'], axis=1)\n",
    "df4.columns = ['label', 'text']\n",
    "df4.head()"
   ]
  },
  {
   "cell_type": "code",
   "execution_count": 27,
   "metadata": {},
   "outputs": [
    {
     "output_type": "execute_result",
     "data": {
      "text/plain": [
       "1    19190\n",
       "2     4163\n",
       "0     1430\n",
       "Name: label, dtype: int64"
      ]
     },
     "metadata": {},
     "execution_count": 27
    }
   ],
   "source": [
    "df4.label.value_counts()"
   ]
  },
  {
   "cell_type": "code",
   "execution_count": 28,
   "metadata": {},
   "outputs": [],
   "source": [
    "df4 = df4.replace({'label': {1: 0, 2: 0, 0: 1}})"
   ]
  },
  {
   "cell_type": "code",
   "execution_count": 29,
   "metadata": {},
   "outputs": [
    {
     "output_type": "execute_result",
     "data": {
      "text/plain": [
       "0    23353\n",
       "1     1430\n",
       "Name: label, dtype: int64"
      ]
     },
     "metadata": {},
     "execution_count": 29
    }
   ],
   "source": [
    "df4.label.value_counts()"
   ]
  },
  {
   "cell_type": "code",
   "execution_count": null,
   "metadata": {},
   "outputs": [],
   "source": []
  },
  {
   "source": [
    "# Combining Dataframes"
   ],
   "cell_type": "markdown",
   "metadata": {}
  },
  {
   "cell_type": "code",
   "execution_count": 39,
   "metadata": {},
   "outputs": [
    {
     "output_type": "execute_result",
     "data": {
      "text/plain": [
       "                                                    text  label\n",
       "0      I hate er chase because if the Bitch that work...      1\n",
       "1      RT @nyctophil3: Pineapples do not belong on pi...      1\n",
       "2      Niggas keep talking about women wearing weave ...      1\n",
       "3      @vappywave idiot that's not gonna work. you go...      1\n",
       "4      RT @ayevonnn: bruh i fucking hate people like ...      1\n",
       "...                                                  ...    ...\n",
       "35132  you's a muthaf***in lie &#8220;@LifeAsKing: @2...      0\n",
       "35133  you've gone and broke the wrong heart baby, an...      0\n",
       "35134  young buck wanna eat!!.. dat nigguh like I ain...      0\n",
       "35135              youu got wild bitches tellin you lies      0\n",
       "35136  ~~Ruffled | Ntac Eileen Dahlia - Beautiful col...      0\n",
       "\n",
       "[35137 rows x 2 columns]"
      ],
      "text/html": "<div>\n<style scoped>\n    .dataframe tbody tr th:only-of-type {\n        vertical-align: middle;\n    }\n\n    .dataframe tbody tr th {\n        vertical-align: top;\n    }\n\n    .dataframe thead th {\n        text-align: right;\n    }\n</style>\n<table border=\"1\" class=\"dataframe\">\n  <thead>\n    <tr style=\"text-align: right;\">\n      <th></th>\n      <th>text</th>\n      <th>label</th>\n    </tr>\n  </thead>\n  <tbody>\n    <tr>\n      <th>0</th>\n      <td>I hate er chase because if the Bitch that work...</td>\n      <td>1</td>\n    </tr>\n    <tr>\n      <th>1</th>\n      <td>RT @nyctophil3: Pineapples do not belong on pi...</td>\n      <td>1</td>\n    </tr>\n    <tr>\n      <th>2</th>\n      <td>Niggas keep talking about women wearing weave ...</td>\n      <td>1</td>\n    </tr>\n    <tr>\n      <th>3</th>\n      <td>@vappywave idiot that's not gonna work. you go...</td>\n      <td>1</td>\n    </tr>\n    <tr>\n      <th>4</th>\n      <td>RT @ayevonnn: bruh i fucking hate people like ...</td>\n      <td>1</td>\n    </tr>\n    <tr>\n      <th>...</th>\n      <td>...</td>\n      <td>...</td>\n    </tr>\n    <tr>\n      <th>35132</th>\n      <td>you's a muthaf***in lie &amp;#8220;@LifeAsKing: @2...</td>\n      <td>0</td>\n    </tr>\n    <tr>\n      <th>35133</th>\n      <td>you've gone and broke the wrong heart baby, an...</td>\n      <td>0</td>\n    </tr>\n    <tr>\n      <th>35134</th>\n      <td>young buck wanna eat!!.. dat nigguh like I ain...</td>\n      <td>0</td>\n    </tr>\n    <tr>\n      <th>35135</th>\n      <td>youu got wild bitches tellin you lies</td>\n      <td>0</td>\n    </tr>\n    <tr>\n      <th>35136</th>\n      <td>~~Ruffled | Ntac Eileen Dahlia - Beautiful col...</td>\n      <td>0</td>\n    </tr>\n  </tbody>\n</table>\n<p>35137 rows × 2 columns</p>\n</div>"
     },
     "metadata": {},
     "execution_count": 39
    }
   ],
   "source": [
    "comb = pd.concat([df1, df2, df3, df4], ignore_index=True)\n",
    "comb"
   ]
  },
  {
   "cell_type": "code",
   "execution_count": 40,
   "metadata": {},
   "outputs": [
    {
     "output_type": "execute_result",
     "data": {
      "text/plain": [
       "0    23353\n",
       "1    11784\n",
       "Name: label, dtype: int64"
      ]
     },
     "metadata": {},
     "execution_count": 40
    }
   ],
   "source": [
    "comb.label.value_counts()"
   ]
  },
  {
   "cell_type": "code",
   "execution_count": 41,
   "metadata": {},
   "outputs": [
    {
     "output_type": "execute_result",
     "data": {
      "text/plain": [
       "                                                text  label\n",
       "0  I hate er chase because if the Bitch that work...      1\n",
       "1  RT @nyctophil3: Pineapples do not belong on pi...      1\n",
       "2  Niggas keep talking about women wearing weave ...      1\n",
       "3  @vappywave idiot that's not gonna work. you go...      1\n",
       "4  RT @ayevonnn: bruh i fucking hate people like ...      1"
      ],
      "text/html": "<div>\n<style scoped>\n    .dataframe tbody tr th:only-of-type {\n        vertical-align: middle;\n    }\n\n    .dataframe tbody tr th {\n        vertical-align: top;\n    }\n\n    .dataframe thead th {\n        text-align: right;\n    }\n</style>\n<table border=\"1\" class=\"dataframe\">\n  <thead>\n    <tr style=\"text-align: right;\">\n      <th></th>\n      <th>text</th>\n      <th>label</th>\n    </tr>\n  </thead>\n  <tbody>\n    <tr>\n      <th>0</th>\n      <td>I hate er chase because if the Bitch that work...</td>\n      <td>1</td>\n    </tr>\n    <tr>\n      <th>1</th>\n      <td>RT @nyctophil3: Pineapples do not belong on pi...</td>\n      <td>1</td>\n    </tr>\n    <tr>\n      <th>2</th>\n      <td>Niggas keep talking about women wearing weave ...</td>\n      <td>1</td>\n    </tr>\n    <tr>\n      <th>3</th>\n      <td>@vappywave idiot that's not gonna work. you go...</td>\n      <td>1</td>\n    </tr>\n    <tr>\n      <th>4</th>\n      <td>RT @ayevonnn: bruh i fucking hate people like ...</td>\n      <td>1</td>\n    </tr>\n  </tbody>\n</table>\n</div>"
     },
     "metadata": {},
     "execution_count": 41
    }
   ],
   "source": [
    "comb.head()"
   ]
  },
  {
   "cell_type": "code",
   "execution_count": 42,
   "metadata": {},
   "outputs": [],
   "source": [
    "comb.columns = ['tweet', 'label']"
   ]
  },
  {
   "source": [
    "# Pickle Out Dataframe"
   ],
   "cell_type": "markdown",
   "metadata": {}
  },
  {
   "cell_type": "code",
   "execution_count": 43,
   "metadata": {},
   "outputs": [],
   "source": [
    "pickle.dump(comb, open(\"../pickle/balanced.pickle\", \"wb\"))"
   ]
  },
  {
   "cell_type": "code",
   "execution_count": 47,
   "metadata": {},
   "outputs": [
    {
     "output_type": "execute_result",
     "data": {
      "text/plain": [
       "                                               tweet  label  \\\n",
       "0  I hate er chase because if the Bitch that work...      1   \n",
       "1  RT @nyctophil3: Pineapples do not belong on pi...      1   \n",
       "2  Niggas keep talking about women wearing weave ...      1   \n",
       "3  @vappywave idiot that's not gonna work. you go...      1   \n",
       "4  RT @ayevonnn: bruh i fucking hate people like ...      1   \n",
       "\n",
       "                                            tokens  \n",
       "0                  hate chase bitch work literally  \n",
       "1             pineapples belong pizza niggas nasty  \n",
       "2  niggas talk women wear weave sick bitch fro ass  \n",
       "3     idiot gonna work gotta flame stickers faster  \n",
       "4                       bruh fuck hate people like  "
      ],
      "text/html": "<div>\n<style scoped>\n    .dataframe tbody tr th:only-of-type {\n        vertical-align: middle;\n    }\n\n    .dataframe tbody tr th {\n        vertical-align: top;\n    }\n\n    .dataframe thead th {\n        text-align: right;\n    }\n</style>\n<table border=\"1\" class=\"dataframe\">\n  <thead>\n    <tr style=\"text-align: right;\">\n      <th></th>\n      <th>tweet</th>\n      <th>label</th>\n      <th>tokens</th>\n    </tr>\n  </thead>\n  <tbody>\n    <tr>\n      <th>0</th>\n      <td>I hate er chase because if the Bitch that work...</td>\n      <td>1</td>\n      <td>hate chase bitch work literally</td>\n    </tr>\n    <tr>\n      <th>1</th>\n      <td>RT @nyctophil3: Pineapples do not belong on pi...</td>\n      <td>1</td>\n      <td>pineapples belong pizza niggas nasty</td>\n    </tr>\n    <tr>\n      <th>2</th>\n      <td>Niggas keep talking about women wearing weave ...</td>\n      <td>1</td>\n      <td>niggas talk women wear weave sick bitch fro ass</td>\n    </tr>\n    <tr>\n      <th>3</th>\n      <td>@vappywave idiot that's not gonna work. you go...</td>\n      <td>1</td>\n      <td>idiot gonna work gotta flame stickers faster</td>\n    </tr>\n    <tr>\n      <th>4</th>\n      <td>RT @ayevonnn: bruh i fucking hate people like ...</td>\n      <td>1</td>\n      <td>bruh fuck hate people like</td>\n    </tr>\n  </tbody>\n</table>\n</div>"
     },
     "metadata": {},
     "execution_count": 47
    }
   ],
   "source": [
    "\n",
    "import numpy as np\n",
    "import pandas as pd\n",
    "import pickle\n",
    "import re\n",
    "\n",
    "from mgp import MovieGroupProcess\n",
    "from tqdm import tqdm\n",
    "\n",
    "# load in data if needed \n",
    "# data_dir = '../data/preprocessed_tweets.csv'\n",
    "# tweets_df = pd.read_csv(data_dir) \n",
    "tweets_df.head(5)"
   ]
  },
  {
   "cell_type": "code",
   "execution_count": null,
   "metadata": {},
   "outputs": [],
   "source": []
  },
  {
   "cell_type": "code",
   "execution_count": 48,
   "metadata": {},
   "outputs": [
    {
     "output_type": "execute_result",
     "data": {
      "text/plain": [
       "                                               tweet  label  \\\n",
       "0  I hate er chase because if the Bitch that work...      1   \n",
       "1  RT @nyctophil3: Pineapples do not belong on pi...      1   \n",
       "2  Niggas keep talking about women wearing weave ...      1   \n",
       "3  @vappywave idiot that's not gonna work. you go...      1   \n",
       "4  RT @ayevonnn: bruh i fucking hate people like ...      1   \n",
       "\n",
       "                                              tokens  \n",
       "0              [hate, chase, bitch, work, literally]  \n",
       "1         [pineapples, belong, pizza, niggas, nasty]  \n",
       "2  [niggas, talk, women, wear, weave, sick, bitch...  \n",
       "3  [idiot, gonna, work, gotta, flame, stickers, f...  \n",
       "4                   [bruh, fuck, hate, people, like]  "
      ],
      "text/html": "<div>\n<style scoped>\n    .dataframe tbody tr th:only-of-type {\n        vertical-align: middle;\n    }\n\n    .dataframe tbody tr th {\n        vertical-align: top;\n    }\n\n    .dataframe thead th {\n        text-align: right;\n    }\n</style>\n<table border=\"1\" class=\"dataframe\">\n  <thead>\n    <tr style=\"text-align: right;\">\n      <th></th>\n      <th>tweet</th>\n      <th>label</th>\n      <th>tokens</th>\n    </tr>\n  </thead>\n  <tbody>\n    <tr>\n      <th>0</th>\n      <td>I hate er chase because if the Bitch that work...</td>\n      <td>1</td>\n      <td>[hate, chase, bitch, work, literally]</td>\n    </tr>\n    <tr>\n      <th>1</th>\n      <td>RT @nyctophil3: Pineapples do not belong on pi...</td>\n      <td>1</td>\n      <td>[pineapples, belong, pizza, niggas, nasty]</td>\n    </tr>\n    <tr>\n      <th>2</th>\n      <td>Niggas keep talking about women wearing weave ...</td>\n      <td>1</td>\n      <td>[niggas, talk, women, wear, weave, sick, bitch...</td>\n    </tr>\n    <tr>\n      <th>3</th>\n      <td>@vappywave idiot that's not gonna work. you go...</td>\n      <td>1</td>\n      <td>[idiot, gonna, work, gotta, flame, stickers, f...</td>\n    </tr>\n    <tr>\n      <th>4</th>\n      <td>RT @ayevonnn: bruh i fucking hate people like ...</td>\n      <td>1</td>\n      <td>[bruh, fuck, hate, people, like]</td>\n    </tr>\n  </tbody>\n</table>\n</div>"
     },
     "metadata": {},
     "execution_count": 48
    }
   ],
   "source": [
    "# convert string of tokens into tokens list\n",
    "tweets_df['tokens'] = tweets_df.tokens.apply(lambda x: re.split('\\s', x))\n",
    "tweets_df.head()"
   ]
  },
  {
   "cell_type": "code",
   "execution_count": 49,
   "metadata": {},
   "outputs": [
    {
     "output_type": "execute_result",
     "data": {
      "text/plain": [
       "[['hate', 'chase', 'bitch', 'work', 'literally'],\n",
       " ['pineapples', 'belong', 'pizza', 'niggas', 'nasty'],\n",
       " ['niggas', 'talk', 'women', 'wear', 'weave', 'sick', 'bitch', 'fro', 'ass']]"
      ]
     },
     "metadata": {},
     "execution_count": 49
    }
   ],
   "source": [
    "# create a single list of tweet tokens\n",
    "docs = tweets_df['tokens'].tolist()\n",
    "docs[:3]  # view top 3 elements"
   ]
  },
  {
   "cell_type": "code",
   "execution_count": 53,
   "metadata": {},
   "outputs": [
    {
     "output_type": "stream",
     "name": "stdout",
     "text": [
      "In stage 0: transferred 40774 clusters with 10 clusters populated\n",
      "In stage 1: transferred 25844 clusters with 10 clusters populated\n",
      "In stage 2: transferred 12863 clusters with 10 clusters populated\n",
      "In stage 3: transferred 8472 clusters with 10 clusters populated\n",
      "In stage 4: transferred 6317 clusters with 10 clusters populated\n",
      "CPU times: user 1min 6s, sys: 1.08 s, total: 1min 7s\n",
      "Wall time: 1min 15s\n"
     ]
    }
   ],
   "source": [
    "%%time\n",
    "# Train STTM model\n",
    "#    K = number of potential topics\n",
    "#    alpha = controls completeness\n",
    "#    beta =  controls homogeneity \n",
    "#    n_iters = number of iterations\n",
    "mgp = MovieGroupProcess(K=10, alpha=0.1, beta=0.5, n_iters=5)\n",
    "vocab = set(x for doc in docs for x in doc)\n",
    "n_terms = len(vocab)\n",
    "y = mgp.fit(docs, n_terms)\n",
    "\n",
    "# Save model\n",
    "with open('../pickle/10clusters.model', 'wb') as f:\n",
    "    pickle.dump(mgp, f)\n",
    "    f.close()"
   ]
  },
  {
   "cell_type": "code",
   "execution_count": 54,
   "metadata": {},
   "outputs": [],
   "source": [
    "# load in trained model \n",
    "filehandler = open('../pickle/10clusters.model', 'rb')\n",
    "mgp = pickle.load(filehandler)"
   ]
  },
  {
   "cell_type": "code",
   "execution_count": 55,
   "metadata": {},
   "outputs": [],
   "source": [
    "# define helper functions\n",
    "def top_words(cluster_word_distribution, top_cluster, values):\n",
    "    '''prints the top words in each cluster'''\n",
    "    for cluster in top_cluster:\n",
    "        sort_dicts =sorted(mgp.cluster_word_distribution[cluster].items(), key=lambda k: k[1], reverse=True)[:values]\n",
    "        print('Cluster %s : %s'%(cluster,sort_dicts))\n",
    "        print(' — — — — — — — — —')\n",
    "        \n",
    "def cluster_importance(mgp):\n",
    "    '''returns a word-topic matrix[phi] where each value represents\n",
    "    the word importance for that particular cluster;\n",
    "    phi[i][w] would be the importance of word w in topic i.\n",
    "    '''\n",
    "    n_z_w = mgp.cluster_word_distribution\n",
    "    beta, V, K = mgp.beta, mgp.vocab_size, mgp.K\n",
    "    phi = [{} for i in range(K)]\n",
    "    for z in range(K):\n",
    "        for w in n_z_w[z]:\n",
    "            phi[z][w] = (n_z_w[z][w]+beta)/(sum(n_z_w[z].values())+V*beta)\n",
    "    return phi\n",
    "\n",
    "def topic_allocation(df, docs, mgp, topic_dict):\n",
    "    '''allocates all topics to each document in original dataframe,\n",
    "    adding two columns for cluster number and cluster description'''\n",
    "    topic_allocations = []\n",
    "    for doc in tqdm(docs):\n",
    "        topic_label, score = mgp.choose_best_label(doc)\n",
    "        topic_allocations.append(topic_label)\n",
    "\n",
    "    df['cluster'] = topic_allocations\n",
    "\n",
    "    df['topic_name'] = df.cluster.apply(lambda x: get_topic_name(x, topic_dict))\n",
    "    print('Complete. Number of documents with topic allocated: {}'.format(len(df)))\n",
    "\n",
    "def get_topic_name(doc, topic_dict):\n",
    "    '''returns the topic name string value from a dictionary of topics'''\n",
    "    topic_desc = topic_dict[doc]\n",
    "    return topic_desc"
   ]
  },
  {
   "cell_type": "code",
   "execution_count": 56,
   "metadata": {},
   "outputs": [
    {
     "output_type": "stream",
     "name": "stdout",
     "text": [
      "Number of documents per topic : [14362    73   114    28  3716 23591   392  3016   211  1157]\n********************\nMost important clusters (by number of docs inside): [5 0 4 7 9 6 8 2 1 3]\n********************\nCluster 0 : [('china', 10535), ('chinese', 7347), ('virus', 6243), ('ccp', 5478), ('world', 5259)]\n — — — — — — — — —\nCluster 1 : [('wuhan', 82), ('price', 82), ('high', 48), ('cat', 43), ('market', 43)]\n — — — — — — — — —\nCluster 2 : [('fuck', 780), ('china', 497), ('trigger', 17), ('photo', 17), ('cultural', 16)]\n — — — — — — — — —\nCluster 3 : [('communist', 53), ('people', 51), ('million', 34), ('china', 21), ('party', 19)]\n — — — — — — — — —\nCluster 4 : [('bitch', 1612), ('hoe', 657), ('pussy', 353), ('get', 346), ('like', 285)]\n — — — — — — — — —\nCluster 5 : [('bitch', 9948), ('hoe', 3681), ('like', 2879), ('fuck', 2258), ('pussy', 1791)]\n — — — — — — — — —\nCluster 6 : [('yankees', 47), ('jeter', 30), ('derek', 25), ('yellow', 19), ('charlie', 19)]\n — — — — — — — — —\nCluster 7 : [('china', 2101), ('eat', 1940), ('bat', 1152), ('chinese', 1148), ('virus', 771)]\n — — — — — — — — —\nCluster 8 : [('china', 259), ('amp', 100), ('hong', 84), ('kong', 84), ('communist', 74)]\n — — — — — — — — —\nCluster 9 : [('charlie', 138), ('amp', 95), ('idiot', 80), ('trash', 58), ('say', 57)]\n — — — — — — — — —\n"
     ]
    }
   ],
   "source": [
    "doc_count = np.array(mgp.cluster_doc_count)\n",
    "print('Number of documents per topic :', doc_count)\n",
    "print('*'*20)\n",
    "\n",
    "# topics sorted by the number of documents they are allocated to\n",
    "top_index = doc_count.argsort()[-10:][::-1]\n",
    "print('Most important clusters (by number of docs inside):', top_index)\n",
    "print('*'*20)\n",
    "\n",
    "# show the top 5 words in term frequency for each cluster \n",
    "topic_indices = np.arange(start=0, stop=len(doc_count), step=1)\n",
    "top_words(mgp.cluster_word_distribution, topic_indices, 5)"
   ]
  },
  {
   "cell_type": "code",
   "execution_count": 57,
   "metadata": {},
   "outputs": [
    {
     "output_type": "stream",
     "name": "stdout",
     "text": [
      "0.006469573400250941\n0.0618701698339245\n"
     ]
    }
   ],
   "source": [
    "phi = cluster_importance(mgp) # initialize phi matrix\n",
    "\n",
    "# 'coronavirus' term importance for cluster 1 and 0 \n",
    "print(phi[1]['wuhan'])\n",
    "print(phi[0]['china'])"
   ]
  },
  {
   "cell_type": "code",
   "execution_count": null,
   "metadata": {},
   "outputs": [],
   "source": [
    "# define dictionary topics in same sequential order\n",
    "# as resulting clusters from gsdmm model \n",
    "topic_dict = {}\n",
    "topic_names = ['china',\n",
    "               'wuhan',\n",
    "               'fuck',\n",
    "               'communist',\n",
    "               'cancer & heart disease',\n",
    "               'diet & exercise',\n",
    "               'health & medical workers',\n",
    "               'abortion',\n",
    "               'vaping & cigarettes',\n",
    "               'drug costs & opioid crisis']\n",
    "\n",
    "for i, topic_num in enumerate(topic_indices):\n",
    "    topic_dict[topic_num]=topic_names[i]\n",
    "    \n",
    "# allocate topics to original data frame \n",
    "topic_allocation(tweets_df, docs, mgp, topic_dict)"
   ]
  },
  {
   "cell_type": "code",
   "execution_count": null,
   "metadata": {},
   "outputs": [],
   "source": [
    "tweets_df[['tweet', 'username', 'tokens', 'cluster', 'topic_name']].sample(5)"
   ]
  },
  {
   "cell_type": "code",
   "execution_count": null,
   "metadata": {},
   "outputs": [],
   "source": []
  },
  {
   "cell_type": "code",
   "execution_count": null,
   "metadata": {},
   "outputs": [],
   "source": []
  }
 ]
}