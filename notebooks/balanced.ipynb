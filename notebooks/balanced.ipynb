{
 "metadata": {
  "language_info": {
   "codemirror_mode": {
    "name": "ipython",
    "version": 3
   },
   "file_extension": ".py",
   "mimetype": "text/x-python",
   "name": "python",
   "nbconvert_exporter": "python",
   "pygments_lexer": "ipython3",
   "version": "3.9.2"
  },
  "orig_nbformat": 2,
  "kernelspec": {
   "name": "python3",
   "display_name": "Python 3.9.2 64-bit ('learn-env': conda)"
  },
  "interpreter": {
   "hash": "80773cdecc613a186b9eac051636553d2ff0f99c57590601666ed713bd5d0256"
  }
 },
 "nbformat": 4,
 "nbformat_minor": 2,
 "cells": [
  {
   "source": [
    "# Importing Packages"
   ],
   "cell_type": "markdown",
   "metadata": {}
  },
  {
   "cell_type": "code",
   "execution_count": 1,
   "metadata": {},
   "outputs": [],
   "source": [
    "import pandas as pd\n",
    "import numpy as np\n",
    "import pickle\n",
    "import re\n",
    "\n",
    "%reload_ext autoreload\n",
    "%autoreload 2\n",
    "import sys\n",
    "sys.path.append(\"../py\")\n",
    "from utils import *\n",
    "from mgp import *\n",
    "from preprocess import *\n",
    "from sklearn.model_selection import train_test_split"
   ]
  },
  {
   "source": [
    "# Importing Datasets"
   ],
   "cell_type": "markdown",
   "metadata": {}
  },
  {
   "source": [
    "## Aristotle Dataset"
   ],
   "cell_type": "markdown",
   "metadata": {}
  },
  {
   "cell_type": "code",
   "execution_count": 2,
   "metadata": {},
   "outputs": [
    {
     "output_type": "execute_result",
     "data": {
      "text/plain": [
       "                    created_at                  id  \\\n",
       "0     2017-04-07T19:42:40.000Z  850433664890544128   \n",
       "1     2017-04-06T21:39:45.000Z  850100742035836929   \n",
       "2     2017-03-31T13:35:20.000Z  847804507367100416   \n",
       "3     2017-04-06T20:58:20.000Z  850090319165050880   \n",
       "4     2017-04-03T00:00:48.000Z  848686686930382848   \n",
       "...                        ...                 ...   \n",
       "1758  2017-04-08T13:25:50.000Z  850701219568001025   \n",
       "1759  2017-04-04T17:42:11.000Z  849316180670259205   \n",
       "1760  2017-04-05T17:26:51.000Z  849674709763358720   \n",
       "1761  2017-04-04T13:06:00.000Z  849246676854484992   \n",
       "1762  2017-04-05T14:51:08.000Z  849635522389651456   \n",
       "\n",
       "                                                   text           author_id  \n",
       "0     I hate er chase because if the Bitch that work...           399817418  \n",
       "1     RT @nyctophil3: Pineapples do not belong on pi...           928512230  \n",
       "2     Niggas keep talking about women wearing weave ...            46267097  \n",
       "3     @vappywave idiot that's not gonna work. you go...            14413604  \n",
       "4     RT @ayevonnn: bruh i fucking hate people like ...          3137373930  \n",
       "...                                                 ...                 ...  \n",
       "1758  Baekhyun won 'Most Popular Artist of Korea'\\n\\...           465448529  \n",
       "1759  #TripleTalaqArrest 2fgt dis social menace #Tri...           179136092  \n",
       "1760  White nationalists' latest tactic to recruit c...            60473620  \n",
       "1761  We are in a comfortable lead fight against gal...  736124767518986244  \n",
       "1762  Took him less than a minute...!! Gutless grub!...           626656631  \n",
       "\n",
       "[1763 rows x 4 columns]"
      ],
      "text/html": "<div>\n<style scoped>\n    .dataframe tbody tr th:only-of-type {\n        vertical-align: middle;\n    }\n\n    .dataframe tbody tr th {\n        vertical-align: top;\n    }\n\n    .dataframe thead th {\n        text-align: right;\n    }\n</style>\n<table border=\"1\" class=\"dataframe\">\n  <thead>\n    <tr style=\"text-align: right;\">\n      <th></th>\n      <th>created_at</th>\n      <th>id</th>\n      <th>text</th>\n      <th>author_id</th>\n    </tr>\n  </thead>\n  <tbody>\n    <tr>\n      <th>0</th>\n      <td>2017-04-07T19:42:40.000Z</td>\n      <td>850433664890544128</td>\n      <td>I hate er chase because if the Bitch that work...</td>\n      <td>399817418</td>\n    </tr>\n    <tr>\n      <th>1</th>\n      <td>2017-04-06T21:39:45.000Z</td>\n      <td>850100742035836929</td>\n      <td>RT @nyctophil3: Pineapples do not belong on pi...</td>\n      <td>928512230</td>\n    </tr>\n    <tr>\n      <th>2</th>\n      <td>2017-03-31T13:35:20.000Z</td>\n      <td>847804507367100416</td>\n      <td>Niggas keep talking about women wearing weave ...</td>\n      <td>46267097</td>\n    </tr>\n    <tr>\n      <th>3</th>\n      <td>2017-04-06T20:58:20.000Z</td>\n      <td>850090319165050880</td>\n      <td>@vappywave idiot that's not gonna work. you go...</td>\n      <td>14413604</td>\n    </tr>\n    <tr>\n      <th>4</th>\n      <td>2017-04-03T00:00:48.000Z</td>\n      <td>848686686930382848</td>\n      <td>RT @ayevonnn: bruh i fucking hate people like ...</td>\n      <td>3137373930</td>\n    </tr>\n    <tr>\n      <th>...</th>\n      <td>...</td>\n      <td>...</td>\n      <td>...</td>\n      <td>...</td>\n    </tr>\n    <tr>\n      <th>1758</th>\n      <td>2017-04-08T13:25:50.000Z</td>\n      <td>850701219568001025</td>\n      <td>Baekhyun won 'Most Popular Artist of Korea'\\n\\...</td>\n      <td>465448529</td>\n    </tr>\n    <tr>\n      <th>1759</th>\n      <td>2017-04-04T17:42:11.000Z</td>\n      <td>849316180670259205</td>\n      <td>#TripleTalaqArrest 2fgt dis social menace #Tri...</td>\n      <td>179136092</td>\n    </tr>\n    <tr>\n      <th>1760</th>\n      <td>2017-04-05T17:26:51.000Z</td>\n      <td>849674709763358720</td>\n      <td>White nationalists' latest tactic to recruit c...</td>\n      <td>60473620</td>\n    </tr>\n    <tr>\n      <th>1761</th>\n      <td>2017-04-04T13:06:00.000Z</td>\n      <td>849246676854484992</td>\n      <td>We are in a comfortable lead fight against gal...</td>\n      <td>736124767518986244</td>\n    </tr>\n    <tr>\n      <th>1762</th>\n      <td>2017-04-05T14:51:08.000Z</td>\n      <td>849635522389651456</td>\n      <td>Took him less than a minute...!! Gutless grub!...</td>\n      <td>626656631</td>\n    </tr>\n  </tbody>\n</table>\n<p>1763 rows × 4 columns</p>\n</div>"
     },
     "metadata": {},
     "execution_count": 2
    }
   ],
   "source": [
    "df1 = pickle.load(open(\"../pickle/aristotle.pickle\", \"rb\"))\n",
    "df1"
   ]
  },
  {
   "cell_type": "code",
   "execution_count": 3,
   "metadata": {},
   "outputs": [
    {
     "output_type": "execute_result",
     "data": {
      "text/plain": [
       "                                                text  label\n",
       "0  I hate er chase because if the Bitch that work...      1\n",
       "1  RT @nyctophil3: Pineapples do not belong on pi...      1\n",
       "2  Niggas keep talking about women wearing weave ...      1\n",
       "3  @vappywave idiot that's not gonna work. you go...      1\n",
       "4  RT @ayevonnn: bruh i fucking hate people like ...      1"
      ],
      "text/html": "<div>\n<style scoped>\n    .dataframe tbody tr th:only-of-type {\n        vertical-align: middle;\n    }\n\n    .dataframe tbody tr th {\n        vertical-align: top;\n    }\n\n    .dataframe thead th {\n        text-align: right;\n    }\n</style>\n<table border=\"1\" class=\"dataframe\">\n  <thead>\n    <tr style=\"text-align: right;\">\n      <th></th>\n      <th>text</th>\n      <th>label</th>\n    </tr>\n  </thead>\n  <tbody>\n    <tr>\n      <th>0</th>\n      <td>I hate er chase because if the Bitch that work...</td>\n      <td>1</td>\n    </tr>\n    <tr>\n      <th>1</th>\n      <td>RT @nyctophil3: Pineapples do not belong on pi...</td>\n      <td>1</td>\n    </tr>\n    <tr>\n      <th>2</th>\n      <td>Niggas keep talking about women wearing weave ...</td>\n      <td>1</td>\n    </tr>\n    <tr>\n      <th>3</th>\n      <td>@vappywave idiot that's not gonna work. you go...</td>\n      <td>1</td>\n    </tr>\n    <tr>\n      <th>4</th>\n      <td>RT @ayevonnn: bruh i fucking hate people like ...</td>\n      <td>1</td>\n    </tr>\n  </tbody>\n</table>\n</div>"
     },
     "metadata": {},
     "execution_count": 3
    }
   ],
   "source": [
    "df1['label'] = 1\n",
    "df1 = df1.drop(columns=['author_id', 'created_at', 'id'], axis=1)\n",
    "df1.head()"
   ]
  },
  {
   "source": [
    "## Copenhagen Dataset"
   ],
   "cell_type": "markdown",
   "metadata": {}
  },
  {
   "cell_type": "code",
   "execution_count": 4,
   "metadata": {},
   "outputs": [
    {
     "output_type": "execute_result",
     "data": {
      "text/plain": [
       "                                                   text   author_id  \\\n",
       "0     Drasko they didn't cook half a bird you idiot ...   110114783   \n",
       "1     Hopefully someone cooks Drasko in the next ep ...    38650214   \n",
       "2     of course you were born in serbia...you're as ...  2587278392   \n",
       "3     These girls are the equivalent of the irritati...  2601524623   \n",
       "4     RT @YesYoureRacist: At least you're only a tin...   930620467   \n",
       "...                                                 ...         ...   \n",
       "2734  RT @Superjutah: @MT8_9 £34,000 is £9000 above ...  2756873076   \n",
       "2735  RT @DufresneFrank: “@gabystama: @DufresneFrank...  2756873076   \n",
       "2736  RT @BoycottBrandy: @ActionFlickDoc this person...  2756873076   \n",
       "2737  RT @Lyall: Patriarchy™ will expel me if I divu...  2756873076   \n",
       "2738  RT @AsheSchow: Women’s Studies: Learn how to t...  2756873076   \n",
       "\n",
       "                      id                created_at  \n",
       "0     572341498827522049  2015-03-02T10:23:41.000Z  \n",
       "1     572340476503724032  2015-03-02T10:19:37.000Z  \n",
       "2     572334712804384768  2015-03-02T09:56:43.000Z  \n",
       "3     572332655397629952  2015-03-02T09:48:33.000Z  \n",
       "4     446460991396917248  2014-03-20T01:39:29.000Z  \n",
       "...                  ...                       ...  \n",
       "2734  569990621315919872  2015-02-23T22:42:08.000Z  \n",
       "2735  570244879265206272  2015-02-24T15:32:28.000Z  \n",
       "2736  571013698111860736  2015-02-26T18:27:29.000Z  \n",
       "2737  571304517930774528  2015-02-27T13:43:06.000Z  \n",
       "2738  575664315627216896  2015-03-11T14:27:22.000Z  \n",
       "\n",
       "[2739 rows x 4 columns]"
      ],
      "text/html": "<div>\n<style scoped>\n    .dataframe tbody tr th:only-of-type {\n        vertical-align: middle;\n    }\n\n    .dataframe tbody tr th {\n        vertical-align: top;\n    }\n\n    .dataframe thead th {\n        text-align: right;\n    }\n</style>\n<table border=\"1\" class=\"dataframe\">\n  <thead>\n    <tr style=\"text-align: right;\">\n      <th></th>\n      <th>text</th>\n      <th>author_id</th>\n      <th>id</th>\n      <th>created_at</th>\n    </tr>\n  </thead>\n  <tbody>\n    <tr>\n      <th>0</th>\n      <td>Drasko they didn't cook half a bird you idiot ...</td>\n      <td>110114783</td>\n      <td>572341498827522049</td>\n      <td>2015-03-02T10:23:41.000Z</td>\n    </tr>\n    <tr>\n      <th>1</th>\n      <td>Hopefully someone cooks Drasko in the next ep ...</td>\n      <td>38650214</td>\n      <td>572340476503724032</td>\n      <td>2015-03-02T10:19:37.000Z</td>\n    </tr>\n    <tr>\n      <th>2</th>\n      <td>of course you were born in serbia...you're as ...</td>\n      <td>2587278392</td>\n      <td>572334712804384768</td>\n      <td>2015-03-02T09:56:43.000Z</td>\n    </tr>\n    <tr>\n      <th>3</th>\n      <td>These girls are the equivalent of the irritati...</td>\n      <td>2601524623</td>\n      <td>572332655397629952</td>\n      <td>2015-03-02T09:48:33.000Z</td>\n    </tr>\n    <tr>\n      <th>4</th>\n      <td>RT @YesYoureRacist: At least you're only a tin...</td>\n      <td>930620467</td>\n      <td>446460991396917248</td>\n      <td>2014-03-20T01:39:29.000Z</td>\n    </tr>\n    <tr>\n      <th>...</th>\n      <td>...</td>\n      <td>...</td>\n      <td>...</td>\n      <td>...</td>\n    </tr>\n    <tr>\n      <th>2734</th>\n      <td>RT @Superjutah: @MT8_9 £34,000 is £9000 above ...</td>\n      <td>2756873076</td>\n      <td>569990621315919872</td>\n      <td>2015-02-23T22:42:08.000Z</td>\n    </tr>\n    <tr>\n      <th>2735</th>\n      <td>RT @DufresneFrank: “@gabystama: @DufresneFrank...</td>\n      <td>2756873076</td>\n      <td>570244879265206272</td>\n      <td>2015-02-24T15:32:28.000Z</td>\n    </tr>\n    <tr>\n      <th>2736</th>\n      <td>RT @BoycottBrandy: @ActionFlickDoc this person...</td>\n      <td>2756873076</td>\n      <td>571013698111860736</td>\n      <td>2015-02-26T18:27:29.000Z</td>\n    </tr>\n    <tr>\n      <th>2737</th>\n      <td>RT @Lyall: Patriarchy™ will expel me if I divu...</td>\n      <td>2756873076</td>\n      <td>571304517930774528</td>\n      <td>2015-02-27T13:43:06.000Z</td>\n    </tr>\n    <tr>\n      <th>2738</th>\n      <td>RT @AsheSchow: Women’s Studies: Learn how to t...</td>\n      <td>2756873076</td>\n      <td>575664315627216896</td>\n      <td>2015-03-11T14:27:22.000Z</td>\n    </tr>\n  </tbody>\n</table>\n<p>2739 rows × 4 columns</p>\n</div>"
     },
     "metadata": {},
     "execution_count": 4
    }
   ],
   "source": [
    "df2 = pickle.load(open(\"../pickle/copenhagen.pickle\", \"rb\"))\n",
    "df2"
   ]
  },
  {
   "cell_type": "code",
   "execution_count": 5,
   "metadata": {},
   "outputs": [
    {
     "output_type": "execute_result",
     "data": {
      "text/plain": [
       "                                                text  label\n",
       "0  Drasko they didn't cook half a bird you idiot ...      1\n",
       "1  Hopefully someone cooks Drasko in the next ep ...      1\n",
       "2  of course you were born in serbia...you're as ...      1\n",
       "3  These girls are the equivalent of the irritati...      1\n",
       "4  RT @YesYoureRacist: At least you're only a tin...      1"
      ],
      "text/html": "<div>\n<style scoped>\n    .dataframe tbody tr th:only-of-type {\n        vertical-align: middle;\n    }\n\n    .dataframe tbody tr th {\n        vertical-align: top;\n    }\n\n    .dataframe thead th {\n        text-align: right;\n    }\n</style>\n<table border=\"1\" class=\"dataframe\">\n  <thead>\n    <tr style=\"text-align: right;\">\n      <th></th>\n      <th>text</th>\n      <th>label</th>\n    </tr>\n  </thead>\n  <tbody>\n    <tr>\n      <th>0</th>\n      <td>Drasko they didn't cook half a bird you idiot ...</td>\n      <td>1</td>\n    </tr>\n    <tr>\n      <th>1</th>\n      <td>Hopefully someone cooks Drasko in the next ep ...</td>\n      <td>1</td>\n    </tr>\n    <tr>\n      <th>2</th>\n      <td>of course you were born in serbia...you're as ...</td>\n      <td>1</td>\n    </tr>\n    <tr>\n      <th>3</th>\n      <td>These girls are the equivalent of the irritati...</td>\n      <td>1</td>\n    </tr>\n    <tr>\n      <th>4</th>\n      <td>RT @YesYoureRacist: At least you're only a tin...</td>\n      <td>1</td>\n    </tr>\n  </tbody>\n</table>\n</div>"
     },
     "metadata": {},
     "execution_count": 5
    }
   ],
   "source": [
    "df2['label'] = 1\n",
    "df2 = df2.drop(columns=['id', 'author_id', 'created_at'], axis=1)\n",
    "df2.head()"
   ]
  },
  {
   "source": [
    "## HASOC Dataset"
   ],
   "cell_type": "markdown",
   "metadata": {}
  },
  {
   "cell_type": "code",
   "execution_count": 6,
   "metadata": {},
   "outputs": [
    {
     "output_type": "execute_result",
     "data": {
      "text/plain": [
       "            text_id                                               text task_1  \\\n",
       "0        hasoc_en_1  #DhoniKeepsTheGlove | WATCH: Sports Minister K...    NOT   \n",
       "1        hasoc_en_2  @politico No. We should remember very clearly ...    HOF   \n",
       "2        hasoc_en_3  @cricketworldcup Guess who would be the winner...    NOT   \n",
       "3        hasoc_en_4  Corbyn is too politically intellectual for #Bo...    NOT   \n",
       "4        hasoc_en_5  All the best to #TeamIndia for another swimmin...    NOT   \n",
       "...             ...                                                ...    ...   \n",
       "5847  hasoc_en_5848  @davidfrum @trueblueusa1 That's cute and all, ...    HOF   \n",
       "5848  hasoc_en_5849  a recession issa comin' #maga #magamyass #fuck...    NOT   \n",
       "5849  hasoc_en_5850  #DoctorsFightBack  Will 'The Mad n Irrational ...    HOF   \n",
       "5850  hasoc_en_5851  #ShiningIndia #educatedindia or more like RUND...    HOF   \n",
       "5851  hasoc_en_5852  Could this be our new Prime Minister?     #Ric...    HOF   \n",
       "\n",
       "     task_2 task_3  \n",
       "0      NONE   NONE  \n",
       "1      HATE    TIN  \n",
       "2      NONE   NONE  \n",
       "3      NONE   NONE  \n",
       "4      NONE   NONE  \n",
       "...     ...    ...  \n",
       "5847   PRFN    UNT  \n",
       "5848   NONE   NONE  \n",
       "5849   OFFN    TIN  \n",
       "5850   OFFN    UNT  \n",
       "5851   PRFN    UNT  \n",
       "\n",
       "[5852 rows x 5 columns]"
      ],
      "text/html": "<div>\n<style scoped>\n    .dataframe tbody tr th:only-of-type {\n        vertical-align: middle;\n    }\n\n    .dataframe tbody tr th {\n        vertical-align: top;\n    }\n\n    .dataframe thead th {\n        text-align: right;\n    }\n</style>\n<table border=\"1\" class=\"dataframe\">\n  <thead>\n    <tr style=\"text-align: right;\">\n      <th></th>\n      <th>text_id</th>\n      <th>text</th>\n      <th>task_1</th>\n      <th>task_2</th>\n      <th>task_3</th>\n    </tr>\n  </thead>\n  <tbody>\n    <tr>\n      <th>0</th>\n      <td>hasoc_en_1</td>\n      <td>#DhoniKeepsTheGlove | WATCH: Sports Minister K...</td>\n      <td>NOT</td>\n      <td>NONE</td>\n      <td>NONE</td>\n    </tr>\n    <tr>\n      <th>1</th>\n      <td>hasoc_en_2</td>\n      <td>@politico No. We should remember very clearly ...</td>\n      <td>HOF</td>\n      <td>HATE</td>\n      <td>TIN</td>\n    </tr>\n    <tr>\n      <th>2</th>\n      <td>hasoc_en_3</td>\n      <td>@cricketworldcup Guess who would be the winner...</td>\n      <td>NOT</td>\n      <td>NONE</td>\n      <td>NONE</td>\n    </tr>\n    <tr>\n      <th>3</th>\n      <td>hasoc_en_4</td>\n      <td>Corbyn is too politically intellectual for #Bo...</td>\n      <td>NOT</td>\n      <td>NONE</td>\n      <td>NONE</td>\n    </tr>\n    <tr>\n      <th>4</th>\n      <td>hasoc_en_5</td>\n      <td>All the best to #TeamIndia for another swimmin...</td>\n      <td>NOT</td>\n      <td>NONE</td>\n      <td>NONE</td>\n    </tr>\n    <tr>\n      <th>...</th>\n      <td>...</td>\n      <td>...</td>\n      <td>...</td>\n      <td>...</td>\n      <td>...</td>\n    </tr>\n    <tr>\n      <th>5847</th>\n      <td>hasoc_en_5848</td>\n      <td>@davidfrum @trueblueusa1 That's cute and all, ...</td>\n      <td>HOF</td>\n      <td>PRFN</td>\n      <td>UNT</td>\n    </tr>\n    <tr>\n      <th>5848</th>\n      <td>hasoc_en_5849</td>\n      <td>a recession issa comin' #maga #magamyass #fuck...</td>\n      <td>NOT</td>\n      <td>NONE</td>\n      <td>NONE</td>\n    </tr>\n    <tr>\n      <th>5849</th>\n      <td>hasoc_en_5850</td>\n      <td>#DoctorsFightBack  Will 'The Mad n Irrational ...</td>\n      <td>HOF</td>\n      <td>OFFN</td>\n      <td>TIN</td>\n    </tr>\n    <tr>\n      <th>5850</th>\n      <td>hasoc_en_5851</td>\n      <td>#ShiningIndia #educatedindia or more like RUND...</td>\n      <td>HOF</td>\n      <td>OFFN</td>\n      <td>UNT</td>\n    </tr>\n    <tr>\n      <th>5851</th>\n      <td>hasoc_en_5852</td>\n      <td>Could this be our new Prime Minister?     #Ric...</td>\n      <td>HOF</td>\n      <td>PRFN</td>\n      <td>UNT</td>\n    </tr>\n  </tbody>\n</table>\n<p>5852 rows × 5 columns</p>\n</div>"
     },
     "metadata": {},
     "execution_count": 6
    }
   ],
   "source": [
    "df3 = pd.read_csv(\"../data/english_dataset.tsv\", delimiter = \"\\t\")\n",
    "df3"
   ]
  },
  {
   "cell_type": "code",
   "execution_count": 7,
   "metadata": {},
   "outputs": [
    {
     "output_type": "execute_result",
     "data": {
      "text/plain": [
       "            text_id                                               text task_1  \\\n",
       "1        hasoc_en_2  @politico No. We should remember very clearly ...    HOF   \n",
       "11      hasoc_en_12  I don’t know how much more I can take! 45 is a...    HOF   \n",
       "23      hasoc_en_24  #ShameOnICC  1. ICC on Dhoni's gloves         ...    HOF   \n",
       "27      hasoc_en_28  Disgusting! And they don’t change their cultur...    HOF   \n",
       "34      hasoc_en_35  @TheRealOJ32 Of all the retired NFL players, w...    HOF   \n",
       "...             ...                                                ...    ...   \n",
       "5840  hasoc_en_5841  Full of fools.. ICC @ICCMediaComms @ICC @crick...    HOF   \n",
       "5842  hasoc_en_5843  The US-Mexican border, where established moral...    HOF   \n",
       "5844  hasoc_en_5845  @ICC All Eng matches are on dry pitches &amp; ...    HOF   \n",
       "5845  hasoc_en_5846  It seems the Rain &amp; thunder god only like ...    HOF   \n",
       "5846  hasoc_en_5847  #Muslim #Rapist Raped 28 #innocent #Girls in 1...    HOF   \n",
       "\n",
       "     task_2 task_3  \n",
       "1      HATE    TIN  \n",
       "11     HATE    TIN  \n",
       "23     HATE    TIN  \n",
       "27     HATE    TIN  \n",
       "34     HATE    TIN  \n",
       "...     ...    ...  \n",
       "5840   HATE    TIN  \n",
       "5842   HATE    TIN  \n",
       "5844   HATE    TIN  \n",
       "5845   HATE    TIN  \n",
       "5846   HATE    UNT  \n",
       "\n",
       "[1143 rows x 5 columns]"
      ],
      "text/html": "<div>\n<style scoped>\n    .dataframe tbody tr th:only-of-type {\n        vertical-align: middle;\n    }\n\n    .dataframe tbody tr th {\n        vertical-align: top;\n    }\n\n    .dataframe thead th {\n        text-align: right;\n    }\n</style>\n<table border=\"1\" class=\"dataframe\">\n  <thead>\n    <tr style=\"text-align: right;\">\n      <th></th>\n      <th>text_id</th>\n      <th>text</th>\n      <th>task_1</th>\n      <th>task_2</th>\n      <th>task_3</th>\n    </tr>\n  </thead>\n  <tbody>\n    <tr>\n      <th>1</th>\n      <td>hasoc_en_2</td>\n      <td>@politico No. We should remember very clearly ...</td>\n      <td>HOF</td>\n      <td>HATE</td>\n      <td>TIN</td>\n    </tr>\n    <tr>\n      <th>11</th>\n      <td>hasoc_en_12</td>\n      <td>I don’t know how much more I can take! 45 is a...</td>\n      <td>HOF</td>\n      <td>HATE</td>\n      <td>TIN</td>\n    </tr>\n    <tr>\n      <th>23</th>\n      <td>hasoc_en_24</td>\n      <td>#ShameOnICC  1. ICC on Dhoni's gloves         ...</td>\n      <td>HOF</td>\n      <td>HATE</td>\n      <td>TIN</td>\n    </tr>\n    <tr>\n      <th>27</th>\n      <td>hasoc_en_28</td>\n      <td>Disgusting! And they don’t change their cultur...</td>\n      <td>HOF</td>\n      <td>HATE</td>\n      <td>TIN</td>\n    </tr>\n    <tr>\n      <th>34</th>\n      <td>hasoc_en_35</td>\n      <td>@TheRealOJ32 Of all the retired NFL players, w...</td>\n      <td>HOF</td>\n      <td>HATE</td>\n      <td>TIN</td>\n    </tr>\n    <tr>\n      <th>...</th>\n      <td>...</td>\n      <td>...</td>\n      <td>...</td>\n      <td>...</td>\n      <td>...</td>\n    </tr>\n    <tr>\n      <th>5840</th>\n      <td>hasoc_en_5841</td>\n      <td>Full of fools.. ICC @ICCMediaComms @ICC @crick...</td>\n      <td>HOF</td>\n      <td>HATE</td>\n      <td>TIN</td>\n    </tr>\n    <tr>\n      <th>5842</th>\n      <td>hasoc_en_5843</td>\n      <td>The US-Mexican border, where established moral...</td>\n      <td>HOF</td>\n      <td>HATE</td>\n      <td>TIN</td>\n    </tr>\n    <tr>\n      <th>5844</th>\n      <td>hasoc_en_5845</td>\n      <td>@ICC All Eng matches are on dry pitches &amp;amp; ...</td>\n      <td>HOF</td>\n      <td>HATE</td>\n      <td>TIN</td>\n    </tr>\n    <tr>\n      <th>5845</th>\n      <td>hasoc_en_5846</td>\n      <td>It seems the Rain &amp;amp; thunder god only like ...</td>\n      <td>HOF</td>\n      <td>HATE</td>\n      <td>TIN</td>\n    </tr>\n    <tr>\n      <th>5846</th>\n      <td>hasoc_en_5847</td>\n      <td>#Muslim #Rapist Raped 28 #innocent #Girls in 1...</td>\n      <td>HOF</td>\n      <td>HATE</td>\n      <td>UNT</td>\n    </tr>\n  </tbody>\n</table>\n<p>1143 rows × 5 columns</p>\n</div>"
     },
     "metadata": {},
     "execution_count": 7
    }
   ],
   "source": [
    "hasoc_hate = df3[df3.task_2 == 'HATE']\n",
    "hasoc_hate"
   ]
  },
  {
   "cell_type": "code",
   "execution_count": 8,
   "metadata": {},
   "outputs": [
    {
     "output_type": "execute_result",
     "data": {
      "text/plain": [
       "                                                text  label\n",
       "0  #DhoniKeepsTheGlove | WATCH: Sports Minister K...      1\n",
       "1  @politico No. We should remember very clearly ...      1\n",
       "2  @cricketworldcup Guess who would be the winner...      1\n",
       "3  Corbyn is too politically intellectual for #Bo...      1\n",
       "4  All the best to #TeamIndia for another swimmin...      1"
      ],
      "text/html": "<div>\n<style scoped>\n    .dataframe tbody tr th:only-of-type {\n        vertical-align: middle;\n    }\n\n    .dataframe tbody tr th {\n        vertical-align: top;\n    }\n\n    .dataframe thead th {\n        text-align: right;\n    }\n</style>\n<table border=\"1\" class=\"dataframe\">\n  <thead>\n    <tr style=\"text-align: right;\">\n      <th></th>\n      <th>text</th>\n      <th>label</th>\n    </tr>\n  </thead>\n  <tbody>\n    <tr>\n      <th>0</th>\n      <td>#DhoniKeepsTheGlove | WATCH: Sports Minister K...</td>\n      <td>1</td>\n    </tr>\n    <tr>\n      <th>1</th>\n      <td>@politico No. We should remember very clearly ...</td>\n      <td>1</td>\n    </tr>\n    <tr>\n      <th>2</th>\n      <td>@cricketworldcup Guess who would be the winner...</td>\n      <td>1</td>\n    </tr>\n    <tr>\n      <th>3</th>\n      <td>Corbyn is too politically intellectual for #Bo...</td>\n      <td>1</td>\n    </tr>\n    <tr>\n      <th>4</th>\n      <td>All the best to #TeamIndia for another swimmin...</td>\n      <td>1</td>\n    </tr>\n  </tbody>\n</table>\n</div>"
     },
     "metadata": {},
     "execution_count": 8
    }
   ],
   "source": [
    "df3['label'] = 1\n",
    "df3 = df3[['text', 'label']]\n",
    "df3.head()"
   ]
  },
  {
   "source": [
    "## Original Dataset"
   ],
   "cell_type": "markdown",
   "metadata": {}
  },
  {
   "cell_type": "code",
   "execution_count": 26,
   "metadata": {},
   "outputs": [
    {
     "output_type": "execute_result",
     "data": {
      "text/plain": [
       "   label                                               text\n",
       "0      2  !!! RT @mayasolovely: As a woman you shouldn't...\n",
       "1      1  !!!!! RT @mleew17: boy dats cold...tyga dwn ba...\n",
       "2      1  !!!!!!! RT @UrKindOfBrand Dawg!!!! RT @80sbaby...\n",
       "3      1  !!!!!!!!! RT @C_G_Anderson: @viva_based she lo...\n",
       "4      1  !!!!!!!!!!!!! RT @ShenikaRoberts: The shit you..."
      ],
      "text/html": "<div>\n<style scoped>\n    .dataframe tbody tr th:only-of-type {\n        vertical-align: middle;\n    }\n\n    .dataframe tbody tr th {\n        vertical-align: top;\n    }\n\n    .dataframe thead th {\n        text-align: right;\n    }\n</style>\n<table border=\"1\" class=\"dataframe\">\n  <thead>\n    <tr style=\"text-align: right;\">\n      <th></th>\n      <th>label</th>\n      <th>text</th>\n    </tr>\n  </thead>\n  <tbody>\n    <tr>\n      <th>0</th>\n      <td>2</td>\n      <td>!!! RT @mayasolovely: As a woman you shouldn't...</td>\n    </tr>\n    <tr>\n      <th>1</th>\n      <td>1</td>\n      <td>!!!!! RT @mleew17: boy dats cold...tyga dwn ba...</td>\n    </tr>\n    <tr>\n      <th>2</th>\n      <td>1</td>\n      <td>!!!!!!! RT @UrKindOfBrand Dawg!!!! RT @80sbaby...</td>\n    </tr>\n    <tr>\n      <th>3</th>\n      <td>1</td>\n      <td>!!!!!!!!! RT @C_G_Anderson: @viva_based she lo...</td>\n    </tr>\n    <tr>\n      <th>4</th>\n      <td>1</td>\n      <td>!!!!!!!!!!!!! RT @ShenikaRoberts: The shit you...</td>\n    </tr>\n  </tbody>\n</table>\n</div>"
     },
     "metadata": {},
     "execution_count": 26
    }
   ],
   "source": [
    "df4 = pd.read_csv(\"../data/labeled_data.csv\", index_col=0)\n",
    "df4 = df4.drop(columns=['count', 'hate_speech', 'offensive_language', 'neither'], axis=1)\n",
    "df4.columns = ['label', 'text']\n",
    "df4.head()"
   ]
  },
  {
   "cell_type": "code",
   "execution_count": 27,
   "metadata": {},
   "outputs": [
    {
     "output_type": "execute_result",
     "data": {
      "text/plain": [
       "1    19190\n",
       "2     4163\n",
       "0     1430\n",
       "Name: label, dtype: int64"
      ]
     },
     "metadata": {},
     "execution_count": 27
    }
   ],
   "source": [
    "df4.label.value_counts()"
   ]
  },
  {
   "cell_type": "code",
   "execution_count": 28,
   "metadata": {},
   "outputs": [],
   "source": [
    "df4 = df4.replace({'label': {1: 0, 2: 0, 0: 1}})"
   ]
  },
  {
   "cell_type": "code",
   "execution_count": 29,
   "metadata": {},
   "outputs": [
    {
     "output_type": "execute_result",
     "data": {
      "text/plain": [
       "0    23353\n",
       "1     1430\n",
       "Name: label, dtype: int64"
      ]
     },
     "metadata": {},
     "execution_count": 29
    }
   ],
   "source": [
    "df4.label.value_counts()"
   ]
  },
  {
   "source": [
    "# Combining Dataframes"
   ],
   "cell_type": "markdown",
   "metadata": {}
  },
  {
   "cell_type": "code",
   "execution_count": 39,
   "metadata": {},
   "outputs": [
    {
     "output_type": "execute_result",
     "data": {
      "text/plain": [
       "                                                    text  label\n",
       "0      I hate er chase because if the Bitch that work...      1\n",
       "1      RT @nyctophil3: Pineapples do not belong on pi...      1\n",
       "2      Niggas keep talking about women wearing weave ...      1\n",
       "3      @vappywave idiot that's not gonna work. you go...      1\n",
       "4      RT @ayevonnn: bruh i fucking hate people like ...      1\n",
       "...                                                  ...    ...\n",
       "35132  you's a muthaf***in lie &#8220;@LifeAsKing: @2...      0\n",
       "35133  you've gone and broke the wrong heart baby, an...      0\n",
       "35134  young buck wanna eat!!.. dat nigguh like I ain...      0\n",
       "35135              youu got wild bitches tellin you lies      0\n",
       "35136  ~~Ruffled | Ntac Eileen Dahlia - Beautiful col...      0\n",
       "\n",
       "[35137 rows x 2 columns]"
      ],
      "text/html": "<div>\n<style scoped>\n    .dataframe tbody tr th:only-of-type {\n        vertical-align: middle;\n    }\n\n    .dataframe tbody tr th {\n        vertical-align: top;\n    }\n\n    .dataframe thead th {\n        text-align: right;\n    }\n</style>\n<table border=\"1\" class=\"dataframe\">\n  <thead>\n    <tr style=\"text-align: right;\">\n      <th></th>\n      <th>text</th>\n      <th>label</th>\n    </tr>\n  </thead>\n  <tbody>\n    <tr>\n      <th>0</th>\n      <td>I hate er chase because if the Bitch that work...</td>\n      <td>1</td>\n    </tr>\n    <tr>\n      <th>1</th>\n      <td>RT @nyctophil3: Pineapples do not belong on pi...</td>\n      <td>1</td>\n    </tr>\n    <tr>\n      <th>2</th>\n      <td>Niggas keep talking about women wearing weave ...</td>\n      <td>1</td>\n    </tr>\n    <tr>\n      <th>3</th>\n      <td>@vappywave idiot that's not gonna work. you go...</td>\n      <td>1</td>\n    </tr>\n    <tr>\n      <th>4</th>\n      <td>RT @ayevonnn: bruh i fucking hate people like ...</td>\n      <td>1</td>\n    </tr>\n    <tr>\n      <th>...</th>\n      <td>...</td>\n      <td>...</td>\n    </tr>\n    <tr>\n      <th>35132</th>\n      <td>you's a muthaf***in lie &amp;#8220;@LifeAsKing: @2...</td>\n      <td>0</td>\n    </tr>\n    <tr>\n      <th>35133</th>\n      <td>you've gone and broke the wrong heart baby, an...</td>\n      <td>0</td>\n    </tr>\n    <tr>\n      <th>35134</th>\n      <td>young buck wanna eat!!.. dat nigguh like I ain...</td>\n      <td>0</td>\n    </tr>\n    <tr>\n      <th>35135</th>\n      <td>youu got wild bitches tellin you lies</td>\n      <td>0</td>\n    </tr>\n    <tr>\n      <th>35136</th>\n      <td>~~Ruffled | Ntac Eileen Dahlia - Beautiful col...</td>\n      <td>0</td>\n    </tr>\n  </tbody>\n</table>\n<p>35137 rows × 2 columns</p>\n</div>"
     },
     "metadata": {},
     "execution_count": 39
    }
   ],
   "source": [
    "comb = pd.concat([df1, df2, df3, df4], ignore_index=True)\n",
    "comb"
   ]
  },
  {
   "cell_type": "code",
   "execution_count": 40,
   "metadata": {},
   "outputs": [
    {
     "output_type": "execute_result",
     "data": {
      "text/plain": [
       "0    23353\n",
       "1    11784\n",
       "Name: label, dtype: int64"
      ]
     },
     "metadata": {},
     "execution_count": 40
    }
   ],
   "source": [
    "comb.label.value_counts()"
   ]
  },
  {
   "cell_type": "code",
   "execution_count": 41,
   "metadata": {},
   "outputs": [
    {
     "output_type": "execute_result",
     "data": {
      "text/plain": [
       "                                                text  label\n",
       "0  I hate er chase because if the Bitch that work...      1\n",
       "1  RT @nyctophil3: Pineapples do not belong on pi...      1\n",
       "2  Niggas keep talking about women wearing weave ...      1\n",
       "3  @vappywave idiot that's not gonna work. you go...      1\n",
       "4  RT @ayevonnn: bruh i fucking hate people like ...      1"
      ],
      "text/html": "<div>\n<style scoped>\n    .dataframe tbody tr th:only-of-type {\n        vertical-align: middle;\n    }\n\n    .dataframe tbody tr th {\n        vertical-align: top;\n    }\n\n    .dataframe thead th {\n        text-align: right;\n    }\n</style>\n<table border=\"1\" class=\"dataframe\">\n  <thead>\n    <tr style=\"text-align: right;\">\n      <th></th>\n      <th>text</th>\n      <th>label</th>\n    </tr>\n  </thead>\n  <tbody>\n    <tr>\n      <th>0</th>\n      <td>I hate er chase because if the Bitch that work...</td>\n      <td>1</td>\n    </tr>\n    <tr>\n      <th>1</th>\n      <td>RT @nyctophil3: Pineapples do not belong on pi...</td>\n      <td>1</td>\n    </tr>\n    <tr>\n      <th>2</th>\n      <td>Niggas keep talking about women wearing weave ...</td>\n      <td>1</td>\n    </tr>\n    <tr>\n      <th>3</th>\n      <td>@vappywave idiot that's not gonna work. you go...</td>\n      <td>1</td>\n    </tr>\n    <tr>\n      <th>4</th>\n      <td>RT @ayevonnn: bruh i fucking hate people like ...</td>\n      <td>1</td>\n    </tr>\n  </tbody>\n</table>\n</div>"
     },
     "metadata": {},
     "execution_count": 41
    }
   ],
   "source": [
    "comb.head()"
   ]
  },
  {
   "cell_type": "code",
   "execution_count": 42,
   "metadata": {},
   "outputs": [],
   "source": [
    "comb.columns = ['tweet', 'label']"
   ]
  },
  {
   "source": [
    "# Pickle Out Dataframe"
   ],
   "cell_type": "markdown",
   "metadata": {}
  },
  {
   "cell_type": "code",
   "execution_count": 43,
   "metadata": {},
   "outputs": [],
   "source": [
    "pickle.dump(comb, open(\"../pickle/balanced.pickle\", \"wb\"))"
   ]
  },
  {
   "source": [
    "# Train-Validation-Test"
   ],
   "cell_type": "markdown",
   "metadata": {}
  },
  {
   "cell_type": "code",
   "execution_count": 3,
   "metadata": {},
   "outputs": [
    {
     "output_type": "execute_result",
     "data": {
      "text/plain": [
       "                                               tweet  label\n",
       "0  I hate er chase because if the Bitch that work...      1\n",
       "1  RT @nyctophil3: Pineapples do not belong on pi...      1\n",
       "2  Niggas keep talking about women wearing weave ...      1\n",
       "3  @vappywave idiot that's not gonna work. you go...      1\n",
       "4  RT @ayevonnn: bruh i fucking hate people like ...      1"
      ],
      "text/html": "<div>\n<style scoped>\n    .dataframe tbody tr th:only-of-type {\n        vertical-align: middle;\n    }\n\n    .dataframe tbody tr th {\n        vertical-align: top;\n    }\n\n    .dataframe thead th {\n        text-align: right;\n    }\n</style>\n<table border=\"1\" class=\"dataframe\">\n  <thead>\n    <tr style=\"text-align: right;\">\n      <th></th>\n      <th>tweet</th>\n      <th>label</th>\n    </tr>\n  </thead>\n  <tbody>\n    <tr>\n      <th>0</th>\n      <td>I hate er chase because if the Bitch that work...</td>\n      <td>1</td>\n    </tr>\n    <tr>\n      <th>1</th>\n      <td>RT @nyctophil3: Pineapples do not belong on pi...</td>\n      <td>1</td>\n    </tr>\n    <tr>\n      <th>2</th>\n      <td>Niggas keep talking about women wearing weave ...</td>\n      <td>1</td>\n    </tr>\n    <tr>\n      <th>3</th>\n      <td>@vappywave idiot that's not gonna work. you go...</td>\n      <td>1</td>\n    </tr>\n    <tr>\n      <th>4</th>\n      <td>RT @ayevonnn: bruh i fucking hate people like ...</td>\n      <td>1</td>\n    </tr>\n  </tbody>\n</table>\n</div>"
     },
     "metadata": {},
     "execution_count": 3
    }
   ],
   "source": [
    "df_balanced = pickle.load(open(\"../pickle/balanced.pickle\", \"rb\"))\n",
    "df_balanced.head()"
   ]
  },
  {
   "cell_type": "code",
   "execution_count": 8,
   "metadata": {},
   "outputs": [
    {
     "output_type": "execute_result",
     "data": {
      "text/plain": [
       "                                               tweet  label  \\\n",
       "0  [hate, chase, bitch, work, shes, literally, evil]      1   \n",
       "1   [pineapples, belong, pizza, yall, niggas, nasty]      1   \n",
       "2  [niggas, talk, women, wear, weave, sick, bitch...      1   \n",
       "3  [idiot, thats, gonna, work, gotta, flame, stic...      1   \n",
       "4                   [bruh, fuck, hate, people, like]      1   \n",
       "5  [fuck, sick, watch, republican, party, reward,...      1   \n",
       "6  [dumbass, bronco, fan, swear, hate, fanbase, d...      1   \n",
       "7  [sample, jaw, pull, pistol, nigga, look, dam, ...      1   \n",
       "8                       [litter, youre, bitch, hate]      1   \n",
       "9                     [dont, anger, hairless, nigga]      1   \n",
       "\n",
       "             retweets      callouts  charref hashtags  \n",
       "0                                                      \n",
       "1    'RT @nyctophil3'                                  \n",
       "2                                                      \n",
       "3                      '@vappywave'                    \n",
       "4      'RT @ayevonnn'                                  \n",
       "5       'RT @mattmfm'                                  \n",
       "6                       '@JayFoee_'                    \n",
       "7   'RT @THESLUMPGOD'                                  \n",
       "8  'RT @arianam0lina'                '&amp;'           \n",
       "9       'RT @cybeque'                                  "
      ],
      "text/html": "<div>\n<style scoped>\n    .dataframe tbody tr th:only-of-type {\n        vertical-align: middle;\n    }\n\n    .dataframe tbody tr th {\n        vertical-align: top;\n    }\n\n    .dataframe thead th {\n        text-align: right;\n    }\n</style>\n<table border=\"1\" class=\"dataframe\">\n  <thead>\n    <tr style=\"text-align: right;\">\n      <th></th>\n      <th>tweet</th>\n      <th>label</th>\n      <th>retweets</th>\n      <th>callouts</th>\n      <th>charref</th>\n      <th>hashtags</th>\n    </tr>\n  </thead>\n  <tbody>\n    <tr>\n      <th>0</th>\n      <td>[hate, chase, bitch, work, shes, literally, evil]</td>\n      <td>1</td>\n      <td></td>\n      <td></td>\n      <td></td>\n      <td></td>\n    </tr>\n    <tr>\n      <th>1</th>\n      <td>[pineapples, belong, pizza, yall, niggas, nasty]</td>\n      <td>1</td>\n      <td>'RT @nyctophil3'</td>\n      <td></td>\n      <td></td>\n      <td></td>\n    </tr>\n    <tr>\n      <th>2</th>\n      <td>[niggas, talk, women, wear, weave, sick, bitch...</td>\n      <td>1</td>\n      <td></td>\n      <td></td>\n      <td></td>\n      <td></td>\n    </tr>\n    <tr>\n      <th>3</th>\n      <td>[idiot, thats, gonna, work, gotta, flame, stic...</td>\n      <td>1</td>\n      <td></td>\n      <td>'@vappywave'</td>\n      <td></td>\n      <td></td>\n    </tr>\n    <tr>\n      <th>4</th>\n      <td>[bruh, fuck, hate, people, like]</td>\n      <td>1</td>\n      <td>'RT @ayevonnn'</td>\n      <td></td>\n      <td></td>\n      <td></td>\n    </tr>\n    <tr>\n      <th>5</th>\n      <td>[fuck, sick, watch, republican, party, reward,...</td>\n      <td>1</td>\n      <td>'RT @mattmfm'</td>\n      <td></td>\n      <td></td>\n      <td></td>\n    </tr>\n    <tr>\n      <th>6</th>\n      <td>[dumbass, bronco, fan, swear, hate, fanbase, d...</td>\n      <td>1</td>\n      <td></td>\n      <td>'@JayFoee_'</td>\n      <td></td>\n      <td></td>\n    </tr>\n    <tr>\n      <th>7</th>\n      <td>[sample, jaw, pull, pistol, nigga, look, dam, ...</td>\n      <td>1</td>\n      <td>'RT @THESLUMPGOD'</td>\n      <td></td>\n      <td></td>\n      <td></td>\n    </tr>\n    <tr>\n      <th>8</th>\n      <td>[litter, youre, bitch, hate]</td>\n      <td>1</td>\n      <td>'RT @arianam0lina'</td>\n      <td></td>\n      <td>'&amp;amp;'</td>\n      <td></td>\n    </tr>\n    <tr>\n      <th>9</th>\n      <td>[dont, anger, hairless, nigga]</td>\n      <td>1</td>\n      <td>'RT @cybeque'</td>\n      <td></td>\n      <td></td>\n      <td></td>\n    </tr>\n  </tbody>\n</table>\n</div>"
     },
     "metadata": {},
     "execution_count": 8
    }
   ],
   "source": [
    "preprocess_tweets(df_balanced, 'tweet')\n",
    "df_balanced.head(10)"
   ]
  },
  {
   "cell_type": "code",
   "execution_count": 11,
   "metadata": {},
   "outputs": [],
   "source": [
    "df_bal = df_balanced[['tweet', 'label']] \n",
    "\n",
    "hate = df_bal[df_bal.label == 1]\n",
    "non_hate = df_bal[df_bal.label == 0]\n",
    "\n",
    "X_h = hate.tweet\n",
    "y_h = hate.label\n",
    "X_nh = non_hate.tweet\n",
    "y_nh = non_hate.label\n",
    "\n",
    "X_h_tr, X_h_val, y_h_tr, y_h_val = train_test_split(X_h, y_h, test_size=0.25, random_state=42)\n",
    "X_h_val, X_h_tt, y_h_val, y_h_tt = train_test_split(X_h_val, y_h_val, test_size=0.4, random_state=42)\n",
    "X_nh_tr, X_nh_val, y_nh_tr, y_nh_val = train_test_split(X_nh, y_nh, test_size=0.25, random_state=42)\n",
    "X_nh_val, X_nh_tt, y_nh_val, y_nh_tt = train_test_split(X_nh_val, y_nh_val, test_size=0.4, random_state=42)"
   ]
  },
  {
   "cell_type": "code",
   "execution_count": 12,
   "metadata": {},
   "outputs": [
    {
     "output_type": "execute_result",
     "data": {
      "text/plain": [
       "                                               tweet  label\n",
       "0  [sexist, slightest, women, comedians, allow, a...      1\n",
       "1  [black, drivers, missouri, likely, stop, white...      1\n",
       "2                [agree, thats, worst, form, racism]      1\n",
       "3    [mollas, khokla, desh, bhakts, gandinaaliabuse]      1\n",
       "4  [people, way, association, assassination, die,...      1"
      ],
      "text/html": "<div>\n<style scoped>\n    .dataframe tbody tr th:only-of-type {\n        vertical-align: middle;\n    }\n\n    .dataframe tbody tr th {\n        vertical-align: top;\n    }\n\n    .dataframe thead th {\n        text-align: right;\n    }\n</style>\n<table border=\"1\" class=\"dataframe\">\n  <thead>\n    <tr style=\"text-align: right;\">\n      <th></th>\n      <th>tweet</th>\n      <th>label</th>\n    </tr>\n  </thead>\n  <tbody>\n    <tr>\n      <th>0</th>\n      <td>[sexist, slightest, women, comedians, allow, a...</td>\n      <td>1</td>\n    </tr>\n    <tr>\n      <th>1</th>\n      <td>[black, drivers, missouri, likely, stop, white...</td>\n      <td>1</td>\n    </tr>\n    <tr>\n      <th>2</th>\n      <td>[agree, thats, worst, form, racism]</td>\n      <td>1</td>\n    </tr>\n    <tr>\n      <th>3</th>\n      <td>[mollas, khokla, desh, bhakts, gandinaaliabuse]</td>\n      <td>1</td>\n    </tr>\n    <tr>\n      <th>4</th>\n      <td>[people, way, association, assassination, die,...</td>\n      <td>1</td>\n    </tr>\n  </tbody>\n</table>\n</div>"
     },
     "metadata": {},
     "execution_count": 12
    }
   ],
   "source": [
    "X_tr = pd.concat((X_h_tr, X_nh_tr), ignore_index=True)\n",
    "y_tr = pd.concat((y_h_tr, y_nh_tr), ignore_index=True)\n",
    "train_bal = pd.concat([X_tr, y_tr], axis=1)\n",
    "train_bal.head()"
   ]
  },
  {
   "cell_type": "code",
   "execution_count": 13,
   "metadata": {},
   "outputs": [
    {
     "output_type": "execute_result",
     "data": {
      "text/plain": [
       "                                               tweet  label\n",
       "0  [pakistan, wear, black, band, oppose, israel, ...      1\n",
       "1  [winner, popular, vote, russian, conspiracy, r...      1\n",
       "2                                  [girl, fucktrump]      1\n",
       "3  [iphone, pocket, scratchy, things, scratch, sc...      1\n",
       "4                                    [beyonc, trash]      1"
      ],
      "text/html": "<div>\n<style scoped>\n    .dataframe tbody tr th:only-of-type {\n        vertical-align: middle;\n    }\n\n    .dataframe tbody tr th {\n        vertical-align: top;\n    }\n\n    .dataframe thead th {\n        text-align: right;\n    }\n</style>\n<table border=\"1\" class=\"dataframe\">\n  <thead>\n    <tr style=\"text-align: right;\">\n      <th></th>\n      <th>tweet</th>\n      <th>label</th>\n    </tr>\n  </thead>\n  <tbody>\n    <tr>\n      <th>0</th>\n      <td>[pakistan, wear, black, band, oppose, israel, ...</td>\n      <td>1</td>\n    </tr>\n    <tr>\n      <th>1</th>\n      <td>[winner, popular, vote, russian, conspiracy, r...</td>\n      <td>1</td>\n    </tr>\n    <tr>\n      <th>2</th>\n      <td>[girl, fucktrump]</td>\n      <td>1</td>\n    </tr>\n    <tr>\n      <th>3</th>\n      <td>[iphone, pocket, scratchy, things, scratch, sc...</td>\n      <td>1</td>\n    </tr>\n    <tr>\n      <th>4</th>\n      <td>[beyonc, trash]</td>\n      <td>1</td>\n    </tr>\n  </tbody>\n</table>\n</div>"
     },
     "metadata": {},
     "execution_count": 13
    }
   ],
   "source": [
    "X_val = pd.concat((X_h_val, X_nh_val), ignore_index=True)\n",
    "y_val = pd.concat((y_h_val, y_nh_val), ignore_index=True)\n",
    "val_bal = pd.concat([X_val, y_val], axis=1)\n",
    "val_bal.head()"
   ]
  },
  {
   "cell_type": "code",
   "execution_count": 14,
   "metadata": {},
   "outputs": [
    {
     "output_type": "execute_result",
     "data": {
      "text/plain": [
       "                                               tweet  label\n",
       "0  [people, faggot, like, bear, way, big, douche,...      1\n",
       "1  [far, girls, team, female, team, place, major,...      1\n",
       "2                       [legally, force, parenthood]      1\n",
       "3                          [simple, trumpisatraitor]      1\n",
       "4  [punishment, rapists, hang, till, death, publi...      1"
      ],
      "text/html": "<div>\n<style scoped>\n    .dataframe tbody tr th:only-of-type {\n        vertical-align: middle;\n    }\n\n    .dataframe tbody tr th {\n        vertical-align: top;\n    }\n\n    .dataframe thead th {\n        text-align: right;\n    }\n</style>\n<table border=\"1\" class=\"dataframe\">\n  <thead>\n    <tr style=\"text-align: right;\">\n      <th></th>\n      <th>tweet</th>\n      <th>label</th>\n    </tr>\n  </thead>\n  <tbody>\n    <tr>\n      <th>0</th>\n      <td>[people, faggot, like, bear, way, big, douche,...</td>\n      <td>1</td>\n    </tr>\n    <tr>\n      <th>1</th>\n      <td>[far, girls, team, female, team, place, major,...</td>\n      <td>1</td>\n    </tr>\n    <tr>\n      <th>2</th>\n      <td>[legally, force, parenthood]</td>\n      <td>1</td>\n    </tr>\n    <tr>\n      <th>3</th>\n      <td>[simple, trumpisatraitor]</td>\n      <td>1</td>\n    </tr>\n    <tr>\n      <th>4</th>\n      <td>[punishment, rapists, hang, till, death, publi...</td>\n      <td>1</td>\n    </tr>\n  </tbody>\n</table>\n</div>"
     },
     "metadata": {},
     "execution_count": 14
    }
   ],
   "source": [
    "X_tt = pd.concat((X_h_tt, X_nh_tt), ignore_index=True)\n",
    "y_tt = pd.concat((y_h_tt, y_nh_tt), ignore_index=True)\n",
    "test_bal = pd.concat([X_tt, y_tt], axis=1)\n",
    "test_bal.head()"
   ]
  },
  {
   "cell_type": "code",
   "execution_count": null,
   "metadata": {},
   "outputs": [],
   "source": [
    "pickle.dump(test_bal, open(\"../pickle/test_bal.pickle\", \"wb\"))\n",
    "pickle.dump(val_bal, open(\"../pickle/val_bal.pickle\", \"wb\"))\n",
    "pickle.dump(train_bal, open(\"../pickle/train_bal.pickle\", \"wb\"))"
   ]
  }
 ]
}