{
 "metadata": {
  "language_info": {
   "codemirror_mode": {
    "name": "ipython",
    "version": 3
   },
   "file_extension": ".py",
   "mimetype": "text/x-python",
   "name": "python",
   "nbconvert_exporter": "python",
   "pygments_lexer": "ipython3",
   "version": "3.6.13"
  },
  "orig_nbformat": 2,
  "kernelspec": {
   "name": "python3613jvsc74a57bd06555959b910bb7a8fb6f47a2dcc8365b919d4ffbc6f566ad680344e31443b77e",
   "display_name": "Python 3.6.13 64-bit ('nn-env': conda)"
  }
 },
 "nbformat": 4,
 "nbformat_minor": 2,
 "cells": [
  {
   "cell_type": "code",
   "execution_count": 1,
   "metadata": {},
   "outputs": [],
   "source": [
    "import matplotlib.pyplot as plt\n",
    "import pandas as pd\n",
    "import numpy as np\n",
    "import random\n",
    "from sklearn.model_selection import train_test_split\n",
    "from keras.utils.np_utils import to_categorical\n",
    "from sklearn import preprocessing\n",
    "from keras.preprocessing.text import Tokenizer\n",
    "from keras import models\n",
    "from keras import layers\n",
    "from keras import optimizers\n",
    "import pickle"
   ]
  },
  {
   "cell_type": "code",
   "execution_count": 9,
   "metadata": {},
   "outputs": [
    {
     "output_type": "execute_result",
     "data": {
      "text/plain": [
       "                                                   tweet  target  \\\n",
       "0      big night  wcvb martha coakleycharlie baker de...       0   \n",
       "1      not one bitch  texting  right now followers in...       0   \n",
       "2       going  miss these bitches  much far right she...       0   \n",
       "3                            hope shes larger than  bird       0   \n",
       "4       all went through  much shit together  miss th...       0   \n",
       "...                                                  ...     ...   \n",
       "18582  the last atbat  yankee stadium thanks for maki...       0   \n",
       "18583  lmfaoooo yooo  lost  elevator pass now  cant e...       0   \n",
       "18584  porn android iphone ipad sex xxx anal hardcore...       0   \n",
       "18585  just when  thought justin bieber couldnt  anym...       0   \n",
       "18586      bitches ain  shit and they ain  saying nothin       0   \n",
       "\n",
       "                                                     lem  \n",
       "0      big night wcvb martha coakleycharlie baker deb...  \n",
       "1      not one bitch texting right now follower inch ...  \n",
       "2      going miss these bitch much far right she rest...  \n",
       "3                             hope shes larger than bird  \n",
       "4      all went through much shit together miss them ...  \n",
       "...                                                  ...  \n",
       "18582  the last atbat yankee stadium thanks for makin...  \n",
       "18583  lmfaoooo yooo lost elevator pas now cant even ...  \n",
       "18584  porn android iphone ipad sex xxx anal hardcore...  \n",
       "18585  just when thought justin bieber couldnt anymor...  \n",
       "18586          bitch ain shit and they ain saying nothin  \n",
       "\n",
       "[18587 rows x 3 columns]"
      ],
      "text/html": "<div>\n<style scoped>\n    .dataframe tbody tr th:only-of-type {\n        vertical-align: middle;\n    }\n\n    .dataframe tbody tr th {\n        vertical-align: top;\n    }\n\n    .dataframe thead th {\n        text-align: right;\n    }\n</style>\n<table border=\"1\" class=\"dataframe\">\n  <thead>\n    <tr style=\"text-align: right;\">\n      <th></th>\n      <th>tweet</th>\n      <th>target</th>\n      <th>lem</th>\n    </tr>\n  </thead>\n  <tbody>\n    <tr>\n      <th>0</th>\n      <td>big night  wcvb martha coakleycharlie baker de...</td>\n      <td>0</td>\n      <td>big night wcvb martha coakleycharlie baker deb...</td>\n    </tr>\n    <tr>\n      <th>1</th>\n      <td>not one bitch  texting  right now followers in...</td>\n      <td>0</td>\n      <td>not one bitch texting right now follower inch ...</td>\n    </tr>\n    <tr>\n      <th>2</th>\n      <td>going  miss these bitches  much far right she...</td>\n      <td>0</td>\n      <td>going miss these bitch much far right she rest...</td>\n    </tr>\n    <tr>\n      <th>3</th>\n      <td>hope shes larger than  bird</td>\n      <td>0</td>\n      <td>hope shes larger than bird</td>\n    </tr>\n    <tr>\n      <th>4</th>\n      <td>all went through  much shit together  miss th...</td>\n      <td>0</td>\n      <td>all went through much shit together miss them ...</td>\n    </tr>\n    <tr>\n      <th>...</th>\n      <td>...</td>\n      <td>...</td>\n      <td>...</td>\n    </tr>\n    <tr>\n      <th>18582</th>\n      <td>the last atbat  yankee stadium thanks for maki...</td>\n      <td>0</td>\n      <td>the last atbat yankee stadium thanks for makin...</td>\n    </tr>\n    <tr>\n      <th>18583</th>\n      <td>lmfaoooo yooo  lost  elevator pass now  cant e...</td>\n      <td>0</td>\n      <td>lmfaoooo yooo lost elevator pas now cant even ...</td>\n    </tr>\n    <tr>\n      <th>18584</th>\n      <td>porn android iphone ipad sex xxx anal hardcore...</td>\n      <td>0</td>\n      <td>porn android iphone ipad sex xxx anal hardcore...</td>\n    </tr>\n    <tr>\n      <th>18585</th>\n      <td>just when  thought justin bieber couldnt  anym...</td>\n      <td>0</td>\n      <td>just when thought justin bieber couldnt anymor...</td>\n    </tr>\n    <tr>\n      <th>18586</th>\n      <td>bitches ain  shit and they ain  saying nothin</td>\n      <td>0</td>\n      <td>bitch ain shit and they ain saying nothin</td>\n    </tr>\n  </tbody>\n</table>\n<p>18587 rows × 3 columns</p>\n</div>"
     },
     "metadata": {},
     "execution_count": 9
    }
   ],
   "source": [
    "train = pickle.load(open(\"../pickle/train.pickle\", \"rb\"))\n",
    "val = pickle.load(open(\"../pickle/val.pickle\", \"rb\"))\n",
    "train"
   ]
  },
  {
   "cell_type": "code",
   "execution_count": 10,
   "metadata": {},
   "outputs": [
    {
     "output_type": "execute_result",
     "data": {
      "text/plain": [
       "                                                  tweet  target  \\\n",
       "0                          got  missed call from  bitch       0   \n",
       "1     fucking with  bad bitch you gone need some mon...       0   \n",
       "2     lol  credit aint  where near good but  know th...       0   \n",
       "3     wipe the cum out  them faggot contact lens  wi...       0   \n",
       "4     niggas cheat  they bitch and dont expect  pay ...       0   \n",
       "...                                                 ...     ...   \n",
       "6191     lol now all  need  sum beacg bod abs pussy boy       0   \n",
       "6192          jus exsposin hoes   whole different level       0   \n",
       "6193  might have  play the tonight for  black hoes y...       0   \n",
       "6194   dads side  the family  ghetto   moms side  th...       0   \n",
       "6195   happens again black pack beats whitey this sh...       1   \n",
       "\n",
       "                                                    lem  \n",
       "0                            got missed call from bitch  \n",
       "1     fucking with bad bitch you gone need some mone...  \n",
       "2     lol credit aint where near good but know the r...  \n",
       "3     wipe the cum out them faggot contact lens wild...  \n",
       "4     nigga cheat they bitch and dont expect pay bac...  \n",
       "...                                                 ...  \n",
       "6191        lol now all need sum beacg bod ab pussy boy  \n",
       "6192             jus exsposin hoe whole different level  \n",
       "6193  might have play the tonight for black hoe you ...  \n",
       "6194  dad side the family ghetto mom side the family...  \n",
       "6195  happens again black pack beat whitey this shou...  \n",
       "\n",
       "[6196 rows x 3 columns]"
      ],
      "text/html": "<div>\n<style scoped>\n    .dataframe tbody tr th:only-of-type {\n        vertical-align: middle;\n    }\n\n    .dataframe tbody tr th {\n        vertical-align: top;\n    }\n\n    .dataframe thead th {\n        text-align: right;\n    }\n</style>\n<table border=\"1\" class=\"dataframe\">\n  <thead>\n    <tr style=\"text-align: right;\">\n      <th></th>\n      <th>tweet</th>\n      <th>target</th>\n      <th>lem</th>\n    </tr>\n  </thead>\n  <tbody>\n    <tr>\n      <th>0</th>\n      <td>got  missed call from  bitch</td>\n      <td>0</td>\n      <td>got missed call from bitch</td>\n    </tr>\n    <tr>\n      <th>1</th>\n      <td>fucking with  bad bitch you gone need some mon...</td>\n      <td>0</td>\n      <td>fucking with bad bitch you gone need some mone...</td>\n    </tr>\n    <tr>\n      <th>2</th>\n      <td>lol  credit aint  where near good but  know th...</td>\n      <td>0</td>\n      <td>lol credit aint where near good but know the r...</td>\n    </tr>\n    <tr>\n      <th>3</th>\n      <td>wipe the cum out  them faggot contact lens  wi...</td>\n      <td>0</td>\n      <td>wipe the cum out them faggot contact lens wild...</td>\n    </tr>\n    <tr>\n      <th>4</th>\n      <td>niggas cheat  they bitch and dont expect  pay ...</td>\n      <td>0</td>\n      <td>nigga cheat they bitch and dont expect pay bac...</td>\n    </tr>\n    <tr>\n      <th>...</th>\n      <td>...</td>\n      <td>...</td>\n      <td>...</td>\n    </tr>\n    <tr>\n      <th>6191</th>\n      <td>lol now all  need  sum beacg bod abs pussy boy</td>\n      <td>0</td>\n      <td>lol now all need sum beacg bod ab pussy boy</td>\n    </tr>\n    <tr>\n      <th>6192</th>\n      <td>jus exsposin hoes   whole different level</td>\n      <td>0</td>\n      <td>jus exsposin hoe whole different level</td>\n    </tr>\n    <tr>\n      <th>6193</th>\n      <td>might have  play the tonight for  black hoes y...</td>\n      <td>0</td>\n      <td>might have play the tonight for black hoe you ...</td>\n    </tr>\n    <tr>\n      <th>6194</th>\n      <td>dads side  the family  ghetto   moms side  th...</td>\n      <td>0</td>\n      <td>dad side the family ghetto mom side the family...</td>\n    </tr>\n    <tr>\n      <th>6195</th>\n      <td>happens again black pack beats whitey this sh...</td>\n      <td>1</td>\n      <td>happens again black pack beat whitey this shou...</td>\n    </tr>\n  </tbody>\n</table>\n<p>6196 rows × 3 columns</p>\n</div>"
     },
     "metadata": {},
     "execution_count": 10
    }
   ],
   "source": [
    "val"
   ]
  },
  {
   "cell_type": "code",
   "execution_count": 4,
   "metadata": {},
   "outputs": [
    {
     "output_type": "execute_result",
     "data": {
      "text/plain": [
       "                                                 lem  target\n",
       "0                           you cute you fancy bitch       0\n",
       "1           dont buy pussy cuz it free bitch buy lac       0\n",
       "2        such trash episode the walking dead tonight       0\n",
       "3  big bitch sayin why eye all stomach bitch why ...       0\n",
       "4  vice president biden his wife are florida toda...       0"
      ],
      "text/html": "<div>\n<style scoped>\n    .dataframe tbody tr th:only-of-type {\n        vertical-align: middle;\n    }\n\n    .dataframe tbody tr th {\n        vertical-align: top;\n    }\n\n    .dataframe thead th {\n        text-align: right;\n    }\n</style>\n<table border=\"1\" class=\"dataframe\">\n  <thead>\n    <tr style=\"text-align: right;\">\n      <th></th>\n      <th>lem</th>\n      <th>target</th>\n    </tr>\n  </thead>\n  <tbody>\n    <tr>\n      <th>0</th>\n      <td>you cute you fancy bitch</td>\n      <td>0</td>\n    </tr>\n    <tr>\n      <th>1</th>\n      <td>dont buy pussy cuz it free bitch buy lac</td>\n      <td>0</td>\n    </tr>\n    <tr>\n      <th>2</th>\n      <td>such trash episode the walking dead tonight</td>\n      <td>0</td>\n    </tr>\n    <tr>\n      <th>3</th>\n      <td>big bitch sayin why eye all stomach bitch why ...</td>\n      <td>0</td>\n    </tr>\n    <tr>\n      <th>4</th>\n      <td>vice president biden his wife are florida toda...</td>\n      <td>0</td>\n    </tr>\n  </tbody>\n</table>\n</div>"
     },
     "metadata": {},
     "execution_count": 4
    }
   ],
   "source": [
    "test = pd.concat([X_tt, y_tt], axis=1)\n",
    "test = test.reset_index(drop=True)\n",
    "test.head()"
   ]
  },
  {
   "cell_type": "code",
   "execution_count": 5,
   "metadata": {},
   "outputs": [
    {
     "output_type": "execute_result",
     "data": {
      "text/plain": [
       "   target                                                lem\n",
       "0       0  big night wcvb martha coakleycharlie baker deb...\n",
       "1       0  not one bitch texting right now follower inch ...\n",
       "2       0  going miss these bitch much far right she rest...\n",
       "3       0                         hope shes larger than bird\n",
       "4       0  all went through much shit together miss them ..."
      ],
      "text/html": "<div>\n<style scoped>\n    .dataframe tbody tr th:only-of-type {\n        vertical-align: middle;\n    }\n\n    .dataframe tbody tr th {\n        vertical-align: top;\n    }\n\n    .dataframe thead th {\n        text-align: right;\n    }\n</style>\n<table border=\"1\" class=\"dataframe\">\n  <thead>\n    <tr style=\"text-align: right;\">\n      <th></th>\n      <th>target</th>\n      <th>lem</th>\n    </tr>\n  </thead>\n  <tbody>\n    <tr>\n      <th>0</th>\n      <td>0</td>\n      <td>big night wcvb martha coakleycharlie baker deb...</td>\n    </tr>\n    <tr>\n      <th>1</th>\n      <td>0</td>\n      <td>not one bitch texting right now follower inch ...</td>\n    </tr>\n    <tr>\n      <th>2</th>\n      <td>0</td>\n      <td>going miss these bitch much far right she rest...</td>\n    </tr>\n    <tr>\n      <th>3</th>\n      <td>0</td>\n      <td>hope shes larger than bird</td>\n    </tr>\n    <tr>\n      <th>4</th>\n      <td>0</td>\n      <td>all went through much shit together miss them ...</td>\n    </tr>\n  </tbody>\n</table>\n</div>"
     },
     "metadata": {},
     "execution_count": 5
    }
   ],
   "source": [
    "train = train.drop(columns=['tweet'], axis=1)\n",
    "train.head()"
   ]
  },
  {
   "cell_type": "code",
   "execution_count": 7,
   "metadata": {},
   "outputs": [],
   "source": [
    "from gensim.models import Word2Vec\n",
    "\n",
    "from tqdm import tqdm\n",
    "tqdm.pandas(desc=\"progress-bar\")\n",
    "from gensim.models import Doc2Vec\n",
    "from gensim.models.doc2vec import LabeledSentence\n",
    "import multiprocessing\n",
    "from sklearn import utils\n"
   ]
  },
  {
   "cell_type": "code",
   "execution_count": 8,
   "metadata": {},
   "outputs": [],
   "source": [
    "def labelize_tweets_ug(tweets,label):\n",
    "    result = []\n",
    "    prefix = label\n",
    "    for i, t in zip(tweets.index, tweets):\n",
    "        result.append(LabeledSentence(t.split(), [prefix + '_%s' % i]))\n",
    "    return result"
   ]
  },
  {
   "cell_type": "code",
   "execution_count": null,
   "metadata": {},
   "outputs": [],
   "source": [
    "all_x = pd.concat"
   ]
  },
  {
   "cell_type": "code",
   "execution_count": null,
   "metadata": {},
   "outputs": [],
   "source": [
    "WWWW"
   ]
  }
 ]
}