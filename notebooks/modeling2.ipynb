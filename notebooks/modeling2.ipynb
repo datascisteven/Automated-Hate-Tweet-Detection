{
 "metadata": {
  "language_info": {
   "codemirror_mode": {
    "name": "ipython",
    "version": 3
   },
   "file_extension": ".py",
   "mimetype": "text/x-python",
   "name": "python",
   "nbconvert_exporter": "python",
   "pygments_lexer": "ipython3",
   "version": "3.6.13-final"
  },
  "orig_nbformat": 2,
  "kernelspec": {
   "name": "python3",
   "display_name": "Python 3",
   "language": "python"
  }
 },
 "nbformat": 4,
 "nbformat_minor": 2,
 "cells": [
  {
   "cell_type": "code",
   "execution_count": 2,
   "metadata": {},
   "outputs": [],
   "source": [
    "import matplotlib.pyplot as plt\n",
    "import pandas as pd\n",
    "import numpy as np\n",
    "import random\n",
    "from sklearn.model_selection import train_test_split\n",
    "from keras.utils.np_utils import to_categorical\n",
    "from sklearn import preprocessing\n",
    "from keras.preprocessing.text import Tokenizer\n",
    "from keras import models\n",
    "from keras import layers\n",
    "from keras import optimizers\n",
    "import pickle"
   ]
  },
  {
   "cell_type": "code",
   "execution_count": 5,
   "metadata": {},
   "outputs": [],
   "source": [
    "train = pickle.load(open(\"../pickle/train.pickle\", \"rb\"))\n",
    "val = pickle.load(open(\"../pickle/val.pickle\", \"rb\"))\n",
    "\n",
    "X = val.lem\n",
    "y = val.target\n",
    "X_val, X_tt, y_val, y_tt = train_test_split(X, y, test_size=0.4, random_state=42)"
   ]
  },
  {
   "cell_type": "code",
   "execution_count": 15,
   "metadata": {},
   "outputs": [
    {
     "output_type": "execute_result",
     "data": {
      "text/plain": [
       "                                                 lem  target\n",
       "0  know game he just gonna make small loss possib...       0\n",
       "1                                        shuddup hoe       0\n",
       "2       bitch with all nigga hmmm she either gay hoe       0\n",
       "3                           put hand you grade bitch       0\n",
       "4   even the bird think this waking early thing bunk       0"
      ],
      "text/html": "<div>\n<style scoped>\n    .dataframe tbody tr th:only-of-type {\n        vertical-align: middle;\n    }\n\n    .dataframe tbody tr th {\n        vertical-align: top;\n    }\n\n    .dataframe thead th {\n        text-align: right;\n    }\n</style>\n<table border=\"1\" class=\"dataframe\">\n  <thead>\n    <tr style=\"text-align: right;\">\n      <th></th>\n      <th>lem</th>\n      <th>target</th>\n    </tr>\n  </thead>\n  <tbody>\n    <tr>\n      <th>0</th>\n      <td>know game he just gonna make small loss possib...</td>\n      <td>0</td>\n    </tr>\n    <tr>\n      <th>1</th>\n      <td>shuddup hoe</td>\n      <td>0</td>\n    </tr>\n    <tr>\n      <th>2</th>\n      <td>bitch with all nigga hmmm she either gay hoe</td>\n      <td>0</td>\n    </tr>\n    <tr>\n      <th>3</th>\n      <td>put hand you grade bitch</td>\n      <td>0</td>\n    </tr>\n    <tr>\n      <th>4</th>\n      <td>even the bird think this waking early thing bunk</td>\n      <td>0</td>\n    </tr>\n  </tbody>\n</table>\n</div>"
     },
     "metadata": {},
     "execution_count": 15
    }
   ],
   "source": [
    "val = pd.concat([X_val, y_val], axis=1)\n",
    "val = val.reset_index(drop=True)\n",
    "val.head()"
   ]
  },
  {
   "cell_type": "code",
   "execution_count": 14,
   "metadata": {},
   "outputs": [
    {
     "output_type": "execute_result",
     "data": {
      "text/plain": [
       "                                                 lem  target\n",
       "0                           you cute you fancy bitch       0\n",
       "1           dont buy pussy cuz it free bitch buy lac       0\n",
       "2        such trash episode the walking dead tonight       0\n",
       "3  big bitch sayin why eye all stomach bitch why ...       0\n",
       "4  vice president biden his wife are florida toda...       0"
      ],
      "text/html": "<div>\n<style scoped>\n    .dataframe tbody tr th:only-of-type {\n        vertical-align: middle;\n    }\n\n    .dataframe tbody tr th {\n        vertical-align: top;\n    }\n\n    .dataframe thead th {\n        text-align: right;\n    }\n</style>\n<table border=\"1\" class=\"dataframe\">\n  <thead>\n    <tr style=\"text-align: right;\">\n      <th></th>\n      <th>lem</th>\n      <th>target</th>\n    </tr>\n  </thead>\n  <tbody>\n    <tr>\n      <th>0</th>\n      <td>you cute you fancy bitch</td>\n      <td>0</td>\n    </tr>\n    <tr>\n      <th>1</th>\n      <td>dont buy pussy cuz it free bitch buy lac</td>\n      <td>0</td>\n    </tr>\n    <tr>\n      <th>2</th>\n      <td>such trash episode the walking dead tonight</td>\n      <td>0</td>\n    </tr>\n    <tr>\n      <th>3</th>\n      <td>big bitch sayin why eye all stomach bitch why ...</td>\n      <td>0</td>\n    </tr>\n    <tr>\n      <th>4</th>\n      <td>vice president biden his wife are florida toda...</td>\n      <td>0</td>\n    </tr>\n  </tbody>\n</table>\n</div>"
     },
     "metadata": {},
     "execution_count": 14
    }
   ],
   "source": [
    "test = pd.concat([X_tt, y_tt], axis=1)\n",
    "test = test.reset_index(drop=True)\n",
    "test.head()"
   ]
  },
  {
   "cell_type": "code",
   "execution_count": 16,
   "metadata": {},
   "outputs": [
    {
     "output_type": "execute_result",
     "data": {
      "text/plain": [
       "   target                                                lem\n",
       "0       0  big night wcvb martha coakleycharlie baker deb...\n",
       "1       0  not one bitch texting right now follower inch ...\n",
       "2       0  going miss these bitch much far right she rest...\n",
       "3       0                         hope shes larger than bird\n",
       "4       0  all went through much shit together miss them ..."
      ],
      "text/html": "<div>\n<style scoped>\n    .dataframe tbody tr th:only-of-type {\n        vertical-align: middle;\n    }\n\n    .dataframe tbody tr th {\n        vertical-align: top;\n    }\n\n    .dataframe thead th {\n        text-align: right;\n    }\n</style>\n<table border=\"1\" class=\"dataframe\">\n  <thead>\n    <tr style=\"text-align: right;\">\n      <th></th>\n      <th>target</th>\n      <th>lem</th>\n    </tr>\n  </thead>\n  <tbody>\n    <tr>\n      <th>0</th>\n      <td>0</td>\n      <td>big night wcvb martha coakleycharlie baker deb...</td>\n    </tr>\n    <tr>\n      <th>1</th>\n      <td>0</td>\n      <td>not one bitch texting right now follower inch ...</td>\n    </tr>\n    <tr>\n      <th>2</th>\n      <td>0</td>\n      <td>going miss these bitch much far right she rest...</td>\n    </tr>\n    <tr>\n      <th>3</th>\n      <td>0</td>\n      <td>hope shes larger than bird</td>\n    </tr>\n    <tr>\n      <th>4</th>\n      <td>0</td>\n      <td>all went through much shit together miss them ...</td>\n    </tr>\n  </tbody>\n</table>\n</div>"
     },
     "metadata": {},
     "execution_count": 16
    }
   ],
   "source": [
    "train = train.drop(columns=['tweet'], axis=1)\n",
    "train.head()"
   ]
  },
  {
   "cell_type": "code",
   "execution_count": null,
   "metadata": {},
   "outputs": [],
   "source": [
    "from gensim.models import Word2Vec\n",
    "model = Word2Vec()"
   ]
  }
 ]
}