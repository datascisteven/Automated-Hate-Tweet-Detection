{
 "metadata": {
  "language_info": {
   "codemirror_mode": {
    "name": "ipython",
    "version": 3
   },
   "file_extension": ".py",
   "mimetype": "text/x-python",
   "name": "python",
   "nbconvert_exporter": "python",
   "pygments_lexer": "ipython3",
   "version": "3.9.4"
  },
  "orig_nbformat": 4,
  "kernelspec": {
   "name": "python3",
   "display_name": "Python 3.9.4 64-bit ('learn-env')"
  },
  "interpreter": {
   "hash": "80773cdecc613a186b9eac051636553d2ff0f99c57590601666ed713bd5d0256"
  }
 },
 "nbformat": 4,
 "nbformat_minor": 2,
 "cells": [
  {
   "cell_type": "code",
   "execution_count": 1,
   "metadata": {},
   "outputs": [],
   "source": [
    "from sklearn.neighbors import KNeighborsClassifier\n",
    "from sklearn.pipeline import Pipeline\n",
    "from sklearn import metrics\n",
    "from sklearn.feature_extraction.text import CountVectorizer\n",
    "from sklearn.feature_extraction.text import TfidfTransformer\n",
    "from sklearn.datasets import fetch_20newsgroups\n",
    "\n",
    "newsgroups_train = fetch_20newsgroups(subset='train')\n",
    "newsgroups_test = fetch_20newsgroups(subset='test')\n"
   ]
  },
  {
   "cell_type": "code",
   "execution_count": 2,
   "metadata": {},
   "outputs": [],
   "source": [
    "X_train = newsgroups_train.data\n",
    "X_test = newsgroups_test.data\n",
    "y_train = newsgroups_train.target\n",
    "y_test = newsgroups_test.target\n"
   ]
  },
  {
   "cell_type": "code",
   "execution_count": 3,
   "metadata": {},
   "outputs": [
    {
     "output_type": "execute_result",
     "data": {
      "text/plain": [
       "t \"apacgw\" means suicide.  You see, since Judas\\' hanging was\\nsuccessful, he could not have spent the money mentioned in John 13:29, because\\nMatthew and Mark explicitly say the betrayal was on the high holy day (ie:\\nPassover), and thus he could not have spent the money before killing himself\\nthe next day.  Thus the money which bought the \"Field of Blood\" would have to\\nhave been the 30 pieces of silver (Of course he got the 30 pieces of silver\\nthat night as well, and thus couldn\\'t have spent that either.  Oh dear, I\\nbelieve that the house of cards is comming down). \\n\\nMaybe we should at this point, discuss now whether Jesus was crucified on\\nFriday or Saturday as that is now part of the argument about Judas.\\n\\nBy the way, as to where the prophesy of the Potter\\'s field came from (ie: the\\nmention of it in Matthew), you say:\\n\\n> Please, when we are done with this study on his death, remind me to discuss\\n> this with you.\\n\\nI am reminding you now to discuss it now. It\\'s all part of the same verse we\\nare discussing, and I wish you would quit procrastinating and sidestepping \\nthese issues.\\n \\n\\t\\t\\t\\tLater,\\n\\n\\t\\t\\t\\tDave Butler\\n\\n\\tA wise man proportions his belief to the evidence.\\n\\t\\t\\t\\tDavid Hume, Philosopher\\n\\t\\t\\t\\tAn Inquiry Concerning Human Understanding\\n\\n    PS. I would note again, that you are not stating that that Bible\\n    is not possibly inerrant; you are stating that it *IS* inerrant.\\n    Since you have been, by your own admission, presenting merely \"possible\"\\n    reconciliations (I of course don\\'t rate them that highly), then the \\n    best you can do is say that the Bible is \"possibly\" inerrant, not that \\n    it *is* inerrant.\\n',\n",
       " 'From: august1@server.uwindsor.ca (AUGUSTYN  ROBERT         )\\nSubject: Address interliving?\\nOrganization: University of Windsor, Ontario, Canada\\nLines: 4\\n\\nWhat is address interliving? and memmory modules  interliving?\\nThanks in advance for the info.\\nRobert.\\n\\n',\n",
       " 'From: lli+@cs.cmu.edu (Lori Iannamico)\\nSubject: Pens box score 4/14\\nNntp-Posting-Host: lli.mach.cs.cmu.edu\\nOrganization: School of Computer Science, Carnegie Mellon\\nLines: 44\\n\\nPens-6 NJ Devils-6\\n\\nFIRST PERIOD: SCORING: 1, Pittsburgh, Daniels(Needham, Tippett)4:14.\\n2, NJ Devils, C. Lemieux(Semak, Driver)10:19.  3, Pittsburgh, Stevens\\n(Tocchet, Murphy)12:40ppg.  4, NJ Devils, Zelepukin(Driver, Niedermayer)\\n17:26.  PENALTIES: PGH, Stevens(roughing)1:30.  NJD, Pellerin-double\\nminor(cross-checking)1:30.  NJD, Zelepukin(tripping)7:21.  NJD,\\nStasny(holding)11:15.  PGH, Taglianetti(roughing)13:51.  NJD, Lemieux\\n(roughing)13:51.  PGH, Jagr(tripping)15:23.\\n\\nSECOND PERIOD: SCORING: 5, Pittsburgh, Lemieux(Murphy, Tocchet)1:42.\\n6, NJ Devils, Semak(Lemieux, Zelepukin)2:27.  7, Pittsburgh, McEachern\\n(Jagr, Barrasso)4:24.  8, NJD, Stevens(Guerin, Pellerin)5:45.  9,\\nPittsburgh, Lemieux(unassisted)12:40shg.  10, NJ Devils, Richer\\n(Nicholls)15:53.  11, NJ Devils, Lemieux(Zelepukin)17:40.  PENALTIES:\\nPGH, Stevens(roughing)3:06.  NJD, McKay(roughing)3:06.  PGH, Mullen\\n(hooking)10:42.  PGH, Tocchet(roughing)12:06.  NJD, Stevens(slashing)\\n12:06.  NJD, Lemieux(unsportsmanlike conduct)12:40.  PGH, U.\\nSamuelsson(cross checking)20:00.  PGH, Barrasso-double minor(spearing)\\nserved by McEachern, 20:00.  NJD, Holik(cross checking)20:00.  NJD,\\nLemieux(roughing)20:00.\\n\\nTHIRD PERIOD: SCORING: 12, Pittsburgh, Mullen(Jagr, Lemieux)18:54.\\nPENALTIES: NJD, Daneyko(interference)3:37.  PGH, Stevens(roughing)\\n9:18.  NJD, Holik(roughing)9:18.  PGH, match penalty-game misconduct,9:50.\\nNJD, Zelepukin(tripping)12:01.  PGH, Stevens(roughing)18:41.  NJD,\\nDaneyko(roughing)18:41.\\n\\nOVERTIME: SCORING: No scoring.  PENALTIES: No penalties.\\n\\nSHOTS ON GOAL:\\nPittsburgh: 9-11-8-2=30\\nNJ Devils: 12-15-9-3=39\\n\\nGOALIES:\\nBarrasso(39 shots, 33 saves. 43-14-5)\\nBillington(30 shots, 24 saves)\\n\\nREF: Devorski  Linesmen: Gauthier, Vines\\n\\nLori\\nContact for the Penguins\\nlli+@cs.cmu.edu\\n\\n',\n",
       " \"From: kahn@troi.cc.rochester.edu (James Kahn)\\nSubject: Re: Tigers-A's\\nOrganization: University of Rochester (Rochester, NY)\\nLines: 11\\nNntp-Posting-Host: troi.cc.rochester.edu\\n\\nIn article <1993Apr14.185317.12231@sbcs.sunysb.edu> wynblatt@sbgrad5.cs.sunysb.edu (Michael Wynblatt) writes:\\n>\\n>Weird thing:  Leading 20-4 going into the top of the ninth, Sparky\\n>\\t      used his ace closer, Henneman.  The tigers have 8 relievers\\n>\\t      and at least 6 were rested/available.  Does Sparky trust\\n>\\t      them that little ?\\n\\nI think he just wanted to get Henneman some work, because the \\nTigers had days off both the day before and the day after.\\n\\nJim\\n\",\n",
       " 'From: nsmca@aurora.alaska.edu\\nSubject: Re: army in space\\nLines: 13\\nNntp-Posting-Host: acad3.alaska.edu\\nOrganization: University of Alaska Fairbanks\\n\\nLast I had heard because of budget and such the Air Farce is the only \"Space\\nCommand\" left.. The rest missions were generally given to the Air Farce..\\n\\nProbably a good reason for me to transfer from the Army Guard to the Air\\nGuard..\\n\\nI hate walking with a pack on my back, and how do you put on your application\\nfor a job as a kitchen worker, that you have done a lot of KP (Kitchen\\nPolice)..\\n\\n==\\nMichael Adams, nsmca@acad3.alaska.edu -- I\\'m not high, just jacked\\n\\n',\n",
       " 'From: remmons@iat.holonet.net (Robert Emmons)\\nSubject: Re: MAIL ORDER\\nArticle-I.D.: iat.C535JA.Fvx\\nOrganization: HoloNet National Internet Access BBS: 510-704-1058/modem\\nLines: 24\\n\\n>If you get good service from a shop, or they regularly have merchandise\\n                 ^^^^^^^\\n>in stock you need, or they have a knowledgable and/or friendly sales\\n                                                       ^^^^^^^^\\n>staff, or if for whatever other reason you would like to do business\\n>with them, which will in the aggrigate keep them in business and\\n>available to fill your future needs, but they charge more for an item\\n>than another store, you can usually purchase the item in the store of\\n>your choice, and pay the lowest legitimate price being offered\\n>elsewhere.\\n\\n\\nSounds pretty lame to me.\\n\\nLet me see if I understand now. Your \"friends\" charge you extra?\\nJust how much do you usually have to pay for a little\\nfriendliness? Seems like you\\'re being \"serviced\" by some\\n\"friendly\" sales people.\\n\\n\\n \\nRobert Emmons                 Never hesitate to sacrifice clarity\\nCalcShop Inc.                 and maintainability to save precious\\nremmons@holonet.net           picoseconds during program execution. \\n',\n",
       " \"From: hades@coos.dartmouth.edu (Brian V. Hughes)\\nSubject: Re: New Apple Ergo-Mouse\\nReply-To: hades@Dartmouth.Edu\\nOrganization: Dartmouth College, Hanover, NH\\nDisclaimer: Personally, I really don't care who you think I speak for.\\nModerator: Rec.Arts.Comics.Info\\nLines: 19\\n\\nnwcs@utkvx.utk.edu (Schizophrenia means never being alone) writes:\\n\\n>Does anyone know how to open up the Apple Ergo-Mouse (ADB Mouse II)?\\n>Mine lives near a cat (true, really...) and picks up her fur.  From what\\n>I can tell, it looks like Apple welded it shut.\\n\\n    You must not have tried very hard. I just opend mine in about 2\\nseconds. Take a look on the bottom, it has a dial that turns to open\\nmuch like the older ADB mouses used to have. It's a bit harder to turn\\nat first but it is quite simple to open.\\n\\n>Also, does anyone know about installing FPUs in a Mac LC III?  I've heard some\\n>people saying it has fried the motherboard of the LC III.\\n\\n    Well, if you don't match up the pins correctly you will have some\\nproblems. A close look at the socket should give you an idea of the\\nproper orientation of the chip.\\n\\n-Hades\\n\",\n",
       " 'From: rvpst2+@pitt.edu (Richard V Polinski)\\nSubject: Re: Winning Streaks\\nOrganization: University of Pittsburgh\\nLines: 24\\n\\nIn article <93105.053748RAP115@psuvm.psu.edu> RAP115@psuvm.psu.edu (Robbie Po) writes:\\n \\n>\\n>      The Penguins 18 game unbeaten streak carries over to next season.\\n>Meaning, if they start the season with another 18 game unbeaten streak, they\\n>will have eclipsed the Flyers record.  Right now, the Penguins are on an 11\\n>game winning streak, as streaks carry over from one year to another.\\n\\nHmmmm, I\\'m not sure this is true.  According to Mike Lang and good old\\nStagie, along with the rest of the TV crews in pittsburgh, they \\nwinning streak could have stopped because it is a regular season mark.\\nI would think this would also hold with an unbeaten streak for regular\\nseason games.\\n\\nHowever, you are right that the playoff streak does carry over from\\nlast year.  And with 1 more win, I believe they tie an Edmonton record\\n(but don\\'t quote me on that one).\\n>-------------------------------------------------------------------------\\n>** Robbie Po **          PGH PENGUINS!!!    \"It won\\'t be easy, but it\\n>Contact for the \\'93-\\'94  \\'91 STANLEY CUP    will have greater rewards.\\n>Penn State Lady Lions    \\'92 CHAMPIONS      Mountains and Valleys are\\n>rap115@psuvm.psu.edu     11 STRAIGHT WINS!  better than nothing at all!\"\\n\\n\\n',\n",
       " \"From: domain@cbnewsf.cb.att.com (george.d.hodge)\\nSubject: Dayton Hamfest\\nSummary: Where and when is Dayton Hamfest\\nOrganization: AT&T\\nDistribution: usa\\nLines: 14\\n\\n\\nSome weeks ago, someone posted an article telling when and where\\na hamfest and computerfest was going to be help in Dayton, OH.\\nUnfortunately, I lost the article and I was wondering if someone\\ncould repost it.\\n\\nI believe it was being held the 23,24,and 25 of this month at\\nthe Dayton convention center but I'm not sure.\\n\\nAny help and more details would be greatly appreciated.\\n\\n\\t\\tgeorge.d.hodge\\n\\t\\tdomain@cbcat.att.com\\n\\n\",\n",
       " 'From: kwp@wag.caltech.edu (Kevin W. Plaxco)\\nSubject: Re: Boom!  Whoosh......\\nOrganization: California Institute of Technology, Pasadena, CA\\nLines: 22\\nNNTP-Posting-Host: sgi1.wag.caltech.edu\\n\\nIn article <37147@scicom.AlphaCDC.COM> wats@scicom.AlphaCDC.COM (Bruce Watson) writes:\\n>+\\n>Pageos and two Echo balloons were inflated with a substance\\n>which expanded in vacuum. \\n\\nCalled \"gas\".\\n\\n>Once inflated the substance was no longer\\n>needed since there is nothing to cause the balloon to collapse.\\n>This inflatable structure could suffer multiple holes with no \\n>disastrous deflation.\\n\\nThe balloons were in sufficiently low orbit that they experienced\\nsome air resistance.  When they were finally punctured, this \\npreasure (and the internal preasure that was needed to maintain\\na spherical shape against this resistance) caused them to\\ncatastrophically deflated.  The large silvered shards\\nthat remained were easily visible for some time before\\nreentry, though no longer useful as a passive transponder.\\n\\nThe billboard should pop like a dime store balloon.\\n\\n',\n",
       " \"From: gak@wrs.com (Richard Stueven)\\nSubject: Re: Octopus in Detroit?\\nReply-To: gak@wrs.com\\nOrganization: Wind River Systems, Inc.\\nLines: 10\\nNntp-Posting-Host: gakbox\\n\\nIt's in the FAQ.\\n\\nhave fun\\ngak\\n\\n---\\nRichard Stueven       AHA# 22584 |----------| He has erected a multitude of new\\nInternet:            gak@wrs.com |----GO----| offices, and sent hither swarms\\nATTMAIL: ...!attmail!gakhaus!gak |---SHARX--| of officers to harass our people,\\nCow Palace:            107/H/3-4 |----------| and eat out their substance.\\n\",\n",
       " 'From: ibeshir@nyx.cs.du.edu (Ibrahim)\\nSubject: Terminal for sale\\nOrganization: Nyx, Public Access Unix @ U. of Denver Math/CS dept.\\nDistribution: usa\\nLines: 5\\n\\nI have a vt200 and vt100 compatible terminal\\nwith 1200 external hyess modem\\namber screens 101 keyboard,cable\\nmake an offer\\n0\\n',\n",
       " 'From: anwar+@cs.cmu.edu (Anwar Mohammed)\\nSubject: Re: Remember those names come election time.\\nKeywords: usa federal, government, international, non-usa government\\nNntp-Posting-Host: gs135.sp.cs.cmu.edu\\nOrganization: School of Computer Science, Carnegie Mellon\\nLines: 39\\n\\nIn article <C5u4qI.Mz4@apollo.hp.com> nelson_p@apollo.hp.com (Peter Nelson) writes:\\n>                                \\n>  BTW, with Bosnia\\'s large Moslem population, why have nations like \\n>  Turkey, Saudi Arabia, Syria, Egypt, and others with either money \\n>  or strong military forces not spoken out more forcibly or offered \\n>  to help out Bosnia?   \\n\\nObviously, you really don\\'t know.\\n\\nThey *have* spoken out (cf Sec\\'y of State Christopher\\'s recent trip to the ME),\\nthey have provided millions in aid, and they have participated in the airlifts\\nto Sarajevo.  They *would* supply military aid, if the UN would lift the embargo \\non arms sales. \\n\\n>  The Turkish ambassador has ocassionally said\\n>  a thing or two, but that\\'s all; I see no great enthusism from any \\n>  of those places to get *their* hands dirty.    Why does the US always\\n>  get stuck with this stuff?\\n>\\n\\nSee above.  (Kuwait has directly participated in the airlift of food to\\nSarajevo.)\\n\\n>  Besides, there\\'s no case that can be made for US military involvement\\n>  there that doesn\\'t apply equally well to, say, Liberia, Angola, or\\n>  (it appears with the Khmer Rouge\\'s new campaign) Cambodia.   Non-whites\\n>  don\\'t count?\\n\\nHmm...some might say Kuwaitis are non-white. Ooops, I forgot, Kuwaitis are\\n\"oil rich\", \"loaded with petro-dollars\", etc so they don\\'t count.\\n\\n>\\n>\\n>---peter\\n>\\n>\\n>\\n\\n\\n',\n",
       " 'From: DJCOHEN@YaleVM.YCC.Yale.Edu (Daniel Cohen)\\nSubject: Re: Interesting ADB behaviour on C650\\nNntp-Posting-Host: yalevm.ycc.yale.edu\\nOrganization: Yale University\\nLines: 20\\n\\nIn article <1993Apr15.181440.15490@waikato.ac.nz>\\nldo@waikato.ac.nz (Lawrence D\\'Oliveiro, Waikato University) writes:\\n \\n>I\\'ve noticed an interesting phenomenon on my Centris 650. If I unplug the\\n>keyboard and mouse and plug them in again without turning the power off,\\n>the mouse suddenly switches to about half its normal movement speed. I check\\n>the \"Mouse\" control panel, and there\\'s no change in its setting there--it\\'s\\n>still on full speed, the way I like it. Restarting the machine restores the\\n>normal mouse speed.\\n>\\n>By the way, it happens with both the newer-style mouse that came with the\\n>Centris, and the older-style mouse from my IIfx at work. Thus I don\\'t think\\n>it has anything to do with the resolution setting in the mouse--it\\'s\\n>definitely a quirk of the ADB interface (either hardware or software) in the\\n>Centris itself.\\n \\nI have noticed this exact same phenomenon occurs with my LCIII.  Perhaps it is\\na quirk of the new machines?\\n \\n--Dan\\n',\n",
       " 'From: geb@cs.pitt.edu (Gordon Banks)\\nSubject: Re: request for information on \"essential tremor\" and Indrol?\\nReply-To: geb@cs.pitt.edu (Gordon Banks)\\nOrganization: Univ. of Pittsburgh Computer Science\\nLines: 12\\n\\nIn article <1q1tbnINNnfn@life.ai.mit.edu> sundar@ai.mit.edu writes:\\n\\nEssential tremor is a progressive hereditary tremor that gets worse\\nwhen the patient tries to use the effected member.  All limbs, vocal\\ncords, and head can be involved.  Inderal is a beta-blocker and\\nis usually effective in diminishing the tremor.  Alcohol and mysoline\\nare also effective, but alcohol is too toxic to use as a treatment.\\n-- \\n----------------------------------------------------------------------------\\nGordon Banks  N3JXP      | \"Skepticism is the chastity of the intellect, and\\ngeb@cadre.dsl.pitt.edu   |  it is shameful to surrender it too soon.\" \\n----------------------------------------------------------------------------\\n',\n",
       " 'From: dxf12@po.cwru.edu (Douglas Fowler)\\nSubject: Re: Christian Parenting\\nOrganization: Case Western Reserve University, Cleveland, Ohio (USA)\\nLines: 83\\n\\n\\n     Sorry for posting this, but my e-mail keeps bouncing.  Maybe it will\\nhelp others here, anyway, and therefore I pray others will read this.  It is\\nactually a response from my Aunt, who has 5 kids, since I have none yet.\\n\\n>Hi I am a Sociology student and I am currently researching into\\n>young offenders.  I am looking at the way various groups of\\n>children are raised at home.  At the moment I am formlulating\\n>information on discipline within the Christian home.\\n>\\n>Please, if you are a parent in this catagory can you email me\\n>your response to the following questionaire.  All responses\\n>will be treated confidentially and will only be used to prepare\\n>stats.\\n     I\\'m posting this for a good Christian relative who does not have e-mail\\naccess.  Since this aunt and uncle have 5 kids I felt they would be more\\nrelevant than I, who have none (yet).\\n\\n>1.  Ages & sexes of children\\n     13-year-old (13YO) twins, 10YO boy, 6.5YO boy, 2YO girl\\n\\n>2.  Do you spank your kids?\\n     I don\\'t call it spanking, but they do, so yes, very rarely.\\n\\n>3.  If so how often?\\n     I don\\'t call it spanking because it\\'s more of a reaction to something\\nvery dangerous, such as trying to stick their finger in a fan or running\\ninto the road.  Maybe 3-4 times for each except for the 2YO girl, who has\\nnot been spanked yet.\\n     They call it that because it *does* hurt their feelings, and of course\\nI give all the hugs and stuff to ensure they know they\\'re still loved.\\n\\n>4.  Do you use an implement to spank with?\\n     No, that would be too painful.  If it\\'s too traumatic they never recall\\nwhy they were punished.  Besides, it must be immediate, and taking the time\\nto go get a toolmeans you\\'re not doing it right away, and that lessens the\\nimpact.  It\\'s very emotional for a child as it is - which is evidenced by the\\nfact that a little slap on the rear - which hurts for perhaps 5 seconds -\\nis called a spanking.\\n>\\n>5. If you do not spank, what method of discipline do you use?\\n     Lots of logical consequences - for instance, when 4YO Matthew dared\\na good friend to jump out of his treehouse or he would push him out, I made\\nsure they didn\\'t play together for 5 days so he\\'d know that would make him\\nlose friends very quickly.  He\\'s never done anything like that since.\\n     We also use time-out in their rooms - I use a timer so they don\\'t keep\\narguing with me over leaving, since it\\'s hard to argue with a macine.\\nI will go to the closed door and tell them timeout won\\'t be over until they\\ncalm down if they\\'re too tantrumy.  I use the top of the stairs when they\\'re\\nreally young.\\n\\n>6.  Your age?\\n     40\\n\\n>7.  Your location\\n     Bath, Ohio.  It\\'s right outside of Akron, in the northeast part of Ohio.\\n\\n>8.  While under the age of 16 did you ever commit a criminal\\n>offence?\\n     No, and none of my kids would dream of it.  I hope you can use this to\\nteach all parents that physical punishment isn\\'t always required - parents use\\nthat as an excuse to hit too hard.\\n\\n>9.  How ere you disciplined as a kid\\n     Lots of timeouts, same as I use.  Our family and my husband\\'s have never\\nused spankings.  In fact, my grandmother in law was one of 11 kids, and they\\nwere almost never spanked.  This was around the turn of the century.  And,\\nnone of us has ever been afoul of the law - man-made or God\\'s law.\\n     Jesus says, referring to a small child whom he is holding, that \"what\\nye do to the least of these, ye do also to me.\"  The Bible also says in all\\nthings to be kind, and merciful, and especially loving. (Colossians 3:12-15.)\\nThere is no room for selfish anger, which I\\'ll admit I\\'ve been tempted with\\nat times.  When I\\'ve felt like spanking hard in anger, maybe the kid deserved\\na little slap on the rear, but what I would have given would have been the\\ndevil\\'s work.  I could feel the temptation, and just angrily ordered the kid\\nto his/her room and went to my room myself.  After praying and asking God\\'s\\nforgiveness, I was much calmer, and did not feel like spanking, but felt that\\nwhat I had done was enough punishment.\\n-- \\nDoug Fowler: dxf12@po.CWRU.edu  : Me, age 4 & now: \"Mommys and Daddys & other\\n    Ever wonder if, after Casey : relatives have to give lots of hugs & love\\nmissed the 3rd strike in the poem: & support, \\'cause Heaven is just a great\\nhe ran to first and made it?     : big hug that lasts forever and ever!!!\"\\n',\n",
       " ...]"
      ]
     },
     "metadata": {},
     "execution_count": 3
    }
   ],
   "source": [
    "X_train"
   ]
  },
  {
   "cell_type": "code",
   "execution_count": 4,
   "metadata": {},
   "outputs": [
    {
     "output_type": "execute_result",
     "data": {
      "text/plain": [
       "list"
      ]
     },
     "metadata": {},
     "execution_count": 4
    }
   ],
   "source": [
    "type(X_train)"
   ]
  },
  {
   "cell_type": "code",
   "execution_count": 5,
   "metadata": {},
   "outputs": [
    {
     "output_type": "execute_result",
     "data": {
      "text/plain": [
       "\"From: lerxst@wam.umd.edu (where's my thing)\\nSubject: WHAT car is this!?\\nNntp-Posting-Host: rac3.wam.umd.edu\\nOrganization: University of Maryland, College Park\\nLines: 15\\n\\n I was wondering if anyone out there could enlighten me on this car I saw\\nthe other day. It was a 2-door sports car, looked to be from the late 60s/\\nearly 70s. It was called a Bricklin. The doors were really small. In addition,\\nthe front bumper was separate from the rest of the body. This is \\nall I know. If anyone can tellme a model name, engine specs, years\\nof production, where this car is made, history, or whatever info you\\nhave on this funky looking car, please e-mail.\\n\\nThanks,\\n- IL\\n   ---- brought to you by your neighborhood Lerxst ----\\n\\n\\n\\n\\n\""
      ]
     },
     "metadata": {},
     "execution_count": 5
    }
   ],
   "source": [
    "X_train[0]"
   ]
  },
  {
   "cell_type": "code",
   "execution_count": 6,
   "metadata": {},
   "outputs": [
    {
     "output_type": "execute_result",
     "data": {
      "text/plain": [
       "\"From: guykuo@carson.u.washington.edu (Guy Kuo)\\nSubject: SI Clock Poll - Final Call\\nSummary: Final call for SI clock reports\\nKeywords: SI,acceleration,clock,upgrade\\nArticle-I.D.: shelley.1qvfo9INNc3s\\nOrganization: University of Washington\\nLines: 11\\nNNTP-Posting-Host: carson.u.washington.edu\\n\\nA fair number of brave souls who upgraded their SI clock oscillator have\\nshared their experiences for this poll. Please send a brief message detailing\\nyour experiences with the procedure. Top speed attained, CPU rated speed,\\nadd on cards and adapters, heat sinks, hour of usage per day, floppy disk\\nfunctionality with 800 and 1.4 m floppies are especially requested.\\n\\nI will be summarizing in the next two days, so please add to the network\\nknowledge base if you have done the clock upgrade and haven't answered this\\npoll. Thanks.\\n\\nGuy Kuo <guykuo@u.washington.edu>\\n\""
      ]
     },
     "metadata": {},
     "execution_count": 6
    }
   ],
   "source": [
    "X_train[1]"
   ]
  },
  {
   "cell_type": "code",
   "execution_count": 8,
   "metadata": {},
   "outputs": [
    {
     "output_type": "execute_result",
     "data": {
      "text/plain": [
       "array([7, 4, 4, ..., 3, 1, 8])"
      ]
     },
     "metadata": {},
     "execution_count": 8
    }
   ],
   "source": [
    "y_train"
   ]
  },
  {
   "cell_type": "code",
   "execution_count": null,
   "metadata": {},
   "outputs": [],
   "source": [
    "import numpy as np \n",
    "import pandas as pd\n",
    "import warnings\n",
    "warnings.filterwarnings('ignore')\n",
    "import pickle\n",
    "\n",
    "from sklearn import linear_model\n",
    "from sklearn.linear_model import LogisticRegression\n",
    "from sklearn.naive_bayes import MultinomialNB\n",
    "from sklearn.ensemble import RandomForestClassifier\n",
    "from sklearn.model_selection import train_test_split\n",
    "from sklearn.metrics import accuracy_score, confusion_matrix, precision_score, recall_score, f1_score, roc_auc_score, classification_report,balanced_accuracy_score, precision_recall_curve, plot_precision_recall_curve\n",
    "from sklearn.feature_extraction.text import TfidfVectorizer\n",
    "\n",
    "\n",
    "from collections import Counter\n",
    "import nltk\n",
    "from nltk.corpus import stopwords\n",
    "import string\n",
    "\n",
    "%reload_ext autoreload\n",
    "%autoreload 2\n",
    "import sys\n",
    "sys.path.append(\"../py\")\n",
    "from utils import *\n",
    "\n",
    "from sklearn import linear_model, utils, svm\n",
    "from sklearn.utils import resample\n",
    "from imblearn.under_sampling import ClusterCentroids, EditedNearestNeighbours, RandomUnderSampler, TomekLinks, CondensedNearestNeighbour\n",
    "from imblearn.combine import SMOTETomek, SMOTEENN\n",
    "from sklearn.ensemble import GradientBoostingClassifier\n",
    "from sklearn.naive_bayes import MultinomialNB\n",
    "from sklearn.ensemble import RandomForestClassifier, AdaBoostClassifier\n",
    "from sklearn.tree import DecisionTreeClassifier"
   ]
  },
  {
   "cell_type": "code",
   "execution_count": null,
   "metadata": {},
   "outputs": [],
   "source": [
    "text_clf = Pipeline([('vect', CountVectorizer()),\n",
    "                     ('tfidf', TfidfTransformer()),\n",
    "                     ('clf', KNeighborsClassifier()),\n",
    "                     ])\n",
    "text_clf.fit(X_train, y_train)\n",
    "predicted = text_clf.predict(X_test)\n",
    "print(metrics.classification_report(y_test, predicted))"
   ]
  },
  {
   "cell_type": "code",
   "execution_count": null,
   "metadata": {},
   "outputs": [],
   "source": [
    "train = pickle.load(open(\"../pickle/train.pickle\", \"rb\"))\n",
    "val = pickle.load(open(\"../pickle/val.pickle\", \"rb\"))"
   ]
  }
 ]
}