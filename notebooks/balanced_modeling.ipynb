{
 "metadata": {
  "language_info": {
   "codemirror_mode": {
    "name": "ipython",
    "version": 3
   },
   "file_extension": ".py",
   "mimetype": "text/x-python",
   "name": "python",
   "nbconvert_exporter": "python",
   "pygments_lexer": "ipython3",
   "version": "3.9.4"
  },
  "orig_nbformat": 2,
  "kernelspec": {
   "name": "python3",
   "display_name": "Python 3.9.4 64-bit ('learn-env': conda)"
  },
  "interpreter": {
   "hash": "80773cdecc613a186b9eac051636553d2ff0f99c57590601666ed713bd5d0256"
  }
 },
 "nbformat": 4,
 "nbformat_minor": 2,
 "cells": [
  {
   "cell_type": "markdown",
   "source": [
    "# Modeling Notebook with Balanced Dataset"
   ],
   "metadata": {}
  },
  {
   "cell_type": "markdown",
   "source": [
    "# Importing Packages"
   ],
   "metadata": {}
  },
  {
   "cell_type": "code",
   "execution_count": 23,
   "source": [
    "import pandas as pd\n",
    "import warnings\n",
    "warnings.filterwarnings('ignore')\n",
    "import pickle\n",
    "from tqdm import tqdm\n",
    "tqdm.pandas(desc=\"progress-bar\")\n",
    "\n",
    "from sklearn import svm\n",
    "from sklearn.linear_model import LogisticRegression\n",
    "from sklearn.naive_bayes import MultinomialNB\n",
    "from sklearn.ensemble import RandomForestClassifier\n",
    "from sklearn.model_selection import GridSearchCV\n",
    "from sklearn.feature_extraction.text import TfidfVectorizer\n",
    "from sklearn.tree import DecisionTreeClassifier\n",
    "from sklearn.tree import DecisionTreeClassifier\n",
    "from sklearn.ensemble import RandomForestClassifier, AdaBoostClassifier, GradientBoostingClassifier\n",
    "\n",
    "%reload_ext autoreload\n",
    "%autoreload 2\n",
    "import sys\n",
    "sys.path.append(\"../py\")\n",
    "from utils import *\n",
    "from preprocess import *\n"
   ],
   "outputs": [],
   "metadata": {}
  },
  {
   "cell_type": "code",
   "execution_count": 2,
   "source": [
    "train = pickle.load(open(\"../pickle/train_bal.pickle\", \"rb\"))\n",
    "val = pickle.load(open(\"../pickle/val_bal.pickle\", \"rb\"))\n",
    "test = pickle.load(open(\"../pickle/test_bal.pickle\", \"rb\"))"
   ],
   "outputs": [],
   "metadata": {}
  },
  {
   "cell_type": "code",
   "execution_count": 3,
   "source": [
    "train.head()"
   ],
   "outputs": [
    {
     "output_type": "execute_result",
     "data": {
      "text/plain": [
       "                                               tweet  target\n",
       "0  @ICC you should be worried about other things ...       1\n",
       "1  @amberhasalamb Can you comment on Ford doing t...       1\n",
       "2  @MalcolmNance @montanaisthebes I agree with ma...       1\n",
       "3  And now for the dish that best represents the ...       1\n",
       "4  .@mark_kaiserr Im not sexist but every food pl...       1"
      ],
      "text/html": [
       "<div>\n",
       "<style scoped>\n",
       "    .dataframe tbody tr th:only-of-type {\n",
       "        vertical-align: middle;\n",
       "    }\n",
       "\n",
       "    .dataframe tbody tr th {\n",
       "        vertical-align: top;\n",
       "    }\n",
       "\n",
       "    .dataframe thead th {\n",
       "        text-align: right;\n",
       "    }\n",
       "</style>\n",
       "<table border=\"1\" class=\"dataframe\">\n",
       "  <thead>\n",
       "    <tr style=\"text-align: right;\">\n",
       "      <th></th>\n",
       "      <th>tweet</th>\n",
       "      <th>target</th>\n",
       "    </tr>\n",
       "  </thead>\n",
       "  <tbody>\n",
       "    <tr>\n",
       "      <th>0</th>\n",
       "      <td>@ICC you should be worried about other things ...</td>\n",
       "      <td>1</td>\n",
       "    </tr>\n",
       "    <tr>\n",
       "      <th>1</th>\n",
       "      <td>@amberhasalamb Can you comment on Ford doing t...</td>\n",
       "      <td>1</td>\n",
       "    </tr>\n",
       "    <tr>\n",
       "      <th>2</th>\n",
       "      <td>@MalcolmNance @montanaisthebes I agree with ma...</td>\n",
       "      <td>1</td>\n",
       "    </tr>\n",
       "    <tr>\n",
       "      <th>3</th>\n",
       "      <td>And now for the dish that best represents the ...</td>\n",
       "      <td>1</td>\n",
       "    </tr>\n",
       "    <tr>\n",
       "      <th>4</th>\n",
       "      <td>.@mark_kaiserr Im not sexist but every food pl...</td>\n",
       "      <td>1</td>\n",
       "    </tr>\n",
       "  </tbody>\n",
       "</table>\n",
       "</div>"
      ]
     },
     "metadata": {},
     "execution_count": 3
    }
   ],
   "metadata": {}
  },
  {
   "cell_type": "code",
   "execution_count": 4,
   "source": [
    "train.target.value_counts()"
   ],
   "outputs": [
    {
     "output_type": "execute_result",
     "data": {
      "text/plain": [
       "0    17514\n",
       "1     5268\n",
       "Name: target, dtype: int64"
      ]
     },
     "metadata": {},
     "execution_count": 4
    }
   ],
   "metadata": {}
  },
  {
   "cell_type": "code",
   "execution_count": 5,
   "source": [
    "val.head()"
   ],
   "outputs": [
    {
     "output_type": "execute_result",
     "data": {
      "text/plain": [
       "                                               tweet  target\n",
       "0  Black cops want to kill white citizens. Spic c...       1\n",
       "1                         stupid loose pussyed bitch       1\n",
       "2                             WHAT A DUMB BITCH #MKR       1\n",
       "3  @MattHancock Your Tweet hasn’t gone down very ...       1\n",
       "4  Fucking Asshole! There is something really rea...       1"
      ],
      "text/html": [
       "<div>\n",
       "<style scoped>\n",
       "    .dataframe tbody tr th:only-of-type {\n",
       "        vertical-align: middle;\n",
       "    }\n",
       "\n",
       "    .dataframe tbody tr th {\n",
       "        vertical-align: top;\n",
       "    }\n",
       "\n",
       "    .dataframe thead th {\n",
       "        text-align: right;\n",
       "    }\n",
       "</style>\n",
       "<table border=\"1\" class=\"dataframe\">\n",
       "  <thead>\n",
       "    <tr style=\"text-align: right;\">\n",
       "      <th></th>\n",
       "      <th>tweet</th>\n",
       "      <th>target</th>\n",
       "    </tr>\n",
       "  </thead>\n",
       "  <tbody>\n",
       "    <tr>\n",
       "      <th>0</th>\n",
       "      <td>Black cops want to kill white citizens. Spic c...</td>\n",
       "      <td>1</td>\n",
       "    </tr>\n",
       "    <tr>\n",
       "      <th>1</th>\n",
       "      <td>stupid loose pussyed bitch</td>\n",
       "      <td>1</td>\n",
       "    </tr>\n",
       "    <tr>\n",
       "      <th>2</th>\n",
       "      <td>WHAT A DUMB BITCH #MKR</td>\n",
       "      <td>1</td>\n",
       "    </tr>\n",
       "    <tr>\n",
       "      <th>3</th>\n",
       "      <td>@MattHancock Your Tweet hasn’t gone down very ...</td>\n",
       "      <td>1</td>\n",
       "    </tr>\n",
       "    <tr>\n",
       "      <th>4</th>\n",
       "      <td>Fucking Asshole! There is something really rea...</td>\n",
       "      <td>1</td>\n",
       "    </tr>\n",
       "  </tbody>\n",
       "</table>\n",
       "</div>"
      ]
     },
     "metadata": {},
     "execution_count": 5
    }
   ],
   "metadata": {}
  },
  {
   "cell_type": "code",
   "execution_count": null,
   "source": [],
   "outputs": [],
   "metadata": {}
  },
  {
   "cell_type": "code",
   "execution_count": 6,
   "source": [
    "train.tweet = train.tweet.apply(lambda x: preprocess(x))\n",
    "train.head()"
   ],
   "outputs": [
    {
     "output_type": "execute_result",
     "data": {
      "text/plain": [
       "                                               tweet  target\n",
       "0   worry things sign patriotism gloves huh indvsaus       1\n",
       "1                        comment ford thing complain       1\n",
       "2  agree malcolm nance pompeo bolton war monger l...       1\n",
       "3  dish best represent girls big deconstruct tart...       1\n",
       "4  sexist food place work girls come couple hours...       1"
      ],
      "text/html": [
       "<div>\n",
       "<style scoped>\n",
       "    .dataframe tbody tr th:only-of-type {\n",
       "        vertical-align: middle;\n",
       "    }\n",
       "\n",
       "    .dataframe tbody tr th {\n",
       "        vertical-align: top;\n",
       "    }\n",
       "\n",
       "    .dataframe thead th {\n",
       "        text-align: right;\n",
       "    }\n",
       "</style>\n",
       "<table border=\"1\" class=\"dataframe\">\n",
       "  <thead>\n",
       "    <tr style=\"text-align: right;\">\n",
       "      <th></th>\n",
       "      <th>tweet</th>\n",
       "      <th>target</th>\n",
       "    </tr>\n",
       "  </thead>\n",
       "  <tbody>\n",
       "    <tr>\n",
       "      <th>0</th>\n",
       "      <td>worry things sign patriotism gloves huh indvsaus</td>\n",
       "      <td>1</td>\n",
       "    </tr>\n",
       "    <tr>\n",
       "      <th>1</th>\n",
       "      <td>comment ford thing complain</td>\n",
       "      <td>1</td>\n",
       "    </tr>\n",
       "    <tr>\n",
       "      <th>2</th>\n",
       "      <td>agree malcolm nance pompeo bolton war monger l...</td>\n",
       "      <td>1</td>\n",
       "    </tr>\n",
       "    <tr>\n",
       "      <th>3</th>\n",
       "      <td>dish best represent girls big deconstruct tart...</td>\n",
       "      <td>1</td>\n",
       "    </tr>\n",
       "    <tr>\n",
       "      <th>4</th>\n",
       "      <td>sexist food place work girls come couple hours...</td>\n",
       "      <td>1</td>\n",
       "    </tr>\n",
       "  </tbody>\n",
       "</table>\n",
       "</div>"
      ]
     },
     "metadata": {},
     "execution_count": 6
    }
   ],
   "metadata": {}
  },
  {
   "cell_type": "code",
   "execution_count": 7,
   "source": [
    "val.tweet = val.tweet.apply(lambda x: preprocess(x))\n",
    "val.head()"
   ],
   "outputs": [
    {
     "output_type": "execute_result",
     "data": {
      "text/plain": [
       "                                               tweet  target\n",
       "0  black cop want kill white citizens spic cop wa...       1\n",
       "1                         stupid loose pussyed bitch       1\n",
       "2                                     dumb bitch mkr       1\n",
       "3                             tweet go matt surprise       1\n",
       "4                             fuck asshole wrong man       1"
      ],
      "text/html": [
       "<div>\n",
       "<style scoped>\n",
       "    .dataframe tbody tr th:only-of-type {\n",
       "        vertical-align: middle;\n",
       "    }\n",
       "\n",
       "    .dataframe tbody tr th {\n",
       "        vertical-align: top;\n",
       "    }\n",
       "\n",
       "    .dataframe thead th {\n",
       "        text-align: right;\n",
       "    }\n",
       "</style>\n",
       "<table border=\"1\" class=\"dataframe\">\n",
       "  <thead>\n",
       "    <tr style=\"text-align: right;\">\n",
       "      <th></th>\n",
       "      <th>tweet</th>\n",
       "      <th>target</th>\n",
       "    </tr>\n",
       "  </thead>\n",
       "  <tbody>\n",
       "    <tr>\n",
       "      <th>0</th>\n",
       "      <td>black cop want kill white citizens spic cop wa...</td>\n",
       "      <td>1</td>\n",
       "    </tr>\n",
       "    <tr>\n",
       "      <th>1</th>\n",
       "      <td>stupid loose pussyed bitch</td>\n",
       "      <td>1</td>\n",
       "    </tr>\n",
       "    <tr>\n",
       "      <th>2</th>\n",
       "      <td>dumb bitch mkr</td>\n",
       "      <td>1</td>\n",
       "    </tr>\n",
       "    <tr>\n",
       "      <th>3</th>\n",
       "      <td>tweet go matt surprise</td>\n",
       "      <td>1</td>\n",
       "    </tr>\n",
       "    <tr>\n",
       "      <th>4</th>\n",
       "      <td>fuck asshole wrong man</td>\n",
       "      <td>1</td>\n",
       "    </tr>\n",
       "  </tbody>\n",
       "</table>\n",
       "</div>"
      ]
     },
     "metadata": {},
     "execution_count": 7
    }
   ],
   "metadata": {}
  },
  {
   "cell_type": "code",
   "execution_count": 8,
   "source": [
    "test.tweet = test.tweet.apply(lambda x: preprocess(x))\n",
    "test.head()"
   ],
   "outputs": [
    {
     "output_type": "execute_result",
     "data": {
      "text/plain": [
       "                                               tweet  target\n",
       "0  little girl cry parade hypocrite buy kid doll ...       1\n",
       "1                               hate football faggot       1\n",
       "2  sexist come football idc hate girls pic hot gu...       1\n",
       "3                 women shouldnt rap gross notsexist       1\n",
       "4  sexist evident woman man job come tennis coach...       1"
      ],
      "text/html": [
       "<div>\n",
       "<style scoped>\n",
       "    .dataframe tbody tr th:only-of-type {\n",
       "        vertical-align: middle;\n",
       "    }\n",
       "\n",
       "    .dataframe tbody tr th {\n",
       "        vertical-align: top;\n",
       "    }\n",
       "\n",
       "    .dataframe thead th {\n",
       "        text-align: right;\n",
       "    }\n",
       "</style>\n",
       "<table border=\"1\" class=\"dataframe\">\n",
       "  <thead>\n",
       "    <tr style=\"text-align: right;\">\n",
       "      <th></th>\n",
       "      <th>tweet</th>\n",
       "      <th>target</th>\n",
       "    </tr>\n",
       "  </thead>\n",
       "  <tbody>\n",
       "    <tr>\n",
       "      <th>0</th>\n",
       "      <td>little girl cry parade hypocrite buy kid doll ...</td>\n",
       "      <td>1</td>\n",
       "    </tr>\n",
       "    <tr>\n",
       "      <th>1</th>\n",
       "      <td>hate football faggot</td>\n",
       "      <td>1</td>\n",
       "    </tr>\n",
       "    <tr>\n",
       "      <th>2</th>\n",
       "      <td>sexist come football idc hate girls pic hot gu...</td>\n",
       "      <td>1</td>\n",
       "    </tr>\n",
       "    <tr>\n",
       "      <th>3</th>\n",
       "      <td>women shouldnt rap gross notsexist</td>\n",
       "      <td>1</td>\n",
       "    </tr>\n",
       "    <tr>\n",
       "      <th>4</th>\n",
       "      <td>sexist evident woman man job come tennis coach...</td>\n",
       "      <td>1</td>\n",
       "    </tr>\n",
       "  </tbody>\n",
       "</table>\n",
       "</div>"
      ]
     },
     "metadata": {},
     "execution_count": 8
    }
   ],
   "metadata": {}
  },
  {
   "cell_type": "markdown",
   "source": [
    "# Modeling"
   ],
   "metadata": {}
  },
  {
   "cell_type": "code",
   "execution_count": 9,
   "source": [
    "X_tr = train.tweet.values\n",
    "X_val = val.tweet.values\n",
    "y_tr = train.target.values\n",
    "y_val = val.target.values\n",
    "\n",
    "vec = TfidfVectorizer()\n",
    "tfidf_tr = vec.fit_transform(X_tr)\n",
    "tfidf_val = vec.transform(X_val)"
   ],
   "outputs": [],
   "metadata": {}
  },
  {
   "cell_type": "markdown",
   "source": [
    "## Multinomial Naive Bayes Model"
   ],
   "metadata": {}
  },
  {
   "cell_type": "code",
   "execution_count": 18,
   "source": [
    "nb = MultinomialNB().fit(tfidf_tr, y_tr)\n",
    "y_pr_nb_val = nb.predict(tfidf_val)\n",
    "get_metrics_confusion(tfidf_val, y_val, y_pr_nb_val, nb)"
   ],
   "outputs": [
    {
     "output_type": "stream",
     "name": "stdout",
     "text": [
      "Accuracy:  0.8676761026991442\n",
      "F1 Score:  0.6045901639344262\n",
      "ROC-AUC:  0.9035956439614513\n",
      "Recall:  0.43738140417457305\n",
      "Precision:  0.9787685774946921\n",
      "PR-AUC:  0.8303426892994492\n"
     ]
    },
    {
     "output_type": "display_data",
     "data": {
      "text/plain": [
       "<Figure size 288x288 with 1 Axes>"
      ],
      "image/png": "[encoded data removed]"
     },
     "metadata": {}
    }
   ],
   "metadata": {}
  },
  {
   "cell_type": "markdown",
   "source": [
    "## Random Forest Classifier"
   ],
   "metadata": {}
  },
  {
   "cell_type": "code",
   "execution_count": 19,
   "source": [
    "rf = RandomForestClassifier(n_estimators=100, random_state=42).fit(tfidf_tr, y_tr)\n",
    "y_pr_rf_val = rf.predict(tfidf_val)\n",
    "get_metrics_confusion(tfidf_val, y_val, y_pr_rf_val, rf)"
   ],
   "outputs": [
    {
     "output_type": "stream",
     "name": "stdout",
     "text": [
      "Accuracy:  0.9087118718455124\n",
      "F1 Score:  0.7805907172995782\n",
      "ROC-AUC:  0.941597633039937\n",
      "Recall:  0.7020872865275142\n",
      "Precision:  0.8788598574821853\n",
      "PR-AUC:  0.8818436250139308\n"
     ]
    },
    {
     "output_type": "display_data",
     "data": {
      "text/plain": [
       "<Figure size 288x288 with 1 Axes>"
      ],
      "image/png": "[encoded data removed]"
     },
     "metadata": {}
    }
   ],
   "metadata": {}
  },
  {
   "cell_type": "markdown",
   "source": [
    "## Logistic Regression"
   ],
   "metadata": {}
  },
  {
   "cell_type": "code",
   "execution_count": 20,
   "source": [
    "log = LogisticRegression(random_state=42).fit(tfidf_tr, y_tr)\n",
    "y_pr_log_val = log.predict(tfidf_val)\n",
    "get_metrics_confusion(tfidf_val, y_val, y_pr_log_val, log)"
   ],
   "outputs": [
    {
     "output_type": "stream",
     "name": "stdout",
     "text": [
      "Accuracy:  0.9082729866140005\n",
      "F1 Score:  0.7723311546840959\n",
      "ROC-AUC:  0.9474531453386931\n",
      "Recall:  0.6726755218216319\n",
      "Precision:  0.9066496163682864\n",
      "PR-AUC:  0.894792154330815\n"
     ]
    },
    {
     "output_type": "display_data",
     "data": {
      "text/plain": [
       "<Figure size 288x288 with 1 Axes>"
      ],
      "image/png": "[encoded data removed]"
     },
     "metadata": {}
    }
   ],
   "metadata": {}
  },
  {
   "cell_type": "markdown",
   "source": [
    "## Support Vector Machine"
   ],
   "metadata": {}
  },
  {
   "cell_type": "code",
   "execution_count": 26,
   "source": [
    "svc = svm.LinearSVC(random_state=42).fit(tfidf_tr, y_tr)\n",
    "y_pr_svc_val = svc.predict(tfidf_val)\n",
    "get_metrics_2(tfidf_val, y_val, y_pr_svc_val, svc)"
   ],
   "outputs": [
    {
     "output_type": "stream",
     "name": "stdout",
     "text": [
      "Accuracy:  0.9071757735352205\n",
      "F1:  0.7820710973724884\n",
      "Recall:  0.7201138519924098\n",
      "Precision:  0.8556933483652762\n",
      "ROC-AUC:  0.9428593599089097\n",
      "PR-AUC:  0.8861222610027533\n"
     ]
    }
   ],
   "metadata": {}
  },
  {
   "cell_type": "code",
   "execution_count": 22,
   "source": [
    "get_confusion(y_val, y_pr_svc_val)"
   ],
   "outputs": [
    {
     "output_type": "display_data",
     "data": {
      "text/plain": [
       "<Figure size 288x288 with 1 Axes>"
      ],
      "image/png": "[encoded data removed]"
     },
     "metadata": {}
    }
   ],
   "metadata": {}
  },
  {
   "cell_type": "markdown",
   "source": [
    "## AdaBoost Classifier"
   ],
   "metadata": {}
  },
  {
   "cell_type": "code",
   "execution_count": 23,
   "source": [
    "abc = AdaBoostClassifier(\n",
    "    DecisionTreeClassifier(max_depth=1),\n",
    "    n_estimators=200,\n",
    "    random_state=42\n",
    "    ).fit(tfidf_tr, y_tr)\n",
    "y_pr_abc_val = abc.predict(tfidf_val)\n",
    "get_metrics_confusion(tfidf_val, y_val, y_pr_abc_val, abc)"
   ],
   "outputs": [
    {
     "output_type": "stream",
     "name": "stdout",
     "text": [
      "Accuracy:  0.8856703971911345\n",
      "F1 Score:  0.7081232492997199\n",
      "ROC-AUC:  0.9347362060494637\n",
      "Recall:  0.5996204933586338\n",
      "Precision:  0.8645690834473324\n",
      "PR-AUC:  0.8528567726698857\n"
     ]
    },
    {
     "output_type": "display_data",
     "data": {
      "text/plain": [
       "<Figure size 288x288 with 1 Axes>"
      ],
      "image/png": "[encoded data removed]"
     },
     "metadata": {}
    }
   ],
   "metadata": {}
  },
  {
   "cell_type": "markdown",
   "source": [
    "## Gradient Boosting"
   ],
   "metadata": {}
  },
  {
   "cell_type": "code",
   "execution_count": 24,
   "source": [
    "gbc = GradientBoostingClassifier(random_state=42).fit(tfidf_tr, y_tr)\n",
    "y_pr_gbc_val = gbc.predict(tfidf_val)\n",
    "get_metrics_confusion(tfidf_val, y_val, y_pr_gbc_val, gbc)"
   ],
   "outputs": [
    {
     "output_type": "stream",
     "name": "stdout",
     "text": [
      "Accuracy:  0.8775510204081632\n",
      "F1 Score:  0.6445859872611466\n",
      "ROC-AUC:  0.9213181870134627\n",
      "Recall:  0.48007590132827327\n",
      "Precision:  0.9806201550387597\n",
      "PR-AUC:  0.803618724371077\n"
     ]
    },
    {
     "output_type": "display_data",
     "data": {
      "text/plain": [
       "<Figure size 288x288 with 1 Axes>"
      ],
      "image/png": "[encoded data removed]"
     },
     "metadata": {}
    }
   ],
   "metadata": {}
  },
  {
   "cell_type": "markdown",
   "source": [
    "## Metrics Dataframe"
   ],
   "metadata": {}
  },
  {
   "cell_type": "code",
   "execution_count": 27,
   "source": [
    "data = {'Accuracy': [accuracy(y_val, y_pr_nb_val), \n",
    "                     accuracy(y_val, y_pr_rf_val), \n",
    "                     accuracy(y_val, y_pr_log_val), \n",
    "                     accuracy(y_val, y_pr_svc_val),\n",
    "                     accuracy(y_val, y_pr_abc_val),\n",
    "                     accuracy(y_val, y_pr_gbc_val)],\n",
    "        'F1 Score': [f1(y_val, y_pr_nb_val), \n",
    "                     f1(y_val, y_pr_rf_val), \n",
    "                     f1(y_val, y_pr_log_val), \n",
    "                     f1(y_val, y_pr_svc_val),\n",
    "                     f1(y_val, y_pr_abc_val),\n",
    "                     f1(y_val, y_pr_gbc_val)],\n",
    "        'Recall': [recall(y_val, y_pr_nb_val), \n",
    "                   recall(y_val, y_pr_rf_val), \n",
    "                   recall(y_val, y_pr_log_val),\n",
    "                   recall(y_val, y_pr_svc_val),\n",
    "                   recall(y_val, y_pr_abc_val),\n",
    "                   recall(y_val, y_pr_gbc_val)],\n",
    "        'Precision': [precision(y_val, y_pr_nb_val), \n",
    "                      precision(y_val, y_pr_rf_val), \n",
    "                      precision(y_val, y_pr_log_val),\n",
    "                      precision(y_val, y_pr_svc_val),\n",
    "                      precision(y_val, y_pr_abc_val),\n",
    "                      precision(y_val, y_pr_gbc_val)],\n",
    "        'ROC-AUC': [auc(tfidf_val, y_val, nb),\n",
    "                    auc(tfidf_val, y_val, rf),\n",
    "                    auc(tfidf_val, y_val, log),\n",
    "                    auc2(tfidf_val, y_val, svc),\n",
    "                    auc(tfidf_val, y_val, abc),\n",
    "                    auc(tfidf_val, y_val, gbc)],\n",
    "        'PR AUC': [aps(tfidf_val, y_val, nb),\n",
    "                   aps(tfidf_val, y_val, rf),\n",
    "                   aps(tfidf_val, y_val, log),\n",
    "                   aps2(tfidf_val, y_val, svc),\n",
    "                   aps(tfidf_val, y_val, abc),\n",
    "                   aps(tfidf_val, y_val, gbc)]}\n",
    "metrics5 = pd.DataFrame(data=data, index = ['Multinomial Naive Bayes', \n",
    "                                            'Random Forest',\n",
    "                                            'Logistic Regression',\n",
    "                                            'Support Vector Machine', \n",
    "                                            'AdaBoost Classifier', \n",
    "                                            'Gradient Boosting Classifier'])"
   ],
   "outputs": [],
   "metadata": {}
  },
  {
   "cell_type": "code",
   "execution_count": 29,
   "source": [
    "metrics5.to_csv(\"../data/metrics/metrics5.csv\")\n",
    "metrics5"
   ],
   "outputs": [
    {
     "output_type": "execute_result",
     "data": {
      "text/plain": [
       "                              Accuracy  F1 Score    Recall  Precision  \\\n",
       "Multinomial Naive Bayes       0.867676  0.604590  0.437381   0.978769   \n",
       "Random Forest                 0.908712  0.780591  0.702087   0.878860   \n",
       "Logistic Regression           0.908273  0.772331  0.672676   0.906650   \n",
       "Support Vector Machine        0.907176  0.782071  0.720114   0.855693   \n",
       "AdaBoost Classifier           0.885670  0.708123  0.599620   0.864569   \n",
       "Gradient Boosting Classifier  0.877551  0.644586  0.480076   0.980620   \n",
       "\n",
       "                               ROC-AUC    PR AUC  \n",
       "Multinomial Naive Bayes       0.903596  0.830343  \n",
       "Random Forest                 0.941598  0.881844  \n",
       "Logistic Regression           0.947453  0.894792  \n",
       "Support Vector Machine        0.942859  0.886122  \n",
       "AdaBoost Classifier           0.934736  0.852857  \n",
       "Gradient Boosting Classifier  0.921318  0.803619  "
      ],
      "text/html": [
       "<div>\n",
       "<style scoped>\n",
       "    .dataframe tbody tr th:only-of-type {\n",
       "        vertical-align: middle;\n",
       "    }\n",
       "\n",
       "    .dataframe tbody tr th {\n",
       "        vertical-align: top;\n",
       "    }\n",
       "\n",
       "    .dataframe thead th {\n",
       "        text-align: right;\n",
       "    }\n",
       "</style>\n",
       "<table border=\"1\" class=\"dataframe\">\n",
       "  <thead>\n",
       "    <tr style=\"text-align: right;\">\n",
       "      <th></th>\n",
       "      <th>Accuracy</th>\n",
       "      <th>F1 Score</th>\n",
       "      <th>Recall</th>\n",
       "      <th>Precision</th>\n",
       "      <th>ROC-AUC</th>\n",
       "      <th>PR AUC</th>\n",
       "    </tr>\n",
       "  </thead>\n",
       "  <tbody>\n",
       "    <tr>\n",
       "      <th>Multinomial Naive Bayes</th>\n",
       "      <td>0.867676</td>\n",
       "      <td>0.604590</td>\n",
       "      <td>0.437381</td>\n",
       "      <td>0.978769</td>\n",
       "      <td>0.903596</td>\n",
       "      <td>0.830343</td>\n",
       "    </tr>\n",
       "    <tr>\n",
       "      <th>Random Forest</th>\n",
       "      <td>0.908712</td>\n",
       "      <td>0.780591</td>\n",
       "      <td>0.702087</td>\n",
       "      <td>0.878860</td>\n",
       "      <td>0.941598</td>\n",
       "      <td>0.881844</td>\n",
       "    </tr>\n",
       "    <tr>\n",
       "      <th>Logistic Regression</th>\n",
       "      <td>0.908273</td>\n",
       "      <td>0.772331</td>\n",
       "      <td>0.672676</td>\n",
       "      <td>0.906650</td>\n",
       "      <td>0.947453</td>\n",
       "      <td>0.894792</td>\n",
       "    </tr>\n",
       "    <tr>\n",
       "      <th>Support Vector Machine</th>\n",
       "      <td>0.907176</td>\n",
       "      <td>0.782071</td>\n",
       "      <td>0.720114</td>\n",
       "      <td>0.855693</td>\n",
       "      <td>0.942859</td>\n",
       "      <td>0.886122</td>\n",
       "    </tr>\n",
       "    <tr>\n",
       "      <th>AdaBoost Classifier</th>\n",
       "      <td>0.885670</td>\n",
       "      <td>0.708123</td>\n",
       "      <td>0.599620</td>\n",
       "      <td>0.864569</td>\n",
       "      <td>0.934736</td>\n",
       "      <td>0.852857</td>\n",
       "    </tr>\n",
       "    <tr>\n",
       "      <th>Gradient Boosting Classifier</th>\n",
       "      <td>0.877551</td>\n",
       "      <td>0.644586</td>\n",
       "      <td>0.480076</td>\n",
       "      <td>0.980620</td>\n",
       "      <td>0.921318</td>\n",
       "      <td>0.803619</td>\n",
       "    </tr>\n",
       "  </tbody>\n",
       "</table>\n",
       "</div>"
      ]
     },
     "metadata": {},
     "execution_count": 29
    }
   ],
   "metadata": {}
  },
  {
   "cell_type": "code",
   "execution_count": null,
   "source": [],
   "outputs": [],
   "metadata": {}
  },
  {
   "cell_type": "code",
   "execution_count": null,
   "source": [
    "pkl_filename = \"pickle_model.pkl\"\n",
    "with open(pkl_filename, 'wb') as file:\n",
    "    pickle.dump(model, file)\n"
   ],
   "outputs": [],
   "metadata": {}
  },
  {
   "cell_type": "code",
   "execution_count": 18,
   "source": [
    "test = pickle.load(open(\"../pickle/test_bal.pickle\", \"rb\"))\n",
    "test.head()\n"
   ],
   "outputs": [
    {
     "output_type": "execute_result",
     "data": {
      "text/plain": [
       "                                               tweet  label\n",
       "0  [people, faggot, like, bear, way, big, douche,...      1\n",
       "1  [far, girls, team, female, team, place, major,...      1\n",
       "2                       [legally, force, parenthood]      1\n",
       "3                          [simple, trumpisatraitor]      1\n",
       "4  [punishment, rapists, hang, till, death, publi...      1"
      ],
      "text/html": [
       "<div>\n",
       "<style scoped>\n",
       "    .dataframe tbody tr th:only-of-type {\n",
       "        vertical-align: middle;\n",
       "    }\n",
       "\n",
       "    .dataframe tbody tr th {\n",
       "        vertical-align: top;\n",
       "    }\n",
       "\n",
       "    .dataframe thead th {\n",
       "        text-align: right;\n",
       "    }\n",
       "</style>\n",
       "<table border=\"1\" class=\"dataframe\">\n",
       "  <thead>\n",
       "    <tr style=\"text-align: right;\">\n",
       "      <th></th>\n",
       "      <th>tweet</th>\n",
       "      <th>label</th>\n",
       "    </tr>\n",
       "  </thead>\n",
       "  <tbody>\n",
       "    <tr>\n",
       "      <th>0</th>\n",
       "      <td>[people, faggot, like, bear, way, big, douche,...</td>\n",
       "      <td>1</td>\n",
       "    </tr>\n",
       "    <tr>\n",
       "      <th>1</th>\n",
       "      <td>[far, girls, team, female, team, place, major,...</td>\n",
       "      <td>1</td>\n",
       "    </tr>\n",
       "    <tr>\n",
       "      <th>2</th>\n",
       "      <td>[legally, force, parenthood]</td>\n",
       "      <td>1</td>\n",
       "    </tr>\n",
       "    <tr>\n",
       "      <th>3</th>\n",
       "      <td>[simple, trumpisatraitor]</td>\n",
       "      <td>1</td>\n",
       "    </tr>\n",
       "    <tr>\n",
       "      <th>4</th>\n",
       "      <td>[punishment, rapists, hang, till, death, publi...</td>\n",
       "      <td>1</td>\n",
       "    </tr>\n",
       "  </tbody>\n",
       "</table>\n",
       "</div>"
      ]
     },
     "metadata": {},
     "execution_count": 18
    }
   ],
   "metadata": {}
  },
  {
   "cell_type": "markdown",
   "source": [
    "# Holdout Set"
   ],
   "metadata": {}
  },
  {
   "cell_type": "code",
   "execution_count": 34,
   "source": [
    "X_tt = test.tweet\n",
    "y_tt = test.target\n",
    "tfidf_tt = vec.transform(X_tt)\n"
   ],
   "outputs": [],
   "metadata": {}
  },
  {
   "cell_type": "code",
   "execution_count": 35,
   "source": [
    "y_pr_nb_tt = nb.predict(tfidf_tt)\n",
    "y_pr_rf_tt = rf.predict(tfidf_tt)\n",
    "y_pr_log_tt = log.predict(tfidf_tt)\n",
    "y_pr_svc_tt = svc.predict(tfidf_tt)\n",
    "y_pr_abc_tt = abc.predict(tfidf_tt)\n",
    "y_pr_gbc_tt = gbc.predict(tfidf_tt)\n"
   ],
   "outputs": [],
   "metadata": {}
  },
  {
   "cell_type": "code",
   "execution_count": 36,
   "source": [
    "get_metrics_confusion(tfidf_tt, y_tt, y_pr_nb_tt, nb)"
   ],
   "outputs": [
    {
     "output_type": "stream",
     "name": "stdout",
     "text": [
      "Accuracy:  0.8673905890095426\n",
      "F1 Score:  0.6075949367088608\n",
      "ROC-AUC:  0.9012150105224186\n",
      "Recall:  0.4438122332859175\n",
      "Precision:  0.9629629629629629\n",
      "PR-AUC:  0.830637526427871\n"
     ]
    },
    {
     "output_type": "display_data",
     "data": {
      "text/plain": [
       "<Figure size 288x288 with 1 Axes>"
      ],
      "image/png": "[encoded data removed]"
     },
     "metadata": {}
    }
   ],
   "metadata": {}
  },
  {
   "cell_type": "code",
   "execution_count": 37,
   "source": [
    "get_metrics_confusion(tfidf_tt, y_tt, y_pr_rf_tt, rf)"
   ],
   "outputs": [
    {
     "output_type": "stream",
     "name": "stdout",
     "text": [
      "Accuracy:  0.9095097071405067\n",
      "F1 Score:  0.7859922178988328\n",
      "ROC-AUC:  0.9414456025058946\n",
      "Recall:  0.7183499288762447\n",
      "Precision:  0.8676975945017182\n",
      "PR-AUC:  0.8805716403226312\n"
     ]
    },
    {
     "output_type": "display_data",
     "data": {
      "text/plain": [
       "<Figure size 288x288 with 1 Axes>"
      ],
      "image/png": "[encoded data removed]"
     },
     "metadata": {}
    }
   ],
   "metadata": {}
  },
  {
   "cell_type": "code",
   "execution_count": 38,
   "source": [
    "get_metrics_confusion(tfidf_tt, y_tt, y_pr_log_tt, log)"
   ],
   "outputs": [
    {
     "output_type": "stream",
     "name": "stdout",
     "text": [
      "Accuracy:  0.9104968739717012\n",
      "F1 Score:  0.7802907915993539\n",
      "ROC-AUC:  0.9489684010795222\n",
      "Recall:  0.6870554765291608\n",
      "Precision:  0.902803738317757\n",
      "PR-AUC:  0.8952297573692674\n"
     ]
    },
    {
     "output_type": "display_data",
     "data": {
      "text/plain": [
       "<Figure size 288x288 with 1 Axes>"
      ],
      "image/png": "[encoded data removed]"
     },
     "metadata": {}
    }
   ],
   "metadata": {}
  },
  {
   "cell_type": "markdown",
   "source": [
    "###"
   ],
   "metadata": {}
  },
  {
   "cell_type": "code",
   "execution_count": 39,
   "source": [
    "get_metrics_2(tfidf_tt, y_tt, y_pr_svc_tt, svc)"
   ],
   "outputs": [
    {
     "output_type": "stream",
     "name": "stdout",
     "text": [
      "Accuracy:  0.9075353734781179\n",
      "F1:  0.7863117870722434\n",
      "Recall:  0.7354196301564723\n",
      "Precision:  0.8447712418300654\n",
      "ROC-AUC:  0.9443161280422454\n",
      "PR-AUC:  0.8879893349123241\n"
     ]
    }
   ],
   "metadata": {}
  },
  {
   "cell_type": "code",
   "execution_count": 40,
   "source": [
    "get_confusion(y_tt, y_pr_svc_tt)"
   ],
   "outputs": [
    {
     "output_type": "display_data",
     "data": {
      "text/plain": [
       "<Figure size 288x288 with 1 Axes>"
      ],
      "image/png": "[encoded data removed]"
     },
     "metadata": {}
    }
   ],
   "metadata": {}
  },
  {
   "cell_type": "code",
   "execution_count": 41,
   "source": [
    "get_metrics_confusion(tfidf_tt, y_tt, y_pr_abc_tt, abc)"
   ],
   "outputs": [
    {
     "output_type": "stream",
     "name": "stdout",
     "text": [
      "Accuracy:  0.8845014807502468\n",
      "F1 Score:  0.7091963545981773\n",
      "ROC-AUC:  0.9342534563222198\n",
      "Recall:  0.6088193456614509\n",
      "Precision:  0.8492063492063492\n",
      "PR-AUC:  0.8505129485681517\n"
     ]
    },
    {
     "output_type": "display_data",
     "data": {
      "text/plain": [
       "<Figure size 288x288 with 1 Axes>"
      ],
      "image/png": "[encoded data removed]"
     },
     "metadata": {}
    }
   ],
   "metadata": {}
  },
  {
   "cell_type": "code",
   "execution_count": 42,
   "source": [
    "get_metrics_confusion(tfidf_tt, y_tt, y_pr_gbc_tt, gbc)"
   ],
   "outputs": [
    {
     "output_type": "stream",
     "name": "stdout",
     "text": [
      "Accuracy:  0.8756169792694966\n",
      "F1 Score:  0.6413662239089184\n",
      "ROC-AUC:  0.9192045100255266\n",
      "Recall:  0.48079658605974396\n",
      "Precision:  0.9629629629629629\n",
      "PR-AUC:  0.8022030120923302\n"
     ]
    },
    {
     "output_type": "display_data",
     "data": {
      "text/plain": [
       "<Figure size 288x288 with 1 Axes>"
      ],
      "image/png": "[encoded data removed]"
     },
     "metadata": {}
    }
   ],
   "metadata": {}
  },
  {
   "cell_type": "code",
   "execution_count": 43,
   "source": [
    "data6 = {'Accuracy': [accuracy(y_tt, y_pr_nb_tt), \n",
    "                      accuracy(y_tt, y_pr_rf_tt), \n",
    "                      accuracy(y_tt, y_pr_log_tt), \n",
    "                      accuracy(y_tt, y_pr_svc_tt),\n",
    "                      accuracy(y_tt, y_pr_abc_tt),\n",
    "                      accuracy(y_tt, y_pr_gbc_tt)],\n",
    "        'F1 Score': [f1(y_tt, y_pr_nb_tt), \n",
    "                     f1(y_tt, y_pr_rf_tt), \n",
    "                     f1(y_tt, y_pr_log_tt), \n",
    "                     f1(y_tt, y_pr_svc_tt),\n",
    "                     f1(y_tt, y_pr_abc_tt),\n",
    "                     f1(y_tt, y_pr_gbc_tt)],\n",
    "        'Recall': [recall(y_tt, y_pr_nb_tt), \n",
    "                   recall(y_tt, y_pr_rf_tt), \n",
    "                   recall(y_tt, y_pr_log_tt),\n",
    "                   recall(y_tt, y_pr_svc_tt),\n",
    "                   recall(y_tt, y_pr_abc_tt),\n",
    "                   recall(y_tt, y_pr_gbc_tt)],\n",
    "        'Precision': [precision(y_tt, y_pr_nb_tt), \n",
    "                      precision(y_tt, y_pr_rf_tt), \n",
    "                      precision(y_tt, y_pr_log_tt),\n",
    "                      precision(y_tt, y_pr_svc_tt),\n",
    "                      precision(y_tt, y_pr_abc_tt),\n",
    "                      precision(y_tt, y_pr_gbc_tt)],\n",
    "        'ROC-AUC': [auc(tfidf_tt, y_tt, nb),\n",
    "                    auc(tfidf_tt, y_tt, rf),\n",
    "                    auc(tfidf_tt, y_tt, log),\n",
    "                    auc2(tfidf_tt, y_tt, svc),\n",
    "                    auc(tfidf_tt, y_tt, abc),\n",
    "                    auc(tfidf_tt, y_tt, gbc)],\n",
    "        'PR AUC': [aps(tfidf_tt, y_tt, nb),\n",
    "                   aps(tfidf_tt, y_tt, rf),\n",
    "                   aps(tfidf_tt, y_tt, log),\n",
    "                   aps2(tfidf_tt, y_tt, svc),\n",
    "                   aps(tfidf_tt, y_tt, abc),\n",
    "                   aps(tfidf_tt, y_tt, gbc)]}\n",
    "metrics6 = pd.DataFrame(data=data6, index = ['Multinomial Naive Bayes', \n",
    "                                             'Random Forest',\n",
    "                                             'Logistic Regression',\n",
    "                                             'Support Vector Machine', \n",
    "                                             'AdaBoost Classifier', \n",
    "                                             'Gradient Boosting Classifier'])"
   ],
   "outputs": [],
   "metadata": {}
  },
  {
   "cell_type": "code",
   "execution_count": 45,
   "source": [
    "metrics6.to_csv(\"../data/metrics/metrics6.csv\")\n",
    "metrics6"
   ],
   "outputs": [
    {
     "output_type": "execute_result",
     "data": {
      "text/plain": [
       "                              Accuracy  F1 Score    Recall  Precision  \\\n",
       "Multinomial Naive Bayes       0.867391  0.607595  0.443812   0.962963   \n",
       "Random Forest                 0.909510  0.785992  0.718350   0.867698   \n",
       "Logistic Regression           0.910497  0.780291  0.687055   0.902804   \n",
       "Support Vector Machine        0.907535  0.786312  0.735420   0.844771   \n",
       "AdaBoost Classifier           0.884501  0.709196  0.608819   0.849206   \n",
       "Gradient Boosting Classifier  0.875617  0.641366  0.480797   0.962963   \n",
       "\n",
       "                               ROC-AUC    PR AUC  \n",
       "Multinomial Naive Bayes       0.901215  0.830638  \n",
       "Random Forest                 0.941446  0.880572  \n",
       "Logistic Regression           0.948968  0.895230  \n",
       "Support Vector Machine        0.944316  0.887989  \n",
       "AdaBoost Classifier           0.934253  0.850513  \n",
       "Gradient Boosting Classifier  0.919205  0.802203  "
      ],
      "text/html": [
       "<div>\n",
       "<style scoped>\n",
       "    .dataframe tbody tr th:only-of-type {\n",
       "        vertical-align: middle;\n",
       "    }\n",
       "\n",
       "    .dataframe tbody tr th {\n",
       "        vertical-align: top;\n",
       "    }\n",
       "\n",
       "    .dataframe thead th {\n",
       "        text-align: right;\n",
       "    }\n",
       "</style>\n",
       "<table border=\"1\" class=\"dataframe\">\n",
       "  <thead>\n",
       "    <tr style=\"text-align: right;\">\n",
       "      <th></th>\n",
       "      <th>Accuracy</th>\n",
       "      <th>F1 Score</th>\n",
       "      <th>Recall</th>\n",
       "      <th>Precision</th>\n",
       "      <th>ROC-AUC</th>\n",
       "      <th>PR AUC</th>\n",
       "    </tr>\n",
       "  </thead>\n",
       "  <tbody>\n",
       "    <tr>\n",
       "      <th>Multinomial Naive Bayes</th>\n",
       "      <td>0.867391</td>\n",
       "      <td>0.607595</td>\n",
       "      <td>0.443812</td>\n",
       "      <td>0.962963</td>\n",
       "      <td>0.901215</td>\n",
       "      <td>0.830638</td>\n",
       "    </tr>\n",
       "    <tr>\n",
       "      <th>Random Forest</th>\n",
       "      <td>0.909510</td>\n",
       "      <td>0.785992</td>\n",
       "      <td>0.718350</td>\n",
       "      <td>0.867698</td>\n",
       "      <td>0.941446</td>\n",
       "      <td>0.880572</td>\n",
       "    </tr>\n",
       "    <tr>\n",
       "      <th>Logistic Regression</th>\n",
       "      <td>0.910497</td>\n",
       "      <td>0.780291</td>\n",
       "      <td>0.687055</td>\n",
       "      <td>0.902804</td>\n",
       "      <td>0.948968</td>\n",
       "      <td>0.895230</td>\n",
       "    </tr>\n",
       "    <tr>\n",
       "      <th>Support Vector Machine</th>\n",
       "      <td>0.907535</td>\n",
       "      <td>0.786312</td>\n",
       "      <td>0.735420</td>\n",
       "      <td>0.844771</td>\n",
       "      <td>0.944316</td>\n",
       "      <td>0.887989</td>\n",
       "    </tr>\n",
       "    <tr>\n",
       "      <th>AdaBoost Classifier</th>\n",
       "      <td>0.884501</td>\n",
       "      <td>0.709196</td>\n",
       "      <td>0.608819</td>\n",
       "      <td>0.849206</td>\n",
       "      <td>0.934253</td>\n",
       "      <td>0.850513</td>\n",
       "    </tr>\n",
       "    <tr>\n",
       "      <th>Gradient Boosting Classifier</th>\n",
       "      <td>0.875617</td>\n",
       "      <td>0.641366</td>\n",
       "      <td>0.480797</td>\n",
       "      <td>0.962963</td>\n",
       "      <td>0.919205</td>\n",
       "      <td>0.802203</td>\n",
       "    </tr>\n",
       "  </tbody>\n",
       "</table>\n",
       "</div>"
      ]
     },
     "metadata": {},
     "execution_count": 45
    }
   ],
   "metadata": {}
  },
  {
   "cell_type": "markdown",
   "source": [
    "# Hyperparameters Tuning"
   ],
   "metadata": {}
  },
  {
   "cell_type": "markdown",
   "source": [
    "## Logistic Regression"
   ],
   "metadata": {}
  },
  {
   "cell_type": "code",
   "execution_count": 47,
   "source": [
    "logreg = LogisticRegression(random_state=42)\n",
    "params = {'C': [0.001, 0.01, 0.1, 1, 10], \n",
    "          'penalty': ['l1', 'l2', 'elasticnet'],\n",
    "          'solver': ['liblinear', 'newton-cg', 'lbfgs', 'sag', 'saga']}\n",
    "gslog = GridSearchCV(estimator = logreg,\n",
    "                     param_grid = params,\n",
    "                     cv = 10,\n",
    "                     n_jobs = -1, \n",
    "                     verbose=3).fit(tfidf_tr, y_tr)\n",
    "y_pred_gslog = gslog.predict(tfidf_val)\n",
    "print(\"Best: %f using %s\" % (gslog.best_score_, gslog.best_params_))"
   ],
   "outputs": [
    {
     "output_type": "stream",
     "name": "stdout",
     "text": [
      "Fitting 10 folds for each of 75 candidates, totalling 750 fits\n",
      "Best: 0.910675 using {'C': 10, 'penalty': 'l2', 'solver': 'lbfgs'}\n"
     ]
    }
   ],
   "metadata": {}
  },
  {
   "cell_type": "code",
   "execution_count": 48,
   "source": [
    "get_metrics_confusion(tfidf_val, y_val, y_pred_gslog, gslog)"
   ],
   "outputs": [
    {
     "output_type": "stream",
     "name": "stdout",
     "text": [
      "Accuracy:  0.9069563309194646\n",
      "F1 Score:  0.7818930041152264\n",
      "ROC-AUC:  0.9448175621763075\n",
      "Recall:  0.7210626185958254\n",
      "Precision:  0.8539325842696629\n",
      "PR-AUC:  0.8889208007196384\n"
     ]
    },
    {
     "output_type": "display_data",
     "data": {
      "text/plain": [
       "<Figure size 288x288 with 1 Axes>"
      ],
      "image/png": "[encoded data removed]"
     },
     "metadata": {}
    }
   ],
   "metadata": {}
  },
  {
   "cell_type": "code",
   "execution_count": 49,
   "source": [
    "log_best = LogisticRegression(random_state=42, \n",
    "                              C=10, \n",
    "                              penalty='l2', \n",
    "                              solver='lbfgs').fit(tfidf_tr, y_tr)\n",
    "y_pred_log_best = log_best.predict(tfidf_val)\n",
    "get_metrics_confusion(tfidf_val, y_val, y_pred_log_best, log_best)"
   ],
   "outputs": [
    {
     "output_type": "stream",
     "name": "stdout",
     "text": [
      "Accuracy:  0.9069563309194646\n",
      "F1 Score:  0.7818930041152264\n",
      "ROC-AUC:  0.9448175621763075\n",
      "Recall:  0.7210626185958254\n",
      "Precision:  0.8539325842696629\n",
      "PR-AUC:  0.8889208007196384\n"
     ]
    },
    {
     "output_type": "display_data",
     "data": {
      "text/plain": [
       "<Figure size 288x288 with 1 Axes>"
      ],
      "image/png": "[encoded data removed]"
     },
     "metadata": {}
    }
   ],
   "metadata": {}
  },
  {
   "cell_type": "markdown",
   "source": [
    "## Random Forest Classifier"
   ],
   "metadata": {}
  },
  {
   "cell_type": "code",
   "execution_count": 46,
   "source": [
    "rfc = RandomForestClassifier(random_state=42)\n",
    "params = {'n_estimators': [50, 100, 200, 400, 600, 800, 1000]}\n",
    "gsrfc = GridSearchCV(estimator = rfc,\n",
    "                     param_grid = params,\n",
    "                     cv = 5,\n",
    "                     n_jobs = -1,\n",
    "                     verbose=2).fit(tfidf_tr, y_tr)\n",
    "y_pred_gsrfc = gsrfc.predict(tfidf_val)\n",
    "print(\"Best: %f using %s\" % (gsrfc.best_score_, gsrfc.best_params_))"
   ],
   "outputs": [
    {
     "output_type": "stream",
     "name": "stdout",
     "text": [
      "Fitting 5 folds for each of 7 candidates, totalling 35 fits\n",
      "Best: 0.904793 using {'n_estimators': 1000}\n"
     ]
    }
   ],
   "metadata": {}
  },
  {
   "cell_type": "code",
   "execution_count": 10,
   "source": [
    "rfc = RandomForestClassifier(random_state=42)\n",
    "params = {'n_estimators': [500, 1000, 2000, 5000]}\n",
    "gsrfc = GridSearchCV(estimator = rfc,\n",
    "                     param_grid = params,\n",
    "                     cv = 5,\n",
    "                     n_jobs = -1,\n",
    "                     verbose=2).fit(tfidf_tr, y_tr)\n",
    "y_pred_gsrfc = gsrfc.predict(tfidf_val)\n",
    "print(\"Best: %f using %s\" % (gsrfc.best_score_, gsrfc.best_params_))"
   ],
   "outputs": [
    {
     "output_type": "stream",
     "name": "stdout",
     "text": [
      "Fitting 5 folds for each of 4 candidates, totalling 20 fits\n",
      "Best: 0.904793 using {'n_estimators': 1000}\n"
     ]
    }
   ],
   "metadata": {}
  },
  {
   "cell_type": "code",
   "execution_count": 14,
   "source": [
    "rfc = RandomForestClassifier(random_state=42)\n",
    "params = {'n_estimators': [1000],\n",
    "          'max_depth': [500, 1000, 1500, 2000],\n",
    "         }\n",
    "gsrfc = GridSearchCV(estimator = rfc,\n",
    "                     param_grid = params,\n",
    "                     cv = 5,\n",
    "                     n_jobs = -1,\n",
    "                     verbose=2).fit(tfidf_tr, y_tr)\n",
    "y_pred_gsrfc = gsrfc.predict(tfidf_val)\n",
    "print(\"Best: %f using %s\" % (gsrfc.best_score_, gsrfc.best_params_))"
   ],
   "outputs": [
    {
     "output_type": "stream",
     "name": "stdout",
     "text": [
      "Fitting 5 folds for each of 4 candidates, totalling 20 fits\n",
      "Best: 0.904793 using {'max_depth': 1500, 'n_estimators': 1000}\n"
     ]
    }
   ],
   "metadata": {}
  },
  {
   "cell_type": "code",
   "execution_count": 15,
   "source": [
    "rfc = RandomForestClassifier(random_state=42)\n",
    "params = {'n_estimators': [1000],\n",
    "          'max_depth': [1500],\n",
    "          'min_samples_leaf': [1, 2, 4]\n",
    "         }\n",
    "gsrfc = GridSearchCV(estimator = rfc,\n",
    "                     param_grid = params,\n",
    "                     cv = 5,\n",
    "                     n_jobs = -1,\n",
    "                     verbose=2).fit(tfidf_tr, y_tr)\n",
    "y_pred_gsrfc = gsrfc.predict(tfidf_val)\n",
    "print(\"Best: %f using %s\" % (gsrfc.best_score_, gsrfc.best_params_))"
   ],
   "outputs": [
    {
     "output_type": "stream",
     "name": "stdout",
     "text": [
      "Fitting 5 folds for each of 3 candidates, totalling 15 fits\n",
      "Best: 0.904793 using {'max_depth': 1500, 'min_samples_leaf': 1, 'n_estimators': 1000}\n"
     ]
    }
   ],
   "metadata": {}
  },
  {
   "cell_type": "code",
   "execution_count": 16,
   "source": [
    "rfc = RandomForestClassifier(random_state=42)\n",
    "params = {'n_estimators': [1000],\n",
    "          'max_depth': [1500],\n",
    "          'min_samples_leaf': [1],\n",
    "          'min_samples_split': [2, 5, 10]\n",
    "         }\n",
    "gsrfc = GridSearchCV(estimator = rfc,\n",
    "                     param_grid = params,\n",
    "                     cv = 5,\n",
    "                     n_jobs = -1,\n",
    "                     verbose=2).fit(tfidf_tr, y_tr)\n",
    "y_pred_gsrfc = gsrfc.predict(tfidf_val)\n",
    "print(\"Best: %f using %s\" % (gsrfc.best_score_, gsrfc.best_params_))"
   ],
   "outputs": [
    {
     "output_type": "stream",
     "name": "stdout",
     "text": [
      "Fitting 5 folds for each of 3 candidates, totalling 15 fits\n",
      "Best: 0.905276 using {'max_depth': 1500, 'min_samples_leaf': 1, 'min_samples_split': 5, 'n_estimators': 1000}\n"
     ]
    }
   ],
   "metadata": {}
  },
  {
   "cell_type": "code",
   "execution_count": null,
   "source": [
    "rfc_best = RandomForestClassifier(random_state=42, \n",
    "                                  max_depth=1500, \n",
    "                                  min_samples_leaf=1,\n",
    "                                  min_samples_split=5, \n",
    "                                  n_estimators=1000).fit(tfidf_tr, y_tr)\n",
    "y_pred_rfc_best = rfc_best.predict(tfidf_val)"
   ],
   "outputs": [],
   "metadata": {}
  },
  {
   "cell_type": "code",
   "execution_count": 18,
   "source": [
    "get_metrics_confusion(tfidf_val, y_val, y_pred_rfc_best, rfc_best)"
   ],
   "outputs": [
    {
     "output_type": "stream",
     "name": "stdout",
     "text": [
      "Accuracy:  0.9106868553873162\n",
      "F1 Score:  0.7859021567596002\n",
      "ROC-AUC:  0.943451560359486\n",
      "Recall:  0.7087286527514232\n",
      "Precision:  0.8819362455726092\n",
      "PR-AUC:  0.8864726247951304\n"
     ]
    },
    {
     "output_type": "display_data",
     "data": {
      "text/plain": [
       "<Figure size 288x288 with 1 Axes>"
      ],
      "image/png": "[encoded data removed]"
     },
     "metadata": {}
    }
   ],
   "metadata": {}
  },
  {
   "cell_type": "markdown",
   "source": [
    "## Support Vector Machine"
   ],
   "metadata": {}
  },
  {
   "cell_type": "code",
   "execution_count": 20,
   "source": [
    "from sklearn.svm import SVC\n",
    "svm = SVC()\n",
    "params_grid = {'C': [0.1, 1, 10, 100]}\n",
    "gssvm = GridSearchCV(SVC(),\n",
    "                     params_grid,\n",
    "                     refit = True,\n",
    "                     verbose = 1)\n",
    "gssvm.fit(tfidf_tr, y_tr)\n",
    "y_pred_gssvm = gssvm.predict(tfidf_val)  \n",
    "print(\"Best: %f using %s\" % (gssvm.best_score_, gssvm.best_params_))\n"
   ],
   "outputs": [
    {
     "output_type": "stream",
     "name": "stdout",
     "text": [
      "Fitting 5 folds for each of 4 candidates, totalling 20 fits\n",
      "Best: 0.910104 using {'C': 10}\n"
     ]
    }
   ],
   "metadata": {}
  },
  {
   "cell_type": "code",
   "execution_count": 21,
   "source": [
    "svm = SVC()\n",
    "params_grid = {'C': [10],\n",
    "               'gamma': [1, 0.1, 0.01, 0.001]}\n",
    "gssvm = GridSearchCV(SVC(),\n",
    "                     params_grid, \n",
    "                     refit = True, \n",
    "                     verbose = 1)\n",
    "gssvm.fit(tfidf_tr, y_tr)\n",
    "y_pred_gssvm = gssvm.predict(tfidf_val)  \n",
    "print(\"Best: %f using %s\" % (gssvm.best_score_, gssvm.best_params_))"
   ],
   "outputs": [
    {
     "output_type": "stream",
     "name": "stdout",
     "text": [
      "Fitting 5 folds for each of 4 candidates, totalling 20 fits\n",
      "Best: 0.915284 using {'C': 10, 'gamma': 0.1}\n"
     ]
    }
   ],
   "metadata": {}
  },
  {
   "cell_type": "code",
   "execution_count": 22,
   "source": [
    "svm = SVC()\n",
    "params_grid = {'C': [10],\n",
    "               'gamma': [0.1],\n",
    "               'kernel': ['rbf', 'poly', 'sigmoid']}\n",
    "gssvm = GridSearchCV(SVC(),\n",
    "                     params_grid, \n",
    "                     refit = True, \n",
    "                     verbose = 1)\n",
    "gssvm.fit(tfidf_tr, y_tr)\n",
    "y_pred_gssvm = gssvm.predict(tfidf_val)  \n",
    "print(\"Best: %f using %s\" % (gssvm.best_score_, gssvm.best_params_))"
   ],
   "outputs": [
    {
     "output_type": "stream",
     "name": "stdout",
     "text": [
      "Fitting 5 folds for each of 3 candidates, totalling 15 fits\n",
      "Best: 0.916557 using {'C': 10, 'gamma': 0.1, 'kernel': 'sigmoid'}\n"
     ]
    }
   ],
   "metadata": {}
  },
  {
   "cell_type": "code",
   "execution_count": 24,
   "source": [
    "get_metrics_2(tfidf_val, y_val, y_pred_gssvm, gssvm)"
   ],
   "outputs": [
    {
     "output_type": "stream",
     "name": "stdout",
     "text": [
      "Accuracy:  0.9170506912442397\n",
      "F1:  0.8014705882352942\n",
      "Recall:  0.7239089184060721\n",
      "Precision:  0.8976470588235295\n",
      "ROC-AUC:  0.944314604830449\n",
      "PR-AUC:  0.8970455202599272\n"
     ]
    }
   ],
   "metadata": {}
  },
  {
   "cell_type": "code",
   "execution_count": 25,
   "source": [
    "get_confusion(y_val, y_pred_gssvm)"
   ],
   "outputs": [
    {
     "output_type": "display_data",
     "data": {
      "text/plain": [
       "<Figure size 288x288 with 1 Axes>"
      ],
      "image/png": "[encoded data removed]"
     },
     "metadata": {}
    }
   ],
   "metadata": {}
  },
  {
   "cell_type": "code",
   "execution_count": 26,
   "source": [
    "svm_best = SVC(C=10, gamma=0.1, kernel='sigmoid').fit(tfidf_tr, y_tr)\n",
    "y_pred_svm_best = svm_best.predict(tfidf_val)\n",
    "get_metrics_2(tfidf_val, y_val, y_pred_svm_best, svm_best)\n",
    "get_confusion(y_val, y_pred_svm_best)"
   ],
   "outputs": [
    {
     "output_type": "stream",
     "name": "stdout",
     "text": [
      "Accuracy:  0.9170506912442397\n",
      "F1:  0.8014705882352942\n",
      "Recall:  0.7239089184060721\n",
      "Precision:  0.8976470588235295\n",
      "ROC-AUC:  0.944314604830449\n",
      "PR-AUC:  0.8970455202599272\n"
     ]
    },
    {
     "output_type": "display_data",
     "data": {
      "text/plain": [
       "<Figure size 288x288 with 1 Axes>"
      ],
      "image/png": "[encoded data removed]"
     },
     "metadata": {}
    }
   ],
   "metadata": {}
  },
  {
   "cell_type": "code",
   "execution_count": 27,
   "source": [
    "import pickle\n",
    "with open('../pickle/best_model.pickle', 'wb') as f:\n",
    "    pickle.dump(svm_best, f, pickle.HIGHEST_PROTOCOL)"
   ],
   "outputs": [],
   "metadata": {}
  },
  {
   "cell_type": "code",
   "execution_count": 27,
   "source": [
    "data7 = {'Accuracy': [accuracy(y_val, y_pred_log_best),\n",
    "                      accuracy(y_val, y_pred_gsrfc),\n",
    "                      accuracy(y_val, y_pred_svm_best)],\n",
    "        'F1 Score': [f1(y_val, y_pred_log_best),\n",
    "                     f1(y_val, y_pred_gsrfc),\n",
    "                     f1(y_val, y_pred_svm_best)],\n",
    "        'Recall': [recall(y_val, y_pred_log_best),\n",
    "                   recall(y_val, y_pred_gsrfc),\n",
    "                   recall(y_val, y_pred_svm_best)],\n",
    "        'Precision': [precision(y_val, y_pred_log_best),\n",
    "                      precision(y_val, y_pred_gsrfc),\n",
    "                      precision(y_val, y_pred_svm_best)],\n",
    "        'ROC-AUC': [auc(tfidf_val, y_val, log_best),\n",
    "                    auc(tfidf_val, y_val, gsrfc),\n",
    "                    auc2(tfidf_val, y_val, svm_best)],\n",
    "        'PR AUC': [aps(tfidf_val, y_val, log_best),\n",
    "                   aps(tfidf_val, y_val, gsrfc),\n",
    "                   aps2(tfidf_val, y_val, svm_best)]}\n",
    "metrics7 = pd.DataFrame(data=data7, index=['Logistic Regression w/GridsearchCV',\n",
    "                                           'Random Forest w/GridsearchCV',\n",
    "                                           'Support Vector Machine w/GridsearchCV'])"
   ],
   "outputs": [],
   "metadata": {}
  },
  {
   "cell_type": "code",
   "execution_count": 28,
   "source": [
    "metrics7"
   ],
   "outputs": [
    {
     "output_type": "execute_result",
     "data": {
      "text/plain": [
       "                                       Accuracy  F1 Score    Recall  \\\n",
       "Logistic Regression w/GridsearchCV     0.924099  0.881517  0.842105   \n",
       "Random Forest w/GridsearchCV           0.694877  0.165109  0.089983   \n",
       "AdaBoost Classifier w/GridsearchCV     0.894307  0.820612  0.720996   \n",
       "Support Vector Machine w/GridsearchCV  0.931879  0.893693  0.853990   \n",
       "\n",
       "                                       Precision   ROC-AUC    PR AUC  \n",
       "Logistic Regression w/GridsearchCV      0.924798  0.965593  0.955385  \n",
       "Random Forest w/GridsearchCV            1.000000  0.931134  0.904248  \n",
       "AdaBoost Classifier w/GridsearchCV      0.952167  0.963641  0.936491  \n",
       "Support Vector Machine w/GridsearchCV   0.937267  0.965325  0.954111  "
      ],
      "text/html": [
       "<div>\n",
       "<style scoped>\n",
       "    .dataframe tbody tr th:only-of-type {\n",
       "        vertical-align: middle;\n",
       "    }\n",
       "\n",
       "    .dataframe tbody tr th {\n",
       "        vertical-align: top;\n",
       "    }\n",
       "\n",
       "    .dataframe thead th {\n",
       "        text-align: right;\n",
       "    }\n",
       "</style>\n",
       "<table border=\"1\" class=\"dataframe\">\n",
       "  <thead>\n",
       "    <tr style=\"text-align: right;\">\n",
       "      <th></th>\n",
       "      <th>Accuracy</th>\n",
       "      <th>F1 Score</th>\n",
       "      <th>Recall</th>\n",
       "      <th>Precision</th>\n",
       "      <th>ROC-AUC</th>\n",
       "      <th>PR AUC</th>\n",
       "    </tr>\n",
       "  </thead>\n",
       "  <tbody>\n",
       "    <tr>\n",
       "      <th>Logistic Regression w/GridsearchCV</th>\n",
       "      <td>0.924099</td>\n",
       "      <td>0.881517</td>\n",
       "      <td>0.842105</td>\n",
       "      <td>0.924798</td>\n",
       "      <td>0.965593</td>\n",
       "      <td>0.955385</td>\n",
       "    </tr>\n",
       "    <tr>\n",
       "      <th>Random Forest w/GridsearchCV</th>\n",
       "      <td>0.694877</td>\n",
       "      <td>0.165109</td>\n",
       "      <td>0.089983</td>\n",
       "      <td>1.000000</td>\n",
       "      <td>0.931134</td>\n",
       "      <td>0.904248</td>\n",
       "    </tr>\n",
       "    <tr>\n",
       "      <th>AdaBoost Classifier w/GridsearchCV</th>\n",
       "      <td>0.894307</td>\n",
       "      <td>0.820612</td>\n",
       "      <td>0.720996</td>\n",
       "      <td>0.952167</td>\n",
       "      <td>0.963641</td>\n",
       "      <td>0.936491</td>\n",
       "    </tr>\n",
       "    <tr>\n",
       "      <th>Support Vector Machine w/GridsearchCV</th>\n",
       "      <td>0.931879</td>\n",
       "      <td>0.893693</td>\n",
       "      <td>0.853990</td>\n",
       "      <td>0.937267</td>\n",
       "      <td>0.965325</td>\n",
       "      <td>0.954111</td>\n",
       "    </tr>\n",
       "  </tbody>\n",
       "</table>\n",
       "</div>"
      ]
     },
     "metadata": {},
     "execution_count": 28
    }
   ],
   "metadata": {}
  },
  {
   "cell_type": "code",
   "execution_count": 29,
   "source": [
    "metrics7.to_csv(\"../data/metrics/metrics7.csv\")"
   ],
   "outputs": [],
   "metadata": {}
  },
  {
   "cell_type": "code",
   "execution_count": null,
   "source": [],
   "outputs": [],
   "metadata": {}
  },
  {
   "cell_type": "code",
   "execution_count": null,
   "source": [
    "pipeline = Pipeline([\n",
    "    ('vect', CountVectorizer()),\n",
    "    ('tfidf', TfidfTransformer()),\n",
    "    ('clf', SVC()),\n",
    "])\n",
    "\n",
    "parameters = {\n",
    "    'vect__max_df': (0.5, 0.75, 1.0),\n",
    "    'vect__max_features':\n",
    "}\n",
    "\n",
    "}"
   ],
   "outputs": [],
   "metadata": {}
  },
  {
   "cell_type": "code",
   "execution_count": null,
   "source": [],
   "outputs": [],
   "metadata": {}
  }
 ]
}