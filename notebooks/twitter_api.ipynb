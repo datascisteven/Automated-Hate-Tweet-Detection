{
 "metadata": {
  "language_info": {
   "codemirror_mode": {
    "name": "ipython",
    "version": 3
   },
   "file_extension": ".py",
   "mimetype": "text/x-python",
   "name": "python",
   "nbconvert_exporter": "python",
   "pygments_lexer": "ipython3",
   "version": "3.9.2"
  },
  "orig_nbformat": 2,
  "kernelspec": {
   "name": "python392jvsc74a57bd080773cdecc613a186b9eac051636553d2ff0f99c57590601666ed713bd5d0256",
   "display_name": "Python 3.9.2 64-bit ('learn-env': conda)"
  }
 },
 "nbformat": 4,
 "nbformat_minor": 2,
 "cells": [
  {
   "source": [
    "# Exploring Twitter API"
   ],
   "cell_type": "markdown",
   "metadata": {}
  },
  {
   "source": [
    "## Importing Packages"
   ],
   "cell_type": "markdown",
   "metadata": {}
  },
  {
   "cell_type": "code",
   "execution_count": 15,
   "metadata": {},
   "outputs": [],
   "source": [
    "import pandas as pd\n",
    "import json\n",
    "import re\n",
    "import requests\n",
    "import pickle\n",
    "import twint\n",
    "\n",
    "%reload_ext autoreload\n",
    "%autoreload 2\n",
    "\n",
    "import sys\n",
    "sys.path.append(\"../py\")\n",
    "from utils import *\n",
    "from config import keys"
   ]
  },
  {
   "source": [
    "## Aristotle University Dataset\n",
    "\n",
    "Citation:\n",
    "\n",
    "Founta, A., Djouvas, C., Chatzakou, D., Leontiadis, I., Blackburn, J., Stringhini, G., Vakali, A., Sirivianos, M. and Kourtellis, N., 2018. Large Scale Crowdsourcing and Characterization of Twitter Abusive Behavior \\[Data file\\]. ArXiv. Retrieved from: https://dataverse.mpi-sws.org/dataset.xhtml?persistentId=doi:10.5072/FK2/ZDTEMN\n",
    "\n",
    "Publication: https://arxiv.org/pdf/1802.00393.pdf"
   ],
   "cell_type": "markdown",
   "metadata": {}
  },
  {
   "cell_type": "code",
   "execution_count": 2,
   "metadata": {},
   "outputs": [
    {
     "output_type": "execute_result",
     "data": {
      "text/plain": [
       "             tweet_id maj_label\n",
       "0  849667487180259329   abusive\n",
       "1  850490912954351616   abusive\n",
       "2  848791766853668864   abusive\n",
       "3  848306464892604416   abusive\n",
       "4  850010509969465344    normal"
      ],
      "text/html": "<div>\n<style scoped>\n    .dataframe tbody tr th:only-of-type {\n        vertical-align: middle;\n    }\n\n    .dataframe tbody tr th {\n        vertical-align: top;\n    }\n\n    .dataframe thead th {\n        text-align: right;\n    }\n</style>\n<table border=\"1\" class=\"dataframe\">\n  <thead>\n    <tr style=\"text-align: right;\">\n      <th></th>\n      <th>tweet_id</th>\n      <th>maj_label</th>\n    </tr>\n  </thead>\n  <tbody>\n    <tr>\n      <th>0</th>\n      <td>849667487180259329</td>\n      <td>abusive</td>\n    </tr>\n    <tr>\n      <th>1</th>\n      <td>850490912954351616</td>\n      <td>abusive</td>\n    </tr>\n    <tr>\n      <th>2</th>\n      <td>848791766853668864</td>\n      <td>abusive</td>\n    </tr>\n    <tr>\n      <th>3</th>\n      <td>848306464892604416</td>\n      <td>abusive</td>\n    </tr>\n    <tr>\n      <th>4</th>\n      <td>850010509969465344</td>\n      <td>normal</td>\n    </tr>\n  </tbody>\n</table>\n</div>"
     },
     "metadata": {},
     "execution_count": 2
    }
   ],
   "source": [
    "df = pd.read_csv('../data/hatespeechtwitter.csv')\n",
    "df.head()"
   ]
  },
  {
   "cell_type": "code",
   "execution_count": 3,
   "metadata": {},
   "outputs": [
    {
     "output_type": "stream",
     "name": "stdout",
     "text": [
      "<class 'pandas.core.frame.DataFrame'>\nRangeIndex: 80000 entries, 0 to 79999\nData columns (total 2 columns):\n #   Column     Non-Null Count  Dtype \n---  ------     --------------  ----- \n 0   tweet_id   80000 non-null  int64 \n 1   maj_label  79996 non-null  object\ndtypes: int64(1), object(1)\nmemory usage: 1.2+ MB\n"
     ]
    }
   ],
   "source": [
    "df.info()"
   ]
  },
  {
   "cell_type": "code",
   "execution_count": 4,
   "metadata": {},
   "outputs": [
    {
     "output_type": "execute_result",
     "data": {
      "text/plain": [
       "normal     52835\n",
       "spam       13404\n",
       "abusive    10122\n",
       "hateful     3635\n",
       "Name: label, dtype: int64"
      ]
     },
     "metadata": {},
     "execution_count": 4
    }
   ],
   "source": [
    "df.columns = ['id', 'label']\n",
    "df.label.value_counts()"
   ]
  },
  {
   "cell_type": "code",
   "execution_count": 5,
   "metadata": {},
   "outputs": [
    {
     "output_type": "execute_result",
     "data": {
      "text/plain": [
       "                       id    label\n",
       "5      850433664890544128  hateful\n",
       "11     850449456445235200  hateful\n",
       "12     850100742035836929  hateful\n",
       "13     847945888995708928  hateful\n",
       "21     847804507367100416  hateful\n",
       "...                   ...      ...\n",
       "79853  849246676854484992  hateful\n",
       "79909  849635522389651456  hateful\n",
       "79917  850456293181538304  hateful\n",
       "79922  850308804663181312  hateful\n",
       "79970  847779358341292033  hateful\n",
       "\n",
       "[3635 rows x 2 columns]"
      ],
      "text/html": "<div>\n<style scoped>\n    .dataframe tbody tr th:only-of-type {\n        vertical-align: middle;\n    }\n\n    .dataframe tbody tr th {\n        vertical-align: top;\n    }\n\n    .dataframe thead th {\n        text-align: right;\n    }\n</style>\n<table border=\"1\" class=\"dataframe\">\n  <thead>\n    <tr style=\"text-align: right;\">\n      <th></th>\n      <th>id</th>\n      <th>label</th>\n    </tr>\n  </thead>\n  <tbody>\n    <tr>\n      <th>5</th>\n      <td>850433664890544128</td>\n      <td>hateful</td>\n    </tr>\n    <tr>\n      <th>11</th>\n      <td>850449456445235200</td>\n      <td>hateful</td>\n    </tr>\n    <tr>\n      <th>12</th>\n      <td>850100742035836929</td>\n      <td>hateful</td>\n    </tr>\n    <tr>\n      <th>13</th>\n      <td>847945888995708928</td>\n      <td>hateful</td>\n    </tr>\n    <tr>\n      <th>21</th>\n      <td>847804507367100416</td>\n      <td>hateful</td>\n    </tr>\n    <tr>\n      <th>...</th>\n      <td>...</td>\n      <td>...</td>\n    </tr>\n    <tr>\n      <th>79853</th>\n      <td>849246676854484992</td>\n      <td>hateful</td>\n    </tr>\n    <tr>\n      <th>79909</th>\n      <td>849635522389651456</td>\n      <td>hateful</td>\n    </tr>\n    <tr>\n      <th>79917</th>\n      <td>850456293181538304</td>\n      <td>hateful</td>\n    </tr>\n    <tr>\n      <th>79922</th>\n      <td>850308804663181312</td>\n      <td>hateful</td>\n    </tr>\n    <tr>\n      <th>79970</th>\n      <td>847779358341292033</td>\n      <td>hateful</td>\n    </tr>\n  </tbody>\n</table>\n<p>3635 rows × 2 columns</p>\n</div>"
     },
     "metadata": {},
     "execution_count": 5
    }
   ],
   "source": [
    "df_hateful = df[df['label']=='hateful']\n",
    "df_hateful"
   ]
  },
  {
   "cell_type": "code",
   "execution_count": 6,
   "metadata": {},
   "outputs": [
    {
     "output_type": "execute_result",
     "data": {
      "text/plain": [
       "37"
      ]
     },
     "metadata": {},
     "execution_count": 6
    }
   ],
   "source": [
    "hate_ids = group_list(list(df_hateful.id))\n",
    "len(hate_ids)"
   ]
  },
  {
   "cell_type": "code",
   "execution_count": 7,
   "metadata": {},
   "outputs": [
    {
     "output_type": "execute_result",
     "data": {
      "text/plain": [
       "'850433664890544128,850449456445235200,850100742035836929,847945888995708928,847804507367100416,850090319165050880,848600351381098496,850672203372916736,849303652280020995,849300057782456321,848686686930382848,850380636300820480,847652946217009155,850562987870105600,849763234743808002,848835698006401024,849310820345532416,850215875680522240,847860379682320384,849922895132459008,847917841659473920,849042540091387904,847663964657860609,848110494422630400,847520418793762816,849623568619057152,847591914874572800,848705682937450496,848594131257577473,849751289399566336,847811708995481600,850741375817601025,848997472273936384,847457248355811328,847947877058052096,850074930263859201,848080463214374912,849965110806409216,848653006707011584,850179691386249217,849960731965620224,847693215717249024,848877670389755904,848721914898124808,850730957145616385,849828636563841029,847566791014363136,850008916129964033,848759395215265792,847909058803892224,847498662905307136,849700412475064320,850445232789487616,849355590354776064,849352893400576000,849872022414938113,850217104590594049,848722141382033409,848817960261124096,850014813292032001,850211169662935040,848519904655552512,847625561576841216,849429963749117955,850401901426475008,849766716053884930,849301588674039809,848295945569787904,847927979300843521,850344938587947009,847806038300663808,849992239552098304,849045857798430721,849709971298291713,850727828215746560,848629141092126721,850727161308872704,847407612983259136,848171005654605824,848211342276177921,847870399912325120,848454981023936512,850047159789596672,847703391081906177,850331185469435904,849102015301079040,850830760634462212,849835724908224512,849848827930607618,847638370993831936,849798504675508226,849471369905569792,849993250400346116,847661947159891972,847799130277675008,848933211375779840,847986514986487808,850227061868314625,849626676615053314,848709868861222914'"
      ]
     },
     "metadata": {},
     "execution_count": 7
    }
   ],
   "source": [
    "hate_ids[0]"
   ]
  },
  {
   "cell_type": "code",
   "execution_count": 14,
   "metadata": {},
   "outputs": [],
   "source": [
    "url = \"https://api.twitter.com/2/tweets?ids=847661947159891972,847799130277675008,848933211375779840&tweet.fields=created_at,entities,geo,id,public_metrics,text&user.fields=description,entities,id,location,name,public_metrics,username\"\n",
    "payload={}\n",
    "headers = {'Authorization': 'Bearer ' + keys['bearer_token'], 'Cookie': 'personalization_id=\"v1_hzpv7qXpjB6CteyAHDWYQQ==\"; guest_id=v1%3A161498381400435837'}\n",
    "r = requests.request(\"GET\", url, headers=headers, data=payload)\n",
    "data = r.json()"
   ]
  },
  {
   "cell_type": "code",
   "execution_count": 16,
   "metadata": {},
   "outputs": [
    {
     "output_type": "stream",
     "name": "stderr",
     "text": [
      "100%|██████████| 37/37 [00:22<00:00,  1.66it/s]\n"
     ]
    }
   ],
   "source": [
    "df_hate = tweets_request(hate_ids)"
   ]
  },
  {
   "cell_type": "code",
   "execution_count": 17,
   "metadata": {},
   "outputs": [
    {
     "output_type": "execute_result",
     "data": {
      "text/plain": [
       "                    created_at  \\\n",
       "0     2017-04-07T19:42:40.000Z   \n",
       "1     2017-04-06T21:39:45.000Z   \n",
       "2     2017-03-31T13:35:20.000Z   \n",
       "3     2017-04-06T20:58:20.000Z   \n",
       "4     2017-04-03T00:00:48.000Z   \n",
       "...                        ...   \n",
       "1739  2017-04-08T13:25:50.000Z   \n",
       "1740  2017-04-04T17:42:11.000Z   \n",
       "1741  2017-04-05T17:26:51.000Z   \n",
       "1742  2017-04-04T13:06:00.000Z   \n",
       "1743  2017-04-05T14:51:08.000Z   \n",
       "\n",
       "                                                   text                  id  \\\n",
       "0     I hate er chase because if the Bitch that work...  850433664890544128   \n",
       "1     RT @nyctophil3: Pineapples do not belong on pi...  850100742035836929   \n",
       "2     Niggas keep talking about women wearing weave ...  847804507367100416   \n",
       "3     @vappywave idiot that's not gonna work. you go...  850090319165050880   \n",
       "4     RT @ayevonnn: bruh i fucking hate people like ...  848686686930382848   \n",
       "...                                                 ...                 ...   \n",
       "1739  Baekhyun won 'Most Popular Artist of Korea'\\n\\...  850701219568001025   \n",
       "1740  #TripleTalaqArrest 2fgt dis social menace #Tri...  849316180670259205   \n",
       "1741  White nationalists' latest tactic to recruit c...  849674709763358720   \n",
       "1742  We are in a comfortable lead fight against gal...  849246676854484992   \n",
       "1743  Took him less than a minute...!! Gutless grub!...  849635522389651456   \n",
       "\n",
       "                                         public_metrics  \\\n",
       "0     {'retweet_count': 0, 'reply_count': 0, 'like_c...   \n",
       "1     {'retweet_count': 5, 'reply_count': 0, 'like_c...   \n",
       "2     {'retweet_count': 1, 'reply_count': 0, 'like_c...   \n",
       "3     {'retweet_count': 0, 'reply_count': 1, 'like_c...   \n",
       "4     {'retweet_count': 5, 'reply_count': 0, 'like_c...   \n",
       "...                                                 ...   \n",
       "1739  {'retweet_count': 0, 'reply_count': 0, 'like_c...   \n",
       "1740  {'retweet_count': 0, 'reply_count': 1, 'like_c...   \n",
       "1741  {'retweet_count': 0, 'reply_count': 0, 'like_c...   \n",
       "1742  {'retweet_count': 1, 'reply_count': 0, 'like_c...   \n",
       "1743  {'retweet_count': 0, 'reply_count': 1, 'like_c...   \n",
       "\n",
       "                                               entities  geo  \n",
       "0                                                   NaN  NaN  \n",
       "1     {'mentions': [{'start': 3, 'end': 14, 'usernam...  NaN  \n",
       "2                                                   NaN  NaN  \n",
       "3     {'mentions': [{'start': 0, 'end': 10, 'usernam...  NaN  \n",
       "4     {'urls': [{'start': 53, 'end': 76, 'url': 'htt...  NaN  \n",
       "...                                                 ...  ...  \n",
       "1739  {'annotations': [{'start': 0, 'end': 7, 'proba...  NaN  \n",
       "1740  {'hashtags': [{'start': 0, 'end': 18, 'tag': '...  NaN  \n",
       "1741  {'urls': [{'start': 85, 'end': 108, 'url': 'ht...  NaN  \n",
       "1742  {'hashtags': [{'start': 53, 'end': 66, 'tag': ...  NaN  \n",
       "1743  {'urls': [{'start': 121, 'end': 144, 'url': 'h...  NaN  \n",
       "\n",
       "[1744 rows x 6 columns]"
      ],
      "text/html": "<div>\n<style scoped>\n    .dataframe tbody tr th:only-of-type {\n        vertical-align: middle;\n    }\n\n    .dataframe tbody tr th {\n        vertical-align: top;\n    }\n\n    .dataframe thead th {\n        text-align: right;\n    }\n</style>\n<table border=\"1\" class=\"dataframe\">\n  <thead>\n    <tr style=\"text-align: right;\">\n      <th></th>\n      <th>created_at</th>\n      <th>text</th>\n      <th>id</th>\n      <th>public_metrics</th>\n      <th>entities</th>\n      <th>geo</th>\n    </tr>\n  </thead>\n  <tbody>\n    <tr>\n      <th>0</th>\n      <td>2017-04-07T19:42:40.000Z</td>\n      <td>I hate er chase because if the Bitch that work...</td>\n      <td>850433664890544128</td>\n      <td>{'retweet_count': 0, 'reply_count': 0, 'like_c...</td>\n      <td>NaN</td>\n      <td>NaN</td>\n    </tr>\n    <tr>\n      <th>1</th>\n      <td>2017-04-06T21:39:45.000Z</td>\n      <td>RT @nyctophil3: Pineapples do not belong on pi...</td>\n      <td>850100742035836929</td>\n      <td>{'retweet_count': 5, 'reply_count': 0, 'like_c...</td>\n      <td>{'mentions': [{'start': 3, 'end': 14, 'usernam...</td>\n      <td>NaN</td>\n    </tr>\n    <tr>\n      <th>2</th>\n      <td>2017-03-31T13:35:20.000Z</td>\n      <td>Niggas keep talking about women wearing weave ...</td>\n      <td>847804507367100416</td>\n      <td>{'retweet_count': 1, 'reply_count': 0, 'like_c...</td>\n      <td>NaN</td>\n      <td>NaN</td>\n    </tr>\n    <tr>\n      <th>3</th>\n      <td>2017-04-06T20:58:20.000Z</td>\n      <td>@vappywave idiot that's not gonna work. you go...</td>\n      <td>850090319165050880</td>\n      <td>{'retweet_count': 0, 'reply_count': 1, 'like_c...</td>\n      <td>{'mentions': [{'start': 0, 'end': 10, 'usernam...</td>\n      <td>NaN</td>\n    </tr>\n    <tr>\n      <th>4</th>\n      <td>2017-04-03T00:00:48.000Z</td>\n      <td>RT @ayevonnn: bruh i fucking hate people like ...</td>\n      <td>848686686930382848</td>\n      <td>{'retweet_count': 5, 'reply_count': 0, 'like_c...</td>\n      <td>{'urls': [{'start': 53, 'end': 76, 'url': 'htt...</td>\n      <td>NaN</td>\n    </tr>\n    <tr>\n      <th>...</th>\n      <td>...</td>\n      <td>...</td>\n      <td>...</td>\n      <td>...</td>\n      <td>...</td>\n      <td>...</td>\n    </tr>\n    <tr>\n      <th>1739</th>\n      <td>2017-04-08T13:25:50.000Z</td>\n      <td>Baekhyun won 'Most Popular Artist of Korea'\\n\\...</td>\n      <td>850701219568001025</td>\n      <td>{'retweet_count': 0, 'reply_count': 0, 'like_c...</td>\n      <td>{'annotations': [{'start': 0, 'end': 7, 'proba...</td>\n      <td>NaN</td>\n    </tr>\n    <tr>\n      <th>1740</th>\n      <td>2017-04-04T17:42:11.000Z</td>\n      <td>#TripleTalaqArrest 2fgt dis social menace #Tri...</td>\n      <td>849316180670259205</td>\n      <td>{'retweet_count': 0, 'reply_count': 1, 'like_c...</td>\n      <td>{'hashtags': [{'start': 0, 'end': 18, 'tag': '...</td>\n      <td>NaN</td>\n    </tr>\n    <tr>\n      <th>1741</th>\n      <td>2017-04-05T17:26:51.000Z</td>\n      <td>White nationalists' latest tactic to recruit c...</td>\n      <td>849674709763358720</td>\n      <td>{'retweet_count': 0, 'reply_count': 0, 'like_c...</td>\n      <td>{'urls': [{'start': 85, 'end': 108, 'url': 'ht...</td>\n      <td>NaN</td>\n    </tr>\n    <tr>\n      <th>1742</th>\n      <td>2017-04-04T13:06:00.000Z</td>\n      <td>We are in a comfortable lead fight against gal...</td>\n      <td>849246676854484992</td>\n      <td>{'retweet_count': 1, 'reply_count': 0, 'like_c...</td>\n      <td>{'hashtags': [{'start': 53, 'end': 66, 'tag': ...</td>\n      <td>NaN</td>\n    </tr>\n    <tr>\n      <th>1743</th>\n      <td>2017-04-05T14:51:08.000Z</td>\n      <td>Took him less than a minute...!! Gutless grub!...</td>\n      <td>849635522389651456</td>\n      <td>{'retweet_count': 0, 'reply_count': 1, 'like_c...</td>\n      <td>{'urls': [{'start': 121, 'end': 144, 'url': 'h...</td>\n      <td>NaN</td>\n    </tr>\n  </tbody>\n</table>\n<p>1744 rows × 6 columns</p>\n</div>"
     },
     "metadata": {},
     "execution_count": 17
    }
   ],
   "source": [
    "df_hate = df_hate.reset_index(drop=True)\n",
    "df_hate"
   ]
  },
  {
   "cell_type": "code",
   "execution_count": 18,
   "metadata": {},
   "outputs": [],
   "source": [
    "pickle.dump(df_hate, open(\"../pickle/aristotle_2.pickle\", \"wb\"))\n"
   ]
  },
  {
   "source": [
    "# University of Copenhagen Dataset\n",
    "\n",
    "** Reference: **\n",
    "\n",
    "Waseem, Z., Hovy, D. (2016). Hateful Symbols or Hateful People? Predictive Features for Hate Speech Detection on Twitter \\[Data file\\]. In: *Proceedings of the NAACL Student Research Workshop*. San Diego, Calfornia: Association for Computational Linguistics, pages 88-93. Retrieved from: https://github.com/ZeerakW/hatespeech.\n",
    "\n",
    "Publication:  https://www.aclweb.org/anthology/N16-2013.pdf"
   ],
   "cell_type": "markdown",
   "metadata": {}
  },
  {
   "cell_type": "code",
   "execution_count": 46,
   "metadata": {},
   "outputs": [
    {
     "output_type": "execute_result",
     "data": {
      "text/plain": [
       "                   id   label\n",
       "0  572341498827522049  racism\n",
       "1  572340476503724032  racism\n",
       "2  572334712804384768  racism\n",
       "3  572332655397629952  racism\n",
       "4  575949086055997440  racism"
      ],
      "text/html": "<div>\n<style scoped>\n    .dataframe tbody tr th:only-of-type {\n        vertical-align: middle;\n    }\n\n    .dataframe tbody tr th {\n        vertical-align: top;\n    }\n\n    .dataframe thead th {\n        text-align: right;\n    }\n</style>\n<table border=\"1\" class=\"dataframe\">\n  <thead>\n    <tr style=\"text-align: right;\">\n      <th></th>\n      <th>id</th>\n      <th>label</th>\n    </tr>\n  </thead>\n  <tbody>\n    <tr>\n      <th>0</th>\n      <td>572341498827522049</td>\n      <td>racism</td>\n    </tr>\n    <tr>\n      <th>1</th>\n      <td>572340476503724032</td>\n      <td>racism</td>\n    </tr>\n    <tr>\n      <th>2</th>\n      <td>572334712804384768</td>\n      <td>racism</td>\n    </tr>\n    <tr>\n      <th>3</th>\n      <td>572332655397629952</td>\n      <td>racism</td>\n    </tr>\n    <tr>\n      <th>4</th>\n      <td>575949086055997440</td>\n      <td>racism</td>\n    </tr>\n  </tbody>\n</table>\n</div>"
     },
     "metadata": {},
     "execution_count": 46
    }
   ],
   "source": [
    "df2 = pd.read_csv('../data/NAACL_SRW_2016.csv')\n",
    "df2.columns = ['id', 'label']\n",
    "df2.head()"
   ]
  },
  {
   "cell_type": "code",
   "execution_count": 47,
   "metadata": {},
   "outputs": [
    {
     "output_type": "execute_result",
     "data": {
      "text/plain": [
       "none      11559\n",
       "sexism     3378\n",
       "racism     1969\n",
       "Name: label, dtype: int64"
      ]
     },
     "metadata": {},
     "execution_count": 47
    }
   ],
   "source": [
    "df2.label.value_counts()"
   ]
  },
  {
   "cell_type": "code",
   "execution_count": 21,
   "metadata": {},
   "outputs": [],
   "source": [
    "df_racsex = df2[(df2['label']=='racism') | (df2['label']=='sexism')]"
   ]
  },
  {
   "cell_type": "code",
   "execution_count": 22,
   "metadata": {},
   "outputs": [
    {
     "output_type": "stream",
     "name": "stderr",
     "text": [
      "100%|██████████| 54/54 [00:25<00:00,  2.08it/s]\n"
     ]
    }
   ],
   "source": [
    "racsex_id = group_list(list(df_racsex.id))\n",
    "df_rac_sex = tweets_request(racsex_id)"
   ]
  },
  {
   "cell_type": "code",
   "execution_count": 23,
   "metadata": {},
   "outputs": [
    {
     "output_type": "execute_result",
     "data": {
      "text/plain": [
       "                                                   text                  id  \\\n",
       "0     Drasko they didn't cook half a bird you idiot ...  572341498827522049   \n",
       "1     Hopefully someone cooks Drasko in the next ep ...  572340476503724032   \n",
       "2     of course you were born in serbia...you're as ...  572334712804384768   \n",
       "3     These girls are the equivalent of the irritati...  572332655397629952   \n",
       "4     RT @YesYoureRacist: At least you're only a tin...  446460991396917248   \n",
       "...                                                 ...                 ...   \n",
       "2721  RT @Superjutah: @MT8_9 £34,000 is £9000 above ...  569990621315919872   \n",
       "2722  RT @DufresneFrank: “@gabystama: @DufresneFrank...  570244879265206272   \n",
       "2723  RT @BoycottBrandy: @ActionFlickDoc this person...  571013698111860736   \n",
       "2724  RT @Lyall: Patriarchy™ will expel me if I divu...  571304517930774528   \n",
       "2725  RT @AsheSchow: Women’s Studies: Learn how to t...  575664315627216896   \n",
       "\n",
       "                                                    geo  \\\n",
       "0     {'place_id': '017453ae077eafd3', 'coordinates'...   \n",
       "1                                                   NaN   \n",
       "2                                                   NaN   \n",
       "3                                                   NaN   \n",
       "4                                                   NaN   \n",
       "...                                                 ...   \n",
       "2721                                                NaN   \n",
       "2722                                                NaN   \n",
       "2723                                                NaN   \n",
       "2724                                                NaN   \n",
       "2725                                                NaN   \n",
       "\n",
       "                    created_at  \\\n",
       "0     2015-03-02T10:23:41.000Z   \n",
       "1     2015-03-02T10:19:37.000Z   \n",
       "2     2015-03-02T09:56:43.000Z   \n",
       "3     2015-03-02T09:48:33.000Z   \n",
       "4     2014-03-20T01:39:29.000Z   \n",
       "...                        ...   \n",
       "2721  2015-02-23T22:42:08.000Z   \n",
       "2722  2015-02-24T15:32:28.000Z   \n",
       "2723  2015-02-26T18:27:29.000Z   \n",
       "2724  2015-02-27T13:43:06.000Z   \n",
       "2725  2015-03-11T14:27:22.000Z   \n",
       "\n",
       "                                         public_metrics  \\\n",
       "0     {'retweet_count': 0, 'reply_count': 0, 'like_c...   \n",
       "1     {'retweet_count': 0, 'reply_count': 0, 'like_c...   \n",
       "2     {'retweet_count': 0, 'reply_count': 0, 'like_c...   \n",
       "3     {'retweet_count': 0, 'reply_count': 0, 'like_c...   \n",
       "4     {'retweet_count': 46, 'reply_count': 0, 'like_...   \n",
       "...                                                 ...   \n",
       "2721  {'retweet_count': 2, 'reply_count': 0, 'like_c...   \n",
       "2722  {'retweet_count': 2, 'reply_count': 0, 'like_c...   \n",
       "2723  {'retweet_count': 3, 'reply_count': 0, 'like_c...   \n",
       "2724  {'retweet_count': 2, 'reply_count': 0, 'like_c...   \n",
       "2725  {'retweet_count': 55, 'reply_count': 0, 'like_...   \n",
       "\n",
       "                                               entities  \n",
       "0     {'hashtags': [{'start': 46, 'end': 50, 'tag': ...  \n",
       "1     {'annotations': [{'start': 24, 'end': 29, 'pro...  \n",
       "2     {'annotations': [{'start': 27, 'end': 32, 'pro...  \n",
       "3     {'hashtags': [{'start': 95, 'end': 99, 'tag': ...  \n",
       "4     {'mentions': [{'start': 3, 'end': 18, 'usernam...  \n",
       "...                                                 ...  \n",
       "2721  {'urls': [{'start': 94, 'end': 116, 'url': 'ht...  \n",
       "2722  {'mentions': [{'start': 3, 'end': 17, 'usernam...  \n",
       "2723  {'mentions': [{'start': 3, 'end': 17, 'usernam...  \n",
       "2724  {'mentions': [{'start': 3, 'end': 9, 'username...  \n",
       "2725  {'mentions': [{'start': 3, 'end': 13, 'usernam...  \n",
       "\n",
       "[2726 rows x 6 columns]"
      ],
      "text/html": "<div>\n<style scoped>\n    .dataframe tbody tr th:only-of-type {\n        vertical-align: middle;\n    }\n\n    .dataframe tbody tr th {\n        vertical-align: top;\n    }\n\n    .dataframe thead th {\n        text-align: right;\n    }\n</style>\n<table border=\"1\" class=\"dataframe\">\n  <thead>\n    <tr style=\"text-align: right;\">\n      <th></th>\n      <th>text</th>\n      <th>id</th>\n      <th>geo</th>\n      <th>created_at</th>\n      <th>public_metrics</th>\n      <th>entities</th>\n    </tr>\n  </thead>\n  <tbody>\n    <tr>\n      <th>0</th>\n      <td>Drasko they didn't cook half a bird you idiot ...</td>\n      <td>572341498827522049</td>\n      <td>{'place_id': '017453ae077eafd3', 'coordinates'...</td>\n      <td>2015-03-02T10:23:41.000Z</td>\n      <td>{'retweet_count': 0, 'reply_count': 0, 'like_c...</td>\n      <td>{'hashtags': [{'start': 46, 'end': 50, 'tag': ...</td>\n    </tr>\n    <tr>\n      <th>1</th>\n      <td>Hopefully someone cooks Drasko in the next ep ...</td>\n      <td>572340476503724032</td>\n      <td>NaN</td>\n      <td>2015-03-02T10:19:37.000Z</td>\n      <td>{'retweet_count': 0, 'reply_count': 0, 'like_c...</td>\n      <td>{'annotations': [{'start': 24, 'end': 29, 'pro...</td>\n    </tr>\n    <tr>\n      <th>2</th>\n      <td>of course you were born in serbia...you're as ...</td>\n      <td>572334712804384768</td>\n      <td>NaN</td>\n      <td>2015-03-02T09:56:43.000Z</td>\n      <td>{'retweet_count': 0, 'reply_count': 0, 'like_c...</td>\n      <td>{'annotations': [{'start': 27, 'end': 32, 'pro...</td>\n    </tr>\n    <tr>\n      <th>3</th>\n      <td>These girls are the equivalent of the irritati...</td>\n      <td>572332655397629952</td>\n      <td>NaN</td>\n      <td>2015-03-02T09:48:33.000Z</td>\n      <td>{'retweet_count': 0, 'reply_count': 0, 'like_c...</td>\n      <td>{'hashtags': [{'start': 95, 'end': 99, 'tag': ...</td>\n    </tr>\n    <tr>\n      <th>4</th>\n      <td>RT @YesYoureRacist: At least you're only a tin...</td>\n      <td>446460991396917248</td>\n      <td>NaN</td>\n      <td>2014-03-20T01:39:29.000Z</td>\n      <td>{'retweet_count': 46, 'reply_count': 0, 'like_...</td>\n      <td>{'mentions': [{'start': 3, 'end': 18, 'usernam...</td>\n    </tr>\n    <tr>\n      <th>...</th>\n      <td>...</td>\n      <td>...</td>\n      <td>...</td>\n      <td>...</td>\n      <td>...</td>\n      <td>...</td>\n    </tr>\n    <tr>\n      <th>2721</th>\n      <td>RT @Superjutah: @MT8_9 £34,000 is £9000 above ...</td>\n      <td>569990621315919872</td>\n      <td>NaN</td>\n      <td>2015-02-23T22:42:08.000Z</td>\n      <td>{'retweet_count': 2, 'reply_count': 0, 'like_c...</td>\n      <td>{'urls': [{'start': 94, 'end': 116, 'url': 'ht...</td>\n    </tr>\n    <tr>\n      <th>2722</th>\n      <td>RT @DufresneFrank: “@gabystama: @DufresneFrank...</td>\n      <td>570244879265206272</td>\n      <td>NaN</td>\n      <td>2015-02-24T15:32:28.000Z</td>\n      <td>{'retweet_count': 2, 'reply_count': 0, 'like_c...</td>\n      <td>{'mentions': [{'start': 3, 'end': 17, 'usernam...</td>\n    </tr>\n    <tr>\n      <th>2723</th>\n      <td>RT @BoycottBrandy: @ActionFlickDoc this person...</td>\n      <td>571013698111860736</td>\n      <td>NaN</td>\n      <td>2015-02-26T18:27:29.000Z</td>\n      <td>{'retweet_count': 3, 'reply_count': 0, 'like_c...</td>\n      <td>{'mentions': [{'start': 3, 'end': 17, 'usernam...</td>\n    </tr>\n    <tr>\n      <th>2724</th>\n      <td>RT @Lyall: Patriarchy™ will expel me if I divu...</td>\n      <td>571304517930774528</td>\n      <td>NaN</td>\n      <td>2015-02-27T13:43:06.000Z</td>\n      <td>{'retweet_count': 2, 'reply_count': 0, 'like_c...</td>\n      <td>{'mentions': [{'start': 3, 'end': 9, 'username...</td>\n    </tr>\n    <tr>\n      <th>2725</th>\n      <td>RT @AsheSchow: Women’s Studies: Learn how to t...</td>\n      <td>575664315627216896</td>\n      <td>NaN</td>\n      <td>2015-03-11T14:27:22.000Z</td>\n      <td>{'retweet_count': 55, 'reply_count': 0, 'like_...</td>\n      <td>{'mentions': [{'start': 3, 'end': 13, 'usernam...</td>\n    </tr>\n  </tbody>\n</table>\n<p>2726 rows × 6 columns</p>\n</div>"
     },
     "metadata": {},
     "execution_count": 23
    }
   ],
   "source": [
    "df_rac_sex = df_rac_sex.reset_index(drop=True)\n",
    "df_rac_sex"
   ]
  },
  {
   "cell_type": "code",
   "execution_count": 24,
   "metadata": {},
   "outputs": [],
   "source": [
    "pickle.dump(df_rac_sex, open(\"../pickle/copenhagen_2.pickle\", \"wb\"))"
   ]
  },
  {
   "source": [
    "# Georgia Tech Dataset"
   ],
   "cell_type": "markdown",
   "metadata": {}
  },
  {
   "cell_type": "code",
   "execution_count": 27,
   "metadata": {},
   "outputs": [],
   "source": [
    "df3 = pd.read_csv(\"../data/hate.csv\")\n",
    "df3.columns = ['id', 'user', 'hate', 'chate', 'neutral', 'label']"
   ]
  },
  {
   "cell_type": "code",
   "execution_count": 28,
   "metadata": {},
   "outputs": [
    {
     "output_type": "execute_result",
     "data": {
      "text/plain": [
       "                         id                 user      hate     chate  \\\n",
       "560314  1240976182494908416   884055068265164801  0.999974  0.000520   \n",
       "515476  1238239331879464960  1136405401770106880  0.999966  0.000625   \n",
       "396712  1247813175996792834  1234197517006450688  0.999959  0.003865   \n",
       "424027  1245317927823233024  1232772980763054081  0.999958  0.001476   \n",
       "380359  1241373862756888577            907414928  0.999952  0.018423   \n",
       "...                     ...                  ...       ...       ...   \n",
       "596002  1236335083738537985           4384833496  0.500002  0.004678   \n",
       "334098  1250769238274572291  1199735925355556864  0.500002  0.087211   \n",
       "889914  1232245722831052801  1053001766806200322  0.500001  0.004162   \n",
       "198091  1249377836646924291            223299902  0.500001  0.003931   \n",
       "83418   1238578297274953728            494410337  0.500001  0.432390   \n",
       "\n",
       "         neutral  label  \n",
       "560314  0.000382      1  \n",
       "515476  0.000105      1  \n",
       "396712  0.000018      1  \n",
       "424027  0.000318      1  \n",
       "380359  0.000788      1  \n",
       "...          ...    ...  \n",
       "596002  0.297274      1  \n",
       "334098  0.045595      1  \n",
       "889914  0.253713      1  \n",
       "198091  0.210026      1  \n",
       "83418   0.185342      1  \n",
       "\n",
       "[891204 rows x 6 columns]"
      ],
      "text/html": "<div>\n<style scoped>\n    .dataframe tbody tr th:only-of-type {\n        vertical-align: middle;\n    }\n\n    .dataframe tbody tr th {\n        vertical-align: top;\n    }\n\n    .dataframe thead th {\n        text-align: right;\n    }\n</style>\n<table border=\"1\" class=\"dataframe\">\n  <thead>\n    <tr style=\"text-align: right;\">\n      <th></th>\n      <th>id</th>\n      <th>user</th>\n      <th>hate</th>\n      <th>chate</th>\n      <th>neutral</th>\n      <th>label</th>\n    </tr>\n  </thead>\n  <tbody>\n    <tr>\n      <th>560314</th>\n      <td>1240976182494908416</td>\n      <td>884055068265164801</td>\n      <td>0.999974</td>\n      <td>0.000520</td>\n      <td>0.000382</td>\n      <td>1</td>\n    </tr>\n    <tr>\n      <th>515476</th>\n      <td>1238239331879464960</td>\n      <td>1136405401770106880</td>\n      <td>0.999966</td>\n      <td>0.000625</td>\n      <td>0.000105</td>\n      <td>1</td>\n    </tr>\n    <tr>\n      <th>396712</th>\n      <td>1247813175996792834</td>\n      <td>1234197517006450688</td>\n      <td>0.999959</td>\n      <td>0.003865</td>\n      <td>0.000018</td>\n      <td>1</td>\n    </tr>\n    <tr>\n      <th>424027</th>\n      <td>1245317927823233024</td>\n      <td>1232772980763054081</td>\n      <td>0.999958</td>\n      <td>0.001476</td>\n      <td>0.000318</td>\n      <td>1</td>\n    </tr>\n    <tr>\n      <th>380359</th>\n      <td>1241373862756888577</td>\n      <td>907414928</td>\n      <td>0.999952</td>\n      <td>0.018423</td>\n      <td>0.000788</td>\n      <td>1</td>\n    </tr>\n    <tr>\n      <th>...</th>\n      <td>...</td>\n      <td>...</td>\n      <td>...</td>\n      <td>...</td>\n      <td>...</td>\n      <td>...</td>\n    </tr>\n    <tr>\n      <th>596002</th>\n      <td>1236335083738537985</td>\n      <td>4384833496</td>\n      <td>0.500002</td>\n      <td>0.004678</td>\n      <td>0.297274</td>\n      <td>1</td>\n    </tr>\n    <tr>\n      <th>334098</th>\n      <td>1250769238274572291</td>\n      <td>1199735925355556864</td>\n      <td>0.500002</td>\n      <td>0.087211</td>\n      <td>0.045595</td>\n      <td>1</td>\n    </tr>\n    <tr>\n      <th>889914</th>\n      <td>1232245722831052801</td>\n      <td>1053001766806200322</td>\n      <td>0.500001</td>\n      <td>0.004162</td>\n      <td>0.253713</td>\n      <td>1</td>\n    </tr>\n    <tr>\n      <th>198091</th>\n      <td>1249377836646924291</td>\n      <td>223299902</td>\n      <td>0.500001</td>\n      <td>0.003931</td>\n      <td>0.210026</td>\n      <td>1</td>\n    </tr>\n    <tr>\n      <th>83418</th>\n      <td>1238578297274953728</td>\n      <td>494410337</td>\n      <td>0.500001</td>\n      <td>0.432390</td>\n      <td>0.185342</td>\n      <td>1</td>\n    </tr>\n  </tbody>\n</table>\n<p>891204 rows × 6 columns</p>\n</div>"
     },
     "metadata": {},
     "execution_count": 28
    }
   ],
   "source": [
    "df_anti_asian = df3.sort_values(by = ['hate'], ascending=False)\n",
    "df_anti_asian.label = 1\n",
    "df_anti_asian"
   ]
  },
  {
   "cell_type": "code",
   "execution_count": 29,
   "metadata": {},
   "outputs": [
    {
     "output_type": "execute_result",
     "data": {
      "text/plain": [
       "8913"
      ]
     },
     "metadata": {},
     "execution_count": 29
    }
   ],
   "source": [
    "anti_asian_ids = group_list(list(df_anti_asian.id))\n",
    "len(anti_asian_ids)"
   ]
  },
  {
   "cell_type": "code",
   "execution_count": 30,
   "metadata": {},
   "outputs": [],
   "source": [
    "df_anti_asian = df3.sort_values(by = ['hate'], ascending=False)\n",
    "df_anti_asian.label = 1\n",
    "df_anti_asianasian_100 = anti_asian_ids[0:100]\n",
    "asian_200 = anti_asian_ids[100:200]\n",
    "asian_300 = anti_asian_ids[200:300]"
   ]
  },
  {
   "cell_type": "code",
   "execution_count": 31,
   "metadata": {},
   "outputs": [
    {
     "output_type": "stream",
     "name": "stderr",
     "text": [
      "100%|██████████| 100/100 [01:08<00:00,  1.46it/s]\n"
     ]
    }
   ],
   "source": [
    "df_1 = tweets_request(asian_100)"
   ]
  },
  {
   "cell_type": "code",
   "execution_count": 32,
   "metadata": {},
   "outputs": [
    {
     "output_type": "stream",
     "name": "stderr",
     "text": [
      "100%|██████████| 100/100 [01:04<00:00,  1.54it/s]\n"
     ]
    }
   ],
   "source": [
    "df_2 = tweets_request(asian_200)"
   ]
  },
  {
   "cell_type": "code",
   "execution_count": 33,
   "metadata": {},
   "outputs": [
    {
     "output_type": "stream",
     "name": "stderr",
     "text": [
      "100%|██████████| 100/100 [01:04<00:00,  1.55it/s]\n"
     ]
    }
   ],
   "source": [
    "df_3 = tweets_request(asian_300)"
   ]
  },
  {
   "cell_type": "code",
   "execution_count": 34,
   "metadata": {},
   "outputs": [
    {
     "output_type": "execute_result",
     "data": {
      "text/plain": [
       "                                          public_metrics  \\\n",
       "0      {'retweet_count': 0, 'reply_count': 0, 'like_c...   \n",
       "1      {'retweet_count': 0, 'reply_count': 0, 'like_c...   \n",
       "2      {'retweet_count': 0, 'reply_count': 0, 'like_c...   \n",
       "3      {'retweet_count': 0, 'reply_count': 0, 'like_c...   \n",
       "4      {'retweet_count': 0, 'reply_count': 0, 'like_c...   \n",
       "...                                                  ...   \n",
       "16764  {'retweet_count': 0, 'reply_count': 0, 'like_c...   \n",
       "16765  {'retweet_count': 0, 'reply_count': 0, 'like_c...   \n",
       "16766  {'retweet_count': 0, 'reply_count': 2, 'like_c...   \n",
       "16767  {'retweet_count': 0, 'reply_count': 0, 'like_c...   \n",
       "16768  {'retweet_count': 0, 'reply_count': 0, 'like_c...   \n",
       "\n",
       "                                                    text  \\\n",
       "0      Not the people of China but the Chinese Commun...   \n",
       "1      182 countries are currently suffering the scou...   \n",
       "2      OH SHIT OH SHIT OH SHIT OH SHIT OH SHIT OH SHI...   \n",
       "3      @RealJamesWoods Either #WuhanVirus or #Chinese...   \n",
       "4      @NYGovCuomo #China lied about the #WuhanVirus ...   \n",
       "...                                                  ...   \n",
       "16764  @Oceanle15689731 corona is from China because ...   \n",
       "16765  President Donald Trump and Congress should tel...   \n",
       "16766  @almostzdq @cgtnamerica @CGTNOfficial Hard to ...   \n",
       "16767  @MarshaBlackburn @RepJimBanks @teammoulton #Ch...   \n",
       "16768  @XposeTrophyHunt @SharonHoole The coronavirus ...   \n",
       "\n",
       "                                                entities  \\\n",
       "0      {'hashtags': [{'start': 56, 'end': 65, 'tag': ...   \n",
       "1      {'hashtags': [{'start': 82, 'end': 88, 'tag': ...   \n",
       "2      {'urls': [{'start': 275, 'end': 298, 'url': 'h...   \n",
       "3      {'hashtags': [{'start': 23, 'end': 34, 'tag': ...   \n",
       "4      {'hashtags': [{'start': 12, 'end': 18, 'tag': ...   \n",
       "...                                                  ...   \n",
       "16764  {'annotations': [{'start': 32, 'end': 36, 'pro...   \n",
       "16765  {'annotations': [{'start': 10, 'end': 21, 'pro...   \n",
       "16766  {'mentions': [{'start': 0, 'end': 10, 'usernam...   \n",
       "16767  {'annotations': [{'start': 88, 'end': 92, 'pro...   \n",
       "16768  {'annotations': [{'start': 49, 'end': 53, 'pro...   \n",
       "\n",
       "                     created_at                   id  \\\n",
       "0      2020-04-04T15:40:23.000Z  1246462627158491136   \n",
       "1      2020-04-05T23:59:06.000Z  1246950520914313216   \n",
       "2      2020-03-17T18:10:23.000Z  1239977396473860096   \n",
       "3      2020-03-18T18:50:54.000Z  1240349980738506752   \n",
       "4      2020-04-05T11:56:23.000Z  1246768643913814019   \n",
       "...                         ...                  ...   \n",
       "16764  2020-04-12T15:41:47.000Z  1249362085248524289   \n",
       "16765  2020-03-18T21:30:38.000Z  1240390179048824833   \n",
       "16766  2020-04-04T00:56:49.000Z  1246240273455296512   \n",
       "16767  2020-03-25T13:46:10.000Z  1242810006715527168   \n",
       "16768  2020-02-18T13:29:51.000Z  1229759936147738625   \n",
       "\n",
       "                                    geo  \n",
       "0                                   NaN  \n",
       "1                                   NaN  \n",
       "2      {'place_id': '006b2a835a30b702'}  \n",
       "3                                   NaN  \n",
       "4                                   NaN  \n",
       "...                                 ...  \n",
       "16764                               NaN  \n",
       "16765                               NaN  \n",
       "16766                               NaN  \n",
       "16767                               NaN  \n",
       "16768                               NaN  \n",
       "\n",
       "[16769 rows x 6 columns]"
      ],
      "text/html": "<div>\n<style scoped>\n    .dataframe tbody tr th:only-of-type {\n        vertical-align: middle;\n    }\n\n    .dataframe tbody tr th {\n        vertical-align: top;\n    }\n\n    .dataframe thead th {\n        text-align: right;\n    }\n</style>\n<table border=\"1\" class=\"dataframe\">\n  <thead>\n    <tr style=\"text-align: right;\">\n      <th></th>\n      <th>public_metrics</th>\n      <th>text</th>\n      <th>entities</th>\n      <th>created_at</th>\n      <th>id</th>\n      <th>geo</th>\n    </tr>\n  </thead>\n  <tbody>\n    <tr>\n      <th>0</th>\n      <td>{'retweet_count': 0, 'reply_count': 0, 'like_c...</td>\n      <td>Not the people of China but the Chinese Commun...</td>\n      <td>{'hashtags': [{'start': 56, 'end': 65, 'tag': ...</td>\n      <td>2020-04-04T15:40:23.000Z</td>\n      <td>1246462627158491136</td>\n      <td>NaN</td>\n    </tr>\n    <tr>\n      <th>1</th>\n      <td>{'retweet_count': 0, 'reply_count': 0, 'like_c...</td>\n      <td>182 countries are currently suffering the scou...</td>\n      <td>{'hashtags': [{'start': 82, 'end': 88, 'tag': ...</td>\n      <td>2020-04-05T23:59:06.000Z</td>\n      <td>1246950520914313216</td>\n      <td>NaN</td>\n    </tr>\n    <tr>\n      <th>2</th>\n      <td>{'retweet_count': 0, 'reply_count': 0, 'like_c...</td>\n      <td>OH SHIT OH SHIT OH SHIT OH SHIT OH SHIT OH SHI...</td>\n      <td>{'urls': [{'start': 275, 'end': 298, 'url': 'h...</td>\n      <td>2020-03-17T18:10:23.000Z</td>\n      <td>1239977396473860096</td>\n      <td>{'place_id': '006b2a835a30b702'}</td>\n    </tr>\n    <tr>\n      <th>3</th>\n      <td>{'retweet_count': 0, 'reply_count': 0, 'like_c...</td>\n      <td>@RealJamesWoods Either #WuhanVirus or #Chinese...</td>\n      <td>{'hashtags': [{'start': 23, 'end': 34, 'tag': ...</td>\n      <td>2020-03-18T18:50:54.000Z</td>\n      <td>1240349980738506752</td>\n      <td>NaN</td>\n    </tr>\n    <tr>\n      <th>4</th>\n      <td>{'retweet_count': 0, 'reply_count': 0, 'like_c...</td>\n      <td>@NYGovCuomo #China lied about the #WuhanVirus ...</td>\n      <td>{'hashtags': [{'start': 12, 'end': 18, 'tag': ...</td>\n      <td>2020-04-05T11:56:23.000Z</td>\n      <td>1246768643913814019</td>\n      <td>NaN</td>\n    </tr>\n    <tr>\n      <th>...</th>\n      <td>...</td>\n      <td>...</td>\n      <td>...</td>\n      <td>...</td>\n      <td>...</td>\n      <td>...</td>\n    </tr>\n    <tr>\n      <th>16764</th>\n      <td>{'retweet_count': 0, 'reply_count': 0, 'like_c...</td>\n      <td>@Oceanle15689731 corona is from China because ...</td>\n      <td>{'annotations': [{'start': 32, 'end': 36, 'pro...</td>\n      <td>2020-04-12T15:41:47.000Z</td>\n      <td>1249362085248524289</td>\n      <td>NaN</td>\n    </tr>\n    <tr>\n      <th>16765</th>\n      <td>{'retweet_count': 0, 'reply_count': 0, 'like_c...</td>\n      <td>President Donald Trump and Congress should tel...</td>\n      <td>{'annotations': [{'start': 10, 'end': 21, 'pro...</td>\n      <td>2020-03-18T21:30:38.000Z</td>\n      <td>1240390179048824833</td>\n      <td>NaN</td>\n    </tr>\n    <tr>\n      <th>16766</th>\n      <td>{'retweet_count': 0, 'reply_count': 2, 'like_c...</td>\n      <td>@almostzdq @cgtnamerica @CGTNOfficial Hard to ...</td>\n      <td>{'mentions': [{'start': 0, 'end': 10, 'usernam...</td>\n      <td>2020-04-04T00:56:49.000Z</td>\n      <td>1246240273455296512</td>\n      <td>NaN</td>\n    </tr>\n    <tr>\n      <th>16767</th>\n      <td>{'retweet_count': 0, 'reply_count': 0, 'like_c...</td>\n      <td>@MarshaBlackburn @RepJimBanks @teammoulton #Ch...</td>\n      <td>{'annotations': [{'start': 88, 'end': 92, 'pro...</td>\n      <td>2020-03-25T13:46:10.000Z</td>\n      <td>1242810006715527168</td>\n      <td>NaN</td>\n    </tr>\n    <tr>\n      <th>16768</th>\n      <td>{'retweet_count': 0, 'reply_count': 0, 'like_c...</td>\n      <td>@XposeTrophyHunt @SharonHoole The coronavirus ...</td>\n      <td>{'annotations': [{'start': 49, 'end': 53, 'pro...</td>\n      <td>2020-02-18T13:29:51.000Z</td>\n      <td>1229759936147738625</td>\n      <td>NaN</td>\n    </tr>\n  </tbody>\n</table>\n<p>16769 rows × 6 columns</p>\n</div>"
     },
     "metadata": {},
     "execution_count": 34
    }
   ],
   "source": [
    "df_asian = pd.concat([df_1, df_2, df_3], axis=0)\n",
    "df_asian = df_asian.reset_index(drop=True)\n",
    "df_asian"
   ]
  },
  {
   "cell_type": "code",
   "execution_count": 28,
   "metadata": {},
   "outputs": [],
   "source": [
    "pickle.dump(df_asian, open(\"../pickle/georgia.pickle\", \"wb\"))"
   ]
  },
  {
   "source": [
    "# HASOC 2019 and 2020 Dataset"
   ],
   "cell_type": "markdown",
   "metadata": {}
  },
  {
   "cell_type": "code",
   "execution_count": 35,
   "metadata": {},
   "outputs": [
    {
     "output_type": "execute_result",
     "data": {
      "text/plain": [
       "             text_id                                               text  \\\n",
       "0       hasoc_en_902  West Bengal Doctor Crisis: Protesting doctors ...   \n",
       "1       hasoc_en_416  68.5 million people have been forced to leave ...   \n",
       "2       hasoc_en_207  You came, you saw .... we will look after the ...   \n",
       "3       hasoc_en_595  We'll get Brexit delivered by October 31st.   ...   \n",
       "4       hasoc_en_568  Fuck you. Go back to the dark ages you cow @IB...   \n",
       "...              ...                                                ...   \n",
       "1148  hasoc_en1_3958  Each of the divorce must be pronounced with a ...   \n",
       "1149  hasoc_en1_4648  He is 62-yr-old Harswaroop Chauhan. His only s...   \n",
       "1150  hasoc_en1_4832  Peace of graveyard or peace of mind, @asadowai...   \n",
       "1151  hasoc_en1_3721  The humble #tribute on the sacrifice day of #J...   \n",
       "1152   hasoc_en1_991  Happy Birthday to Sh @nitin_gadkari Ji, God bl...   \n",
       "\n",
       "     task_1 task_2 task_3  \n",
       "0       NOT   NONE   NONE  \n",
       "1       NOT   NONE   NONE  \n",
       "2       NOT   NONE   NONE  \n",
       "3       NOT   NONE   NONE  \n",
       "4       HOF   PRFN    UNT  \n",
       "...     ...    ...    ...  \n",
       "1148    NOT   NONE   NONE  \n",
       "1149    NOT   NONE   NONE  \n",
       "1150    NOT   NONE   NONE  \n",
       "1151    NOT   NONE   NONE  \n",
       "1152    NOT   NONE   NONE  \n",
       "\n",
       "[1153 rows x 5 columns]"
      ],
      "text/html": "<div>\n<style scoped>\n    .dataframe tbody tr th:only-of-type {\n        vertical-align: middle;\n    }\n\n    .dataframe tbody tr th {\n        vertical-align: top;\n    }\n\n    .dataframe thead th {\n        text-align: right;\n    }\n</style>\n<table border=\"1\" class=\"dataframe\">\n  <thead>\n    <tr style=\"text-align: right;\">\n      <th></th>\n      <th>text_id</th>\n      <th>text</th>\n      <th>task_1</th>\n      <th>task_2</th>\n      <th>task_3</th>\n    </tr>\n  </thead>\n  <tbody>\n    <tr>\n      <th>0</th>\n      <td>hasoc_en_902</td>\n      <td>West Bengal Doctor Crisis: Protesting doctors ...</td>\n      <td>NOT</td>\n      <td>NONE</td>\n      <td>NONE</td>\n    </tr>\n    <tr>\n      <th>1</th>\n      <td>hasoc_en_416</td>\n      <td>68.5 million people have been forced to leave ...</td>\n      <td>NOT</td>\n      <td>NONE</td>\n      <td>NONE</td>\n    </tr>\n    <tr>\n      <th>2</th>\n      <td>hasoc_en_207</td>\n      <td>You came, you saw .... we will look after the ...</td>\n      <td>NOT</td>\n      <td>NONE</td>\n      <td>NONE</td>\n    </tr>\n    <tr>\n      <th>3</th>\n      <td>hasoc_en_595</td>\n      <td>We'll get Brexit delivered by October 31st.   ...</td>\n      <td>NOT</td>\n      <td>NONE</td>\n      <td>NONE</td>\n    </tr>\n    <tr>\n      <th>4</th>\n      <td>hasoc_en_568</td>\n      <td>Fuck you. Go back to the dark ages you cow @IB...</td>\n      <td>HOF</td>\n      <td>PRFN</td>\n      <td>UNT</td>\n    </tr>\n    <tr>\n      <th>...</th>\n      <td>...</td>\n      <td>...</td>\n      <td>...</td>\n      <td>...</td>\n      <td>...</td>\n    </tr>\n    <tr>\n      <th>1148</th>\n      <td>hasoc_en1_3958</td>\n      <td>Each of the divorce must be pronounced with a ...</td>\n      <td>NOT</td>\n      <td>NONE</td>\n      <td>NONE</td>\n    </tr>\n    <tr>\n      <th>1149</th>\n      <td>hasoc_en1_4648</td>\n      <td>He is 62-yr-old Harswaroop Chauhan. His only s...</td>\n      <td>NOT</td>\n      <td>NONE</td>\n      <td>NONE</td>\n    </tr>\n    <tr>\n      <th>1150</th>\n      <td>hasoc_en1_4832</td>\n      <td>Peace of graveyard or peace of mind, @asadowai...</td>\n      <td>NOT</td>\n      <td>NONE</td>\n      <td>NONE</td>\n    </tr>\n    <tr>\n      <th>1151</th>\n      <td>hasoc_en1_3721</td>\n      <td>The humble #tribute on the sacrifice day of #J...</td>\n      <td>NOT</td>\n      <td>NONE</td>\n      <td>NONE</td>\n    </tr>\n    <tr>\n      <th>1152</th>\n      <td>hasoc_en1_991</td>\n      <td>Happy Birthday to Sh @nitin_gadkari Ji, God bl...</td>\n      <td>NOT</td>\n      <td>NONE</td>\n      <td>NONE</td>\n    </tr>\n  </tbody>\n</table>\n<p>1153 rows × 5 columns</p>\n</div>"
     },
     "metadata": {},
     "execution_count": 35
    }
   ],
   "source": [
    "hasoc = pd.read_csv(\"../data/hasoc2019_en_test-2919.tsv\", delimiter=\"\\t\")\n",
    "hasoc"
   ]
  },
  {
   "cell_type": "code",
   "execution_count": 37,
   "metadata": {},
   "outputs": [
    {
     "output_type": "execute_result",
     "data": {
      "text/plain": [
       "            text_id                                               text task_1  \\\n",
       "0        hasoc_en_1  #DhoniKeepsTheGlove | WATCH: Sports Minister K...    NOT   \n",
       "1        hasoc_en_2  @politico No. We should remember very clearly ...    HOF   \n",
       "2        hasoc_en_3  @cricketworldcup Guess who would be the winner...    NOT   \n",
       "3        hasoc_en_4  Corbyn is too politically intellectual for #Bo...    NOT   \n",
       "4        hasoc_en_5  All the best to #TeamIndia for another swimmin...    NOT   \n",
       "...             ...                                                ...    ...   \n",
       "5847  hasoc_en_5848  @davidfrum @trueblueusa1 That's cute and all, ...    HOF   \n",
       "5848  hasoc_en_5849  a recession issa comin' #maga #magamyass #fuck...    NOT   \n",
       "5849  hasoc_en_5850  #DoctorsFightBack  Will 'The Mad n Irrational ...    HOF   \n",
       "5850  hasoc_en_5851  #ShiningIndia #educatedindia or more like RUND...    HOF   \n",
       "5851  hasoc_en_5852  Could this be our new Prime Minister?     #Ric...    HOF   \n",
       "\n",
       "     task_2 task_3  \n",
       "0      NONE   NONE  \n",
       "1      HATE    TIN  \n",
       "2      NONE   NONE  \n",
       "3      NONE   NONE  \n",
       "4      NONE   NONE  \n",
       "...     ...    ...  \n",
       "5847   PRFN    UNT  \n",
       "5848   NONE   NONE  \n",
       "5849   OFFN    TIN  \n",
       "5850   OFFN    UNT  \n",
       "5851   PRFN    UNT  \n",
       "\n",
       "[5852 rows x 5 columns]"
      ],
      "text/html": "<div>\n<style scoped>\n    .dataframe tbody tr th:only-of-type {\n        vertical-align: middle;\n    }\n\n    .dataframe tbody tr th {\n        vertical-align: top;\n    }\n\n    .dataframe thead th {\n        text-align: right;\n    }\n</style>\n<table border=\"1\" class=\"dataframe\">\n  <thead>\n    <tr style=\"text-align: right;\">\n      <th></th>\n      <th>text_id</th>\n      <th>text</th>\n      <th>task_1</th>\n      <th>task_2</th>\n      <th>task_3</th>\n    </tr>\n  </thead>\n  <tbody>\n    <tr>\n      <th>0</th>\n      <td>hasoc_en_1</td>\n      <td>#DhoniKeepsTheGlove | WATCH: Sports Minister K...</td>\n      <td>NOT</td>\n      <td>NONE</td>\n      <td>NONE</td>\n    </tr>\n    <tr>\n      <th>1</th>\n      <td>hasoc_en_2</td>\n      <td>@politico No. We should remember very clearly ...</td>\n      <td>HOF</td>\n      <td>HATE</td>\n      <td>TIN</td>\n    </tr>\n    <tr>\n      <th>2</th>\n      <td>hasoc_en_3</td>\n      <td>@cricketworldcup Guess who would be the winner...</td>\n      <td>NOT</td>\n      <td>NONE</td>\n      <td>NONE</td>\n    </tr>\n    <tr>\n      <th>3</th>\n      <td>hasoc_en_4</td>\n      <td>Corbyn is too politically intellectual for #Bo...</td>\n      <td>NOT</td>\n      <td>NONE</td>\n      <td>NONE</td>\n    </tr>\n    <tr>\n      <th>4</th>\n      <td>hasoc_en_5</td>\n      <td>All the best to #TeamIndia for another swimmin...</td>\n      <td>NOT</td>\n      <td>NONE</td>\n      <td>NONE</td>\n    </tr>\n    <tr>\n      <th>...</th>\n      <td>...</td>\n      <td>...</td>\n      <td>...</td>\n      <td>...</td>\n      <td>...</td>\n    </tr>\n    <tr>\n      <th>5847</th>\n      <td>hasoc_en_5848</td>\n      <td>@davidfrum @trueblueusa1 That's cute and all, ...</td>\n      <td>HOF</td>\n      <td>PRFN</td>\n      <td>UNT</td>\n    </tr>\n    <tr>\n      <th>5848</th>\n      <td>hasoc_en_5849</td>\n      <td>a recession issa comin' #maga #magamyass #fuck...</td>\n      <td>NOT</td>\n      <td>NONE</td>\n      <td>NONE</td>\n    </tr>\n    <tr>\n      <th>5849</th>\n      <td>hasoc_en_5850</td>\n      <td>#DoctorsFightBack  Will 'The Mad n Irrational ...</td>\n      <td>HOF</td>\n      <td>OFFN</td>\n      <td>TIN</td>\n    </tr>\n    <tr>\n      <th>5850</th>\n      <td>hasoc_en_5851</td>\n      <td>#ShiningIndia #educatedindia or more like RUND...</td>\n      <td>HOF</td>\n      <td>OFFN</td>\n      <td>UNT</td>\n    </tr>\n    <tr>\n      <th>5851</th>\n      <td>hasoc_en_5852</td>\n      <td>Could this be our new Prime Minister?     #Ric...</td>\n      <td>HOF</td>\n      <td>PRFN</td>\n      <td>UNT</td>\n    </tr>\n  </tbody>\n</table>\n<p>5852 rows × 5 columns</p>\n</div>"
     },
     "metadata": {},
     "execution_count": 37
    }
   ],
   "source": [
    "english = pd.read_csv(\"../data/english_dataset.tsv\", delimiter=\"\\t\")\n",
    "english"
   ]
  },
  {
   "cell_type": "code",
   "execution_count": 39,
   "metadata": {},
   "outputs": [
    {
     "output_type": "execute_result",
     "data": {
      "text/plain": [
       "            text_id                                               text task_1  \\\n",
       "0        hasoc_en_1  #DhoniKeepsTheGlove | WATCH: Sports Minister K...    NOT   \n",
       "2        hasoc_en_3  @cricketworldcup Guess who would be the winner...    NOT   \n",
       "3        hasoc_en_4  Corbyn is too politically intellectual for #Bo...    NOT   \n",
       "4        hasoc_en_5  All the best to #TeamIndia for another swimmin...    NOT   \n",
       "5        hasoc_en_6  @kellymiller513 @TheRealOJ32 I hope you rememb...    NOT   \n",
       "...             ...                                                ...    ...   \n",
       "5824  hasoc_en_5825  @DOlusegun @elrufai Hope they don't becomes #D...    NOT   \n",
       "5825  hasoc_en_5826  @gtconway3d @KellyannePolls @realDonaldTrump H...    NOT   \n",
       "5827  hasoc_en_5828  @washingtonpost This is something everyone sho...    NOT   \n",
       "5828  hasoc_en_5829  Sorry about that. Has anybody got a #dickhead ...    NOT   \n",
       "5848  hasoc_en_5849  a recession issa comin' #maga #magamyass #fuck...    NOT   \n",
       "\n",
       "     task_2 task_3  \n",
       "0      NONE   NONE  \n",
       "2      NONE   NONE  \n",
       "3      NONE   NONE  \n",
       "4      NONE   NONE  \n",
       "5      NONE   NONE  \n",
       "...     ...    ...  \n",
       "5824   NONE   NONE  \n",
       "5825   NONE   NONE  \n",
       "5827   NONE   NONE  \n",
       "5828   NONE   NONE  \n",
       "5848   NONE   NONE  \n",
       "\n",
       "[3591 rows x 5 columns]"
      ],
      "text/html": "<div>\n<style scoped>\n    .dataframe tbody tr th:only-of-type {\n        vertical-align: middle;\n    }\n\n    .dataframe tbody tr th {\n        vertical-align: top;\n    }\n\n    .dataframe thead th {\n        text-align: right;\n    }\n</style>\n<table border=\"1\" class=\"dataframe\">\n  <thead>\n    <tr style=\"text-align: right;\">\n      <th></th>\n      <th>text_id</th>\n      <th>text</th>\n      <th>task_1</th>\n      <th>task_2</th>\n      <th>task_3</th>\n    </tr>\n  </thead>\n  <tbody>\n    <tr>\n      <th>0</th>\n      <td>hasoc_en_1</td>\n      <td>#DhoniKeepsTheGlove | WATCH: Sports Minister K...</td>\n      <td>NOT</td>\n      <td>NONE</td>\n      <td>NONE</td>\n    </tr>\n    <tr>\n      <th>2</th>\n      <td>hasoc_en_3</td>\n      <td>@cricketworldcup Guess who would be the winner...</td>\n      <td>NOT</td>\n      <td>NONE</td>\n      <td>NONE</td>\n    </tr>\n    <tr>\n      <th>3</th>\n      <td>hasoc_en_4</td>\n      <td>Corbyn is too politically intellectual for #Bo...</td>\n      <td>NOT</td>\n      <td>NONE</td>\n      <td>NONE</td>\n    </tr>\n    <tr>\n      <th>4</th>\n      <td>hasoc_en_5</td>\n      <td>All the best to #TeamIndia for another swimmin...</td>\n      <td>NOT</td>\n      <td>NONE</td>\n      <td>NONE</td>\n    </tr>\n    <tr>\n      <th>5</th>\n      <td>hasoc_en_6</td>\n      <td>@kellymiller513 @TheRealOJ32 I hope you rememb...</td>\n      <td>NOT</td>\n      <td>NONE</td>\n      <td>NONE</td>\n    </tr>\n    <tr>\n      <th>...</th>\n      <td>...</td>\n      <td>...</td>\n      <td>...</td>\n      <td>...</td>\n      <td>...</td>\n    </tr>\n    <tr>\n      <th>5824</th>\n      <td>hasoc_en_5825</td>\n      <td>@DOlusegun @elrufai Hope they don't becomes #D...</td>\n      <td>NOT</td>\n      <td>NONE</td>\n      <td>NONE</td>\n    </tr>\n    <tr>\n      <th>5825</th>\n      <td>hasoc_en_5826</td>\n      <td>@gtconway3d @KellyannePolls @realDonaldTrump H...</td>\n      <td>NOT</td>\n      <td>NONE</td>\n      <td>NONE</td>\n    </tr>\n    <tr>\n      <th>5827</th>\n      <td>hasoc_en_5828</td>\n      <td>@washingtonpost This is something everyone sho...</td>\n      <td>NOT</td>\n      <td>NONE</td>\n      <td>NONE</td>\n    </tr>\n    <tr>\n      <th>5828</th>\n      <td>hasoc_en_5829</td>\n      <td>Sorry about that. Has anybody got a #dickhead ...</td>\n      <td>NOT</td>\n      <td>NONE</td>\n      <td>NONE</td>\n    </tr>\n    <tr>\n      <th>5848</th>\n      <td>hasoc_en_5849</td>\n      <td>a recession issa comin' #maga #magamyass #fuck...</td>\n      <td>NOT</td>\n      <td>NONE</td>\n      <td>NONE</td>\n    </tr>\n  </tbody>\n</table>\n<p>3591 rows × 5 columns</p>\n</div>"
     },
     "metadata": {},
     "execution_count": 39
    }
   ],
   "source": [
    "neutral = english[english['task_1'] == 'NOT']\n",
    "neutral"
   ]
  },
  {
   "cell_type": "code",
   "execution_count": 42,
   "metadata": {},
   "outputs": [
    {
     "output_type": "execute_result",
     "data": {
      "text/plain": [
       "            text_id                                               text task_1  \\\n",
       "1        hasoc_en_2  @politico No. We should remember very clearly ...    HOF   \n",
       "11      hasoc_en_12  I don’t know how much more I can take! 45 is a...    HOF   \n",
       "23      hasoc_en_24  #ShameOnICC  1. ICC on Dhoni's gloves         ...    HOF   \n",
       "27      hasoc_en_28  Disgusting! And they don’t change their cultur...    HOF   \n",
       "34      hasoc_en_35  @TheRealOJ32 Of all the retired NFL players, w...    HOF   \n",
       "...             ...                                                ...    ...   \n",
       "5840  hasoc_en_5841  Full of fools.. ICC @ICCMediaComms @ICC @crick...    HOF   \n",
       "5842  hasoc_en_5843  The US-Mexican border, where established moral...    HOF   \n",
       "5844  hasoc_en_5845  @ICC All Eng matches are on dry pitches &amp; ...    HOF   \n",
       "5845  hasoc_en_5846  It seems the Rain &amp; thunder god only like ...    HOF   \n",
       "5846  hasoc_en_5847  #Muslim #Rapist Raped 28 #innocent #Girls in 1...    HOF   \n",
       "\n",
       "     task_2 task_3  \n",
       "1      HATE    TIN  \n",
       "11     HATE    TIN  \n",
       "23     HATE    TIN  \n",
       "27     HATE    TIN  \n",
       "34     HATE    TIN  \n",
       "...     ...    ...  \n",
       "5840   HATE    TIN  \n",
       "5842   HATE    TIN  \n",
       "5844   HATE    TIN  \n",
       "5845   HATE    TIN  \n",
       "5846   HATE    UNT  \n",
       "\n",
       "[1143 rows x 5 columns]"
      ],
      "text/html": "<div>\n<style scoped>\n    .dataframe tbody tr th:only-of-type {\n        vertical-align: middle;\n    }\n\n    .dataframe tbody tr th {\n        vertical-align: top;\n    }\n\n    .dataframe thead th {\n        text-align: right;\n    }\n</style>\n<table border=\"1\" class=\"dataframe\">\n  <thead>\n    <tr style=\"text-align: right;\">\n      <th></th>\n      <th>text_id</th>\n      <th>text</th>\n      <th>task_1</th>\n      <th>task_2</th>\n      <th>task_3</th>\n    </tr>\n  </thead>\n  <tbody>\n    <tr>\n      <th>1</th>\n      <td>hasoc_en_2</td>\n      <td>@politico No. We should remember very clearly ...</td>\n      <td>HOF</td>\n      <td>HATE</td>\n      <td>TIN</td>\n    </tr>\n    <tr>\n      <th>11</th>\n      <td>hasoc_en_12</td>\n      <td>I don’t know how much more I can take! 45 is a...</td>\n      <td>HOF</td>\n      <td>HATE</td>\n      <td>TIN</td>\n    </tr>\n    <tr>\n      <th>23</th>\n      <td>hasoc_en_24</td>\n      <td>#ShameOnICC  1. ICC on Dhoni's gloves         ...</td>\n      <td>HOF</td>\n      <td>HATE</td>\n      <td>TIN</td>\n    </tr>\n    <tr>\n      <th>27</th>\n      <td>hasoc_en_28</td>\n      <td>Disgusting! And they don’t change their cultur...</td>\n      <td>HOF</td>\n      <td>HATE</td>\n      <td>TIN</td>\n    </tr>\n    <tr>\n      <th>34</th>\n      <td>hasoc_en_35</td>\n      <td>@TheRealOJ32 Of all the retired NFL players, w...</td>\n      <td>HOF</td>\n      <td>HATE</td>\n      <td>TIN</td>\n    </tr>\n    <tr>\n      <th>...</th>\n      <td>...</td>\n      <td>...</td>\n      <td>...</td>\n      <td>...</td>\n      <td>...</td>\n    </tr>\n    <tr>\n      <th>5840</th>\n      <td>hasoc_en_5841</td>\n      <td>Full of fools.. ICC @ICCMediaComms @ICC @crick...</td>\n      <td>HOF</td>\n      <td>HATE</td>\n      <td>TIN</td>\n    </tr>\n    <tr>\n      <th>5842</th>\n      <td>hasoc_en_5843</td>\n      <td>The US-Mexican border, where established moral...</td>\n      <td>HOF</td>\n      <td>HATE</td>\n      <td>TIN</td>\n    </tr>\n    <tr>\n      <th>5844</th>\n      <td>hasoc_en_5845</td>\n      <td>@ICC All Eng matches are on dry pitches &amp;amp; ...</td>\n      <td>HOF</td>\n      <td>HATE</td>\n      <td>TIN</td>\n    </tr>\n    <tr>\n      <th>5845</th>\n      <td>hasoc_en_5846</td>\n      <td>It seems the Rain &amp;amp; thunder god only like ...</td>\n      <td>HOF</td>\n      <td>HATE</td>\n      <td>TIN</td>\n    </tr>\n    <tr>\n      <th>5846</th>\n      <td>hasoc_en_5847</td>\n      <td>#Muslim #Rapist Raped 28 #innocent #Girls in 1...</td>\n      <td>HOF</td>\n      <td>HATE</td>\n      <td>UNT</td>\n    </tr>\n  </tbody>\n</table>\n<p>1143 rows × 5 columns</p>\n</div>"
     },
     "metadata": {},
     "execution_count": 42
    }
   ],
   "source": [
    "hate = english[english['task_2'] == 'HATE']\n",
    "hate"
   ]
  },
  {
   "cell_type": "code",
   "execution_count": 45,
   "metadata": {},
   "outputs": [
    {
     "output_type": "execute_result",
     "data": {
      "text/plain": [
       "            text_id                                               text task_1  \\\n",
       "49      hasoc_en_50  @TheRealOJ32 The world will rejoice when you d...    HOF   \n",
       "91      hasoc_en_92  @realDonaldTrump Destroy our country?  More li...    HOF   \n",
       "102    hasoc_en_103  So it looks like the lying incompetent homopho...    HOF   \n",
       "129    hasoc_en_130  @UROCKlive1 He’s had the worst numbers of any ...    HOF   \n",
       "144    hasoc_en_145  @realDonaldTrump This is one of the worst time...    HOF   \n",
       "...             ...                                                ...    ...   \n",
       "5826  hasoc_en_5827  @briantylercohen @mattgaetz is such a #doucheb...    HOF   \n",
       "5838  hasoc_en_5839  @ImranKhanPTI if u and ur govt have little sha...    HOF   \n",
       "5841  hasoc_en_5842  @TheRealOJ32 You’re really stabbin...er, grabb...    HOF   \n",
       "5849  hasoc_en_5850  #DoctorsFightBack  Will 'The Mad n Irrational ...    HOF   \n",
       "5850  hasoc_en_5851  #ShiningIndia #educatedindia or more like RUND...    HOF   \n",
       "\n",
       "     task_2 task_3  \n",
       "49     OFFN    TIN  \n",
       "91     OFFN    TIN  \n",
       "102    OFFN    TIN  \n",
       "129    OFFN    TIN  \n",
       "144    OFFN    TIN  \n",
       "...     ...    ...  \n",
       "5826   OFFN    TIN  \n",
       "5838   OFFN    TIN  \n",
       "5841   OFFN    TIN  \n",
       "5849   OFFN    TIN  \n",
       "5850   OFFN    UNT  \n",
       "\n",
       "[451 rows x 5 columns]"
      ],
      "text/html": "<div>\n<style scoped>\n    .dataframe tbody tr th:only-of-type {\n        vertical-align: middle;\n    }\n\n    .dataframe tbody tr th {\n        vertical-align: top;\n    }\n\n    .dataframe thead th {\n        text-align: right;\n    }\n</style>\n<table border=\"1\" class=\"dataframe\">\n  <thead>\n    <tr style=\"text-align: right;\">\n      <th></th>\n      <th>text_id</th>\n      <th>text</th>\n      <th>task_1</th>\n      <th>task_2</th>\n      <th>task_3</th>\n    </tr>\n  </thead>\n  <tbody>\n    <tr>\n      <th>49</th>\n      <td>hasoc_en_50</td>\n      <td>@TheRealOJ32 The world will rejoice when you d...</td>\n      <td>HOF</td>\n      <td>OFFN</td>\n      <td>TIN</td>\n    </tr>\n    <tr>\n      <th>91</th>\n      <td>hasoc_en_92</td>\n      <td>@realDonaldTrump Destroy our country?  More li...</td>\n      <td>HOF</td>\n      <td>OFFN</td>\n      <td>TIN</td>\n    </tr>\n    <tr>\n      <th>102</th>\n      <td>hasoc_en_103</td>\n      <td>So it looks like the lying incompetent homopho...</td>\n      <td>HOF</td>\n      <td>OFFN</td>\n      <td>TIN</td>\n    </tr>\n    <tr>\n      <th>129</th>\n      <td>hasoc_en_130</td>\n      <td>@UROCKlive1 He’s had the worst numbers of any ...</td>\n      <td>HOF</td>\n      <td>OFFN</td>\n      <td>TIN</td>\n    </tr>\n    <tr>\n      <th>144</th>\n      <td>hasoc_en_145</td>\n      <td>@realDonaldTrump This is one of the worst time...</td>\n      <td>HOF</td>\n      <td>OFFN</td>\n      <td>TIN</td>\n    </tr>\n    <tr>\n      <th>...</th>\n      <td>...</td>\n      <td>...</td>\n      <td>...</td>\n      <td>...</td>\n      <td>...</td>\n    </tr>\n    <tr>\n      <th>5826</th>\n      <td>hasoc_en_5827</td>\n      <td>@briantylercohen @mattgaetz is such a #doucheb...</td>\n      <td>HOF</td>\n      <td>OFFN</td>\n      <td>TIN</td>\n    </tr>\n    <tr>\n      <th>5838</th>\n      <td>hasoc_en_5839</td>\n      <td>@ImranKhanPTI if u and ur govt have little sha...</td>\n      <td>HOF</td>\n      <td>OFFN</td>\n      <td>TIN</td>\n    </tr>\n    <tr>\n      <th>5841</th>\n      <td>hasoc_en_5842</td>\n      <td>@TheRealOJ32 You’re really stabbin...er, grabb...</td>\n      <td>HOF</td>\n      <td>OFFN</td>\n      <td>TIN</td>\n    </tr>\n    <tr>\n      <th>5849</th>\n      <td>hasoc_en_5850</td>\n      <td>#DoctorsFightBack  Will 'The Mad n Irrational ...</td>\n      <td>HOF</td>\n      <td>OFFN</td>\n      <td>TIN</td>\n    </tr>\n    <tr>\n      <th>5850</th>\n      <td>hasoc_en_5851</td>\n      <td>#ShiningIndia #educatedindia or more like RUND...</td>\n      <td>HOF</td>\n      <td>OFFN</td>\n      <td>UNT</td>\n    </tr>\n  </tbody>\n</table>\n<p>451 rows × 5 columns</p>\n</div>"
     },
     "metadata": {},
     "execution_count": 45
    }
   ],
   "source": [
    "offensive = english[english['task_2'] == 'OFFN']\n",
    "offensive"
   ]
  },
  {
   "cell_type": "code",
   "execution_count": null,
   "metadata": {},
   "outputs": [],
   "source": [
    "\n",
    "def tweets_request(tweets_ids):\n",
    "    \"\"\"\n",
    "    Make a requests to Tweeter API\n",
    "    \"\"\"\n",
    "    df_lst = []\n",
    "    \n",
    "    for batch in tqdm(tweets_ids):\n",
    "        url = \"https://api.twitter.com/2/tweets?ids={}&tweet.fields=created_at&expansions=author_id&user.fields=created_at\".format(batch)\n",
    "        payload={}\n",
    "        headers = {'Authorization': 'Bearer ' + config.keys['bearer_token'],\n",
    "        'Cookie': 'personalization_id=\"v1_hzpv7qXpjB6CteyAHDWYQQ==\"; guest_id=v1%3A161498381400435837'}\n",
    "        r = requests.request(\"GET\", url, headers=headers, data=payload)\n",
    "        data = r.json()\n",
    "        if 'data' in data.keys():\n",
    "            df_lst.append(pd.DataFrame(data['data']))\n",
    "    \n",
    "    return pd.concat(df_lst)"
   ]
  },
  {
   "cell_type": "code",
   "execution_count": 3,
   "metadata": {},
   "outputs": [],
   "source": [
    "from twython import Twython"
   ]
  },
  {
   "source": [
    "keys = dict(\n",
    "    \n",
    "    app_id = \"20913304\"\n",
    "    \n",
    "    api_key = 'JusiYpq36K4OJBekSt5OWbSRj',\n",
    "\n",
    "    api_secret = 'z08v32SwpbqfBWPOJOuL1aI5lWzsBRy38BiLsVetK0wNLRmQYh',\n",
    "\n",
    "    access_token = '1299634175792775168-jpKi66cfOvOUEJQwMrXHWIZskDyNXG', \n",
    "\n",
    "    access_token_secret = 'u4ZA1BWHRIs1Gyx575QXO4Q8hmVsRBtmwlOCyB0Rdo1vS',\n",
    "\n",
    "    bearer_token = 'AAAAAAAAAAAAAAAAAAAAAC%2BENQEAAAAAZSGS82Ee99vbsQYf0V4FvKz%2F5VM%3D4tuNSKj6s2cxthns7IQtzA19DDsFz9Rxj1m6r6PD9rBxB7mies'\n",
    "\n",
    ")"
   ],
   "cell_type": "markdown",
   "metadata": {}
  },
  {
   "cell_type": "code",
   "execution_count": 26,
   "metadata": {},
   "outputs": [],
   "source": [
    "APP_KEY = 'JusiYpq36K4OJBekSt5OWbSRj'\n",
    "APP_SECRET = 'z08v32SwpbqfBWPOJOuL1aI5lWzsBRy38BiLsVetK0wNLRmQYh'\n",
    "twitter = Twython(APP_KEY, APP_SECRET, oauth_version=2)\n",
    "ACCESS_TOKEN = twitter.obtain_access_token()"
   ]
  },
  {
   "cell_type": "code",
   "execution_count": 27,
   "metadata": {},
   "outputs": [
    {
     "output_type": "stream",
     "name": "stdout",
     "text": [
      "AAAAAAAAAAAAAAAAAAAAAC%2BENQEAAAAAZSGS82Ee99vbsQYf0V4FvKz%2F5VM%3D4tuNSKj6s2cxthns7IQtzA19DDsFz9Rxj1m6r6PD9rBxB7mies\n"
     ]
    }
   ],
   "source": [
    "print(ACCESS_TOKEN)"
   ]
  },
  {
   "cell_type": "code",
   "execution_count": 28,
   "metadata": {},
   "outputs": [],
   "source": [
    "twitter = Twython(APP_KEY, access_token = ACCESS_TOKEN)"
   ]
  },
  {
   "cell_type": "code",
   "execution_count": 20,
   "metadata": {},
   "outputs": [],
   "source": [
    "# twitter = Twython(APP_KEY, APP_SECRET, OAUTH_TOKEN, OAUTH_TOKEN_SECRET)\n",
    "APP_KEY = \"C8x0cgMxMVo0XWO2x08COIZAP\"\n",
    "APP_SECRET = \"Wmi4DPwEYa7c1okNCtIdLeGf9wFkXEvDWULN9Lec28zFwaaEAm\"\n",
    "\n",
    "twitter = Twython(APP_KEY, APP_SECRET, oauth_version=2)\n",
    "ACCESS_TOKEN = twitter.obtain_access_token()\n",
    "twitter = Twython(APP_KEY, access_token=ACCESS_TOKEN)"
   ]
  },
  {
   "cell_type": "code",
   "execution_count": 21,
   "metadata": {},
   "outputs": [],
   "source": [
    "twitter = Twython(APP_KEY, APP_SECRET)\n",
    "auth = twitter.get_authentication_tokens(callback_url=\"https://www.examsherpa.com\")"
   ]
  },
  {
   "cell_type": "code",
   "execution_count": 22,
   "metadata": {},
   "outputs": [],
   "source": [
    "OAUTH_TOKEN = auth['oauth_token']\n",
    "OAUTH_TOKEN_SECRET = auth['oauth_token_secret']\n"
   ]
  },
  {
   "cell_type": "code",
   "execution_count": 23,
   "metadata": {},
   "outputs": [
    {
     "output_type": "stream",
     "name": "stdout",
     "text": [
      "ASKNyAAAAAABPxyYAAABeYCtFKk\n"
     ]
    }
   ],
   "source": [
    "print(OAUTH_TOKEN)"
   ]
  },
  {
   "cell_type": "code",
   "execution_count": 24,
   "metadata": {},
   "outputs": [
    {
     "output_type": "stream",
     "name": "stdout",
     "text": [
      "wiLSW4JSNwjrtyoMs6Wh88H0qxhsoH0Q\n"
     ]
    }
   ],
   "source": [
    "print(OAUTH_TOKEN_SECRET)"
   ]
  },
  {
   "cell_type": "code",
   "execution_count": 19,
   "metadata": {},
   "outputs": [
    {
     "output_type": "error",
     "ename": "AttributeError",
     "evalue": "module 'requests' has no attribute 'GET'",
     "traceback": [
      "\u001b[0;31m---------------------------------------------------------------------------\u001b[0m",
      "\u001b[0;31mAttributeError\u001b[0m                            Traceback (most recent call last)",
      "\u001b[0;32m<ipython-input-19-920ab4a891d2>\u001b[0m in \u001b[0;36m<module>\u001b[0;34m\u001b[0m\n\u001b[0;32m----> 1\u001b[0;31m \u001b[0moauth_verifier\u001b[0m \u001b[0;34m=\u001b[0m \u001b[0mrequests\u001b[0m\u001b[0;34m.\u001b[0m\u001b[0mGET\u001b[0m\u001b[0;34m[\u001b[0m\u001b[0;34m'oauth_verifier'\u001b[0m\u001b[0;34m]\u001b[0m\u001b[0;34m\u001b[0m\u001b[0;34m\u001b[0m\u001b[0m\n\u001b[0m",
      "\u001b[0;31mAttributeError\u001b[0m: module 'requests' has no attribute 'GET'"
     ]
    }
   ],
   "source": [
    "oauth_verifier = requests.GET['oauth_verifier']"
   ]
  },
  {
   "cell_type": "code",
   "execution_count": 25,
   "metadata": {},
   "outputs": [
    {
     "output_type": "execute_result",
     "data": {
      "text/plain": [
       "'https://api.twitter.com/oauth/authenticate?oauth_token=ASKNyAAAAAABPxyYAAABeYCtFKk'"
      ]
     },
     "metadata": {},
     "execution_count": 25
    }
   ],
   "source": [
    "auth['auth_url']"
   ]
  },
  {
   "cell_type": "code",
   "execution_count": 15,
   "metadata": {},
   "outputs": [],
   "source": [
    "twitter = Twython(APP_KEY, APP_SECRET, OAUTH_TOKEN, OAUTH_TOKEN_SECRET)"
   ]
  },
  {
   "cell_type": "code",
   "execution_count": 16,
   "metadata": {},
   "outputs": [
    {
     "output_type": "error",
     "ename": "TwythonAuthError",
     "evalue": "Twitter API returned a 401 (Unauthorized), Invalid or expired token.",
     "traceback": [
      "\u001b[0;31m---------------------------------------------------------------------------\u001b[0m",
      "\u001b[0;31mTwythonAuthError\u001b[0m                          Traceback (most recent call last)",
      "\u001b[0;32m<ipython-input-16-491a6882d997>\u001b[0m in \u001b[0;36m<module>\u001b[0;34m\u001b[0m\n\u001b[0;32m----> 1\u001b[0;31m \u001b[0mtwitter\u001b[0m\u001b[0;34m.\u001b[0m\u001b[0mverify_credentials\u001b[0m\u001b[0;34m(\u001b[0m\u001b[0;34m)\u001b[0m\u001b[0;34m\u001b[0m\u001b[0;34m\u001b[0m\u001b[0m\n\u001b[0m",
      "\u001b[0;32m~/opt/anaconda3/envs/learn-env/lib/python3.9/site-packages/twython/endpoints.py\u001b[0m in \u001b[0;36mverify_credentials\u001b[0;34m(self, **params)\u001b[0m\n\u001b[1;32m    498\u001b[0m \u001b[0;34m\u001b[0m\u001b[0m\n\u001b[1;32m    499\u001b[0m         \"\"\"\n\u001b[0;32m--> 500\u001b[0;31m         \u001b[0;32mreturn\u001b[0m \u001b[0mself\u001b[0m\u001b[0;34m.\u001b[0m\u001b[0mget\u001b[0m\u001b[0;34m(\u001b[0m\u001b[0;34m'account/verify_credentials'\u001b[0m\u001b[0;34m,\u001b[0m \u001b[0mparams\u001b[0m\u001b[0;34m=\u001b[0m\u001b[0mparams\u001b[0m\u001b[0;34m)\u001b[0m\u001b[0;34m\u001b[0m\u001b[0;34m\u001b[0m\u001b[0m\n\u001b[0m\u001b[1;32m    501\u001b[0m \u001b[0;34m\u001b[0m\u001b[0m\n\u001b[1;32m    502\u001b[0m     \u001b[0;32mdef\u001b[0m \u001b[0mupdate_account_settings\u001b[0m\u001b[0;34m(\u001b[0m\u001b[0mself\u001b[0m\u001b[0;34m,\u001b[0m \u001b[0;34m**\u001b[0m\u001b[0mparams\u001b[0m\u001b[0;34m)\u001b[0m\u001b[0;34m:\u001b[0m\u001b[0;34m\u001b[0m\u001b[0;34m\u001b[0m\u001b[0m\n",
      "\u001b[0;32m~/opt/anaconda3/envs/learn-env/lib/python3.9/site-packages/twython/api.py\u001b[0m in \u001b[0;36mget\u001b[0;34m(self, endpoint, params, version)\u001b[0m\n\u001b[1;32m    276\u001b[0m     \u001b[0;32mdef\u001b[0m \u001b[0mget\u001b[0m\u001b[0;34m(\u001b[0m\u001b[0mself\u001b[0m\u001b[0;34m,\u001b[0m \u001b[0mendpoint\u001b[0m\u001b[0;34m,\u001b[0m \u001b[0mparams\u001b[0m\u001b[0;34m=\u001b[0m\u001b[0;32mNone\u001b[0m\u001b[0;34m,\u001b[0m \u001b[0mversion\u001b[0m\u001b[0;34m=\u001b[0m\u001b[0;34m'1.1'\u001b[0m\u001b[0;34m)\u001b[0m\u001b[0;34m:\u001b[0m\u001b[0;34m\u001b[0m\u001b[0;34m\u001b[0m\u001b[0m\n\u001b[1;32m    277\u001b[0m         \u001b[0;34m\"\"\"Shortcut for GET requests via :class:`request`\"\"\"\u001b[0m\u001b[0;34m\u001b[0m\u001b[0;34m\u001b[0m\u001b[0m\n\u001b[0;32m--> 278\u001b[0;31m         \u001b[0;32mreturn\u001b[0m \u001b[0mself\u001b[0m\u001b[0;34m.\u001b[0m\u001b[0mrequest\u001b[0m\u001b[0;34m(\u001b[0m\u001b[0mendpoint\u001b[0m\u001b[0;34m,\u001b[0m \u001b[0mparams\u001b[0m\u001b[0;34m=\u001b[0m\u001b[0mparams\u001b[0m\u001b[0;34m,\u001b[0m \u001b[0mversion\u001b[0m\u001b[0;34m=\u001b[0m\u001b[0mversion\u001b[0m\u001b[0;34m)\u001b[0m\u001b[0;34m\u001b[0m\u001b[0;34m\u001b[0m\u001b[0m\n\u001b[0m\u001b[1;32m    279\u001b[0m \u001b[0;34m\u001b[0m\u001b[0m\n\u001b[1;32m    280\u001b[0m     \u001b[0;32mdef\u001b[0m \u001b[0mpost\u001b[0m\u001b[0;34m(\u001b[0m\u001b[0mself\u001b[0m\u001b[0;34m,\u001b[0m \u001b[0mendpoint\u001b[0m\u001b[0;34m,\u001b[0m \u001b[0mparams\u001b[0m\u001b[0;34m=\u001b[0m\u001b[0;32mNone\u001b[0m\u001b[0;34m,\u001b[0m \u001b[0mversion\u001b[0m\u001b[0;34m=\u001b[0m\u001b[0;34m'1.1'\u001b[0m\u001b[0;34m,\u001b[0m \u001b[0mjson_encoded\u001b[0m\u001b[0;34m=\u001b[0m\u001b[0;32mFalse\u001b[0m\u001b[0;34m)\u001b[0m\u001b[0;34m:\u001b[0m\u001b[0;34m\u001b[0m\u001b[0;34m\u001b[0m\u001b[0m\n",
      "\u001b[0;32m~/opt/anaconda3/envs/learn-env/lib/python3.9/site-packages/twython/api.py\u001b[0m in \u001b[0;36mrequest\u001b[0;34m(self, endpoint, method, params, version, json_encoded)\u001b[0m\n\u001b[1;32m    269\u001b[0m             \u001b[0murl\u001b[0m \u001b[0;34m=\u001b[0m \u001b[0;34m'%s/%s.json'\u001b[0m \u001b[0;34m%\u001b[0m \u001b[0;34m(\u001b[0m\u001b[0mself\u001b[0m\u001b[0;34m.\u001b[0m\u001b[0mapi_url\u001b[0m \u001b[0;34m%\u001b[0m \u001b[0mversion\u001b[0m\u001b[0;34m,\u001b[0m \u001b[0mendpoint\u001b[0m\u001b[0;34m)\u001b[0m\u001b[0;34m\u001b[0m\u001b[0;34m\u001b[0m\u001b[0m\n\u001b[1;32m    270\u001b[0m \u001b[0;34m\u001b[0m\u001b[0m\n\u001b[0;32m--> 271\u001b[0;31m         content = self._request(url, method=method, params=params,\n\u001b[0m\u001b[1;32m    272\u001b[0m                                 api_call=url, json_encoded=json_encoded)\n\u001b[1;32m    273\u001b[0m \u001b[0;34m\u001b[0m\u001b[0m\n",
      "\u001b[0;32m~/opt/anaconda3/envs/learn-env/lib/python3.9/site-packages/twython/api.py\u001b[0m in \u001b[0;36m_request\u001b[0;34m(self, url, method, params, api_call, json_encoded)\u001b[0m\n\u001b[1;32m    199\u001b[0m                 \u001b[0mExceptionType\u001b[0m \u001b[0;34m=\u001b[0m \u001b[0mTwythonAuthError\u001b[0m\u001b[0;34m\u001b[0m\u001b[0;34m\u001b[0m\u001b[0m\n\u001b[1;32m    200\u001b[0m \u001b[0;34m\u001b[0m\u001b[0m\n\u001b[0;32m--> 201\u001b[0;31m             raise ExceptionType(\n\u001b[0m\u001b[1;32m    202\u001b[0m                 \u001b[0merror_message\u001b[0m\u001b[0;34m,\u001b[0m\u001b[0;34m\u001b[0m\u001b[0;34m\u001b[0m\u001b[0m\n\u001b[1;32m    203\u001b[0m                 \u001b[0merror_code\u001b[0m\u001b[0;34m=\u001b[0m\u001b[0mresponse\u001b[0m\u001b[0;34m.\u001b[0m\u001b[0mstatus_code\u001b[0m\u001b[0;34m,\u001b[0m\u001b[0;34m\u001b[0m\u001b[0;34m\u001b[0m\u001b[0m\n",
      "\u001b[0;31mTwythonAuthError\u001b[0m: Twitter API returned a 401 (Unauthorized), Invalid or expired token."
     ]
    }
   ],
   "source": [
    "twitter.verify_credentials()"
   ]
  },
  {
   "cell_type": "code",
   "execution_count": null,
   "metadata": {},
   "outputs": [],
   "source": []
  }
 ]
}