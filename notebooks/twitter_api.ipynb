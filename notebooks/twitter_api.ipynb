{
 "metadata": {
  "language_info": {
   "codemirror_mode": {
    "name": "ipython",
    "version": 3
   },
   "file_extension": ".py",
   "mimetype": "text/x-python",
   "name": "python",
   "nbconvert_exporter": "python",
   "pygments_lexer": "ipython3",
   "version": "3.9.2-final"
  },
  "orig_nbformat": 2,
  "kernelspec": {
   "name": "python3",
   "display_name": "Python 3",
   "language": "python"
  }
 },
 "nbformat": 4,
 "nbformat_minor": 2,
 "cells": [
  {
   "source": [
    "# Exploring Twitter API"
   ],
   "cell_type": "markdown",
   "metadata": {}
  },
  {
   "source": [
    "## Importing Packages"
   ],
   "cell_type": "markdown",
   "metadata": {}
  },
  {
   "cell_type": "code",
   "execution_count": 4,
   "metadata": {},
   "outputs": [],
   "source": [
    "import pandas as pd\n",
    "import json\n",
    "import re\n",
    "import requests\n",
    "import pickle\n",
    "%reload_ext autoreload\n",
    "%autoreload 2\n",
    "from utils import *"
   ]
  },
  {
   "source": [
    "## Aristotle University Dataset"
   ],
   "cell_type": "markdown",
   "metadata": {}
  },
  {
   "source": [
    "Citation:\n",
    "\n",
    "Founta, A., Djouvas, C., Chatzakou, D., Leontiadis, I., Blackburn, J., Stringhini, G., Vakali, A., Sirivianos, M. and Kourtellis, N., 2018. Large Scale Crowdsourcing and Characterization of Twitter Abusive Behavior \\[Data file\\]. ArXiv. Retrieved from: https://dataverse.mpi-sws.org/dataset.xhtml?persistentId=doi:10.5072/FK2/ZDTEMN\n",
    "\n",
    "Publication: https://arxiv.org/pdf/1802.00393.pdf"
   ],
   "cell_type": "markdown",
   "metadata": {}
  },
  {
   "cell_type": "code",
   "execution_count": 5,
   "metadata": {},
   "outputs": [
    {
     "output_type": "execute_result",
     "data": {
      "text/plain": [
       "             tweet_id maj_label\n",
       "0  849667487180259329   abusive\n",
       "1  850490912954351616   abusive\n",
       "2  848791766853668864   abusive\n",
       "3  848306464892604416   abusive\n",
       "4  850010509969465344    normal"
      ],
      "text/html": "<div>\n<style scoped>\n    .dataframe tbody tr th:only-of-type {\n        vertical-align: middle;\n    }\n\n    .dataframe tbody tr th {\n        vertical-align: top;\n    }\n\n    .dataframe thead th {\n        text-align: right;\n    }\n</style>\n<table border=\"1\" class=\"dataframe\">\n  <thead>\n    <tr style=\"text-align: right;\">\n      <th></th>\n      <th>tweet_id</th>\n      <th>maj_label</th>\n    </tr>\n  </thead>\n  <tbody>\n    <tr>\n      <th>0</th>\n      <td>849667487180259329</td>\n      <td>abusive</td>\n    </tr>\n    <tr>\n      <th>1</th>\n      <td>850490912954351616</td>\n      <td>abusive</td>\n    </tr>\n    <tr>\n      <th>2</th>\n      <td>848791766853668864</td>\n      <td>abusive</td>\n    </tr>\n    <tr>\n      <th>3</th>\n      <td>848306464892604416</td>\n      <td>abusive</td>\n    </tr>\n    <tr>\n      <th>4</th>\n      <td>850010509969465344</td>\n      <td>normal</td>\n    </tr>\n  </tbody>\n</table>\n</div>"
     },
     "metadata": {},
     "execution_count": 5
    }
   ],
   "source": [
    "df = pd.read_csv('../data/hatespeechtwitter.csv')\n",
    "df.head()"
   ]
  },
  {
   "cell_type": "code",
   "execution_count": 6,
   "metadata": {},
   "outputs": [
    {
     "output_type": "stream",
     "name": "stdout",
     "text": [
      "<class 'pandas.core.frame.DataFrame'>\nRangeIndex: 80000 entries, 0 to 79999\nData columns (total 2 columns):\n #   Column     Non-Null Count  Dtype \n---  ------     --------------  ----- \n 0   tweet_id   80000 non-null  int64 \n 1   maj_label  79996 non-null  object\ndtypes: int64(1), object(1)\nmemory usage: 1.2+ MB\n"
     ]
    }
   ],
   "source": [
    "df.info()"
   ]
  },
  {
   "cell_type": "code",
   "execution_count": 7,
   "metadata": {},
   "outputs": [
    {
     "output_type": "execute_result",
     "data": {
      "text/plain": [
       "normal     52835\n",
       "spam       13404\n",
       "abusive    10122\n",
       "hateful     3635\n",
       "Name: label, dtype: int64"
      ]
     },
     "metadata": {},
     "execution_count": 7
    }
   ],
   "source": [
    "df.columns = ['id', 'label']\n",
    "df.label.value_counts()"
   ]
  },
  {
   "cell_type": "code",
   "execution_count": 8,
   "metadata": {},
   "outputs": [
    {
     "output_type": "execute_result",
     "data": {
      "text/plain": [
       "                       id    label\n",
       "5      850433664890544128  hateful\n",
       "11     850449456445235200  hateful\n",
       "12     850100742035836929  hateful\n",
       "13     847945888995708928  hateful\n",
       "21     847804507367100416  hateful\n",
       "...                   ...      ...\n",
       "79853  849246676854484992  hateful\n",
       "79909  849635522389651456  hateful\n",
       "79917  850456293181538304  hateful\n",
       "79922  850308804663181312  hateful\n",
       "79970  847779358341292033  hateful\n",
       "\n",
       "[3635 rows x 2 columns]"
      ],
      "text/html": "<div>\n<style scoped>\n    .dataframe tbody tr th:only-of-type {\n        vertical-align: middle;\n    }\n\n    .dataframe tbody tr th {\n        vertical-align: top;\n    }\n\n    .dataframe thead th {\n        text-align: right;\n    }\n</style>\n<table border=\"1\" class=\"dataframe\">\n  <thead>\n    <tr style=\"text-align: right;\">\n      <th></th>\n      <th>id</th>\n      <th>label</th>\n    </tr>\n  </thead>\n  <tbody>\n    <tr>\n      <th>5</th>\n      <td>850433664890544128</td>\n      <td>hateful</td>\n    </tr>\n    <tr>\n      <th>11</th>\n      <td>850449456445235200</td>\n      <td>hateful</td>\n    </tr>\n    <tr>\n      <th>12</th>\n      <td>850100742035836929</td>\n      <td>hateful</td>\n    </tr>\n    <tr>\n      <th>13</th>\n      <td>847945888995708928</td>\n      <td>hateful</td>\n    </tr>\n    <tr>\n      <th>21</th>\n      <td>847804507367100416</td>\n      <td>hateful</td>\n    </tr>\n    <tr>\n      <th>...</th>\n      <td>...</td>\n      <td>...</td>\n    </tr>\n    <tr>\n      <th>79853</th>\n      <td>849246676854484992</td>\n      <td>hateful</td>\n    </tr>\n    <tr>\n      <th>79909</th>\n      <td>849635522389651456</td>\n      <td>hateful</td>\n    </tr>\n    <tr>\n      <th>79917</th>\n      <td>850456293181538304</td>\n      <td>hateful</td>\n    </tr>\n    <tr>\n      <th>79922</th>\n      <td>850308804663181312</td>\n      <td>hateful</td>\n    </tr>\n    <tr>\n      <th>79970</th>\n      <td>847779358341292033</td>\n      <td>hateful</td>\n    </tr>\n  </tbody>\n</table>\n<p>3635 rows × 2 columns</p>\n</div>"
     },
     "metadata": {},
     "execution_count": 8
    }
   ],
   "source": [
    "df_hateful = df[df['label']=='hateful']\n",
    "df_hateful"
   ]
  },
  {
   "cell_type": "code",
   "execution_count": 9,
   "metadata": {},
   "outputs": [
    {
     "output_type": "execute_result",
     "data": {
      "text/plain": [
       "37"
      ]
     },
     "metadata": {},
     "execution_count": 9
    }
   ],
   "source": [
    "hate_ids = group_list(list(df_hateful.id))\n",
    "len(hate_ids)"
   ]
  },
  {
   "cell_type": "code",
   "execution_count": 37,
   "metadata": {},
   "outputs": [
    {
     "output_type": "stream",
     "name": "stderr",
     "text": [
      "100%|██████████| 37/37 [00:15<00:00,  2.45it/s]\n"
     ]
    }
   ],
   "source": [
    "df_hate = tweets_request(hate_ids)"
   ]
  },
  {
   "cell_type": "code",
   "execution_count": 38,
   "metadata": {},
   "outputs": [
    {
     "output_type": "execute_result",
     "data": {
      "text/plain": [
       "               author_id                created_at  \\\n",
       "0              399817418  2017-04-07T19:42:40.000Z   \n",
       "1              928512230  2017-04-06T21:39:45.000Z   \n",
       "2               46267097  2017-03-31T13:35:20.000Z   \n",
       "3               14413604  2017-04-06T20:58:20.000Z   \n",
       "4             3137373930  2017-04-03T00:00:48.000Z   \n",
       "...                  ...                       ...   \n",
       "1761           465448529  2017-04-08T13:25:50.000Z   \n",
       "1762           179136092  2017-04-04T17:42:11.000Z   \n",
       "1763            60473620  2017-04-05T17:26:51.000Z   \n",
       "1764  736124767518986244  2017-04-04T13:06:00.000Z   \n",
       "1765           626656631  2017-04-05T14:51:08.000Z   \n",
       "\n",
       "                                                   text                  id  \n",
       "0     I hate er chase because if the Bitch that work...  850433664890544128  \n",
       "1     RT @nyctophil3: Pineapples do not belong on pi...  850100742035836929  \n",
       "2     Niggas keep talking about women wearing weave ...  847804507367100416  \n",
       "3     @vappywave idiot that's not gonna work. you go...  850090319165050880  \n",
       "4     RT @ayevonnn: bruh i fucking hate people like ...  848686686930382848  \n",
       "...                                                 ...                 ...  \n",
       "1761  Baekhyun won 'Most Popular Artist of Korea'\\n\\...  850701219568001025  \n",
       "1762  #TripleTalaqArrest 2fgt dis social menace #Tri...  849316180670259205  \n",
       "1763  White nationalists' latest tactic to recruit c...  849674709763358720  \n",
       "1764  We are in a comfortable lead fight against gal...  849246676854484992  \n",
       "1765  Took him less than a minute...!! Gutless grub!...  849635522389651456  \n",
       "\n",
       "[1766 rows x 4 columns]"
      ],
      "text/html": "<div>\n<style scoped>\n    .dataframe tbody tr th:only-of-type {\n        vertical-align: middle;\n    }\n\n    .dataframe tbody tr th {\n        vertical-align: top;\n    }\n\n    .dataframe thead th {\n        text-align: right;\n    }\n</style>\n<table border=\"1\" class=\"dataframe\">\n  <thead>\n    <tr style=\"text-align: right;\">\n      <th></th>\n      <th>author_id</th>\n      <th>created_at</th>\n      <th>text</th>\n      <th>id</th>\n    </tr>\n  </thead>\n  <tbody>\n    <tr>\n      <th>0</th>\n      <td>399817418</td>\n      <td>2017-04-07T19:42:40.000Z</td>\n      <td>I hate er chase because if the Bitch that work...</td>\n      <td>850433664890544128</td>\n    </tr>\n    <tr>\n      <th>1</th>\n      <td>928512230</td>\n      <td>2017-04-06T21:39:45.000Z</td>\n      <td>RT @nyctophil3: Pineapples do not belong on pi...</td>\n      <td>850100742035836929</td>\n    </tr>\n    <tr>\n      <th>2</th>\n      <td>46267097</td>\n      <td>2017-03-31T13:35:20.000Z</td>\n      <td>Niggas keep talking about women wearing weave ...</td>\n      <td>847804507367100416</td>\n    </tr>\n    <tr>\n      <th>3</th>\n      <td>14413604</td>\n      <td>2017-04-06T20:58:20.000Z</td>\n      <td>@vappywave idiot that's not gonna work. you go...</td>\n      <td>850090319165050880</td>\n    </tr>\n    <tr>\n      <th>4</th>\n      <td>3137373930</td>\n      <td>2017-04-03T00:00:48.000Z</td>\n      <td>RT @ayevonnn: bruh i fucking hate people like ...</td>\n      <td>848686686930382848</td>\n    </tr>\n    <tr>\n      <th>...</th>\n      <td>...</td>\n      <td>...</td>\n      <td>...</td>\n      <td>...</td>\n    </tr>\n    <tr>\n      <th>1761</th>\n      <td>465448529</td>\n      <td>2017-04-08T13:25:50.000Z</td>\n      <td>Baekhyun won 'Most Popular Artist of Korea'\\n\\...</td>\n      <td>850701219568001025</td>\n    </tr>\n    <tr>\n      <th>1762</th>\n      <td>179136092</td>\n      <td>2017-04-04T17:42:11.000Z</td>\n      <td>#TripleTalaqArrest 2fgt dis social menace #Tri...</td>\n      <td>849316180670259205</td>\n    </tr>\n    <tr>\n      <th>1763</th>\n      <td>60473620</td>\n      <td>2017-04-05T17:26:51.000Z</td>\n      <td>White nationalists' latest tactic to recruit c...</td>\n      <td>849674709763358720</td>\n    </tr>\n    <tr>\n      <th>1764</th>\n      <td>736124767518986244</td>\n      <td>2017-04-04T13:06:00.000Z</td>\n      <td>We are in a comfortable lead fight against gal...</td>\n      <td>849246676854484992</td>\n    </tr>\n    <tr>\n      <th>1765</th>\n      <td>626656631</td>\n      <td>2017-04-05T14:51:08.000Z</td>\n      <td>Took him less than a minute...!! Gutless grub!...</td>\n      <td>849635522389651456</td>\n    </tr>\n  </tbody>\n</table>\n<p>1766 rows × 4 columns</p>\n</div>"
     },
     "metadata": {},
     "execution_count": 38
    }
   ],
   "source": [
    "df_hate = df_hate.reset_index(drop=True)\n",
    "df_hate"
   ]
  },
  {
   "cell_type": "code",
   "execution_count": 39,
   "metadata": {},
   "outputs": [],
   "source": [
    "df_hate.to_csv('../data/df_hateful.csv')"
   ]
  },
  {
   "source": [
    "# University of Copenhagen Dataset"
   ],
   "cell_type": "markdown",
   "metadata": {}
  },
  {
   "source": [
    "** Reference: **\n",
    "\n",
    "Waseem, Z., Hovy, D. (2016). Hateful Symbols or Hateful People? Predictive Features for Hate Speech Detection on Twitter \\[Data file\\]. In: *Proceedings of the NAACL Student Research Workshop*. San Diego, Calfornia: Association for Computational Linguistics, pages 88-93. Retrieved from: https://github.com/ZeerakW/hatespeech.\n",
    "\n",
    "Publication:  https://www.aclweb.org/anthology/N16-2013.pdf"
   ],
   "cell_type": "markdown",
   "metadata": {}
  },
  {
   "cell_type": "code",
   "execution_count": 11,
   "metadata": {},
   "outputs": [
    {
     "output_type": "execute_result",
     "data": {
      "text/plain": [
       "                   id   label\n",
       "0  572341498827522049  racism\n",
       "1  572340476503724032  racism\n",
       "2  572334712804384768  racism\n",
       "3  572332655397629952  racism\n",
       "4  575949086055997440  racism"
      ],
      "text/html": "<div>\n<style scoped>\n    .dataframe tbody tr th:only-of-type {\n        vertical-align: middle;\n    }\n\n    .dataframe tbody tr th {\n        vertical-align: top;\n    }\n\n    .dataframe thead th {\n        text-align: right;\n    }\n</style>\n<table border=\"1\" class=\"dataframe\">\n  <thead>\n    <tr style=\"text-align: right;\">\n      <th></th>\n      <th>id</th>\n      <th>label</th>\n    </tr>\n  </thead>\n  <tbody>\n    <tr>\n      <th>0</th>\n      <td>572341498827522049</td>\n      <td>racism</td>\n    </tr>\n    <tr>\n      <th>1</th>\n      <td>572340476503724032</td>\n      <td>racism</td>\n    </tr>\n    <tr>\n      <th>2</th>\n      <td>572334712804384768</td>\n      <td>racism</td>\n    </tr>\n    <tr>\n      <th>3</th>\n      <td>572332655397629952</td>\n      <td>racism</td>\n    </tr>\n    <tr>\n      <th>4</th>\n      <td>575949086055997440</td>\n      <td>racism</td>\n    </tr>\n  </tbody>\n</table>\n</div>"
     },
     "metadata": {},
     "execution_count": 11
    }
   ],
   "source": [
    "df2 = pd.read_csv('../data/NAACL_SRW_2016.csv')\n",
    "df2.columns = ['id', 'label']\n",
    "df2.head()"
   ]
  },
  {
   "cell_type": "code",
   "execution_count": 48,
   "metadata": {},
   "outputs": [
    {
     "output_type": "execute_result",
     "data": {
      "text/plain": [
       "none      11559\n",
       "sexism     3378\n",
       "racism     1969\n",
       "Name: label, dtype: int64"
      ]
     },
     "metadata": {},
     "execution_count": 48
    }
   ],
   "source": [
    "df2.label.value_counts()"
   ]
  },
  {
   "cell_type": "code",
   "execution_count": 51,
   "metadata": {},
   "outputs": [],
   "source": [
    "df_racsex = df2[(df2['label']=='racism') | (df2['label']=='sexism')]"
   ]
  },
  {
   "cell_type": "code",
   "execution_count": 55,
   "metadata": {},
   "outputs": [
    {
     "output_type": "stream",
     "name": "stderr",
     "text": [
      "100%|██████████| 54/54 [00:22<00:00,  2.42it/s]\n"
     ]
    }
   ],
   "source": [
    "racsex_id = group_list(list(df_racsex.id))\n",
    "df_rac_sex = tweets_request(racsex_id)"
   ]
  },
  {
   "cell_type": "code",
   "execution_count": 62,
   "metadata": {},
   "outputs": [
    {
     "output_type": "execute_result",
     "data": {
      "text/plain": [
       "                      id   author_id                created_at  \\\n",
       "0     572341498827522049   110114783  2015-03-02T10:23:41.000Z   \n",
       "1     572340476503724032    38650214  2015-03-02T10:19:37.000Z   \n",
       "2     572334712804384768  2587278392  2015-03-02T09:56:43.000Z   \n",
       "3     572332655397629952  2601524623  2015-03-02T09:48:33.000Z   \n",
       "4     446460991396917248   930620467  2014-03-20T01:39:29.000Z   \n",
       "...                  ...         ...                       ...   \n",
       "2736  569990621315919872  2756873076  2015-02-23T22:42:08.000Z   \n",
       "2737  570244879265206272  2756873076  2015-02-24T15:32:28.000Z   \n",
       "2738  571013698111860736  2756873076  2015-02-26T18:27:29.000Z   \n",
       "2739  571304517930774528  2756873076  2015-02-27T13:43:06.000Z   \n",
       "2740  575664315627216896  2756873076  2015-03-11T14:27:22.000Z   \n",
       "\n",
       "                                                   text  \n",
       "0     Drasko they didn't cook half a bird you idiot ...  \n",
       "1     Hopefully someone cooks Drasko in the next ep ...  \n",
       "2     of course you were born in serbia...you're as ...  \n",
       "3     These girls are the equivalent of the irritati...  \n",
       "4     RT @YesYoureRacist: At least you're only a tin...  \n",
       "...                                                 ...  \n",
       "2736  RT @Superjutah: @MT8_9 £34,000 is £9000 above ...  \n",
       "2737  RT @DufresneFrank: “@gabystama: @DufresneFrank...  \n",
       "2738  RT @BoycottBrandy: @ActionFlickDoc this person...  \n",
       "2739  RT @Lyall: Patriarchy™ will expel me if I divu...  \n",
       "2740  RT @AsheSchow: Women’s Studies: Learn how to t...  \n",
       "\n",
       "[2741 rows x 4 columns]"
      ],
      "text/html": "<div>\n<style scoped>\n    .dataframe tbody tr th:only-of-type {\n        vertical-align: middle;\n    }\n\n    .dataframe tbody tr th {\n        vertical-align: top;\n    }\n\n    .dataframe thead th {\n        text-align: right;\n    }\n</style>\n<table border=\"1\" class=\"dataframe\">\n  <thead>\n    <tr style=\"text-align: right;\">\n      <th></th>\n      <th>id</th>\n      <th>author_id</th>\n      <th>created_at</th>\n      <th>text</th>\n    </tr>\n  </thead>\n  <tbody>\n    <tr>\n      <th>0</th>\n      <td>572341498827522049</td>\n      <td>110114783</td>\n      <td>2015-03-02T10:23:41.000Z</td>\n      <td>Drasko they didn't cook half a bird you idiot ...</td>\n    </tr>\n    <tr>\n      <th>1</th>\n      <td>572340476503724032</td>\n      <td>38650214</td>\n      <td>2015-03-02T10:19:37.000Z</td>\n      <td>Hopefully someone cooks Drasko in the next ep ...</td>\n    </tr>\n    <tr>\n      <th>2</th>\n      <td>572334712804384768</td>\n      <td>2587278392</td>\n      <td>2015-03-02T09:56:43.000Z</td>\n      <td>of course you were born in serbia...you're as ...</td>\n    </tr>\n    <tr>\n      <th>3</th>\n      <td>572332655397629952</td>\n      <td>2601524623</td>\n      <td>2015-03-02T09:48:33.000Z</td>\n      <td>These girls are the equivalent of the irritati...</td>\n    </tr>\n    <tr>\n      <th>4</th>\n      <td>446460991396917248</td>\n      <td>930620467</td>\n      <td>2014-03-20T01:39:29.000Z</td>\n      <td>RT @YesYoureRacist: At least you're only a tin...</td>\n    </tr>\n    <tr>\n      <th>...</th>\n      <td>...</td>\n      <td>...</td>\n      <td>...</td>\n      <td>...</td>\n    </tr>\n    <tr>\n      <th>2736</th>\n      <td>569990621315919872</td>\n      <td>2756873076</td>\n      <td>2015-02-23T22:42:08.000Z</td>\n      <td>RT @Superjutah: @MT8_9 £34,000 is £9000 above ...</td>\n    </tr>\n    <tr>\n      <th>2737</th>\n      <td>570244879265206272</td>\n      <td>2756873076</td>\n      <td>2015-02-24T15:32:28.000Z</td>\n      <td>RT @DufresneFrank: “@gabystama: @DufresneFrank...</td>\n    </tr>\n    <tr>\n      <th>2738</th>\n      <td>571013698111860736</td>\n      <td>2756873076</td>\n      <td>2015-02-26T18:27:29.000Z</td>\n      <td>RT @BoycottBrandy: @ActionFlickDoc this person...</td>\n    </tr>\n    <tr>\n      <th>2739</th>\n      <td>571304517930774528</td>\n      <td>2756873076</td>\n      <td>2015-02-27T13:43:06.000Z</td>\n      <td>RT @Lyall: Patriarchy™ will expel me if I divu...</td>\n    </tr>\n    <tr>\n      <th>2740</th>\n      <td>575664315627216896</td>\n      <td>2756873076</td>\n      <td>2015-03-11T14:27:22.000Z</td>\n      <td>RT @AsheSchow: Women’s Studies: Learn how to t...</td>\n    </tr>\n  </tbody>\n</table>\n<p>2741 rows × 4 columns</p>\n</div>"
     },
     "metadata": {},
     "execution_count": 62
    }
   ],
   "source": [
    "df_rac_sex = df_rac_sex.reset_index(drop=True)\n",
    "df_rac_sex"
   ]
  },
  {
   "cell_type": "code",
   "execution_count": 63,
   "metadata": {},
   "outputs": [],
   "source": [
    "df_rac_sex.to_csv('../data/df_ras_sex_hate.csv')"
   ]
  },
  {
   "cell_type": "code",
   "execution_count": null,
   "metadata": {},
   "outputs": [],
   "source": []
  },
  {
   "cell_type": "code",
   "execution_count": 16,
   "metadata": {},
   "outputs": [],
   "source": [
    "df3 = pd.read_csv(\"../data/hate.csv\")\n",
    "df3.columns = ['id', 'user', 'hate', 'chate', 'neutral', 'label']"
   ]
  },
  {
   "cell_type": "code",
   "execution_count": 19,
   "metadata": {},
   "outputs": [
    {
     "output_type": "execute_result",
     "data": {
      "text/plain": [
       "                         id                 user      hate     chate  \\\n",
       "560314  1240976182494908416   884055068265164801  0.999974  0.000520   \n",
       "515476  1238239331879464960  1136405401770106880  0.999966  0.000625   \n",
       "396712  1247813175996792834  1234197517006450688  0.999959  0.003865   \n",
       "424027  1245317927823233024  1232772980763054081  0.999958  0.001476   \n",
       "380359  1241373862756888577            907414928  0.999952  0.018423   \n",
       "...                     ...                  ...       ...       ...   \n",
       "596002  1236335083738537985           4384833496  0.500002  0.004678   \n",
       "334098  1250769238274572291  1199735925355556864  0.500002  0.087211   \n",
       "889914  1232245722831052801  1053001766806200322  0.500001  0.004162   \n",
       "198091  1249377836646924291            223299902  0.500001  0.003931   \n",
       "83418   1238578297274953728            494410337  0.500001  0.432390   \n",
       "\n",
       "         neutral  label  \n",
       "560314  0.000382      1  \n",
       "515476  0.000105      1  \n",
       "396712  0.000018      1  \n",
       "424027  0.000318      1  \n",
       "380359  0.000788      1  \n",
       "...          ...    ...  \n",
       "596002  0.297274      1  \n",
       "334098  0.045595      1  \n",
       "889914  0.253713      1  \n",
       "198091  0.210026      1  \n",
       "83418   0.185342      1  \n",
       "\n",
       "[891204 rows x 6 columns]"
      ],
      "text/html": "<div>\n<style scoped>\n    .dataframe tbody tr th:only-of-type {\n        vertical-align: middle;\n    }\n\n    .dataframe tbody tr th {\n        vertical-align: top;\n    }\n\n    .dataframe thead th {\n        text-align: right;\n    }\n</style>\n<table border=\"1\" class=\"dataframe\">\n  <thead>\n    <tr style=\"text-align: right;\">\n      <th></th>\n      <th>id</th>\n      <th>user</th>\n      <th>hate</th>\n      <th>chate</th>\n      <th>neutral</th>\n      <th>label</th>\n    </tr>\n  </thead>\n  <tbody>\n    <tr>\n      <th>560314</th>\n      <td>1240976182494908416</td>\n      <td>884055068265164801</td>\n      <td>0.999974</td>\n      <td>0.000520</td>\n      <td>0.000382</td>\n      <td>1</td>\n    </tr>\n    <tr>\n      <th>515476</th>\n      <td>1238239331879464960</td>\n      <td>1136405401770106880</td>\n      <td>0.999966</td>\n      <td>0.000625</td>\n      <td>0.000105</td>\n      <td>1</td>\n    </tr>\n    <tr>\n      <th>396712</th>\n      <td>1247813175996792834</td>\n      <td>1234197517006450688</td>\n      <td>0.999959</td>\n      <td>0.003865</td>\n      <td>0.000018</td>\n      <td>1</td>\n    </tr>\n    <tr>\n      <th>424027</th>\n      <td>1245317927823233024</td>\n      <td>1232772980763054081</td>\n      <td>0.999958</td>\n      <td>0.001476</td>\n      <td>0.000318</td>\n      <td>1</td>\n    </tr>\n    <tr>\n      <th>380359</th>\n      <td>1241373862756888577</td>\n      <td>907414928</td>\n      <td>0.999952</td>\n      <td>0.018423</td>\n      <td>0.000788</td>\n      <td>1</td>\n    </tr>\n    <tr>\n      <th>...</th>\n      <td>...</td>\n      <td>...</td>\n      <td>...</td>\n      <td>...</td>\n      <td>...</td>\n      <td>...</td>\n    </tr>\n    <tr>\n      <th>596002</th>\n      <td>1236335083738537985</td>\n      <td>4384833496</td>\n      <td>0.500002</td>\n      <td>0.004678</td>\n      <td>0.297274</td>\n      <td>1</td>\n    </tr>\n    <tr>\n      <th>334098</th>\n      <td>1250769238274572291</td>\n      <td>1199735925355556864</td>\n      <td>0.500002</td>\n      <td>0.087211</td>\n      <td>0.045595</td>\n      <td>1</td>\n    </tr>\n    <tr>\n      <th>889914</th>\n      <td>1232245722831052801</td>\n      <td>1053001766806200322</td>\n      <td>0.500001</td>\n      <td>0.004162</td>\n      <td>0.253713</td>\n      <td>1</td>\n    </tr>\n    <tr>\n      <th>198091</th>\n      <td>1249377836646924291</td>\n      <td>223299902</td>\n      <td>0.500001</td>\n      <td>0.003931</td>\n      <td>0.210026</td>\n      <td>1</td>\n    </tr>\n    <tr>\n      <th>83418</th>\n      <td>1238578297274953728</td>\n      <td>494410337</td>\n      <td>0.500001</td>\n      <td>0.432390</td>\n      <td>0.185342</td>\n      <td>1</td>\n    </tr>\n  </tbody>\n</table>\n<p>891204 rows × 6 columns</p>\n</div>"
     },
     "metadata": {},
     "execution_count": 19
    }
   ],
   "source": [
    "df_anti_asian = df3.sort_values(by = ['hate'], ascending=False)\n",
    "df_anti_asian.label = 1\n",
    "df_anti_asian"
   ]
  },
  {
   "cell_type": "code",
   "execution_count": 20,
   "metadata": {},
   "outputs": [
    {
     "output_type": "execute_result",
     "data": {
      "text/plain": [
       "8913"
      ]
     },
     "metadata": {},
     "execution_count": 20
    }
   ],
   "source": [
    "anti_asian_ids = group_list(list(df_anti_asian.id))\n",
    "len(anti_asian_ids)"
   ]
  },
  {
   "cell_type": "code",
   "execution_count": 21,
   "metadata": {},
   "outputs": [],
   "source": [
    "asian_100 = anti_asian_ids[0:100]\n",
    "asian_200 = anti_asian_ids[100:200]\n",
    "asian_300 = anti_asian_ids[200:300]"
   ]
  },
  {
   "cell_type": "code",
   "execution_count": 24,
   "metadata": {},
   "outputs": [
    {
     "output_type": "stream",
     "name": "stderr",
     "text": [
      "  0%|          | 0/100 [00:00<?, ?it/s]\n"
     ]
    },
    {
     "output_type": "error",
     "ename": "AttributeError",
     "evalue": "module 'config' has no attribute 'bearer_token'",
     "traceback": [
      "\u001b[0;31m---------------------------------------------------------------------------\u001b[0m",
      "\u001b[0;31mAttributeError\u001b[0m                            Traceback (most recent call last)",
      "\u001b[0;32m<ipython-input-24-ba096e567ea0>\u001b[0m in \u001b[0;36m<module>\u001b[0;34m\u001b[0m\n\u001b[0;32m----> 1\u001b[0;31m \u001b[0mdf_asian_1\u001b[0m \u001b[0;34m=\u001b[0m \u001b[0mtweets_request\u001b[0m\u001b[0;34m(\u001b[0m\u001b[0masian_100\u001b[0m\u001b[0;34m)\u001b[0m\u001b[0;34m\u001b[0m\u001b[0;34m\u001b[0m\u001b[0m\n\u001b[0m",
      "\u001b[0;32m/Volumes/My Passport for Mac/Dropbox/Data Science/Flatiron/iPython Notebooks/course-materials/DS-Repos/Automated-Hate-Tweet-Detection/notebooks/utils.py\u001b[0m in \u001b[0;36mtweets_request\u001b[0;34m(tweets_ids)\u001b[0m\n\u001b[1;32m     35\u001b[0m         \u001b[0murl\u001b[0m \u001b[0;34m=\u001b[0m \u001b[0;34m\"https://api.twitter.com/2/tweets?ids={}&tweet.fields=created_at&expansions=author_id&user.fields=created_at\"\u001b[0m\u001b[0;34m.\u001b[0m\u001b[0mformat\u001b[0m\u001b[0;34m(\u001b[0m\u001b[0mbatch\u001b[0m\u001b[0;34m)\u001b[0m\u001b[0;34m\u001b[0m\u001b[0;34m\u001b[0m\u001b[0m\n\u001b[1;32m     36\u001b[0m         \u001b[0mpayload\u001b[0m\u001b[0;34m=\u001b[0m\u001b[0;34m{\u001b[0m\u001b[0;34m}\u001b[0m\u001b[0;34m\u001b[0m\u001b[0;34m\u001b[0m\u001b[0m\n\u001b[0;32m---> 37\u001b[0;31m         headers = {'Authorization': 'Bearer ' + config.bearer_token,\n\u001b[0m\u001b[1;32m     38\u001b[0m         'Cookie': 'personalization_id=\"v1_hzpv7qXpjB6CteyAHDWYQQ==\"; guest_id=v1%3A161498381400435837'}\n\u001b[1;32m     39\u001b[0m         \u001b[0mr\u001b[0m \u001b[0;34m=\u001b[0m \u001b[0mrequests\u001b[0m\u001b[0;34m.\u001b[0m\u001b[0mrequest\u001b[0m\u001b[0;34m(\u001b[0m\u001b[0;34m\"GET\"\u001b[0m\u001b[0;34m,\u001b[0m \u001b[0murl\u001b[0m\u001b[0;34m,\u001b[0m \u001b[0mheaders\u001b[0m\u001b[0;34m=\u001b[0m\u001b[0mheaders\u001b[0m\u001b[0;34m,\u001b[0m \u001b[0mdata\u001b[0m\u001b[0;34m=\u001b[0m\u001b[0mpayload\u001b[0m\u001b[0;34m)\u001b[0m\u001b[0;34m\u001b[0m\u001b[0;34m\u001b[0m\u001b[0m\n",
      "\u001b[0;31mAttributeError\u001b[0m: module 'config' has no attribute 'bearer_token'"
     ]
    }
   ],
   "source": [
    "df_asian_1 = tweets_request(asian_100)"
   ]
  },
  {
   "cell_type": "code",
   "execution_count": null,
   "metadata": {},
   "outputs": [],
   "source": []
  }
 ]
}